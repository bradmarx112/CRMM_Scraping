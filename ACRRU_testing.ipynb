{
 "cells": [
  {
   "cell_type": "markdown",
   "id": "f6be3ff9-5a04-4aa7-abe9-9fa93a64f43b",
   "metadata": {},
   "source": [
    "# ACRRU RAG Model Testing \n",
    "Autonomous Climate Resiliency Research Unit"
   ]
  },
  {
   "cell_type": "code",
   "execution_count": 89,
   "id": "b8fa454b-3b6f-4d6a-8b22-6a5c82c62d70",
   "metadata": {},
   "outputs": [],
   "source": [
    "import pandas as pd\n",
    "import gspread\n",
    "import time\n",
    "from typing import Optional, Type, Union\n",
    "\n",
    "from langchain import hub\n",
    "\n",
    "from langchain_community.tools.tavily_search import TavilySearchResults\n",
    "from langchain.utilities.tavily_search import TavilySearchAPIWrapper\n",
    "\n",
    "from langchain.tools import BraveSearch, BaseTool, StructuredTool, tool\n",
    "\n",
    "from langchain_openai import ChatOpenAI\n",
    "\n",
    "from langchain.agents import AgentExecutor\n",
    "from langchain.agents import create_openai_tools_agent\n",
    "\n",
    "from langchain_core.prompts import ChatPromptTemplate, SystemMessagePromptTemplate, PromptTemplate, chat\n",
    "from langchain.schema import AIMessage, HumanMessage, SystemMessage\n",
    "\n",
    "from langchain.pydantic_v1 import BaseModel, Field\n"
   ]
  },
  {
   "cell_type": "code",
   "execution_count": 32,
   "id": "2967a44b-2fe3-44e4-95be-2df7d8f81867",
   "metadata": {},
   "outputs": [],
   "source": [
    "# Define some constants \n",
    "VERBOSE = True\n",
    "OPENAI_MODEL = \"gpt-4-turbo-preview\"\n",
    "MODEL_TEMP = 0.0\n",
    "BRAVE_API_KEY='BSAmw298lpAtPuiP5crDrAtOpGPgf5U'\n",
    "RETURN_INTERMEDIATE_STEPS = True\n",
    "GSHEETS_ACCT_CRED_PATH='C:\\\\Users\\\\14102\\\\Brown\\\\Internships\\\\INL\\\\Auth\\\\acrru-output-logs-97349d3b2c0b.json'"
   ]
  },
  {
   "cell_type": "markdown",
   "id": "95fe5b11-2b52-4bc4-9ecb-5917f54aaf8e",
   "metadata": {},
   "source": [
    "## Utility Functions for Logging Outputs to a Google Sheet"
   ]
  },
  {
   "cell_type": "code",
   "execution_count": 219,
   "id": "6b0fe68c-7e55-4c6c-acbc-bf413a018fe6",
   "metadata": {},
   "outputs": [],
   "source": [
    "# Connect to google sheets\n",
    "\n",
    "gc = gspread.service_account(filename=GSHEETS_ACCT_CRED_PATH)\n",
    "\n",
    "sh = gc.open(\"ACRRU Output Logs\")\n",
    "\n",
    "def append_to_sheet(data: list, sheet_name: str = \"ACRRU Output Logs\", tab_name: Union[str, int] = 0) -> None:\n",
    "    sheet = gc.open(sheet_name)\n",
    "    sheet_tab = sheet.get_worksheet(tab_name)\n",
    "\n",
    "    if isinstance(data[0], list):\n",
    "        for row in data:\n",
    "            sheet_tab.append_row(row)\n",
    "    \n",
    "    else:\n",
    "        sheet_tab.append_row(data)\n",
    "\n",
    "\n",
    "# Collect data to log \n",
    "def collect_log_data(agent, agent_output, test_input_dict: dict, target_cap: int, notes: str) -> list:\n",
    "    # Get timestamp\n",
    "    cur_time = time.ctime(time.time())\n",
    "    # Get intermediate queries the model called itself\n",
    "    int_steps = '\\n\\n'.join([int_step[0].log.strip() for int_step in agent_output['intermediate_steps']])\n",
    "    # Get the input template\n",
    "    template = '\\n'.join([f'{input_value.content}' for input_value in agent.steps[1].format_messages(**test_input_dict, agent_scratchpad=['']) if input_value.__class__.__name__ == 'SystemMessage'])\n",
    "    # Get the input prompt\n",
    "    prompt = '\\n'.join([f'{input_value.content}' for input_value in agent.steps[1].format_messages(**test_input_dict, agent_scratchpad=['']) if input_value.__class__.__name__ == 'HumanMessage'])\n",
    "\n",
    "    # Return a list of everything!\n",
    "    return [cur_time, test_input_dict['org_name'], target_cap, notes, \n",
    "           template, prompt, int_steps, agent_output['output']]"
   ]
  },
  {
   "cell_type": "markdown",
   "id": "f00716fb-bd26-4b0d-9091-795fbe982c04",
   "metadata": {},
   "source": [
    "## Compile Electricity Providers\n",
    "\n",
    "Data from [EIA 2022 report](https://www.eia.gov/electricity/data/eia861/)"
   ]
  },
  {
   "cell_type": "code",
   "execution_count": 3,
   "id": "7a08475a-efb1-43c4-92f0-d332e5d575cd",
   "metadata": {},
   "outputs": [],
   "source": [
    "# Get list of electricity providers\n",
    "elec_industry_df = pd.read_csv(\"C:\\\\Users\\\\14102\\\\Brown\\\\Internships\\\\INL\\\\Data\\\\Frame_2022.csv\")\n",
    "# Get list of electricity providers\n",
    "service_territory_df = pd.read_csv(\"C:\\\\Users\\\\14102\\\\Brown\\\\Internships\\\\INL\\\\Data\\\\Service_Territory_2022.csv\")\n",
    "\n",
    "service_territory_df = service_territory_df.drop(\n",
    "    [col for col in service_territory_df.columns if col not in ['Utility Number', 'State', 'County']], axis=1).reset_index(drop=True)"
   ]
  },
  {
   "cell_type": "code",
   "execution_count": 4,
   "id": "faa9f90c-beca-4765-b6e5-af07a578c3dc",
   "metadata": {},
   "outputs": [],
   "source": [
    "# Only look at investor owned companies for now!\n",
    "investor_utils = elec_industry_df[elec_industry_df['Ownership'] == 'Investor Owned']\n",
    "# Drop some columns\n",
    "investor_utils = investor_utils.drop(\n",
    "    [col for col in investor_utils.columns if col not in ['Utility Number', 'Utility Name']], axis=1).reset_index(drop=True)"
   ]
  },
  {
   "cell_type": "code",
   "execution_count": 5,
   "id": "1b4ae08a-7f0f-4d50-a7ce-ec614b18df25",
   "metadata": {},
   "outputs": [],
   "source": [
    "# Join investor owned utils with their reported coverage\n",
    "investor_util_coverage = investor_utils.merge(service_territory_df, on='Utility Number', how='inner')"
   ]
  },
  {
   "cell_type": "markdown",
   "id": "43fc4640-e7c6-443a-b054-24288b90d108",
   "metadata": {},
   "source": [
    "## Build Web Searching Tool (Tavily) for Agent\n",
    "\n",
    "[Tavily link](https://tavily.com/)\n",
    "\n",
    "[Usage in LangChain](https://python.langchain.com/docs/integrations/tools/tavily_search)"
   ]
  },
  {
   "cell_type": "code",
   "execution_count": 222,
   "id": "07400512-4c66-4f1c-9df4-b0f91c725d9f",
   "metadata": {},
   "outputs": [],
   "source": [
    "search = TavilySearchAPIWrapper()\n",
    "tavily_tool = TavilySearchResults(api_wrapper=search, max_results = 4)"
   ]
  },
  {
   "cell_type": "code",
   "execution_count": 22,
   "id": "749454ac-89db-4c64-85d2-9fa2eaa5bf7d",
   "metadata": {},
   "outputs": [],
   "source": [
    "# response = tavily_tool.invoke({'query': 'Baltimore Gas and Electric climate resilience executive leadership'})"
   ]
  },
  {
   "cell_type": "code",
   "execution_count": 99,
   "id": "066b153f-a92c-4b82-bc15-97dbcf004dd5",
   "metadata": {},
   "outputs": [],
   "source": [
    "# response#[0]['content']\n"
   ]
  },
  {
   "cell_type": "markdown",
   "id": "eac62f68-9935-4985-a103-2dbf9c3df911",
   "metadata": {},
   "source": [
    "## Build Backup Search Tool\n",
    "\n",
    "[Usage in LangChain](https://python.langchain.com/docs/integrations/tools/brave_search)"
   ]
  },
  {
   "cell_type": "code",
   "execution_count": 223,
   "id": "dc7b3860-a89e-403d-b9db-0dcf88d09878",
   "metadata": {},
   "outputs": [],
   "source": [
    "brave_tool = BraveSearch.from_api_key(api_key=BRAVE_API_KEY, search_kwargs={\"count\": 4}, description='a search engine. useful to use when other tools do not return results.')"
   ]
  },
  {
   "cell_type": "markdown",
   "id": "6a39d6b4-3816-44fa-943e-af84beb07c9b",
   "metadata": {},
   "source": [
    "## Get CRMM Text file "
   ]
  },
  {
   "cell_type": "code",
   "execution_count": 224,
   "id": "92ac98ce-40c0-4ca3-abab-fa37cd96f06c",
   "metadata": {},
   "outputs": [],
   "source": [
    "with open('crmm_docs/CRMM_13.txt', \"r\", encoding='utf-8') as f:\n",
    "    crmm_raw = f.read()\n",
    "\n",
    "with open('crmm_docs/CRMM_AI_Summary.txt', \"r\", encoding='utf-8') as f:\n",
    "    crmm_condensed = f.read()\n",
    "\n",
    "with open('crmm_docs/CRMM_header.txt', \"r\", encoding='utf-8') as f:\n",
    "    crmm_head = f.read()\n",
    "\n",
    "cap_dict = {}\n",
    "for num in range(5):\n",
    "    with open(f'crmm_docs/Capability {num+1}.txt', \"r\", encoding='utf-8') as f:\n",
    "        cap = f.read()\n",
    "    cap_dict[f'cap{num+1}'] = cap\n",
    "\n",
    "cap_dict['full'] = crmm_raw"
   ]
  },
  {
   "cell_type": "markdown",
   "id": "0d983cfa-ccee-483b-b003-29d22202feb8",
   "metadata": {},
   "source": [
    "## Build Chat Prompt for Agent\n",
    "\n",
    "[LangChain Documentation](https://python.langchain.com/docs/modules/agents/tools/custom_tools)"
   ]
  },
  {
   "cell_type": "code",
   "execution_count": 225,
   "id": "ce1f47fc-695d-4be0-b10c-6172739ba613",
   "metadata": {},
   "outputs": [],
   "source": [
    "# OpenAI agents need placeholders for chat history and agent scratchpad.\n",
    "chat_prompt = ChatPromptTemplate.from_messages(\n",
    "                # System message gives the model the 'backstory' for the task (eg. how do you act? what info do you have on hand? what are you designed to do?), but does not actually respond to this directly\n",
    "                [SystemMessagePromptTemplate(prompt=PromptTemplate(input_variables=['crmm_info'], \n",
    "                    template=\"You are an analyst who uses the Climate Resilience Maturity Model to summarize how infrastructure providers are implementing climate resiliency measures.\" \n",
    "                     \"\\nYou are critical of providers, and only give them credit for progress in a capability if specific and direct evidence is provided related to infrastructure development or resilience planning and organization.\" \n",
    "                     \" The Climate Resilience Maturity Model is explained below:\\n####\\n{crmm_info}\\n####\\n\")),\n",
    "                chat.MessagesPlaceholder(variable_name='chat_history', optional=True),\n",
    "                # Human message represents the question actually being asked by a user or service. The model's output is a response to this message.\n",
    "                chat.HumanMessagePromptTemplate(prompt=PromptTemplate(input_variables=['org_name'], template=\"Summarize how the infrastructure and initiatives of the organization, {org_name} is positioned with respect to the Climate Resilience Maturity Model. \"\n",
    "                     \"For each capability, provide a one sentence summary, list all the evidence that led to the conclusion, and cite sources. All evidence MUST be directly related to the Climate Resilience Maturity Model. Use as many different relevent sources as possible to gauge their overall position. \\n\"\n",
    "                     \"**Research Approach**: \\n 1. Search for any documents related to {org_name} and climate resilience. \\n 2. Search for documents specifically related to capabilities not accounted for in step 1. \\n\"\n",
    "                     \" Do **not** consider the following topics when collecting evidence:\\n -greenhouse gas emissions \\n -energy saving and efficiency \\n -decarbonization \\n -clean energy\")),\n",
    "                chat.MessagesPlaceholder(variable_name='agent_scratchpad')])"
   ]
  },
  {
   "cell_type": "code",
   "execution_count": 228,
   "id": "65f18f69-783c-4c8e-8c25-9caa1f923404",
   "metadata": {},
   "outputs": [],
   "source": [
    "# OpenAI agents need placeholders for chat history and agent scratchpad.\n",
    "chat_prompt_cap = ChatPromptTemplate.from_messages(\n",
    "                # System message gives the model the 'backstory' for the task (eg. how do you act? what info do you have on hand? what are you designed to do?), but does not actually respond to this directly\n",
    "                [SystemMessagePromptTemplate(prompt=PromptTemplate(input_variables=['crmm_info'], \n",
    "                    template=\"You are an analyst who uses the Climate Resilience Maturity Model to summarize how infrastructure providers are implementing climate resiliency measures.\" \n",
    "                     \"\\nYou are critical of providers, and only give them credit for progress in a capability if specific and direct evidence is provided related to infrastructure development or resilience planning and organization.\" \n",
    "                     \" The Climate Resilience Maturity Model is explained below:\\n####\\n{crmm_info}\\n####\\n\")),\n",
    "                chat.MessagesPlaceholder(variable_name='chat_history', optional=True),\n",
    "                # Human message represents the question actually being asked by a user or service. The model's output is a response to this message.\n",
    "                chat.HumanMessagePromptTemplate(prompt=PromptTemplate(input_variables=['org_name', 'cap_info'], template=\"Summarize how the infrastructure and initiatives of the organization, {org_name} are positioned with respect to the following capability in the Climate Resilience Maturity Model: \\n\"\n",
    "                     \"####\\n{cap_info}\\n####\\n\"\n",
    "                     \"For the capability, provide a summary for levels 1, 2, and 3, list all evidence, and cite all sources used. Do not include an introduction or conclusion. All evidence MUST be related to climate resiliency in some way. Use as many different relevent sources as possible to gauge their overall position. \\n\"\n",
    "                     \" Do not consider the following topics when collecting evidence:\\n -greenhouse gas emissions \\n -energy saving and efficiency \\n -decarbonization \\n -clean energy\")),\n",
    "                chat.MessagesPlaceholder(variable_name='agent_scratchpad')])"
   ]
  },
  {
   "cell_type": "markdown",
   "id": "c3f1af9d-0df8-424d-9b30-59c3166ef212",
   "metadata": {},
   "source": [
    "## Create the Agent\n",
    "\n",
    "[LangChain Agent Documentation](https://python.langchain.com/docs/modules/agents/quick_start)\n",
    "\n",
    "[LangChain Tools Documentation](https://python.langchain.com/docs/modules/agents/tools/)"
   ]
  },
  {
   "cell_type": "code",
   "execution_count": 229,
   "id": "580bec80-4157-4864-a065-14f8aad2c9ae",
   "metadata": {},
   "outputs": [],
   "source": [
    "# Define the model (GPT-4)\n",
    "llm = ChatOpenAI(model=OPENAI_MODEL, temperature=MODEL_TEMP)"
   ]
  },
  {
   "cell_type": "code",
   "execution_count": 230,
   "id": "727b5794-f812-4cb2-a0e5-e689b47a0c3f",
   "metadata": {},
   "outputs": [],
   "source": [
    "# Define tools available to agent\n",
    "tools = [brave_tool, tavily_tool]\n",
    "\n",
    "# Use this function to make agents based on OpenAI models\n",
    "agent = create_openai_tools_agent(llm, tools, chat_prompt_cap)"
   ]
  },
  {
   "cell_type": "code",
   "execution_count": 231,
   "id": "74195fbf-cbbe-4df6-970f-bf4b142924f5",
   "metadata": {},
   "outputs": [],
   "source": [
    "# Define agent executor\n",
    "agent_executor = AgentExecutor(agent=agent, tools=tools, verbose=VERBOSE, return_intermediate_steps=RETURN_INTERMEDIATE_STEPS)"
   ]
  },
  {
   "cell_type": "markdown",
   "id": "a38e0d65-3bde-4f14-9188-f7744331865b",
   "metadata": {},
   "source": [
    "## Running the Agent Iteratively\n",
    "\n",
    "### Agent run across multiple providers, assessing all capabilities simultaneously"
   ]
  },
  {
   "cell_type": "code",
   "execution_count": null,
   "id": "b651cf6e-49a0-4c6d-aed2-881b6a661c92",
   "metadata": {
    "scrolled": true
   },
   "outputs": [],
   "source": [
    "# Define input list: Currently is investor-owned elec utils from MD\n",
    "md_elec_providers = investor_util_coverage[investor_util_coverage['State'] == 'MD']['Utility Name'].unique()\n",
    "research_output = {}\n",
    "# Iterate over every provider in our array\n",
    "for organization in md_elec_providers:\n",
    "\n",
    "    ## Compile Agent Input\n",
    "    input_dict = {\n",
    "        'crmm_info': crmm_raw,\n",
    "        'org_name': organization}\n",
    "\n",
    "    # Run the agent for given org\n",
    "    agent_output: dict = agent_executor.invoke(input_dict)\n",
    "\n",
    "    # Record result in dict\n",
    "    research_output[organization] = agent_output['output']"
   ]
  },
  {
   "cell_type": "code",
   "execution_count": null,
   "id": "954bfd09-64b5-4614-8ed1-969598a33322",
   "metadata": {},
   "outputs": [],
   "source": [
    "rag_output = pd.DataFrame.from_dict(research_output, orient='index', columns=['Research Results']).reset_index(names=['Utility Name'])\n",
    "rag_output = rag_output.merge(investor_utils, on='Utility Name', how='inner')"
   ]
  },
  {
   "cell_type": "markdown",
   "id": "a5909b32-2759-48eb-950b-fff6fc61bd70",
   "metadata": {},
   "source": [
    "## Observing Outputs"
   ]
  },
  {
   "cell_type": "code",
   "execution_count": null,
   "id": "5360889d-662a-4f2d-b9e9-e6120f6c984c",
   "metadata": {
    "scrolled": true
   },
   "outputs": [],
   "source": [
    "for org, rag_response in research_output.items():\n",
    "    print(f'RAG Response for {org}:\\n')\n",
    "    print(rag_response)\n",
    "    print('\\n\\n\\n')"
   ]
  },
  {
   "cell_type": "markdown",
   "id": "3b99df23-f45a-4ad7-a05e-aff274375179",
   "metadata": {},
   "source": [
    "## Custom Search Tool with Backup (WIP)\n",
    "\n",
    "[LangChain Documentation](https://python.langchain.com/docs/modules/agents/tools/custom_tools)"
   ]
  },
  {
   "cell_type": "code",
   "execution_count": null,
   "id": "7351f30a-f72d-4903-8a54-b335de84f146",
   "metadata": {},
   "outputs": [],
   "source": [
    "class SearchInput(BaseModel):\n",
    "    query: str = Field(description=\"should be a search query\")\n",
    "\n",
    "\n",
    "class CustomSearchTool(BaseTool):\n",
    "    name = \"custom_search\"\n",
    "    description = \"useful for when you need to answer questions using the internet.\"\n",
    "    args_schema: Type[BaseModel] = SearchInput\n",
    "\n",
    "    def __init__(self, tavily, brave): \n",
    "        super(BaseTool, self).__init__()\n",
    "        self.tavily = tavily\n",
    "        self.brave = brave\n",
    "\n",
    "    def _run(\n",
    "        self, query: str) -> str:\n",
    "        \"\"\"Use the tool.\"\"\"\n",
    "        output = self.tavily.run(query)\n",
    "        if not output:\n",
    "            output = self.brave.run(query)\n",
    "        \n",
    "        return output\n",
    "\n",
    "    async def _arun(\n",
    "        self, query: str) -> str:\n",
    "        \"\"\"Use the tool asynchronously.\"\"\"\n",
    "        raise NotImplementedError(\"custom_search does not support async\")\n"
   ]
  },
  {
   "cell_type": "code",
   "execution_count": null,
   "id": "0bd35eb2-a581-4bb4-b1de-1d76c9f22acd",
   "metadata": {
    "scrolled": true
   },
   "outputs": [],
   "source": [
    "custom_search = CustomSearchTool(tavily_tool, brave_tool)"
   ]
  },
  {
   "cell_type": "markdown",
   "id": "19b1a910-5779-485f-b4bd-945195161f87",
   "metadata": {},
   "source": [
    "## Running the Agent (One-Off)\n",
    "\n",
    "### Running ACRRU iteratively- one capability at a time. "
   ]
  },
  {
   "cell_type": "code",
   "execution_count": 191,
   "id": "7a0b5780-d5c3-4f0c-9c26-04b9535140ef",
   "metadata": {},
   "outputs": [],
   "source": [
    "target_cap = 'cap2'\n",
    "## Running the Agent\n",
    "test_input_dict = {\n",
    "    'crmm_info': crmm_head,\n",
    "    'org_name': 'Baltimore Gas and Electric',\n",
    "    'cap_info': cap_dict[target_cap]}\n"
   ]
  },
  {
   "cell_type": "code",
   "execution_count": 232,
   "id": "0e913d32-8979-40e0-96d1-6adc12d990c1",
   "metadata": {
    "scrolled": true
   },
   "outputs": [
    {
     "name": "stdout",
     "output_type": "stream",
     "text": [
      "\n",
      "\n",
      "\u001b[1m> Entering new AgentExecutor chain...\u001b[0m\n",
      "\u001b[32;1m\u001b[1;3m\n",
      "Invoking: `tavily_search_results_json` with `{'query': 'Delmarva Power climate resilience governance'}`\n",
      "\n",
      "\n",
      "\u001b[0m\u001b[33;1m\u001b[1;3m[{'url': 'https://www.delmarva.com/SafetyCommunity/Environment/Pages/ClimateActionMD.aspx', 'content': 'Learn What Delmarva Power Is Doing to Combat Climate Change and Build Resilience Buildings & Energy Efficiency Transportation & Broader Electrification Clean Energy & Local Solar Resilience & Adaptation'}, {'url': 'https://www.delmarva.com/News/Pages/NewsReleases/DelmarvaPowerReleases2020ResponsibilityandImpactReportOutliningtheCompany’sEffortstoHelpDriveEquity,AddressClimateChange.aspx', 'content': 'Skip Ribbon Commands Skip to main content ...'}, {'url': 'https://www.delmarva.com/News/Pages/NewsReleases/DelmarvaPowerTakingMajorActiontoAdvanceCleanEnergy,CombatClimateChangeandBuildResilienceinMaryland.aspx', 'content': '(Oct. 14, 2021) - Delmarva Power today announced a major climate change commitment, launching a multi-faceted, action-oriented effort to help the state of Maryland achieve its clean energy and climate goals.'}, {'url': 'https://link.springer.com/article/10.1007/s13753-023-00467-0', 'content': 'The weather conditions of the summer of 2022 were very unusual, particularly in Eastern Asia, Europe, and North America. The devasting impact of climate change has come to our attention, with much hotter and drier conditions, and with more frequent and intense flooding events. Some extreme events have reached a dangerous level, increasingly threatening human lives. The interconnected risks ...'}]\u001b[0m\u001b[32;1m\u001b[1;3m\n",
      "Invoking: `tavily_search_results_json` with `{'query': 'Delmarva Power executive climate resilience lead'}`\n",
      "\n",
      "\n",
      "\u001b[0m\u001b[33;1m\u001b[1;3m[{'url': 'https://www.businesswire.com/news/home/20220510006531/en/Exelon-Joins-EPRI-Climate-READi-Initiative-to-Help-Lead-Multi-Year-Climate-Resilience-Effort', 'content': 'The 13 founding Climate READi members are: Alliant Energy Corporation, Ameren Corporation, American Electric Power, Consolidated Edison Co. of New York, Exelon Corporation, National Grid PLC, New ...'}, {'url': 'https://www.exeloncorp.com/newsroom/exelon-joins-epri-climate-readi-initiative-to-help-lead-multi-year-climate-resilience-effort', 'content': 'Exelon joins EPRI Climate READi initiative to help lead multi-year climate resilience effort\\nCHICAGO\\xa0— Exelon Corporation (Nasdaq: EXC) today announced it has joined Climate READi, a three-year initiative launched by the Electric Power Research Institute (EPRI), aimed at addressing energy system climate resilience and adaptation as extreme weather events continue to increase.\\n “As the world’s weather and climate are changing, so too must the energy sector’s approach to ensuring a more resilient power system,” said EPRI President and CEO Arshad Mansoor, who announced the launch of Climate READi at the National Press Club in Washington, D.C. In addition, Exelon also recently joined the Department of Energy’s\\xa0Better Climate Challenge\\xa0and made a Path to Clean commitment to reduce Exelon-wide operations-driven emissions by 50 percent by 2030 and to achieve net-zero operational emissions by 2050. Climate READi will enable global energy companies, climate scientists, regulators, and other stakeholders to proactively analyze and apply climate data, allowing for the planning, design and operation of resilient energy systems of the future. “Exelon’s utilities have a track record of exceptionally strong reliability and our investments create a more resilient grid that is better prepared to handle the effects of climate change,” said Calvin Butler, Exelon’s Senior Executive Vice President and Chief Operating Officer.'}, {'url': 'https://www.delmarva.com/AboutUs/Pages/LeadershipValues.aspx?Origin=DPLBottomNavigation', 'content': 'At Delmarva Power, leadership means integrity, forward thinking, openness to ideas and principled decision-making. Our values are part of our daily operations and our commitment to the region. Delmarva Power defines itself through how we operate and what we believe. Our values reflect the principles we stand for and guide our actions and our ...'}, {'url': 'https://www.delmarva.com/News/Pages/NewsReleases/DelmarvaPowerTakingMajorActiontoAdvanceCleanEnergy,CombatClimateChangeandBuildResilienceinMaryland.aspx', 'content': 'SALISBURY, MD. (Oct. 14, 2021) - Delmarva Power today announced a major climate change commitment, launching a multi-faceted, action-oriented effort to help the state of Maryland achieve its clean energy and climate goals.'}]\u001b[0m\u001b[32;1m\u001b[1;3m\n",
      "Invoking: `tavily_search_results_json` with `{'query': 'Delmarva Power climate risk committee'}`\n",
      "\n",
      "\n",
      "\u001b[0m\u001b[33;1m\u001b[1;3m[{'url': 'https://www.delmarva.com/News/Pages/NewsReleases/DelmarvaPowerTakingMajorActiontoAdvanceCleanEnergy,CombatClimateChangeandBuildResilienceinMaryland.aspx', 'content': 'SALISBURY, MD. (Oct. 14, 2021) - Delmarva Power today announced a major climate change commitment, launching a multi-faceted, action-oriented effort to help the state of Maryland achieve its clean energy and climate goals.'}, {'url': 'https://delawarebusinesstimes.com/news-briefs/delmarva-open-space-grants/', 'content': 'Type to search\\nDelmarva Power grants nearly $75K in open space, resiliency projects\\nNEWARK – Delmarva Power, together with its program administrator Delaware Nature Society (DelNature), have chosen eight local municipalities, recreational authorities and nonprofits to receive nearly $75,000 in funds to support open space and resiliency projects in Delaware and Maryland.\\n In partnership with DelNature, a state affiliate for the National Wildlife Federation tasked with educational programming, conservation and advocacy, Delmarva Power is providing grants to the following municipalities, recreational authorities and nonprofits:\\n“Climate change is one of the most pressing environmental issues we face today,” said Joanne McGeoch, deputy director and chief development officer for Delaware Nature Society, in a statement. Δ\\nRelated Stories\\nABOUT\\nNEWS INDUSTRY\\nSUBSCRIBE\\nFOLLOW US\\nPremier Digital Partners\\n© 2024 Delaware Business Times\\nImportant notice for access to your Delaware Business Times “Insider” content\\nFlash Sale! Because, we know that healthy environments equal healthy communities.”\\nDelmarva Power’s Sustainable Communities Grant Program will provide $75,000 in grants annually to fund open space and environmental projects and resiliency projects across the company’s Delaware and Maryland service area. The projects send an important message that there are small steps everyone can take to help improve and protect the environment”\\nMunicipalities, recreational authorities and nonprofits in the Delmarva Power service area can apply for a Sustainable Communities grant each year.'}, {'url': 'https://www.delmarva.com/SafetyCommunity/Environment/Pages/Default.aspx', 'content': '<link rel=\"stylesheet\" href=\"styles.8ec33928b154d90a.css\">'}, {'url': 'https://www.delawarepublic.org/delaware-headlines/2023-06-11/delmarva-power-introduces-four-new-energy-saving-programs', 'content': 'Delmarva Power introduces four new energy saving programs\\nDelmarva Power is working to put more tools in the hands of Delawareans hoping to reduce their energy costs.\\n The Quick Home Energy Check (QHEC) provides renters and homeowners with an assessment of their home’s energy use to identify energy-saving opportunities, and install simple energy-saving measures. “These are programs that the customer does have to initially partake in to adjust their savings or get certain things installed that would help them save energy.”\\n Delmarva Power’s Candace Womer says the company worked to develop the most cost-effective and beneficial programs possible by collecting local input and evaluating national best practices.\\n If approved, residential customers are expected to see a 45-cent\\nincrease on their monthly bill beginning in 2024 for the first year of the programs.'}]\u001b[0m\u001b[32;1m\u001b[1;3m\n",
      "Invoking: `tavily_search_results_json` with `{'query': 'Delmarva Power climate resilience plans and actions'}`\n",
      "\n",
      "\n",
      "\u001b[0m\u001b[33;1m\u001b[1;3m[{'url': 'https://documents.dnrec.delaware.gov/energy/geac/DRAFT-Delaware-Energy-Plan-Framework.pdf', 'content': 'Energy Plan and Climate Action Plan every 5 years from date of enactment. The GEAC will be composed of 25 members representing various state agencies and constituencies who are appointed to terms of 1, 2, or 3 years. A Chair will be appointed by the Governor for a term of 3 years and will be eligible for re-appointment for terms of 3 years.'}, {'url': 'https://documents.dnrec.delaware.gov/energy/Documents/Climate/Plan/2021-DE-CAP-Executive-Summary.pdf', 'content': \"ahead: Delaware's Climate Action Plan looks at past and present work and uses this work as the launching point for continued climate action. • To integrate actions for both minimizing greenhouse gas emissions and maximizing resilience to climate change impacts: A climate action plan that specifically focuses on just reducing emissions or\"}, {'url': 'https://www.energy.gov/sites/default/files/2021-09/DOEClimateAdaptationandResiliencePlanSept21.pdf', 'content': '©Yàº§n¦NkÖðC®ý\\x01\\n+[E\"—]\\xa0\\x12‹è�\\x11ÝZ\\x16�©A\\xadèÖ\\t\\xadDEáŠK9rœ\\n�@ýê¸#å¬ã´Z�Þ\\xad\\x06œY·¼Vè\\x19Î\\x07$ä\\x01ðÀ«tšíæ4Ûé¡_)±Òy#a´º²¨\\x18\\x1fL0\\n\\x14¾UTè¢BQ\\x12É\\n‹A\\n:V¡\\x16EôRi‹?UY\\x13!~\\nãØEQ\\x1bOµd‡³z¬\\x11<\\x1at’.þ}\\nÇÒô¼2¿V¬\\x17÷\\x17°i¿…’¨Iìµ\\'a\\x1b\\nÇéúGßÈ\\x19ªö•ç\\x17W—£PuQ~$Y\\x17€\\x1b-ßÓšì’„êÝÉ\\x15ÞÒ(ý�ÓRã]†\\x7fF\\x18!weÏ%Ô\\x12\\x0eÑÔõëV¯º…o$W°6Ÿ\\x01ûÌ�\\n\\x08¤\\x03b,G\\x05ØtöŒð*/@·½·×®c–\\nG\\x02¼w\\x172ðI\\x18ÀNå\\x03ÀwU¿¶©\\x16£¡ÙÅfpÓ¡\\x07s\\x0fCh\\'hï\\nqÒ\\xad]MÕKzD¤’pRb»K\\n{É\\\\ùÌû\"-+}/”n\\n\\x0eÿ}E»Nnna�|²]¼l1Œ3\"í�œžx\"‡-\"Z¼âB\\x0eèãÀ\\naTçŸ©Š\\n(µ(•#\\x05KA,w6ëŸHÇ6w�w\\x14\\\\š„úyJï‡š\\x064w×ìµIßI‹\\thÞFhŸ\\x18b\\x18ñÏSí©ûÎÕê\\x1aõõ´º‹$7j\\x08Ç“òo¹;ú`’8\\xa0â¹‚ÏSÝäšàïV“a829ÉV=:ži\\xadan¯5\\tï\\nªy\\x19$y\\n\\'*¬ÜáXõçŽ*ê›UÞŠº’DÆ¯\\x1fáef—bæ${YÄ‚ÝPo\\x01ý\\x12\\x07yÛ×\\n\\x15_í.—Ú+ÍVK‡¶òò\\x18á\\nÈ\\x15H\\x1b\\x02ÆX)À$\\x0f¯R>bÖ\\nk¨ãdZ‚Å\\nÅ½6;ÆÒÈ=˜ô¼\\x05Kßþ\\x15Z:C\\x1f’F[wh.&YL“Jþ‹¬Ž�U\\x02°U?\\n«ªÃ¸švò¼ªE\\xa0jú\\x15½ÍŽ©¶’M®ð�\\xad �a}ç“Á\\n\\x08>4\\nS\\x1bØá±´�Ã»Hòw˜À\\nüf®7Z�ÖífÕ!ŽÞÌiêÑ\\x111Ì·\\n&vÅ´Œô\\\\t8&«\\nœÑä¸½Ûxžo\\x13Êc˜·¢Ñ€9_\\nŒŠêjÆÖ\\'T°Œ\\x03ô»Mfù\\x10YÞKkj\\npòcn\\x0f%Psî¨KU¸Óõ\\tQ\\x18H13¤Ž¹.Ê\\x0f_iÏ}hÚ%Œv–WKor-ÒÙ~Ð*\\n3ÈpŽ¥¹\\n»\\x01¼3T«¶k�F+\\nk!‘Nä;”ž�žñšœ•VÛÕ\\x15ÊmÔ‰îÈé«©\\x1b95Y\\x14Ch\\x18C\\x1añ�#é3\\nü–|f«7Éq¦_É\\nä+`H›NìFÃÑR|qÖ\\xad\\x1adðé†V}²)�\\xa0iqÀ`ZW#\\nù UCXWi|ëk\\x05“\\t¸ô%qõ�^\\níá�[Y–rÃ¦Ã\\x07á[gp[�¢\\x16\\x03>›ç Ÿvj[Oò¶×�M\\nžFP\\x01éŒí#â\\nDù3\\n\\xadº9(ˆ«“Ý—\\x19ÇÉGè\\x17J—PÌ‡~ÙÀEÏPz7ËS\\x11D”nÕp3ud¶\\x177‘\\nŒHÊ¼çÐÉ#êša-\\x1fQ½µ�=\\x03,‰\\x1bžâzfž¾’[Ë«‹‰€Œ‡*ØéÎ6üÔÖ�\\x05Ö¡y\\n¥¹ÌŒ|ª\\x01âœŠ½;vŽœU¶ò„¤i-ãëVó\\x07Y$´•Iœ¼`\\x11Ÿ\\x02vUFÕ¦•Ä \\x14EhÈaÜBç\\x1fR®¶ws$×\\x13¶Õ–y÷\\x02>•Æ@Sì+‘�\\x1aö©¢„Žä\\x08U<�ò\\xadŒd¨•ƒcÜ\\xadKºì¸Ó\\x0fM3ONd\\n‡�NHâ‘ÎÇÜ\\x08\\nÄägå5ËWQfL¡r\\x1fvÏ\\x02§\\x04\\x0f’¤ôk\\n{-B\\x1b82a;å�ÉõUý-§ÜA¨iËúqÄ¹�{0`yÃœÕèSRz\\xa0u»ŸO\\x06¿—Ê°É\\x04´‹¹|\\x05\\\\eRºl\\x13Áéà\\x18‚ŽŠ¤\\x17SòŠ¥Ë\\nM\\x04’/\\x12\\x12S÷¯\\x15l‰fûµ’î\\x0eJ&Hêp\\nŠ¾¤©¡\\x15È¸¨AŽ)ôè�Ñòr(”Ê\\x0f¬O•ÜT{ÅLëRÉww¥‹V\\n·0Ç ”\\x0e\\x10)Ý·à\\x07JŽ\\x16èoìîeÃÇq™\\nŸW%P\\x1f«RÚšE¦j6\\x11ì&(’V~x<•\\x18øRYÖ´k3d)¹K®ÒÃhŽ¡Z3\\x04§\\xa0.Á™¾<ŠvxcŽ?.Q|�ô\\t\\x13ƒÝ\"‚£ê®h\\n-,ßT¸I�G*ƒ%±ÏY@È$ûG\\x14;j2Ë\\x1bC$‡\\x10–òjxÁ_J˜«$ê³\\x17E(\\nÊ*Sœõ\\x07è`$E˜*LªÑž=lƒ‘PÚÔÆXb·sö�\\x08€wíã4m\\xadôQZ\\xadÄ¯È�1=Üp~z‚º•¯õ&dÊÆ®Ì\\x0f³\\xadZŒžâZ!×· �IE½£ˆˆF$\\x02zŠí\\x15ûy;»p¡£žpCã¡SÎ+ÓÞˆ¥��\\x0e±ÜaIûoLŸ€¨ýUæ”³‚\\n–%\\x17»&–ÉdÝ9D˜z«N–Ð4Q*Y¬!½\\x16Îïa<ÔÖ‹\"\\x19|Ó,ä._\\n\\x07®>J�´2.âüŒóáR:_Ð5a:7¢¡N:eI£åTÐÀÐâ´[n\\n5š\\nw9\\x0f\\x18aÞzUsU¸Xá0pY%`QØ…\\x08ÄóíÅAvÎøGÛ\\nˆ´Ø\\x12=ÄîXÛ1\"°ÜrG\\x19\\x03Â¯CO(Ôaœ\\xadIª\\x15à¶÷7\\x12³\\\\®åˆ}\\x0fo$.ÃŸ›¥Y¬uÃ\\x15¬V¶\\nïq\\nÞ]™†P\\x10¸\\x05G��ºª:móB²[K(\\x11\\\\Lë\\x14`zl¸\\x03+ì\\'¾¥l®f†ê4¶\\nœa]cÎpWŽOy=õ9V�Ë1Ù4Õï9£_k\\x11j\\nŽi/x¹‚R&…@�%�¢ÙïcŸ©U\\nÏÚ‹íA\\x12w+\\x1aFì‘}30\\x04ŒûñŽi:ž®ò}ãî\\x05T’‡\\x03\\x01±ÓŽ¤\\x0eú÷e¼´zÊê6a\\x11î–C\\x0eü°-\\x10ðñ=\\x05\\nŠ,äÛÓ/UIÔ�ÄÖ·ƒRÔnï\\x18˜§“e¢ƒÀXÎ\\x08\\'Þy©-E&±²ó+‡Iã“dÐ6Því!ð~õ<\\x11ßŠ�íq²‚ÕâMÙ>RâMÜa¤ÁÀúõY¶Ô<®�\\n�Ø_.\\x02¾÷ê£q%G¼b¢�¼“9ÜÙ@º¹#Î-ÕÎ\\x19¼88ï«\\'áY¶×HÖí\\x10\\x18b�¡›=_##ûA¡-{6ÿ…¼“ß)kb\\x19ÕÇ 9\\nê\\x08ûôÕÛTšÚÛ°Ze´H¥î.r¬\\x06\\x19p…¶óÐb�mZ¢•�ÁJ“±SÕIšêVÏåü†ŸåmÚS½ÇT\\x01‡\\\\w7…%e½M?ÍnbT�HMÈz“Á$\\nriÝn\\x1b›v[èUÊÆà²çÑ\\x07ÄøøT$wWš•È»¸S¶6\\n)`}z=˜p\\t;I\\x13\\n\\x7f{uªy\\x1bwÞ�³C\\x12†\\n„f\\x1b‡=\\x01ÅZ-î®4M.þÔÛÅs=ô)\\x10i\\x08ô<“ï�$\\x0eHéU‹KAªµÌ²Úz(7™w€QsŽîO&¦àµ{{8à24˜\\n\\x17äóÈ¨TSUÏ1\\x15VéR¦A;;>¥Ú�_îÞ¹´³‰b”^L$m\\xad#¨Ú£\\x7fP£;°*1¤¸:•åÕšºÅ$ìZ%&m¤\\n3—=Õ3¢ön95‘u\\x14~q#¾ë„–FHÙ\\x1b‚§o$dô©~ÖhÝ\\xa0ìæ«udb¶HåU}�ecXÎ\\x10íÈèHï¡V–O(é•\\ng\\nKuäÓÒ)ú…Ö£tsºO3HÏ”h~ÞüÄsÎ\\x0f\\x14½,Cu\\x0f�²XÕíÙw:õ`{óãÇ}\\x05¨Úêz-ÀH%\\x11\\xadßÑ\\x11\\x01$\\x16\\x07\\ný=†¥;:ÖÒ[7“`.�Ìã\\x18\\'áóQ2)5*#T\\x0f,ÚP\\x15¬[®™ae\\x02zY}Ì¤õÜsÏ¶¢ï%òÚG“Ú@}B2\\x0e8P# ŒûI©\\x0eÖÎÐÞC\\x13}¦ÑBÙ<`2‘�òsQ\\x02G¹xm£È�z» ëè\\x122>Z#¦rs«’”¸¨:îéž\\x14GÚ$Þ0ÙÀ\\nœc\\x14Í¤òÃ6\\x01n`¥O\\n‹qî¡u9-$‰¤ò›\\x13Êù\\x15Œ�L®ÝÞSÃ¯\\x14Â˜¤œÁ\\n»#Û�ÞÓÏ>úèV\\x12%LÉ;«_\\tˆt8\\n\\x14d\\nd\\x0eÿ};ÙÏ(5‹iL…L{G\\x07\\n‹\\n¤Ÿvj&è¬�1CÂw{º|+–÷7\\x11Ê€zÏë\\x10qÇuK§nÙZE)wËÆKM…ÌqêšŒRáVYd‰KtÜ„àû\\t=õ=¬\\nÅÃ-ÄRÇ×\\n3\\x12¶HðÈ5U–â\\n™^òR\\x0eôUe\\naÀ·¿Š’Õ/ã¸Ò¬£B\\x1fÈÆÛÏV\\nz“ð\\x02–Êd›ª˜éÌ=\\x19D•CdyªZÎ\\x1bvèŒy^íÙ8÷óPº“Ãi(\\x11n_C\\n\\xadÆX\\x0eïe\\n§ÞB�I\\x04ûž6�ÊFýâEõHö\\n†¡¯¯ZúðÍprJ“Œwž¤š6N†ŸN\\x05UR€nä!ád8G#pöš»vzâCn¶Š\\x01\\x0eŒ»{½lü¼\\x1a¨H©%²ä\\nÊÛ³à;�Oè22\\x08æ‡;ãupð(Ÿ>Ô¾Ú~\\xad\\x0f)‘yJ�TÜ™z+TÒ‘ÿÓ/[ó”¸x¢@…_ËE\\x12øîïÇ\\x19\\x18ç\\x15\\x0fªë/y~ò‡0ÈAH÷œdÆ¼p{³’}õ9%ìãG’æoE£–E\\\\X7”#q=àŽ*±c\\nZ¥é»º\\x1büš\\x11\\x1a7 ïõÏ†1�Odb/\\x17Ê77\\x16kmYõ¶�õ\\x17ßyˆ\\xa0òƒ�)\\nÒ»¹úa�Ïxªÿi\\x18Å®is6\\ni\\x1bÆì«€ª\\tú¾–(«‹…œ\\x07P\\x12xÐœGÀP§k}CÅ/^Ñ^îî+•v+k/•™\\x07\\x19ÊƒÇyç¥EÔW+\\x07q7ÕL2zÚ9-´]N[{…‰M«,më\\nå+œppÄ�mR4h[QßjÄ\\x02äÃ†ïU\\nœð\\x07\"\\xadZT¥;;\\xad›¸dò~AfV`Ûw!(\\x07‚Nê§éjör$Ò3\"º†f”\\x10¡[%‰ÏŽjÔ-»WO+[Š�E…Î«\\x15›h¶àG\\nÌgs“· \\x14\\x19>ÜñDjWºuµ�¶™g\\x14p½²\\x16»¸~³K)Îæ>p¢ôF‘~‰e7“Šr\"- \\x01^7`7\\x10zc¸Ð}\\xad’;mY´kç‰í´‡{x6(\\x13N\\x15¸y\\x08ú‡Â¹mêîéä´Õ$e…¬R_¹‰öˆ²’Ý¸å›Œ\\x05ð^x\\x02ž‚ýd‘ììƒ PÅ˜�JL\\nr{†z\\n\\x06ÏP-1óÐ¢\\x04c\\x1a¢ð¨Xep;Ï‰¢`I#Õ%Š\\x14(6e�v;ù¢:a^RÔ„Mq8·kTÚÛŽàÇ\\x19éè�g^ië-R[h¬¤†R“[»c\\x03¦Hæ›²°¾Õçk=.\\x06¹¸v%\\x161Ÿ�²š¿ìæ±Ù\\x18÷j±™\"»\\x05…Ìgr+/\\x05\\tè\\x08#\\x154ªU*–ÊÔÝ§R,zÆ¡\\ný³ÝLìÒÊ¨\\x10“ÆáÃ\\x1a¯[ÞJ.]\\\\–X¤Pò}¸g\\x18ù(¥‚\\x11eaq#”Št%\\t †%ˆb<:b�nlÒâa\\x11S¼\\x12ËÞ\\x08ª*R¸»w&[mm%ó\\né,Ê•ŠxdË÷§ ®=ÌNj§÷P®ÓL·ìÌJX³=ÌÒ¢¶séy8ò;»ê×Ù‹«¯»~ì*‚¦-îÇ’¬\\x1b\\x08}ÜÖwÛ«¨®ûS`›Œ‘ÛÄ¨ªG¬Ã,F=¤àPòIè�žo/[Nžž�u;éî_Í#H@8\\')\\x1a‘‚þÖ\\n\\x05\\x07\\nµ¼Q\\x08£\\x1b°\\x01V?Mž1Š2ïL–Ñ^Vp÷aD“mõS-�&=Š(2—SÏˆý\\nD\\x0e\\xa0\\x0esMQTÞ\\x01¨„…éóOi,ÈXªr‡ÀƒÜjz\\x19¤�È\\t\\t;™A^¥U�9÷\\n®YD×\\x17\\x0f\\x14™b�–ÇÓ\\x13Óà:ÕÊÆÂy-¦yˆEUR�Þû\\x08%}æ£+Ušt›:…j®œNë~o¤\\\\Z^ÛÚù ±ÆÒ\"s•b~ˆO³Š\\nûX{Éïµ-P¼Ò^öY,\\xad#n\\x189bO³?=EG2:¬�rìì\\x01>\\x15l“¸\\xadIŽÛ¾âðÈ0]A_hSÍMè·lŒ\"\\x18\\x1bØm>Ãè‘Po\\x17“g˜rUq�ÐdäŠ™Ò¥I\\x120Ê7\\x01‘ì\\x03�jùN\\x15+N%Ò\\n]½—½³�s$rÀdÚ2\\x1a\"Ä\\x16Ï°š\\n\\\\šDìÇ“‘ÆVå=\\x13ë0\\x08ÀãØ+�“Öç[]jÆeò�`r±�YÇ\\xad�|\\x07Z¯öŽúV–Î\\t\\x1f$D\\x19½�†yöóÍ+“¢rñ¤ä=uî\\x17†+ð4�|†1�Ï£÷¯}KÀˆn¤,1µFÏwÙ¨û\\x05\\x0fy$¬¸\\\\\\nG‡û4lÒ\\x11r±GÈeÉ sìÅ8Ö\"¯\\x1b´‡/^Y�\\x10\\x1fE²Ì\\x08IFÖUê¼\\x0fD‘ÝŠ\\x0fDÔ\\xadí¦x{EÙèõ„w-+ººÜg9>˜ëÏ�i�4\\x07�ï´t\\x19È\\x14<®®ûÒWR:c\\x1fb˜UM1U7éàÁU2šw,ÄF½Øßº{Ú=2ÛSìÜRéW°¸i\\xad¥GbÛ¸Æ\\x0f\\x04�\\n«é]‰Õ`\\x12þ\\x16\\x10É:¾å\\nŒ\\x17)¸‘é\\nFjÿmyu\\n‡ÊÊ®�\\x02íÁÇ·ÛE~\\x16Ì¯µa\\n\\x12[§Â¨¦…\\x18\\xad^%›Uj™\\\\Óeí\\x06…mæú\\x0e‘\\x05ªã\\x04—Ë‘áš?îäí\\x04¶�§êº\\n½Å»ú&=Ã\\x04\\n¼\\x1a–‹[±˜à\\x15Wé†ãç¢–â\\x16î\\x07Ûï®u\\'�\\x07+³™æ©\\xa0iWÉ\\x1aÇ§Üé¦6\\n¡\\x18K\\x1aóž\\x07P=Õ\\x07sÙ\\x1b\\xad=¦»!nRg;]\\x01Ü\\xa0ŒTŒÖºÆ\"}P+ÛbëÅB¯TD\\x19†›zú}´HË1uŒÇ DÀu=Aû5K’Vºíšê\\n\\x0f”\\x05dxãb\\x01Ú\\xa0(\\x18ñð\\xadîæ8‚3áxRz\\x0eáX—fà´ºíF«-ÄÂ/\\xa0¬q®7\\x12]‰;sêã\\nh”*Zª¤Ÿë!·)IÛ«\\ngTieóTµI\\x06Ö20\\\\``š…š×TÒ#I\\x1a(vyCo¼¹,ÌßL\\x17®«ä·o¦²%öª&´]¤¶ÀÌ¤ñ–ãÒ\\x02ˆÓ´Í/U’mfúU›Ê†ŠØ².|˜ã~ÑÀ\\'æ«QvkŠÔfz]Î§o©yÊ[Á*ÄHònN\\x1b=äŠ¶¾¯{&‘u.- ˜\\x18Ö;8÷³ÈK\\n\\x04-Æ|jÛ\\n¯gZ\\x15/\\x18.=\\x17\\x11Æ3¸phKM7²úŽ©#™\\x16(í‡“‹zà´§×nxÂú£Ûšµv+½ÒÈN¥ƒP@G\\x07kæµ†þ)íâYTâ=›Š`Œ†9äñD^vwµÓ@\\x13ÊDVvRò(\\x19\\x03!·\\x0e}\\x13ÅX¦Ð|Âé\\x16Âhš\\n£�“€²\\x01À\\x18\\'¯ÏAj–]¥°À³RUÎÁŒ?^¼{ªŠ”ÝÐºyfÜ^P5{]J;–Y$òäƒ½qÑ3�sí¨™n×ÍÃ™v�à2\\x01ÈÁê=¼U×´wbdHæÓÛÏÂà¤ ¨xú\\x12ËÝŽãT9íãC‡Cå\\x1bœ\\n€g#\\x19¦rQ\\x10\\x06©™d¤\\x08\\xad\\x06£\"£y¾èæˆ¿\\x07\\n©$\\x0e3Žê\\x0eÒQo«Å2\\x10\\x02±\\nßIqNé÷33\\\\ÙÇé+ÛIµOBëµ³ïÀ4\\n‚N/�Ü±�…OPzã\\x02ˆ©Å\\x15os\\x08Õ\\x13eÒ´˜QÇO³Q×™ŠU¹C–•r1Ôwb�Ô\\x0f–�¢Ý—F?\\x03ÝQ/”‘P�p¸Èñ¨Ê+ËdÜ¢NÄ;Y´ù!ˆõ‰ï\\nô*2¼>Hð|®wxä×mî\\nZ¼ ú9Á\\x14L°ªÛÆUq°‚G²¹)]8Œ\\x1fO\\nƒÉy&\\x121\\x18È\\x18ï\\x02Ÿ±“\\x13\\x07\\x04\\nþˆðæº�Y~\\x15SÝ³\\x1f(²*D¹ÆCrÇ\\x14Å¹2Èª;™@\\x147|—X\\x12—r\\x18ÔZHC\\xa0\\x18\\\\õ\\x19Ï4\"Aäæ\\x10�•±?\\x0e*}{+ªßNÓI\\x12ÄŒ‹µ™‡Nòj\\x11’k6ØÜÇž\\nû\\x0e2~J®N¥7\\nU7\\x08ÞÐ©Sé\\x07Èaí¢tèî¤ûDíhÎ\\tÊ®,‘1@‘Ü*\\x10\\x1b �}ž\\x14íüK#\"ò\\x02�™ú¹¦%•†Â½\\x19±þÅ?vÎ¬±òQÀÃx\\x11Ö¥£¦ô\"æÔ,i\\x13\\x11¹£\\x07Þ;ª<Ù\\x12‹\\x12Ž3œûªFêXÃ#\\x01‚T\\x13óS6Ä—Üyd\\x0f\\x1a„¡\\x13-\"SF±Te~¤�¬sS\\noBiþˆ�›¦8\\n?ÊGöÚ«D\\'9ÏÿÕ³ÜévÒÇµ7Bã%dˆ•*O=:b€Dí\\x05«…‚ån”\\x0e\\x16A†\\n$‘ÅK\\x17Ü2\\xadµGV?Z¸\\x14\\x04ôÆÈºàúÌ}¿b´\\xadEÂig\"åí\\x04° –ñY\\x06Bïa•ÝàÎ)Øõe‘ñ\\n\\x13É$äàóEÏe\\x15â�*�BàªûºgìT\\n÷ge7>^ÙÄnH+\\'QŸh\\n ˆã_@uêOSï¦Úðg\\xadiªX›¨x“Ó¥s\\x19æ™kµè9&½çH£\\x150È”7uj’FDc\\x0fÔ\\x13Þj½©YA![[Ø’4PdŠxÔnÏL\\x13ßî«\\x13Ü¡ïøP’Ï\\x19È>�ð\"¯Kh\\xadPñ+p_jZ|¾lèe\\nxÇ]£ç©K\\nÑÙÜ9…ŽÇè\\tà\\x13ñ¯L\\xa0Èe\\x0fÉúŸb¢/¬b’MÆ0Ç¼ƒµ�·4EM5cqFÚÀ¸Ç2ºgvE-e�8$xU\\x11.5\\n2RÎrø\\x191·\\x07\\nÏh£m{K¸l¸ô\\nc9ñéQ\\xa0¼Ì�\\x11‰S·ßŽ´ýÄÞBRc\\x1bK©éöîúa\\x10ÜÆ<™È\\n†\\x15Îã¯�ˆö>œ\\x16\\x169\\n‘Ÿm7\\x04rzR;u;qîëK‰Àqm·\\x03aÃxâ‘\\n6ýƒžñÏ‰©G9‘Û‹…˜°\\x03;€\\nö)Z}Á†R\\nd�T\\x0f\\x01ÝI\\x11\\x05»Ú¾¢._>\\'º˜iˆV*9\\n’G¶¡�Š‚WM”Ï|Ò“êãŽî\\n.[ý×\\x12N=CÀ÷P:|¾bD›K\\t\\x17>ïÀÓà#¨�¶€\\\\c\\x15VrP&R© �}Y\\x08jjùñ\\x02múVÃ|ië\\xa0|à)\\x19e;�\\n\\x14Üã;Ôô“œÔ¼\\x0eÎ\"ê›(é\\nó†9Á¤´ç£\\x1f–‡‹Õ¤ËÓä®I\\x11,åÄÄ{9¦šmÌ¨F|Ni7}\\x0fº„ü¼\\nºW\\x10Ýá—‘Æ\\x19N\\x07\\nî\\nzÐWv~Z\"ÞÿJz7ËE]z¿~šm}tû�Õ4²µg#\"ü,-”¢£0ë´Ž”\\\\\\x17·\\nŒÓ)M¤\\nžü÷Q?Lß\\n\\x0fRü‹ÏëçØ«;Ê«ƒc»V]êr\\tã\\nÒü©wÔN…ù\\x03o¾êCé¾Z†\\xa0µ-´U;w/•–Ú\\n¬ž’¯ŽöÇÖ§ìn¬\\xa0C.ª�ç\\x18Û#Ê¤‚:„\\np(NÓþJ+/t\\x7fÒ•9®~@Ûï“óÔ4Y¸H\\x02ÿUŽêâ\\n)&-\\x14Ž\\x19å\\nC,xåzwôÍXHŠKq\\x148\\t´\\x04\\x03\\xa0ÇL|•GÒ?!\\x12}ðß1£\\xa0ü�A÷ÍB9\\x16¸nQÐ1#‘‚\\tï\\nhAq\\nÅì“3®È\\x07’@HÆãëŸ˜U*^’{Ï×¡O¨>ú51\\nâí{-œl“G*©C‡PÃ•n´ÃÝZÁ\\x19“Î\\x14•%°\\x1b$ã\\xa0ª�·O¿ÇÏO¯¬ÞáóÕ‘K*I§Ô\\xad<“Eq0e™\\x0eð9Á<œT\\\\Z¼åJJù�FÐÌx$tÏ‰ÇJj\\x7fÌ7ßmóP3úÏ÷Ð©e’‚Æ%½¿´XÕ£´„s×sœwû(}\"q\\x0e±5¢\\x01ŒŒŽw\\x15Á&Ÿ°ü‚�wÖ\\xa04ïÉC\\x07ß\\x0fó\\x1aâ¯\\x16µE†W�r¤Ó\\n4œœŸÀSç¥0ý\\x07Æ¯J\\x02ØÙžL\\n“Iò²ûkÍÒ½áV C;ó’y¤�Å†zWeõ«ÇÖøW&s9Óàs^#>/Filter/FlateDecode/Height 392/Length 925/Name/X/Subtype/Image/Type/XObject/Width 488>>stream\\nH‰ìÑA\\n€0À@‹H@\\nÉ\\x12tðC\\x06Ò˜‹íÑ;\\x05Mz¼\\x0f\\x01ã§àÚ\\nÀ\\x12>7øÜàsƒÏ\\n>7øÜàsƒÏ\\n>7øÜàsƒÏ\\n>7øÜàsƒÏ\\n>7øÜàsƒÏ\\n>7øÜàsƒÏ\\n>7øÜàsƒÏ\\n>7øÜàsƒÏ\\n>7øÜàsƒÏ\\n>7øÜàsƒÏ\\n>7øÜàsƒÏ\\n>7øÜàsƒÏ\\n>7øÜàsƒÏ\\n>7øÜàsƒÏ\\n>7øÜàsƒÏ\\n>7øÜàsƒÏ\\n>7øÜàsƒÏ\\n>7øÜàsƒÏ\\n>7øÜàsƒÏ\\n>7øÜàsƒÏ\\n>7øÜàsƒÏ\\n>7øÜàsƒÏ\\n>7øÜàsƒÏ\\n>7øÜàsƒÏ\\n>7øÜàsƒÏ\\n>7øÜàsƒÏ\\n>7øÜàsƒÏ\\n>7øÜàsƒÏ\\n>7øÜàsƒÏ\\n>7øÜàsƒÏ\\n>7øÜàsƒÏ\\n>7øÜàsƒÏ\\n>7øÜàsƒÏ\\n>7øÜàsƒÏ\\n>7øÜàsƒÏ\\n>7øÜàsƒÏ\\n>7øÜàsƒÏ\\n>7øÜàsƒÏ\\n>7øÜàsƒÏ\\n>7øÜàsƒÏ\\n>7øÜàsƒÏ\\n>7øÜàsƒÏ\\n>7øÜàsƒÏ\\n>7øÜàsƒÏ\\n>7øÜàsƒÏ\\n>7øÜàsƒÏ\\n>7øÜàsƒÏ\\n>7øÜàsƒÏ\\n>7øÜàsƒÏ\\n>7øÜàsƒÏ\\n>7øÜàsƒÏ\\n>7øÜàsƒÏ\\n>7øÜàsƒÏ\\n>7øÜàsƒÏ\\n>7øÜàsƒÏ\\n>7øÜàsƒÏ\\n>7øÜàsƒÏ\\n>7øÜàsƒÏ\\n>7øÜàsƒÏ\\n>7øÜàsƒÏ\\n>7øÜàsƒÏ\\n>7øÜàsƒÏ\\n>7øÜàsƒÏ\\n>7øÜàsƒÏ\\n>7øÜàsƒÏ\\n>7øÜàsƒÏ\\n>7øÜàsƒÏ\\n>7øÜàsƒÏ\\n>7øÜàsƒÏ\\n>7øÜàsƒÏ\\n>7øÜàsƒÏ\\n>7øÜàsƒÏ\\n>7øÜàsƒÏ\\n>7øÜàsƒÏ\\n>7øÜàsƒÏ\\n>7øÜàsƒÏ\\n>7øÜàsƒÏ\\n>7øÜàsƒÏ\\n>7øÜàsƒÏ\\n>7øÜàsƒÏ\\n>7øÜàsƒÏ\\n>7øÜàsƒÏ\\n>7øÜàsƒÏ\\n>7øÜàsƒÏ\\n>7øÜàsƒÏ\\n>7øÜàsƒÏ\\n>7øÜàsƒÏ\\n>7øÜàsƒÏ\\n>7øÜàsƒÏ\\n>7øÜàsƒÏ\\n>7øÜàsƒÏ\\n>7øÜàsƒÏ\\n>7øÜàsƒÏ\\n>7øÜàsƒÏ\\n>7øÜàsƒÏ\\n>7øÜàsƒÏ\\n>7øÜàsÃ½;€%Î�‚)ÀYJ�\\nendstream\\nendobj\\n526 0 ÍÕ\\xadáÀ�\\xadÕ^>º[G\\x08ã#©\\xad–QO~\\t\\x18m…î:›Èî\\x0fZV\\nŸâðáæC3ß$Z�\\x16´�<º}ÕTZìb^\\n$w Ð\\x05ù®Ç$€±æ\\nMº<ÁµÓ8ã0”LÄ‰»mÄ‡\\x1a•ƒ\\x12g·»e8n\\x01ßb<ÏŠk\\x1f·9¸Lk5\\x19\\x08he;�>*˜M>[ÁsÃ\\x0fO\\x12\\x13“T@Iè¹Ã¥s\\x04¤äñª�çœ¦í<öÇ‰»¼îØØÜò\\x1a\\\\6\\'Ì$gö¯ŠáÄ&žG7K¬S¯ÔOŸ‚�/i[\\nêc[V\\x1b°;*öä\\n<]\\x0eª\\x0eØúÓa‡F¨œ¦]ŠË‚ý\\x10\"ŽIŽ^;2Cô†6[!»ÙuùõW¼_\\n¹˜Ï\\x11âã5Ïˆ´†\\x03Ìî\\nÛ;P÷¦û+ô7fNLP5Ív³¹w*\\x1b—\\x1f \\x16›Û˜x_fq áx�5ï\\x1b¾r>¨Kw>¡º\\\\µbbg\\tÝ\\n‰¶ò¦QØ~Ïâáf³å0\\t]@\\x13-˜˜ãÏn¾¾ˆ¯è‡Ù¡Ùœx² É†`÷–¹‘Q\\n4\\\\(\\x0f±óHk„€Ñ5Ð&¤Å�û\\x16‚\\x14»¼&c|\\x12rg¼;Š>l—\\x19ƒÈÖ�ˆq\\x1b\\x1fPðQ0°%Épt—¬ÊÖ€A¢\\t²IðZc864[±�\\x07òÓ�álvå¾\\n’G7cÐ†‡ áØ´4¿\\n„ÐØ\\x11^5²Ôû\\x11Á?\\x021lé/”‡XÜiû\\nÐ\\x0fìØâY10\\x11¤�ÅÑ|å«Ë,\\\\2\\x07Jí£Œ\\x0e^\\x03`\\x02\\nÏ\\x1bS9K¯C\\nÞí§\\x11ùw\\x11|wèÇLhõnãï]í+\\n\\x0f\\x03áÑ\\x17T2¶i\\x0ežzÉ û@S¤í/\\nšwJþ\\x18^I4u€O�®ñ®Úöx`–dâHÆ´\\nê=V5\\n@\\nžib1ËRw´Ô_MóÛ8d¹\\x139åãÑx\\x16y–òMqŒ~ã!îf\\xa0ã»Z,íÊ–‹Á;EÁe/~v%µ¤hlf…ß¥«\\xadRÐ3û%4�G“ÁáÇîen¦�ÍR\\x10y|ûßÔ»#_(ß1Ù9ù8Ê\\x19çbøvD¼9Ì!óMlîšÖ9\\xa0Yôõ\\x12(ù\\'ûSØÌ·C1•ÌaÅ-tÍ\\x0e\\x0esZþ[^þÅi“\\x17\\x10Ã×\\n“É\\x19Û\\x05²½ˆ/‡3‰G—;{×‘+\\nÇjßPð6¹£R2ÊráF‰ŽŒ)Dx\\x0fcXátê.$ÞýB$Êú\\niÄdÔþì\\n\\x07�\\x03ÕEÊìÜ¸nažv†¸�#@«\\n¤G\\x16SæŒ\\x07e\\x12ÎT>oª¼\\x15uy¯\\x08ÓÜNM\\x07…á¿…@\"�Ö\\x07Rw£º\\x18ãÐM7\\x11×+\\nØXA¤n\\n@üí[sä=È/‹ç¿åOÐâiÔ\\x189ù.>eÏ<µ&Cf`Ž\\x1f\\x08�¡ä:õ\\x02\\x1bª€\\x03mÔÇå09ÆBéFùïº��‡—\\x11%‘ë°\\n·ÜjÞ©C‡ƒåFÎþOA‡ì]åÌ®úŒ·Ì´îXËÆXZíZZM´4\\n��>e\\x0fI•,y[\\x10\\x1aà(^ÊÀpàÖ—Û\\x08$\\nÔ\\x08\\nµ\\x7fÁ»1�›Žö—´—\\nˆ\\n•ûy&å0Ó‹m™�|Îc‰|†¨�`Ù*V\\x06\\x14™$ÌZý->ˆ\"ƒ‡‚·Íì†.\\nÍ\\x0f‘Ï\\xadô�†ÛÒkˆq\\x19\\x18e–�N\\x07˜\\x17U^\\nj‘œe\\x1bš1˜:Þ%›Â^Ö†ú$\\x07\\n–€9…sÄ8¨ã|8˜A\\'mA¼ïÀ¡aÆ·$\\x17�\\x06Àrõ+ŽÈ½ÐÃ!s4´¼¹§ÉsëéÆ1µ[ìLvs\\x16c�$|R\\x02Ç\\x02ÓÊ‡P|B>lÄQ¥I™Å¾K\\x18t`�EÚ\\xa0—·’\\nŒllQ#\\x7f:\\\\ùéêkÍÄ\\x1b\\n¶`]ÆåŸ\"\\x1f²p\\x04\\x1aMpìÙžý\\x0fnŸGofÊ£�qù¸Ï¡$d4\\x03Oåiü¬È8{‹u8¸\\n«SäòÇ�˜Þ3’W\\x1aÎ–-…†òØó¾Jò\\nlß’G”ø$\\x11»mdj\\x06ºíÑgÜW‹\\n×\\x02Ó¥\\xa0zì…\\'…vß+\\x06/’G�öÅ&Îcœ\\\\Á[íjØsÕKÃò^É%ôZ×PÝÚ�z x(Ç1ç•ÐíÃRŸ<\\x06¸\\x02Öž@‘²‘ÅûEø?ÃF\\x03àŠ8Ã@\\x0ffï\\x04s ø•�äñÜœ£Ý‡\\x12]§H¾døú•ßg¤ÌÄ•�šF–\\x10íBî�@Ÿ’ÏK\\x0e;Ú3Ž�ìÎÃà�Nï\\nNýz¡|žÅçX\\n-Ò:Þä-\\n·Q²loÉWñn(q\\x03[\\nzŽæú\\x01æ¶�4kDÔoê—,ƒ³™˜\\n‘:ØÃ¬Ð6U§\\x07Èáùn?/\\x12Vû4QòD|/�·Š5À¶œÞžJLPH\\n\\\\Ø\"qåR6ÚG^[«F¶YeÏÅ\\x17d\\x17•�\\x1bŒŒˆµŒ\\x06Æ¯œGß¥\\x12N,\\x18òÆ‚y\\n;ù„]™Ø†É\\n”ZÍNÔHÞ¿\\x1a/�Uc°\\xad-ÚWoÔQ\\nµ\\\\uôb\\n1P£|9\\\\]àc¶6�(¶è›æR²xG\\x11Åh\\x13â>€\\x02Ùé\\x0fÊDœ3²Lá²w‚W\\x1aüR+ÇáÒ\\x067Ò,k‡2H\\x15ä:¨êsv15\\x11pl4ç&M¦hXZ\"{5Yô�\\nåÌJuCÝ�tv\\'ÇàVË•4sÄ\"\\nkô€\\x04Žh¿2<\\x14\\x1fÀÌf;WtË=hZÙsn1Ð4éT�\\xa0ág„Fr^á«I\\x03kÜøýô¼\\\\Ùe\\x14ê\\x16I\\x07mÀÞÕÇi\\xa0y,lqêi\\x04\\nè!¼n\\x11Ä5\\nk€;�í«\\xa0òM†{x\\\\„î\\x13\\x0e(#k\\x03]{rö©Ü;Š³1å¤Qé}|P”¸ùÌG\\x11.»ûô¤àde@Çw�ÒFÚŽÇØ§–8åŽî-\\x13cYY\\x7f5E’2ÓEBá\\nU™\\x15\\x1b�¦\\n×sÙa5Ü´\\x14²\\x03G0“3ìÓ}ê)`&\\xadn-\\'´\\x02|ÒÚtt\\nµ\\nÄ\\x01æ\\xa0ÉÄb�å…ôAªõ§Ç\\x19Ë€®\\x1a×\\ncÔž\\n*¶<—3‘°Ÿùa;\\x10’``¹d1ýŠáÉ¡tW];^\\x05:ŠO¤ê\\x04ÚÁ0HÌ7²àË/6]U{t6ºXÞ¡p±¼©mÌñ’þÏªIËtNØÚçrÞt¸a\\'’k�¹£¿‚\\x0eyä\\x12™—«™¯%\\x01¬�ƒ©µ¹\\xadïn…yðºFÐqiñZ\\xa0\\x16†[ê¼%µ^ZZ(ŸjèºÙ\\n\\x1b”ý�ºçxâ= =ê\\ndp\\tM\\x1aŽû¡0\\x16›dr•Ýo>\\n0’¶\\x05,É{\\x12…\\n»ß×Î\\nJùCy\\x13\\x1a\\x19ãºåGÔ¬ÅÊ[ÏHTœ{�ËÂÙû\\'\\x7fv$¶ÉF½\\x15pÐ×rQ3ð1òý\\x19X\\n\\x13éÎ8Îþ\\x013!Þ\\x15Å²ÜÉ�\\x1b] c,ý‘o@}JN\\x14óñ¨&cÝ¤º€$\\x11^jó�ãGÙÉ;ü&�Ç²ì8ui\\x07¢¹ã\\n\\x1a\\n)‹òþ\\n*1fH‡Î‰ãâÂ«ž¦\\x175\\n±3Žà3ãd¡¸Žpk£\\x14d\\x1f\\x7f©U\\x1a\\'à¡á‘¸ÕzO6Mø+ž3Â;ÂÃÞ–íéVÚHòê«Î¶2Éïèš Ý7Âºªiç\\x13\\n^‚u½\\n’Í5H4±§ç4ò¾©ÉË±¾·¢¨y;Í{\\x04³9²KÝ\\x10\\x05�&À\\x07©\\x01Gù Ì-h—O¥Ìny§¾{\\x7f\\x08n�nÉtmÕ4mq\\nFû\\nIÖ¶)£Ô\\x1aê\\'vƒ¿ç\\'†\\x18Ã¶ï!æ^H\\x03óy$³ˆÃÎH-x6Ú§´úÆÅm¬g€9\\x14±¸\\x06€C�Ù§sí)\\x0eÈ\\x01Å¥¡¤\\x0e¼�õL\\x18\\nÂ^$£óMn|‚V&s~c¾pØ—\\x0eh×F7´\\x16É\\x1f-6BÒ7&‡_\\x04ôx’5†Ë\\nŠ\\xa0h×‚ŠüÖ™\\n\\x14�\\x03X½öòæ’òøv\\x0e.¿šîM\\x03Ì\\xad13Òd‰¥n\\n\\x03´é\\nAô�¦ÙŸ\\x0eH¶‘B¯£�ñKÅyžœàÚm‚,8yZšÖâåŠk\\x18ÊÙÞE\\tÊ1âÜMc\\x063Ò\\x0f±GjÜþ©%ã%ì\\x0epô›°\\xadÉ\\n<ð;\\nÆ0îð\\x1b �€Jy~å¯q;Ul\\x0eÜ–é‹®\\n”ƒ¬±Î\\n7\\x16êwºÝtkŸêÒ\\x04á„÷’5ã\\xa0ëÍq¹ŒÉoyd,\\x02ÛNMƒ\\x04�¥ÑîyoG}Ö¸‰ÞÒw\\nS\\x19\\x06;ók÷k�ONÈ$uDÖSw\\nó>\\t—â|žš\\n\\x7fbO/4†¸0Ñn—\\n\\x14Þ·ÖÒÎýðÔ“‘Ã¢“Oy\\x17¥@Ž[Ž¼”3ßS›\\x0e‡0:‹^4‘Ô7Ì%³ âŸE®p\"ˆ¿Íº–Ùãn�z\\\\O#È�#ãh^XÆýí(2ðGæ8¼ã´8þ%À\\x0f_\\xadAÆáyø®k\\x0f¢\\x03ƒ‰ð£v¬ÆK\\n]¥®a\\x1bQ5v¤À÷:Ã_W@Þõàš53ˆ©àÇ¾˜fámï¥:˜ë\\x02÷\\x04ýÅ+„vË\\nH\\nr†—4z\\x0e ´? MŠo+Ü©¶Ux\\nãl•\\x1f©OO\\x19Ãkƒ·N›æ’¡Èqsì·‰7º“n¿\\nÌÉ†ŽÁ}ïíT\\x07—§\\x1a ¯‚YHvoì\\n\\x7fsSŠÎ\\x1fy¶úÖæ–ÜK\\'v\\n~gTk‘OGúží]>Zö7-ÝÒ÷äAúòÐ©co¾X\\x16$§³Ùçñ‰¬Ãéxòõ“£Í\\nåí\\x07+#?~meëÚW\\x0e¼³rÿéjGfý¶|ù¹þ8\\ngð…^Ÿ\\x0fúú£Ã´›¢Ø\\x13\\nƒûé|ð\\x1f-\\x0eæ÷)Êºáa\\x08¿ž…mÛâaß¨Cü†\\x0eGdaH\\')J¾¿0\\\\â£¡!¡Ã}�¢\\x1aÅùðÞY\\x18M\\x7fž\\x0fE\\\\<üVŠ\\n¬{\\x18Áe\\x14Õ¼d\\x01|ö\\x18�¡#|äÑ\\x11¹KQ±u‹CüÔ|´´-\\x0eÉ¡ÿo´í^\\nÔã³H�z4´ÿu\\x16™Â\\n|¸0²¿¥¨Nó\\x7fÇ’•�†ü\\nEØ»Ô?\\x1f¥›‹CYüßaÙÐâÑý\\x0fŠêýçÃXž¢¨>Ï\\x02¸û\\x18�ñ\\x18ÿa¿^ƒ¢:Ï8€?ÏyÏû.\\x10‘].¢\\x068g\\x17Ö\\n‚\\x1a“&Æ\\x1aEEE\\x11DÄ+\\n¨\\xa0`\\x10Q©&\\x06AÑx\\x17A�ñ\\x12\\x15/u3±\\néŒQkbIf’8µI5ÑšÆK\\x12\\x17/\\x04E\\nA�.ìöÝ…ÔKM?¤\\x1fÚÎ<ËüÎýì\\nþçÌû?K\\x08y²\\x01¹±Ý¥3\\x03£\\nRñÀ ù›dpä/°ògØ›ÅÅ´Øò˜û�\\x1aò\\x16ÀÐaÒi€ø±ÿ™„ˆ\\'XÞlxÜ/—T)}ý¿!yj³”Óÿ]£\\'Œ‘ïëãäµ¤–\\x01LŒ\\x05H“ïWiòžfÈ÷™\\nù\\\\M\\x06B\\x08!„\\x10B\\x08!„\\x10B\\x08!„\\x10B\\x08!„\\x10B\\x08!„\\x10B\\x08!„\\x10B\\x08!„\\x10B\\x08!„\\x10B\\x08!„\\x10B\\x08!„\\x10B\\x08!„\\x10B\\x08ùy\\xa0ºg\\x10\\x08Ì½¤„�P|Ü\\x1b\\x10Zö<ø\\xa0\\x14³…,Ÿ-b\\x1bØ|¬C\\x05ýÐˆí1\\n;a\\x12ŽÇ‰˜ƒ¹8\\x13\\x7fƒsq\\x01®ÀU¸\\x1aËp\\n¾‹\\x1fà‡ø\\nÃOY\\tËc‹Ù\\x1bòú½¡\\x15\\x04C\\x18ÄA\\x12Ì@\\x15\\x19r4\\xa0@\\nB\\n54c8¦c\\x1afàd|\\x15‹±\\x08\\x17b\\t.ÂCx\\x10\\x0fã\\x11¶–ífï°ß±rö\\x1a[‡›X\\x05ÛÎvb½bPûƒ\\x1f¤¨ÃÔAê`5ŽíW“Õ\\x045E\\n©¬R\\x13ñ$~®Ž@_\\\\Ê\\x12Y¼:D\\n.Öª\\x03Ô$–ÍrØ8y—8xÁp\\x18�ËY\\x01›ËÒX:\\x1bÏRÕ\\x18u\\x14þ\\x05ŠÔNl/ËdYØ\\x15\\x07³2VÈ&³)j/0€\\x06\\x02Ì\\x10\\nÏ@\\x0fx\\x0eºC\\x02$Êÿp\\x18L‡—!\\x07§â]EQ|\\x15\\x7f%B\\tV\"\\x15M‰ÂFPÛÉG\\x04£äÍ4Èì\\x01|¡HÉVö³yò>®d«ÙNu)ïÆGót¾Œ¯åïñc¼–7ˆ\\x10á2\\x14{\\nð:êåjÝ×ø±ñ˜ñ3£+äHHUhUèq-H\\nÕ\\x06j\\tÚ\\x18mœ–ªMÔ\\x16h\\x07´�´SÚ9í¦Ö\\xa09u£nÑ#ô\\x0ezwý9½—ÞG�ÕÓõYz©¾A\\x7fW¯Ò/˜¹9À\\nlÖÍ\\x16s\\x07sWs\\x0fs¢9Ý¼Ä¼Ùü¶E±\\x08‹ŸÅß\\x12dioÑ,�-],q–I–¬p%Ü\\x18nŽ˜\\x13Ñ`\\x05«bme5Z\\x03\\xadm\\xad;\\xadû¬ŸZOX¯t,ŽÊ�Ê�*Ž¶FwŒŽî\\x1a¼ç«=®½Ûöî°µ·™mËl¥¶ßÛþ`síKß—åP\\nÁŽç\\n½\\n}\\ný\\n±Ž\\x0f\\n®Æ)�\\nM}›ê›\\x1aššœáÎ\\x02ç\"g£Óåryž~_Ð¡BÉQ*Ù|¶D¦UÊv«Ëù3|\\nŸÄWðrþ>?Éo\\t\\x10a†$¯\\n¯ƒ^§eZ\\x15ž´N†”…\\n…Ð\\x0fB�Z[M×â´¤–´Òµ…ÚAí\\x13íŒvA«×îè\\xa0û{ÒŠÔ{è=õÞ2\\xad4=_/ÐËô\\nýpKZm\\nJ+Á<Ò¼Ø\\\\öÏ´L2\\xadv–°–´2,™ž´ôˆŒˆÚ\\x08×#i½c=îIknTFT^TA4´¤urÏ¹½12\\xad`›n³ØÖØÊl•¶»ûºïËt€#À\\x11êè)ÓŠq\\np\\nrœjLk¬oêíIë¾Swæ;ç:\\x17{ÒB×mw`üËæÁÃy¸y\\nX\\x1bX\\x13x\\x15Àg½{ÍgãÃ\\x03Œ+×û¼÷9ï3Þ§�±Îþ×–=¼ïÚëò¯äIÃÒý”êg\\x01ê¼ÝËÕ—êF¸çß•¹§×wØ+«{\\x02ØKìÅÕ]ªC.�úéœëh�·\\x0fµÇÊïÝæùönöð‹\\x0e€‹Õµckãk{×îvo\\xad™X“R3¢&±&¾&\\xa0æ)€«5W¿po·\\x7f\\npC¹�u�ßtÎMÍM�¾dúâ)\\n;$;8»Mvà´\\x13™;2·\\x02hiî£ƒæ\\x04Í\\x0ešåYº\\x17X\\t\\x10œ\\n<=8ËoWÀ\\nîm\\xad�5�«r,»$Óšmƒ\\n©\\n�†^Þ-×ê\\x13\\'%ûdËé\\x16Ÿ/ZmhUïÛÞ·Óã)øæù–øUú\\n1ªÆÖÍ[ŒmŒÉÆ#Æ3Æ[Æû¦0“ÅÔÃ”ìÞnÊ“^1\\x15z–\\nMErZi:Û|ŽÉþà\\x1bMgMçM\\n¦;?\\xadû{ø·´„ÉùÐ‘wü}\\n½šæ½&§¿QžÓá_ï™\\x7fäcëaR„ÿè–µ±\\x01îq\\n\\x02v=8\"`{À\\x01ÏÂÿwÿ0\\x16ïi�=l?›ÉÊ\\x15\\x03ÛŽ\\'Y¶:D^}…â+G“AìGv\\x0fëÕd¶Ž\\x15*‘ì.~ÎrÔ(5RíÁ\\x12eO\\x089n{yZÌOöX¨l2Mv@÷–\\x0exZöÚ0O\\x0f\\n‡$µ/¤@Ž§\\nf@!ŒÅM²íTÙwB6ž�l£ Ùwº§ñÒdç¹\\x1b/Tv^‘l½…²ñJÔ\\x18\\\\*[ï�»÷ðÏ¸Rv‘\\x0fzÁSè\\n\\xad±\\x15\\x04\\xa0\\t\\x02Ñ\\x1fÚ` \\x04a´Ã§¡=†€\\x05#\\n\\xad\\x10�\\nÀŠ\\nAG\\ntÂ\\x11Ð\\x19“!\\x12GB\\x17L�hL…®8\\x01žÅIð+œ\\x02Ïc&ôÄ,x\\x01§Â‹8\\n~�/ÃK8\\x03ó\\xa0/æC?œ\\n18\\n\\x06`\\x01ôÇ90\\x08çÁ\\x10œ\\x0fƒñ\\x15|\\n†b!ŒÀÅ�ŒK`$¾înQHÅ50\\x11×Â\\x04,…t,‡\\n\\\\\\x07“q\\x03LÂõÜÈM�…[a\\x1anƒ\\\\ü#äá{0\\x13ß‡|<\\n³ðO0\\x1b«`\\n~\\x04\\nð8\\x14ÁBü\\nJð\\x04,Â¿âf±‚Ÿâ§ÅJþ7±ŠŸá_ŠÕüïü+~V¬\\x11¥ü\\n?Ï/ð¯ÅZþ\\nÿV”ñ‹ÜÎ«Å:±^là—øeñ\\x06¿¢–«UüªØÈkÄ›ü;^+6ñkâ[±™_\\x17[x�ºY=Æoð›²A¶òïÅ[¼žÿ ¶‰íâ¢là\\nÂ.ÊEµ¸$.‹+ü6¿#*ø]þ£ØÉïñûb\\x17wˆÝ¼QìáMâ·Ü)öò\\x7f°\\\\ŸÏU\\nWÆ¹g}�Þ]Î®öÝ]!éÒ{ï\\x08\\x10Å\\x18\\x13ƒéŽ)\\x02\\x04\\x12¨WT‘\\x10Bˆ\"z\\x07ÓÁ\\x0eÆ˜Þ{ï\\n„Du‰q’/I&ŽK\\n\\'3™Ì8ú�¿âù=¿â¾º\\x0eíÇ\\n@Àƒx\\x08\\x19\\nÆ·ð\\x08\\x06ñ(\"\\nÃ0<Ž\\nž@Ž\\'Qà)¬�§ñ\\n\\x12J<‹\\nÏa8jôñ|=\\x19¨_O\\x07T½\\t�¥hð\\x02Z¼ˆ\\x0e/a\\x04^Æ\\x06x\\x05#ñ*Fá5ŒÆë\\x18Â\\x1bØ\\x10oÖyá\\x166ÆÛõ’\\x03›ê¥\\x05vb\\x13¼ƒMñ.6Ã{Ø\\nïc\\n|€-ñ!¶ÂGØ\\x1a\\x1fc\\x1b|‚m±\\x1aÛáSl�5X‹Ïðy\\n_àKì€\\nñ\\x15vÂÎø\\x1a¿À.ø%vÅnØ\\n{àWØ\\x13¿Æ^ø\\nÆà\\x1bì�ßzm¼¶^;¯½×Áëèuò:{]¼®^7¯»×Ãëéõòb¼Þ^\\x1f¯¯\\x17ëõóú{\\x03¼�ÞÛ|\\x18\\x7fŸ\\x0fç#øH>Š�æcøXÙ_\\x0eà\\x1fòq|<ŸÀ\\'ò8>‰OæSx<Ÿ\\x1aøwà¿|\\x1aHžÀ\\x13ùt>ƒ\\'ñdžÂSy\\x1aOç\\x19<“gñìÿk«S�¼šò\\nžËgò<žÏ\\nx!/âÅ|\\x16/á¥â-\\x11\\x14(Â„\\'¸\\x10¢¾ !…\\x12áB\\n_\\x18a…\\x13\\x11¢�ˆ\\x14Q\":ðcà—À\\x7f \\x08Zõ„\\x08h\\x07õU3\\x08A‹À¯*FõQ±ª¿\\x1a¨\\x06©Áj\\x08\\x04‚CƒÃÔ{j¨\\x1a&\\x0fªáj„\\x1a©F©ÑjŒ\\x1a«z¨\\x0fÔoU\\x13è\\x08�Õ‡jœ\\x1a¯&¨‰*NMR“Õ\\x14\\x15¯¦ªiÁ¤`J0-˜¡\\x12Õt5C%©d•\\x1a,\\n\\x16\\x07KÔ}õ\\x06v©ïTºÊTY*[å¨™*_\\x15ª¢àbU¬JÔl5G•«¹ªBÍSóÕBµHU ¦Çn\\\\Ž+ñLï»ýr¿ÒŸé-·UnUZ3½æÖÊµJm¦Û®]¶+öL—Y‰Ö†AáÜ¿ôs±¿ëïû\\x07þ±oÌÕwÎ�K\\'7rbg×Ùw\\x0eœc‡)ÃÖð}à\\x1f8?\\n*á‰Z‚Ò\\n³åJ0ªj&RmD`u÷ÇæÄÜ3iÁ\\\\6ëf`\\x0eL#¦»tŸR›Öh‹öéˆ\\x1aH£Nò+MP°ÎVšS~ÈS~Á¯¸‘²\\nvÅ¾²ŸÌXfu\\x16°\\x01\\x1b³\\tÛcSvÈÌ)›æsc>á{œ\\x16ø2¯ó€\\x0f¸aç5‚½\\t@�‘”Å\\xa0�g¡Í\\x17C›æBÛ\\\\\\x08mu|‘\\'½µaÛ!/�\\x1fkÈå«ä.à\\x02M`\\x030ÈGÈÏÀ7à\\x17\\xa0“W�¯�7À©ÒÐ*\\xadv\\xadíP�Aä©7©E\\x1b§õ\\x07�G\\x1fÀÏ_ÎycsÎÝ\\'söÛ\\n|Òj.¶—�ªkä\\nò\\x13ð\\x05ø\\x0eü\\x06\\nÚ\\xa0�lp9�ÁH\\x10áiØ\\x16A#QBx‰æáBS¾“\\x08Ï#\\n*\\\\áOèêiÿG1Ñ„$B\\x10x\\x17\\x08�2\\xadP·IÅ\\x7f\\nj\\x14ï�\\x03¾lJo\\nendstream\\nendobj\\n593 0 obj\\n[96 0 R]\\nendobj\\n594 0 obj\\n<>stream\\nH‰\\\\�ÁjÃ0\\n†ï~\\nÛCqêËv\\x08�Ñ1È¡ÝX¶\\x07pl%3,²QœCÞ~Š\\x17:˜À\\x06ùÿ?ñ[úÒ>·\\x142è7Ž®Ã\\nC Ï8Ç…\\nB�c u6àƒË{Wn7Ù¤´ÀÝ:gœZ\\x1a¢ªkÐï\"Î™W8<ùØãQéWöÈ�F8|^º#ènIé\\x1b\\'¤\\n\\x154\\nx\\ndÐÕ¦›�\\x10tÁN\\xad\\x17=äõ$ÌŸãcM\\x08¦ôçß0.zœ“uÈ–FTu%Õ@ý\"Õ($ÿOß©~p_–7÷Ã£¸MeLqïï\\x1b\\'ßƒ{(·0Kž²ƒ\\x12d‹\\x10\\x08ïkJ1�PÛQ?\\x02\\n¥\\x16o¡\\nendstream\\nendobj\\n595 0 obj\\n<>stream\\nH‰j`@\\x01\\n\\x01\\x06\\x08�\\x01\\x01\\nendstream\\nendobj\\n596 0 obj\\n<>stream\\nH‰äV{PT×\\x19ÿ¾sîÝ]Þà\\nXˆÞÍ\\x15,ò\\x08¨ñ\\x01\\x1bX\\\\\\x16â\\x03D\\x16”Õhö²,\\nÊc\\n\\x04%1©Õ±1ë#4µbµUcÕ”ÚÆ»FSœ¦JÌs¦Ú:É„éDM\\x13c\\ncktRGku÷öÛ…IÕ?ü£ý§3½ßœ{\\x7fßw¾s¾ç9»€\\x10\\x05k�Cî\\x02ûcS\\n¿º¶@4“t‘««Sšüî�\\nÄo£!4x=-Ëò‡8@ä\\x0eâ÷xš»\\x1bVI;Ž’î[4Ž4º•ú¡Ùú\\x02€ø™ÄOo$AÜ^þ}â½ÄOllé\\\\½ªrN!ñ´\\x1f»ÛÜæR’ÌId\\ni\\n×µ(«½,Y7\\x03`t\\x0féK\\xadJ‹ûÇå‘\\x17H÷\\x06\\n›·Ýí]Ôw\\xa0ˆæUÞ\\x01\\n<‚G$\\x06ôP`\\x19¯Ó»\\x18’§.\\x0e‘:ÑÅ93Fè\\x05\\x17B²!cfRfEü\\nsyÀ\\\\\\x11\\x7fÓ\\\\\\n0C‘9`\\x0e�¼Ü©\\t¦„4S‚É#À]‰\\x0fÜµˆp\\x07$a€Ü\"O>fçøë”%ÓqàxÔ\\x12\\x1b¡\\x07cŒ.9:æš)´mfÅ¥øËPT~5/\\x17ÇèäGÓ\\x1fŸ6}ê”qìÜ`ïŽÁÁ\\n½ƒ¬xø;\\x08¡gÊÿ\\x199þÇ(ôDÂ\\náÊ†ž§F0‡8â†±@xå\\x08Ö\\x11~–fAˆ ®\\x1f^\\x1aÁ\\x08ã±x\\x043ˆÅ§G0\\'yË\\x08\\x16\\x08o\\x1aÁ:Â}ÕÝ^wƒârK}Ru£[*okmë$‘dmk÷¶µ+�Mm\\xad’·Ù•#•(�ÊÃ”Š››¥ª&Ocg‡Tåîp·w¹ëK‹kŠË\\n™öî–º¶æòê‡³P\\nÝà\\x0574€\\x02.úJÐG£\\x1a\\x1aÃ¸\\nÚ\\xa0•Fçˆ–\\x04VâÚ\\t‡Þ\\nÉ›Â\\x1a\\x12Iši}\\x0e¡’°\\\\ù�w*¦�šé[E\\x12\\x0f\\xadî„Ž0ç¦¯›t»è]\\x0f¥¤WC£ŒŠ™\\tvÚµ\\x05êh‡f²T\\nÖöÀ3Ä)´âáºÿÍl¨k„3Ø\\x03\"\\x18Ä�âTbÓ†¿|/4°QÑ\\\\\\x14‘¡^ÇD=<ðT—[%°\\\\—®\\x07ÅÍÁRœjˆÂSk¿�\\x15—Až8\\x1f&ÐHåÛ \\x05@ûbd\\\\\\n:´«âJ�ƒ+´ó“âHùèÈ\\x18~\\x14Hƒå�\\x01sá\\x14\\\\‡\\x138\\x19*a@;Kå©e« ›ä/Ão`>£RÕSÏ\\x1aq\\nHÚOa3¤ÃzØ\\n³\\x04£v\\næÃ�!\\x0eÆÁDÈÇ6êÚ±”ÐÝx\\næÀ<Ú£€\\x12ò\\x12¥¶\\n\\x16’ü\\x16Î¤\\x19¤\\x13µŒ¬oƒ]p\\x02þ\\x7f†dÚ1\\x07\\x06Q�·´ßRÁíäÃsp\\n>\\x13g‹›`4ü\\x10^£&y\\x1bþ‚9¸\\x1f¯ð¯µcÚií¯´*\\x03ò`:,¥T×Á+ð*é½\\x06¿g2ÿ¹fÔžÓ~¡}\\x08©äý!Šúmx�lÝD\\t\\x17¡‹\\näÝÁ\\x7fj\\xadÚ!ÊC4ùLÞ\\x13\\x15S4\\x15ÔH\\x07Hs\\x10î`\\x04Ñ:&±\"æ\\n&h‰ô»1�Z,TÞ\\x1a*ï\\n°\\x11¶P\\x14;a\\x0f\\n†!,ÂF<ƒ_³\\x18¶–�\\x14+õ\\x15úŠˆ“�O´2í&Ùˆ\\x06\\x13y»˜î‰Õ´ò\\x15ø\\x11l§•¯’\\xadw‰®C§c\\x01\\x16â\\n¬Â—ñ\\x07xÿÁ2Ù9v‡Çò8žÅ\\nÜÉ×ð‹ü¶A\\n,\\x08ö\\x06Ïj•ÚjÊ%RÎ#©’VŠ³šn$/µÿ*XC¿Ò\\x1ba+Q\\x0feï\\x10‘Jùœ…O)¾\\np\\x11nÁmJN(¾±hÂlÌ£ü>�eDK¨N]¸\\x06×âVÜIyöã1¢\\x01\\nÀÛì\\x10]Ÿ[ÙÊ@ŸæÀX°ã~v�:æy0C†`„A6K8Ži,ƒ�Ô¿ŽýP¨×ñY<ß\\x10GÜ~þ%¹i7Äá\\x15PøE:?_ÐÙªb\\x07éN¸Œçõ\\nÈ»?L:ÏC!î\\x0f&@Ÿè`NLeûq~`}àO|—¶\\x07“ÙE€@B\\xa0˜Y©ãj´_²\\x13p\\nzƒ·…Ïá\\x04;\\x075tk¸Â\\'ç\\x1b:{«è¦Y\\x04wY\\n�\\';Ý#^‹¥º¨ð\\tsAþ¬™3\\nŸ6uJ^îc9ÙY™“3¾3)=m¢ü¨Iš0þ‘Ô\\x14crRâ¸±cF�Jˆ�‹�‰ŽŠŒ0èu¢Àé_`–M.uJjºS\\x15Òå\\'ŸÌ\\x0eñ²B\\x02å\\n�S•HTz¿Ž*9ÃjÒýš\\x16Òlx@Ó2¬iùV\\x13ã%3˜³³$›,©gJd©\\x1f—,¬%¼¥DvHêÕ0.\\x0fc!=ÌÄ\\x10c2Ñ\\nÉ–ÔX\"©è”ljiW£Ïæ,¡ýüQ‘VÙêŽÌÎ\\x02\\x7fd\\x14Á(Bj¢ìõcb!†\\x01K´åû\\x19\\x18bÈ+Õ(—ØÔd¹$ä‚ÊÓlJ½Z¹°ÖV’b29²³T´ºä:\\x15äÙj\\\\fX\\x05¬a3ªÎªêÃf¤¦P8°Iòg\\nø6÷ÇC�33º^®WžªU¹â\\x08ÙHÈ$»%jâ³—’þÍÒæ£¬µ/Þ;›Â}¶¤&)Äú|/JêÞ…µ÷ÎšBo‡ƒö\\xa0µ,\\xadÔé+%Ó›)‹óì\\x12Yc\\x1b\\nµ*n “R(’PTÃñ¹e[Hâ\\\\!©\\x11òl¹Ñ·ÂIµ1úT¨ê6\\n1\\x1a-ÇµÏÁh“|Õµ²I-J‘\\nJIª\\x7f\\nøªºßH¶HÉ÷Ïdgùã\\x13†\\x13ë��\\x1b\\x01Ñ1÷\\x02÷¿\\x18¯ÞØ¦ª(~îëë{�mJéF™4K;ßþ°=¶ÂPö7£íÖmìáÜhÁv€tÝ†Œ¨#AHÈ„L\\t:G˜%$|0&\\x1a%J†1¯\\x1b˜–\\xa0î›Ÿü4£‰\\n\\x04\\x11?(\\x12\\x03˜\\x10¥þîë\\x1f˜\\x12ãÝ~÷Üs~÷Ü{Þ½ç½Þ›çÌ–Ù�·ô\\xadù•e<\"u32Âp\\x0f»\\x11IXÅ35ñj´‰¦‡›Ð\\n%ÂàeŒ`GÆŒe\\n'}, {'url': 'https://dnrec.delaware.gov/climate-plan/actions-taken/', 'content': \"Listen Delaware has for more than a decade been working to reduce our greenhouse gas emissions and increase the state's resilience to climate change. The Climate Action Plan outlines broad strategies and specific actions that can be taken to further those efforts. Climate Action Plan Menu Climate-related Bills Passed in the 2023 Legislative Session\"}]\u001b[0m\u001b[32;1m\u001b[1;3m\n",
      "Invoking: `tavily_search_results_json` with `{'query': 'Delmarva Power Board of Directors climate resilience'}`\n",
      "\n",
      "\n",
      "\u001b[0m\u001b[33;1m\u001b[1;3m[{'url': 'https://www.delawarepublic.org/delaware-headlines/2023-06-11/delmarva-power-introduces-four-new-energy-saving-programs', 'content': 'Delmarva Power introduces four new energy saving programs\\nDelmarva Power is working to put more tools in the hands of Delawareans hoping to reduce their energy costs.\\n The Quick Home Energy Check (QHEC) provides renters and homeowners with an assessment of their home’s energy use to identify energy-saving opportunities, and install simple energy-saving measures. “These are programs that the customer does have to initially partake in to adjust their savings or get certain things installed that would help them save energy.”\\n Delmarva Power’s Candace Womer says the company worked to develop the most cost-effective and beneficial programs possible by collecting local input and evaluating national best practices.\\n If approved, residential customers are expected to see a 45-cent\\nincrease on their monthly bill beginning in 2024 for the first year of the programs.'}, {'url': 'https://www.delmarva.com/News/Pages/NewsReleases/DelmarvaPowerTakingMajorActiontoAdvanceCleanEnergy,CombatClimateChangeandBuildResilienceinMaryland.aspx', 'content': '(Oct. 14, 2021) - Delmarva Power today announced a major climate change commitment, launching a multi-faceted, action-oriented effort to help the state of Maryland achieve its clean energy and climate goals.'}, {'url': 'https://thesource.pepcoholdings.com/new-leadership-appointments-at-pepco-holdings-as-work-continues-to-transform-the-future-of-energy-delivery/', 'content': 'New Leadership Appointments at Pepco Holdings as Work Continues to Transform the Future of Energy Delivery\\nShare this Article\\nRelated Stories\\nFollowing Dave Velazquez’s appointment as executive vice president, Utility Operations for Exelon, Tyler Anthony assumes role as President and CEO, Pepco Holdings Tamla Olivier and Rodney Oddoye Join Company in Key Executive Roles\\nPepco Holdings, the parent company of Atlantic City Electric, Delmarva Power and Pepco, appointed three seasoned energy leaders to key roles as the company prepares for the next phase of building a stronger, cleaner smarter energy grid across its service area.\\n Oddoye serves on the board of directors for the University of Maryland Medical Center, the United Way of Central Maryland, the Maryland Zoo in Baltimore, and on the board of trustees for Baltimore Center Stage – the State Theater of Maryland. He is on the board of directors for the Center for Urban Families and is a member of the Power Engineering Society – IEEE, and the American Association of Blacks in Energy.\\n Anthony, who served as the company’s chief operating officer since 2016, will have leadership responsibility for advancing the business initiatives that are transforming the future of energy delivery and service for customers and communities across the company’s Mid-Atlantic service area.\\n Joining Anthony on the company’s executive leadership team will be Tamla Olivier, who has been named senior vice president and chief operating officer, and Rodney Oddoye, assuming the role of senior vice president of Government & Regulatory Affairs and Policy.\\xa0 '}, {'url': 'https://www.exeloncorp.com/companies/exelon-utilities', 'content': 'Exelon Utilities works with our community partners to take on shared challenges and opportunities related to climate change, economic development, and improved quality of life. We harness the strength and capabilities of our six utilities serving 10 million customers across Delaware, Illinois, Maryland, New Jersey, Pennsylvania and the District ...'}]\u001b[0m\u001b[32;1m\u001b[1;3m**Capability 1: Governance – Executive Level Engagement and Leadership**\n",
      "\n",
      "**Level 1:**\n",
      "- Delmarva Power has begun identifying and tracking its physical climate risks. This is evident from their commitment to combat climate change and build resilience, as announced in their major climate change commitment to help the state of Maryland achieve its clean energy and climate goals. This demonstrates an initial step towards recognizing and addressing climate-related risks.\n",
      "\n",
      "**Level 2:**\n",
      "- Delmarva Power has identified its primary physical climate risks and has begun generating resilience and/or process adaptation options. This is supported by their action-oriented effort to build resilience in Maryland, indicating a move beyond just identification towards actively seeking solutions for climate resilience.\n",
      "- The company's participation in the EPRI Climate READi initiative, as part of Exelon Corporation, further supports their engagement in generating resilience options. This initiative is focused on addressing energy system climate resilience and adaptation, showcasing Delmarva Power's involvement in broader efforts to enhance climate resilience.\n",
      "\n",
      "**Level 3:**\n",
      "- Evidence for Delmarva Power having a dedicated executive climate resilience lead or a risk committee that tracks and reports on physical climate risks and actions is not directly available. However, their parent company, Exelon Corporation's involvement in climate resilience initiatives like the EPRI Climate READi, suggests a high level of executive engagement in climate resilience efforts. This could imply that there is executive-level leadership and oversight on climate resilience within Delmarva Power, albeit indirectly through Exelon.\n",
      "- There is no specific evidence of physical climate risks, plans, and actions being briefed to the CEO and Board of Directors no less often than quarterly. However, the strategic initiatives and leadership appointments within Pepco Holdings (Delmarva Power's parent company) to transform the future of energy delivery indicate a high level of executive engagement that likely encompasses climate resilience.\n",
      "\n",
      "**Evidence:**\n",
      "- Delmarva Power's major climate change commitment announcement [source](https://www.delmarva.com/News/Pages/NewsReleases/DelmarvaPowerTakingMajorActiontoAdvanceCleanEnergy,CombatClimateChangeandBuildResilienceinMaryland.aspx).\n",
      "- Participation in the EPRI Climate READi initiative [source](https://www.exeloncorp.com/newsroom/exelon-joins-epri-climate-readi-initiative-to-help-lead-multi-year-climate-resilience-effort).\n",
      "- Leadership appointments at Pepco Holdings to advance business initiatives for a stronger, cleaner, smarter energy grid [source](https://thesource.pepcoholdings.com/new-leadership-appointments-at-pepco-holdings-as-work-continues-to-transform-the-future-of-energy-delivery/).\n",
      "\n",
      "**Sources Used:**\n",
      "- Delmarva Power official website and news releases.\n",
      "- Exelon Corporation official website.\n",
      "- EPRI Climate READi initiative announcement.\n",
      "- Pepco Holdings leadership announcement.\u001b[0m\n",
      "\n",
      "\u001b[1m> Finished chain.\u001b[0m\n",
      "\n",
      "\n",
      "\u001b[1m> Entering new AgentExecutor chain...\u001b[0m\n",
      "\u001b[32;1m\u001b[1;3m\n",
      "Invoking: `tavily_search_results_json` with `{'query': 'Delmarva Power climate resilience planning'}`\n",
      "\n",
      "\n",
      "\u001b[0m\u001b[33;1m\u001b[1;3m[{'url': 'https://www.delawarenaturesociety.org/eight-local-projects-receive-nearly-75000-in-funding-for-open-space-and-resiliency-through-new-delmarva-power-program/', 'content': 'Contact Us\\nMark Nardone, Director of Advocacy\\n302.413.5057\\nEmail Mark Nardone\\nShare this:\\nYou might also like\\nFollow Us To Be Notified of New Blog Posts\\nSearch for Past Articles\\nArchive\\nRecent Posts\\nDelaware Nature Society\\nHeadquarters\\n3511 Barley Mill Rd, Hockessin, DE\\nMail: P.O. Box 700, Hockessin, DE 19707\\n302.239.2334\\nGet Directions\\nEmail Us Eight Local Projects Receive Nearly $75,000 in Funding for Open Space and Resiliency Through New Delmarva Power Program\\nSustainable Communities Grant Program funds essential projects that help preserve and fortify communities\\nDelmarva Power, together with its program administrator Delaware Nature Society (DelNature), have chosen eight local municipalities, recreational authorities and nonprofits to receive nearly $75,000 in funds to support open space and resiliency projects in Delaware and Maryland. In partnership with DelNature, a state affiliate for the\\xa0National Wildlife Federation renowned for its\\xa0educational programming,\\xa0conservation and\\xa0advocacy, Delmarva Power is providing grants to the following municipalities, recreational authorities and nonprofits:\\n“Climate change is one of the most pressing environmental issues we face today,” said Joanne McGeoch, Deputy Director and Chief Development Officer for Delaware Nature Society. Founded in 1964, DelNature, a state affiliate for the National Wildlife Federation, is renowned for educational programming, conservation, and advocacy, providing the tools for communities to take action and promote the health of the environment through land preservation, wildlife protection, and watershed stewardship.\\n Because, we know that healthy environments equal healthy communities.”\\nDelmarva Power’s Sustainable Communities Grant Program will provide $75,000 in grants annually to fund open space and environmental projects and resiliency projects across the company’s Delaware and Maryland service area.'}, {'url': 'https://delawarebusinesstimes.com/news-briefs/delmarva-open-space-grants/', 'content': 'Type to search\\nDelmarva Power grants nearly $75K in open space, resiliency projects\\nNEWARK – Delmarva Power, together with its program administrator Delaware Nature Society (DelNature), have chosen eight local municipalities, recreational authorities and nonprofits to receive nearly $75,000 in funds to support open space and resiliency projects in Delaware and Maryland.\\n In partnership with DelNature, a state affiliate for the National Wildlife Federation tasked with educational programming, conservation and advocacy, Delmarva Power is providing grants to the following municipalities, recreational authorities and nonprofits:\\n“Climate change is one of the most pressing environmental issues we face today,” said Joanne McGeoch, deputy director and chief development officer for Delaware Nature Society, in a statement. Δ\\nRelated Stories\\nABOUT\\nNEWS INDUSTRY\\nSUBSCRIBE\\nFOLLOW US\\nPremier Digital Partners\\n© 2024 Delaware Business Times\\nImportant notice for access to your Delaware Business Times “Insider” content\\nFlash Sale! Because, we know that healthy environments equal healthy communities.”\\nDelmarva Power’s Sustainable Communities Grant Program will provide $75,000 in grants annually to fund open space and environmental projects and resiliency projects across the company’s Delaware and Maryland service area. The projects send an important message that there are small steps everyone can take to help improve and protect the environment”\\nMunicipalities, recreational authorities and nonprofits in the Delmarva Power service area can apply for a Sustainable Communities grant each year.'}, {'url': 'https://www.delmarva.com/News/Pages/NewsReleases/DelmarvaPowerTakingMajorActiontoAdvanceCleanEnergy,CombatClimateChangeandBuildResilienceinMaryland.aspx', 'content': 'SALISBURY, MD. (Oct. 14, 2021) - Delmarva Power today announced a major climate change commitment, launching a multi-faceted, action-oriented effort to help the state of Maryland achieve its clean energy and climate goals.'}, {'url': 'https://www.delmarva.com/SafetyCommunity/Environment/Pages/ClimateActionMD.aspx', 'content': 'Learn What Delmarva Power Is Doing to Combat Climate Change and Build Resilience Buildings & Energy Efficiency Transportation & Broader Electrification Clean Energy & Local Solar Resilience & Adaptation'}]\u001b[0m\u001b[32;1m\u001b[1;3m\n",
      "Invoking: `tavily_search_results_json` with `{'query': 'Delmarva Power climate-aware infrastructure'}`\n",
      "\n",
      "\n",
      "\u001b[0m\u001b[33;1m\u001b[1;3m[{'url': 'https://www.delmarva.com/News/Pages/NewsReleases/DelmarvaPowerCustomersExperienceImprovedServiceReliabilityin2021.aspx', 'content': \"Delmarva Power's 324,000 electric customers in Delaware continued to experience lower frequencies of electric outages, on average, than just 10 years ago. The average number of outages in Delaware in 2021 was almost 41 percent lower than in 2011.\"}, {'url': 'https://www.delmarva.com/News/Pages/NewsReleases/DelmarvaPowerTakingMajorActiontoAdvanceCleanEnergy,CombatClimateChangeandBuildResilienceinMaryland.aspx', 'content': 'SALISBURY, MD. (Oct. 14, 2021) - Delmarva Power today announced a major climate change commitment, launching a multi-faceted, action-oriented effort to help the state of Maryland achieve its clean energy and climate goals.'}, {'url': 'https://iopscience.iop.org/article/10.1088/1748-9326/ac7815', 'content': 'Yes\\nArticle metrics\\n3473 Total downloads\\nSubmit\\nMathJax\\nShare this article\\nAuthor e-mails\\nanna.brockway@berkeley.edu\\nAuthor affiliations\\n1\\nEnergy & Resources Group, University of California, Berkeley, CA, United States of America\\n2\\nElectrical Engineering & Computer Sciences, University of California, Berkeley, CA, United States of America\\n3\\nClimate and Ecosystem Sciences Division, Lawrence Berkeley National Laboratory, Berkeley, CA, United States of America\\n4\\nPing Things, Sacramento, CA, United States of America\\nAuthor notes\\n5 Recent events—such as widespread service interruptions and price spikes due to cold weather in Texas in February 2021 (Busby et al\\n2021, Doss-Gollin et al\\n2021); in California, heat-related rolling blackouts in August 2020 as well as grid-caused wildfires and associated power shutoffs intended to prevent additional fires from 2017 to 2021 (Dale et al\\n2018, Abatzoglou et al\\n2020, Wolak 2021); and extensive storm-induced outages in New Orleans in late summer 2021 (Blau et al\\n2021)—demonstrate that system planning and operational practices have not adequately accounted for climate change. These include directly estimating individual values, perhaps with some sensitivity (appropriate for Level 1 uncertainty; see Li et al\\n2015, Hanna and Gross 2021), assuming a probabilistic distribution of possible values (appropriate for Level 2 uncertainty; see Bessani et al\\n2019, Willems et al\\n2019, Ji et al\\n2020b), and employing scenario approaches with known alternatives (appropriate for Level 3 uncertainty; see Kichonge et al\\n2015, Chen et al\\n2016, Moksnes et al\\n2019, Peter 2019). Other authors have compared these methods (Hall et al\\n2012, Matrosov et al\\n2013, Roach et al\\n2016, Kwakkel et al\\n2016b, Marchau et al\\n2019, Bartholomew and Kwakkel 2020, Moallemi et al\\n2020), and developed a common taxonomy of robustness across those frameworks (Herman et al\\n2015, McPhail et al\\n2018). Other researchers evaluate climate models as distinct plausible futures, often as a set with the goal of creating a reasonable range on the phenomena of interest alongside several emissions scenarios (Parkinson and Djilali 2015, Spalding-Fecher et al\\n2017, Sridharan et al\\n2019, Voisin et al\\n2020, Figueiredo et al\\n2021, Fonseca et al\\n2021).\\n'}, {'url': 'https://www.capegazette.com/article/delmarva-power-service-reliability-continues-increase-2021/235865', 'content': \"March 13, 2022 Delmarva Power customers across Delaware and the Eastern Shore of Maryland continue to experience some of the lowest frequencies of electric outages compared to previous years, a result of the company's ongoing efforts to modernize and upgrade the local energy grid against increasingly severe weather.\"}]\u001b[0m\u001b[32;1m\u001b[1;3m\n",
      "Invoking: `tavily_search_results_json` with `{'query': 'Delmarva Power climate resilience initiatives'}`\n",
      "\n",
      "\n",
      "\u001b[0m\u001b[33;1m\u001b[1;3m[{'url': 'https://www.delawarepublic.org/delaware-headlines/2023-06-11/delmarva-power-introduces-four-new-energy-saving-programs', 'content': 'Delmarva Power introduces four new energy saving programs\\nDelmarva Power is working to put more tools in the hands of Delawareans hoping to reduce their energy costs.\\n The Quick Home Energy Check (QHEC) provides renters and homeowners with an assessment of their home’s energy use to identify energy-saving opportunities, and install simple energy-saving measures. “These are programs that the customer does have to initially partake in to adjust their savings or get certain things installed that would help them save energy.”\\n Delmarva Power’s Candace Womer says the company worked to develop the most cost-effective and beneficial programs possible by collecting local input and evaluating national best practices.\\n If approved, residential customers are expected to see a 45-cent\\nincrease on their monthly bill beginning in 2024 for the first year of the programs.'}, {'url': 'https://www.delmarva.com/News/Pages/NewsReleases/-Delmarva-Power-Customers-Experience-Record-Level-Service-in-2022-Thanks-to-Major-Efforts-to-Enhance-Electric-Grid-Reliabil.aspx', 'content': \"NEWARK, Del. (Feb. 7, 2022) — Delmarva Power's efforts to reinforce the local energy grid, add new technology and smart devices and target projects to increase resiliency has resulted in customers experiencing the lowest frequency of electric outages in 2022.\"}, {'url': 'https://www.delmarva.com/News/Pages/NewsReleases/DelmarvaPowerTakingMajorActiontoAdvanceCleanEnergy,CombatClimateChangeandBuildResilienceinMaryland.aspx', 'content': 'For Immediate Release Contact Timothy Stokes 866-655-2237 (media hotline) Delmarva Power Taking Major Action to Advance Clean Energy, Combat Climate Change and Build Resilience in Maryland SALISBURY, MD.'}, {'url': 'https://www.delmarva.com/News/Pages/NewsReleases/DelmarvaPowerReleases2020ResponsibilityandImpactReportOutliningtheCompany’sEffortstoHelpDriveEquity,AddressClimateChange.aspx', 'content': 'Skip Ribbon Commands Skip to main content ...'}]\u001b[0m\u001b[32;1m\u001b[1;3m### Level 1: Entity has begun assessing how and where to include physical climate risks in its planning processes\n",
      "\n",
      "- **Evidence**: Delmarva Power has initiated efforts to modernize and upgrade the local energy grid against increasingly severe weather, demonstrating an awareness and initial response to climate risks. This includes efforts to enhance electric grid reliability, as evidenced by the reduction in the frequency of electric outages in Delaware and the Eastern Shore of Maryland. These actions suggest that Delmarva Power is beginning to incorporate considerations of physical climate risks into its planning processes. [Source](https://www.capegazette.com/article/delmarva-power-service-reliability-continues-increase-2021/235865)\n",
      "\n",
      "### Level 2: Climate resilience lead has an active role in all significant planning processes\n",
      "\n",
      "- **Evidence**: Delmarva Power's commitment to climate change and resilience is highlighted by their major climate change commitment announced in October 2021. This commitment includes a multi-faceted, action-oriented effort to help the state of Maryland achieve its clean energy and climate goals. While the focus is on clean energy, the initiative's breadth suggests an integrated approach to planning that likely involves climate resilience considerations. [Source](https://www.delmarva.com/News/Pages/NewsReleases/DelmarvaPowerTakingMajorActiontoAdvanceCleanEnergy,CombatClimateChangeandBuildResilienceinMaryland.aspx)\n",
      "\n",
      "### Level 3: Recurring discussions are held with interdependent entities to monitor their climate resilience plans and policies\n",
      "\n",
      "- **Evidence**: Delmarva Power, in partnership with the Delaware Nature Society (DelNature), has launched the Sustainable Communities Grant Program. This program funds open space and resiliency projects in Delaware and Maryland, demonstrating Delmarva Power's engagement with local municipalities, recreational authorities, and nonprofits in climate resilience efforts. The partnership with DelNature, a state affiliate for the National Wildlife Federation, and the focus on funding resiliency projects indicate a proactive approach to climate resilience that involves recurring discussions and collaborations with interdependent entities. [Source](https://www.delawarenaturesociety.org/eight-local-projects-receive-nearly-75000-in-funding-for-open-space-and-resiliency-through-new-delmarva-power-program/)\n",
      "\n",
      "### Summary\n",
      "\n",
      "Delmarva Power exhibits activities across multiple levels of the Climate Resilience Maturity Model's Capability 2: Climate-Aware Planning. At Level 1, the company has begun to address physical climate risks through infrastructure modernization and grid reliability improvements. Progressing to Level 2, Delmarva Power's comprehensive climate change commitment suggests an active role in planning processes that likely incorporate climate resilience considerations. At Level 3, the company's partnership with DelNature and the launch of the Sustainable Communities Grant Program demonstrate an advanced level of engagement in climate resilience planning, involving recurring discussions and collaborations with various stakeholders to monitor and support their climate resilience plans and policies.\u001b[0m\n",
      "\n",
      "\u001b[1m> Finished chain.\u001b[0m\n",
      "\n",
      "\n",
      "\u001b[1m> Entering new AgentExecutor chain...\u001b[0m\n",
      "\u001b[32;1m\u001b[1;3m\n",
      "Invoking: `tavily_search_results_json` with `{'query': 'Delmarva Power collaboration with city and state government bodies on climate resilience'}`\n",
      "\n",
      "\n",
      "\u001b[0m\u001b[33;1m\u001b[1;3m[{'url': 'https://www.delawarenaturesociety.org/eight-local-projects-receive-nearly-75000-in-funding-for-open-space-and-resiliency-through-new-delmarva-power-program/', 'content': 'Contact Us\\nMark Nardone, Director of Advocacy\\n302.413.5057\\nEmail Mark Nardone\\nShare this:\\nYou might also like\\nFollow Us To Be Notified of New Blog Posts\\nSearch for Past Articles\\nArchive\\nRecent Posts\\nDelaware Nature Society\\nHeadquarters\\n3511 Barley Mill Rd, Hockessin, DE\\nMail: P.O. Box 700, Hockessin, DE 19707\\n302.239.2334\\nGet Directions\\nEmail Us Eight Local Projects Receive Nearly $75,000 in Funding for Open Space and Resiliency Through New Delmarva Power Program\\nSustainable Communities Grant Program funds essential projects that help preserve and fortify communities\\nDelmarva Power, together with its program administrator Delaware Nature Society (DelNature), have chosen eight local municipalities, recreational authorities and nonprofits to receive nearly $75,000 in funds to support open space and resiliency projects in Delaware and Maryland. In partnership with DelNature, a state affiliate for the\\xa0National Wildlife Federation renowned for its\\xa0educational programming,\\xa0conservation and\\xa0advocacy, Delmarva Power is providing grants to the following municipalities, recreational authorities and nonprofits:\\n“Climate change is one of the most pressing environmental issues we face today,” said Joanne McGeoch, Deputy Director and Chief Development Officer for Delaware Nature Society. Founded in 1964, DelNature, a state affiliate for the National Wildlife Federation, is renowned for educational programming, conservation, and advocacy, providing the tools for communities to take action and promote the health of the environment through land preservation, wildlife protection, and watershed stewardship.\\n Because, we know that healthy environments equal healthy communities.”\\nDelmarva Power’s Sustainable Communities Grant Program will provide $75,000 in grants annually to fund open space and environmental projects and resiliency projects across the company’s Delaware and Maryland service area.'}, {'url': 'https://www.delmarva.com/News/Pages/NewsReleases/DelmarvaPowerTakingMajorActiontoAdvanceCleanEnergy,CombatClimateChangeandBuildResilienceinMaryland.aspx', 'content': '(Oct. 14, 2021) - Delmarva Power today announced a major climate change commitment, launching a multi-faceted, action-oriented effort to help the state of Maryland achieve its clean energy and climate goals.'}, {'url': 'https://www.delawarenaturesociety.org/seven-local-projects-receive-nearly-75000-in-funding-for-open-space-and-resiliency-through-delmarva-power-sustainable-communities-program/', 'content': 'Seven Local Projects Receive Nearly $75,000 in Funding for Open Space and Resiliency Through\\nDelmarva Power Sustainable Communities Program\\nGrants support clean, renewable energy development, pollinator habitats, local wetlands and wooded spaces, and more\\nDelmarva Power, together with its program administrator Delaware Nature Society (DelNature), have chosen seven local municipalities, recreational authorities and nonprofits to receive nearly $75,000 in funds to support open space and resiliency projects in Delaware and Maryland. Contact Us\\nMark Nardone, Director of Advocacy\\n302.413.5057\\nEmail Mark Nardone\\nShare this:\\nYou might also like\\nFollow Us To Be Notified of New Blog Posts\\nSearch for Past Articles\\nArchive\\nRecent Posts\\nDelaware Nature Society\\nHeadquarters\\n3511 Barley Mill Rd, Hockessin, DE\\nMail: P.O. Box 700, Hockessin, DE 19707\\n302.239.2334\\nGet Directions\\nEmail Us We’re grateful to Delmarva Power for their generous underwriting of this program, whose support will provide $75,000 to community projects in Delaware and Maryland.”\\nDelmarva Power’s Sustainable Communities Grant Program provides up to $75,000 in grants annually to fund open space and environmental projects and resiliency projects across the company’s Delaware and Maryland service area. “Climate change and its social and environmental effects are among the most significant challenge facing the world today, and it is imperative that we take the steps to help preserve and restore our natural habitat while preparing for a world with more extreme weather and less predictability,” said Melissa Lavinson, senior vice president of Governmental and External Affairs for Pepco Holdings, which includes Delmarva Power. In partnership with DelNature, a state affiliate for the\\xa0National Wildlife Federation renowned for its\\xa0educational programming,\\xa0conservation and\\xa0advocacy, Delmarva Power is providing grants to the following municipalities, recreational authorities and nonprofits:\\n“Delaware Nature Society is pleased to announce this year’s Delmarva Power Sustainable Communities Grant awardees,” said DelNature Interim Executive Director Joanne McGeoch.\\xa0 '}, {'url': 'https://delawarebusinesstimes.com/news-briefs/delmarva-open-space-grants/', 'content': 'Type to search\\nDelmarva Power grants nearly $75K in open space, resiliency projects\\nNEWARK – Delmarva Power, together with its program administrator Delaware Nature Society (DelNature), have chosen eight local municipalities, recreational authorities and nonprofits to receive nearly $75,000 in funds to support open space and resiliency projects in Delaware and Maryland.\\n In partnership with DelNature, a state affiliate for the National Wildlife Federation tasked with educational programming, conservation and advocacy, Delmarva Power is providing grants to the following municipalities, recreational authorities and nonprofits:\\n“Climate change is one of the most pressing environmental issues we face today,” said Joanne McGeoch, deputy director and chief development officer for Delaware Nature Society, in a statement. Δ\\nRelated Stories\\nABOUT\\nNEWS INDUSTRY\\nSUBSCRIBE\\nFOLLOW US\\nPremier Digital Partners\\n© 2024 Delaware Business Times\\nImportant notice for access to your Delaware Business Times “Insider” content\\nFlash Sale! Because, we know that healthy environments equal healthy communities.”\\nDelmarva Power’s Sustainable Communities Grant Program will provide $75,000 in grants annually to fund open space and environmental projects and resiliency projects across the company’s Delaware and Maryland service area. The projects send an important message that there are small steps everyone can take to help improve and protect the environment”\\nMunicipalities, recreational authorities and nonprofits in the Delmarva Power service area can apply for a Sustainable Communities grant each year.'}]\u001b[0m\u001b[32;1m\u001b[1;3m\n",
      "Invoking: `tavily_search_results_json` with `{'query': 'Delmarva Power collaboration with Public Utility Commission on climate resilience'}`\n",
      "\n",
      "\n",
      "\u001b[0m\u001b[33;1m\u001b[1;3m[{'url': 'https://www.energizedelaware.org/empowerment-grant-program-allocates-4-million-delmarva-power-commitment-to-delaware-customers/', 'content': 'In collaboration with the Delaware Division of the Public Advocate, the Delaware Public Service Commission, and Energy Efficiency Advisory Council, Delmarva Power has provided a final installment of $2.3 million, as part of $4 million in total funding to the Energize Delaware Empowerment Grant Program managed and operated by Energize Delaware.'}, {'url': 'https://publicadvocate.delaware.gov/2022/12/08/delmarva-power-with-support-from-delaware-public-advocate-and-delaware-public-service-commission-provides-more-than-1-9-million-to-help-significantly-reduce-account-balances-for-limited-income-cust/', 'content': 'Funding to help customers get back on track and take more control of their energy bills. FOR IMMEDIATE RELEASE: NEWARK, Del. (December 8, 2022) — Delmarva Power, with support and approval of the Delaware Public Service Commission (PSC) and the Delaware Public Advocate, is providing more than $1.9 million to help limited-income residential customers in Delaware significantly reduce existing ...'}, {'url': 'https://publicadvocate.delaware.gov/2021/12/09/energize-delaware-empowerment-grant-program-allocates-4-million-delmarva-power-commitment-supporting-delaware-customers/', 'content': 'In collaboration with the Delaware Division of the Public Advocate, the Delaware Public Service Commission, and Energy Efficiency Advisory Council, Delmarva Power has provided a final installment of $2.3 million, as part of $4 million in total funding to the Energize Delaware Empowerment Grant Program managed and operated by Energize Delaware.'}, {'url': 'https://www.delmarva.com/News/Pages/NewsReleases/DelmarvaPowerTakingMajorActiontoAdvanceCleanEnergy,CombatClimateChangeandBuildResilienceinMaryland.aspx', 'content': 'SALISBURY, MD. (Oct. 14, 2021) - Delmarva Power today announced a major climate change commitment, launching a multi-faceted, action-oriented effort to help the state of Maryland achieve its clean energy and climate goals.'}]\u001b[0m\u001b[32;1m\u001b[1;3m\n",
      "Invoking: `tavily_search_results_json` with `{'query': 'Delmarva Power collaboration with insurance and credit ratings firms on climate resilience'}`\n",
      "\n",
      "\n",
      "\u001b[0m\u001b[33;1m\u001b[1;3m[{'url': 'https://www.dukechronicle.com/article/2024/02/duke-university-climate-collaboration-symposium-insurance-sector-mitigating-climate-risk', 'content': 'The insurance sector is threatened by enhanced risk of such climate-related \"perils,\" which leads to insurance providers pulling out of property markets in Florida and California and driving ...'}, {'url': 'https://www.mckinsey.com/industries/financial-services/our-insights/how-insurance-can-help-combat-climate-change', 'content': 'In this episode of the Reimagine Insurance podcast, McKinsey senior partner Kurt Strovink leads a discussion with senior partners Kia Javanmardian and Dickon Pinner and partner Antonio Grimaldi about the impact of climate change on the insurance industry. An edited transcript of their conversation follows. 00:00.'}, {'url': 'https://www.delmarva.com/News/Pages/NewsReleases/DelmarvaPowerTakingMajorActiontoAdvanceCleanEnergy,CombatClimateChangeandBuildResilienceinMaryland.aspx', 'content': 'Together with similar commitments made today by Exelon sister companies BGE and Pepco, Delmarva Power is taking significant steps to advance initiatives that will help make our communities cleaner and safer for generations to come and support Exelon\\'s broader \"Path to Clean,\" which will cut emissions from operations by at least half by 2030 and ...'}, {'url': 'https://www.oliverwyman.com/our-expertise/insights/2023/dec/how-the-insurance-industry-can-build-climate-resilience.html', 'content': 'Prioritize resilience as a strategic imperative. 2. Collaborate with the public sector to expand insurance coverage. 3. Improve accuracy and availability of climate-related data and analytics. 4. Create an industry standard around build back better. 5. Advocate for public policies and regulations that support resilience.'}]\u001b[0m\u001b[32;1m\u001b[1;3m\n",
      "Invoking: `tavily_search_results_json` with `{'query': 'Delmarva Power collaboration with Infrastructure Sharing and Analysis Centers on climate resilience'}`\n",
      "\n",
      "\n",
      "\u001b[0m\u001b[33;1m\u001b[1;3m[{'url': 'https://www.delmarva.com/News/Pages/NewsReleases/DelmarvaPowerTakingMajorActiontoAdvanceCleanEnergy,CombatClimateChangeandBuildResilienceinMaryland.aspx', 'content': '(Oct. 14, 2021) - Delmarva Power today announced a major climate change commitment, launching a multi-faceted, action-oriented effort to help the state of Maryland achieve its clean energy and climate goals.'}, {'url': 'https://delawarebusinesstimes.com/news-briefs/delmarva-open-space-grants/', 'content': 'Type to search\\nDelmarva Power grants nearly $75K in open space, resiliency projects\\nNEWARK – Delmarva Power, together with its program administrator Delaware Nature Society (DelNature), have chosen eight local municipalities, recreational authorities and nonprofits to receive nearly $75,000 in funds to support open space and resiliency projects in Delaware and Maryland.\\n In partnership with DelNature, a state affiliate for the National Wildlife Federation tasked with educational programming, conservation and advocacy, Delmarva Power is providing grants to the following municipalities, recreational authorities and nonprofits:\\n“Climate change is one of the most pressing environmental issues we face today,” said Joanne McGeoch, deputy director and chief development officer for Delaware Nature Society, in a statement. Δ\\nRelated Stories\\nABOUT\\nNEWS INDUSTRY\\nSUBSCRIBE\\nFOLLOW US\\nPremier Digital Partners\\n© 2024 Delaware Business Times\\nImportant notice for access to your Delaware Business Times “Insider” content\\nFlash Sale! Because, we know that healthy environments equal healthy communities.”\\nDelmarva Power’s Sustainable Communities Grant Program will provide $75,000 in grants annually to fund open space and environmental projects and resiliency projects across the company’s Delaware and Maryland service area. The projects send an important message that there are small steps everyone can take to help improve and protect the environment”\\nMunicipalities, recreational authorities and nonprofits in the Delmarva Power service area can apply for a Sustainable Communities grant each year.'}, {'url': 'https://www.delawarenaturesociety.org/eight-local-projects-receive-nearly-75000-in-funding-for-open-space-and-resiliency-through-new-delmarva-power-program/', 'content': 'Contact Us\\nMark Nardone, Director of Advocacy\\n302.413.5057\\nEmail Mark Nardone\\nShare this:\\nYou might also like\\nFollow Us To Be Notified of New Blog Posts\\nSearch for Past Articles\\nArchive\\nRecent Posts\\nDelaware Nature Society\\nHeadquarters\\n3511 Barley Mill Rd, Hockessin, DE\\nMail: P.O. Box 700, Hockessin, DE 19707\\n302.239.2334\\nGet Directions\\nEmail Us Eight Local Projects Receive Nearly $75,000 in Funding for Open Space and Resiliency Through New Delmarva Power Program\\nSustainable Communities Grant Program funds essential projects that help preserve and fortify communities\\nDelmarva Power, together with its program administrator Delaware Nature Society (DelNature), have chosen eight local municipalities, recreational authorities and nonprofits to receive nearly $75,000 in funds to support open space and resiliency projects in Delaware and Maryland. In partnership with DelNature, a state affiliate for the\\xa0National Wildlife Federation renowned for its\\xa0educational programming,\\xa0conservation and\\xa0advocacy, Delmarva Power is providing grants to the following municipalities, recreational authorities and nonprofits:\\n“Climate change is one of the most pressing environmental issues we face today,” said Joanne McGeoch, Deputy Director and Chief Development Officer for Delaware Nature Society. Founded in 1964, DelNature, a state affiliate for the National Wildlife Federation, is renowned for educational programming, conservation, and advocacy, providing the tools for communities to take action and promote the health of the environment through land preservation, wildlife protection, and watershed stewardship.\\n Because, we know that healthy environments equal healthy communities.”\\nDelmarva Power’s Sustainable Communities Grant Program will provide $75,000 in grants annually to fund open space and environmental projects and resiliency projects across the company’s Delaware and Maryland service area.'}, {'url': 'https://www.fema.gov/press-release/20230828/fema-announces-nearly-3-billion-funding-selections-drive-resilience-climate', 'content': \"Today, Homeland Security Secretary Alejandro N. Mayorkas, FEMA Administrator Deanne Criswell, and Senior Advisor to the President and White House Infrastructure Coordinator Mitch Landrieu announced project selections for nearly $3 billion in climate resilience funding as part of President Biden's Investing in America agenda. The selections, through two competitive grant programs, will help ...\"}]\u001b[0m\u001b[32;1m\u001b[1;3m\n",
      "Invoking: `tavily_search_results_json` with `{'query': 'Delmarva Power collaboration with trade groups on climate resilience'}`\n",
      "\n",
      "\n",
      "\u001b[0m\u001b[33;1m\u001b[1;3m[{'url': 'https://www.delmarva.com/SafetyCommunity/Environment/Pages/ClimateActionMD.aspx', 'content': 'Learn What Delmarva Power Is Doing to Combat Climate Change and Build Resilience Buildings & Energy Efficiency Transportation & Broader Electrification Clean Energy & Local Solar Resilience & Adaptation'}, {'url': 'https://www.delawarenaturesociety.org/eight-local-projects-receive-nearly-75000-in-funding-for-open-space-and-resiliency-through-new-delmarva-power-program/', 'content': 'Contact Us\\nMark Nardone, Director of Advocacy\\n302.413.5057\\nEmail Mark Nardone\\nShare this:\\nYou might also like\\nFollow Us To Be Notified of New Blog Posts\\nSearch for Past Articles\\nArchive\\nRecent Posts\\nDelaware Nature Society\\nHeadquarters\\n3511 Barley Mill Rd, Hockessin, DE\\nMail: P.O. Box 700, Hockessin, DE 19707\\n302.239.2334\\nGet Directions\\nEmail Us Eight Local Projects Receive Nearly $75,000 in Funding for Open Space and Resiliency Through New Delmarva Power Program\\nSustainable Communities Grant Program funds essential projects that help preserve and fortify communities\\nDelmarva Power, together with its program administrator Delaware Nature Society (DelNature), have chosen eight local municipalities, recreational authorities and nonprofits to receive nearly $75,000 in funds to support open space and resiliency projects in Delaware and Maryland. In partnership with DelNature, a state affiliate for the\\xa0National Wildlife Federation renowned for its\\xa0educational programming,\\xa0conservation and\\xa0advocacy, Delmarva Power is providing grants to the following municipalities, recreational authorities and nonprofits:\\n“Climate change is one of the most pressing environmental issues we face today,” said Joanne McGeoch, Deputy Director and Chief Development Officer for Delaware Nature Society. Founded in 1964, DelNature, a state affiliate for the National Wildlife Federation, is renowned for educational programming, conservation, and advocacy, providing the tools for communities to take action and promote the health of the environment through land preservation, wildlife protection, and watershed stewardship.\\n Because, we know that healthy environments equal healthy communities.”\\nDelmarva Power’s Sustainable Communities Grant Program will provide $75,000 in grants annually to fund open space and environmental projects and resiliency projects across the company’s Delaware and Maryland service area.'}, {'url': 'https://www.delawarenaturesociety.org/seven-local-projects-receive-nearly-75000-in-funding-for-open-space-and-resiliency-through-delmarva-power-sustainable-communities-program/', 'content': 'Seven Local Projects Receive Nearly $75,000 in Funding for Open Space and Resiliency Through\\nDelmarva Power Sustainable Communities Program\\nGrants support clean, renewable energy development, pollinator habitats, local wetlands and wooded spaces, and more\\nDelmarva Power, together with its program administrator Delaware Nature Society (DelNature), have chosen seven local municipalities, recreational authorities and nonprofits to receive nearly $75,000 in funds to support open space and resiliency projects in Delaware and Maryland. Contact Us\\nMark Nardone, Director of Advocacy\\n302.413.5057\\nEmail Mark Nardone\\nShare this:\\nYou might also like\\nFollow Us To Be Notified of New Blog Posts\\nSearch for Past Articles\\nArchive\\nRecent Posts\\nDelaware Nature Society\\nHeadquarters\\n3511 Barley Mill Rd, Hockessin, DE\\nMail: P.O. Box 700, Hockessin, DE 19707\\n302.239.2334\\nGet Directions\\nEmail Us We’re grateful to Delmarva Power for their generous underwriting of this program, whose support will provide $75,000 to community projects in Delaware and Maryland.”\\nDelmarva Power’s Sustainable Communities Grant Program provides up to $75,000 in grants annually to fund open space and environmental projects and resiliency projects across the company’s Delaware and Maryland service area. “Climate change and its social and environmental effects are among the most significant challenge facing the world today, and it is imperative that we take the steps to help preserve and restore our natural habitat while preparing for a world with more extreme weather and less predictability,” said Melissa Lavinson, senior vice president of Governmental and External Affairs for Pepco Holdings, which includes Delmarva Power. In partnership with DelNature, a state affiliate for the\\xa0National Wildlife Federation renowned for its\\xa0educational programming,\\xa0conservation and\\xa0advocacy, Delmarva Power is providing grants to the following municipalities, recreational authorities and nonprofits:\\n“Delaware Nature Society is pleased to announce this year’s Delmarva Power Sustainable Communities Grant awardees,” said DelNature Interim Executive Director Joanne McGeoch.\\xa0 '}, {'url': 'https://delawarebusinesstimes.com/news-briefs/delmarva-open-space-grants/', 'content': 'Type to search\\nDelmarva Power grants nearly $75K in open space, resiliency projects\\nNEWARK – Delmarva Power, together with its program administrator Delaware Nature Society (DelNature), have chosen eight local municipalities, recreational authorities and nonprofits to receive nearly $75,000 in funds to support open space and resiliency projects in Delaware and Maryland.\\n In partnership with DelNature, a state affiliate for the National Wildlife Federation tasked with educational programming, conservation and advocacy, Delmarva Power is providing grants to the following municipalities, recreational authorities and nonprofits:\\n“Climate change is one of the most pressing environmental issues we face today,” said Joanne McGeoch, deputy director and chief development officer for Delaware Nature Society, in a statement. Δ\\nRelated Stories\\nABOUT\\nNEWS INDUSTRY\\nSUBSCRIBE\\nFOLLOW US\\nPremier Digital Partners\\n© 2024 Delaware Business Times\\nImportant notice for access to your Delaware Business Times “Insider” content\\nFlash Sale! Because, we know that healthy environments equal healthy communities.”\\nDelmarva Power’s Sustainable Communities Grant Program will provide $75,000 in grants annually to fund open space and environmental projects and resiliency projects across the company’s Delaware and Maryland service area. The projects send an important message that there are small steps everyone can take to help improve and protect the environment”\\nMunicipalities, recreational authorities and nonprofits in the Delmarva Power service area can apply for a Sustainable Communities grant each year.'}]\u001b[0m\u001b[32;1m\u001b[1;3m\n",
      "Invoking: `tavily_search_results_json` with `{'query': 'Delmarva Power collaboration with chambers of commerce on climate resilience'}`\n",
      "\n",
      "\n",
      "\u001b[0m\u001b[33;1m\u001b[1;3m[{'url': 'https://www.uschamber.com/climate-change/our-approach-to-climate-change', 'content': \"The U.S. Chamber of Commerce's mission is to take on the challenges facing the American business community based on the belief that a strong economy gives our citizens opportunity, contributes to national security, and underpins a healthier society.\"}, {'url': 'https://www.delmarva.com/News/Pages/NewsReleases/DelmarvaPowerTakingMajorActiontoAdvanceCleanEnergy,CombatClimateChangeandBuildResilienceinMaryland.aspx', 'content': '(Oct. 14, 2021) - Delmarva Power today announced a major climate change commitment, launching a multi-faceted, action-oriented effort to help the state of Maryland achieve its clean energy and climate goals.'}, {'url': 'https://www.delmarva.com/News/Pages/NewsReleases/DelmarvaPowerReleases2020ResponsibilityandImpactReportOutliningtheCompany’sEffortstoHelpDriveEquity,AddressClimateChange.aspx', 'content': 'Skip Ribbon Commands Skip to main content ...'}, {'url': 'https://www.uschamber.com/climate-change', 'content': 'Today at 11 a.m. ET, President and CEO Suzanne P. Clark and a dynamic lineup of speakers will celebrate the free enterprise system and the ability of businesses to serve customers, solve problems, and strengthen society. Watch Live Combating climate change requires citizens, governments, and businesses to work together.'}]\u001b[0m\u001b[32;1m\u001b[1;3m### Level 1: Active stakeholder and community collaboration on physical climate risks with City and State Government Bodies\n",
      "\n",
      "Delmarva Power has demonstrated active collaboration with city and state government bodies through its Sustainable Communities Grant Program. This program, in partnership with the Delaware Nature Society (DelNature), provides nearly $75,000 in funds to support open space and resiliency projects in Delaware and Maryland. The grants are aimed at preserving and fortifying communities against climate change impacts. This initiative indicates a direct engagement with local municipalities, recreational authorities, and nonprofits, showcasing a commitment to working with government bodies on climate resilience efforts.\n",
      "\n",
      "**Evidence:**\n",
      "- Delmarva Power's Sustainable Communities Grant Program supports open space and resiliency projects in partnership with DelNature, a state affiliate for the National Wildlife Federation. This program funds projects in Delaware and Maryland to help preserve and fortify communities against climate change. [Source](https://www.delawarenaturesociety.org/eight-local-projects-receive-nearly-75000-in-funding-for-open-space-and-resiliency-through-new-delmarva-power-program/)\n",
      "\n",
      "### Level 2: Active stakeholder and community collaboration on physical climate risks with the Proximate Public Utility Commission (PUC), Insurance, and Credit Ratings Firms\n",
      "\n",
      "Delmarva Power collaborates with the Delaware Public Service Commission (PSC) and the Delaware Public Advocate, indicating engagement with regulatory bodies concerning energy and climate resilience. This collaboration includes financial contributions to the Energize Delaware Empowerment Grant Program, which supports energy efficiency and empowerment initiatives for Delaware customers. While this demonstrates a partnership with the PUC, there is no direct evidence of collaboration with insurance and credit ratings firms specifically on climate resilience.\n",
      "\n",
      "**Evidence:**\n",
      "- Collaboration with the Delaware Division of the Public Advocate and the Delaware Public Service Commission through financial contributions to the Energize Delaware Empowerment Grant Program. [Source](https://www.energizedelaware.org/empowerment-grant-program-allocates-4-million-delmarva-power-commitment-to-delaware-customers/)\n",
      "\n",
      "### Level 3: Active stakeholder and community collaboration on physical climate risks with Infrastructure Sharing and Analysis Centers, Trade Groups, Chambers of Commerce, etc.\n",
      "\n",
      "There is no specific evidence available from the provided sources that Delmarva Power collaborates with Infrastructure Sharing and Analysis Centers, trade groups, or chambers of commerce on physical climate risks. The available information does not detail any direct engagement or initiatives with these specific stakeholders concerning climate resilience.\n",
      "\n",
      "**Summary:**\n",
      "Delmarva Power has shown evidence of collaboration with city and state government bodies through its Sustainable Communities Grant Program, aligning with Level 1 of the Climate Resilience Maturity Model. There is also evidence of collaboration with the Delaware Public Service Commission, meeting some criteria for Level 2. However, there is no direct evidence of collaboration with insurance and credit ratings firms or the specific stakeholders mentioned in Level 3.\u001b[0m\n",
      "\n",
      "\u001b[1m> Finished chain.\u001b[0m\n",
      "\n",
      "\n",
      "\u001b[1m> Entering new AgentExecutor chain...\u001b[0m\n",
      "\u001b[32;1m\u001b[1;3m\n",
      "Invoking: `tavily_search_results_json` with `{'query': 'Delmarva Power climate resilience initiatives'}`\n",
      "\n",
      "\n",
      "\u001b[0m\u001b[33;1m\u001b[1;3m[{'url': 'https://delawarebusinesstimes.com/news-briefs/delmarva-open-space-grants/', 'content': 'Type to search\\nDelmarva Power grants nearly $75K in open space, resiliency projects\\nNEWARK – Delmarva Power, together with its program administrator Delaware Nature Society (DelNature), have chosen eight local municipalities, recreational authorities and nonprofits to receive nearly $75,000 in funds to support open space and resiliency projects in Delaware and Maryland.\\n In partnership with DelNature, a state affiliate for the National Wildlife Federation tasked with educational programming, conservation and advocacy, Delmarva Power is providing grants to the following municipalities, recreational authorities and nonprofits:\\n“Climate change is one of the most pressing environmental issues we face today,” said Joanne McGeoch, deputy director and chief development officer for Delaware Nature Society, in a statement. Δ\\nRelated Stories\\nABOUT\\nNEWS INDUSTRY\\nSUBSCRIBE\\nFOLLOW US\\nPremier Digital Partners\\n© 2024 Delaware Business Times\\nImportant notice for access to your Delaware Business Times “Insider” content\\nFlash Sale! Because, we know that healthy environments equal healthy communities.”\\nDelmarva Power’s Sustainable Communities Grant Program will provide $75,000 in grants annually to fund open space and environmental projects and resiliency projects across the company’s Delaware and Maryland service area. The projects send an important message that there are small steps everyone can take to help improve and protect the environment”\\nMunicipalities, recreational authorities and nonprofits in the Delmarva Power service area can apply for a Sustainable Communities grant each year.'}, {'url': 'https://www.delawarenaturesociety.org/seven-local-projects-receive-nearly-75000-in-funding-for-open-space-and-resiliency-through-delmarva-power-sustainable-communities-program/', 'content': 'Seven Local Projects Receive Nearly $75,000 in Funding for Open Space and Resiliency Through\\nDelmarva Power Sustainable Communities Program\\nGrants support clean, renewable energy development, pollinator habitats, local wetlands and wooded spaces, and more\\nDelmarva Power, together with its program administrator Delaware Nature Society (DelNature), have chosen seven local municipalities, recreational authorities and nonprofits to receive nearly $75,000 in funds to support open space and resiliency projects in Delaware and Maryland. Contact Us\\nMark Nardone, Director of Advocacy\\n302.413.5057\\nEmail Mark Nardone\\nShare this:\\nYou might also like\\nFollow Us To Be Notified of New Blog Posts\\nSearch for Past Articles\\nArchive\\nRecent Posts\\nDelaware Nature Society\\nHeadquarters\\n3511 Barley Mill Rd, Hockessin, DE\\nMail: P.O. Box 700, Hockessin, DE 19707\\n302.239.2334\\nGet Directions\\nEmail Us We’re grateful to Delmarva Power for their generous underwriting of this program, whose support will provide $75,000 to community projects in Delaware and Maryland.”\\nDelmarva Power’s Sustainable Communities Grant Program provides up to $75,000 in grants annually to fund open space and environmental projects and resiliency projects across the company’s Delaware and Maryland service area. “Climate change and its social and environmental effects are among the most significant challenge facing the world today, and it is imperative that we take the steps to help preserve and restore our natural habitat while preparing for a world with more extreme weather and less predictability,” said Melissa Lavinson, senior vice president of Governmental and External Affairs for Pepco Holdings, which includes Delmarva Power. In partnership with DelNature, a state affiliate for the\\xa0National Wildlife Federation renowned for its\\xa0educational programming,\\xa0conservation and\\xa0advocacy, Delmarva Power is providing grants to the following municipalities, recreational authorities and nonprofits:\\n“Delaware Nature Society is pleased to announce this year’s Delmarva Power Sustainable Communities Grant awardees,” said DelNature Interim Executive Director Joanne McGeoch.\\xa0 '}, {'url': 'https://www.delmarva.com/News/Pages/NewsReleases/Upto$20MillionAvailableforWilmingtonAreaInnovatorsasPartofClimateChangeInvestmentInitiativeLaunchedbythe.aspx', 'content': \"NEWARK, Del. (Oct. 3, 2019) - Innovators from across Delaware and Maryland can now take advantage of up to $20 million in funding from the Exelon Foundation and Exelon Corp., Delmarva Power's parent company, to support startups and the development of technologies that help mitigate climate change.\"}, {'url': 'https://www.delmarva.com/News/Pages/NewsReleases/DelmarvaPowerTakingMajorActiontoAdvanceCleanEnergy,CombatClimateChangeandBuildResilienceinMaryland.aspx', 'content': 'For Immediate Release Contact Timothy Stokes 866-655-2237 (media hotline) Delmarva Power Taking Major Action to Advance Clean Energy, Combat Climate Change and Build Resilience in Maryland SALISBURY, MD.'}]\u001b[0m\u001b[32;1m\u001b[1;3m\n",
      "Invoking: `tavily_search_results_json` with `{'query': 'Delmarva Power climate vulnerability assessment'}`\n",
      "\n",
      "\n",
      "\u001b[0m\u001b[33;1m\u001b[1;3m[{'url': 'https://www.delmarva.com/SafetyCommunity/Environment/Pages/ClimateActionMD.aspx', 'content': 'Learn What Delmarva Power Is Doing to Combat Climate Change and Build Resilience Buildings & Energy Efficiency Transportation & Broader Electrification Clean Energy & Local Solar Resilience & Adaptation'}, {'url': 'https://www.nature.com/articles/s43247-023-00782-w', 'content': 'Author information\\nAuthors and Affiliations\\nBluerisk, Beijing, China\\nTianyi Luo\\nUniversity of Copenhagen, Copenhagen, Denmark\\nYan Cheng\\nThe European Bank for Reconstruction and Development, London, UK\\nJames FalzonÂ\\xa0&Â\\xa0Amir Habchi\\nUniversity of St. Gallen, St. Gallen, Switzerland\\nJulian KÃ¶lbel\\nThe World Resources Institute, Washingon DC, USA\\nLihuan Zhou\\nGlobal X ETFs, New York, NY, USA\\nYili Wu\\nYou can also search for this author in\\nPubMedÂ\\xa0Google Scholar\\nYou can also search for this author in\\nPubMedÂ\\xa0Google Scholar\\n Where \\\\({GL}\\\\) stands for generation losses in GWh, T refers to air temperature in degree Celsius, \\\\({T}_{90}\\\\) refers to the 90th percentile of air temperatures over the study period, \\\\({T}_{\\\\max }\\\\) refers to the maximum air temperature over the study period, a and b refer to the slope and intercept of the linear relationship between power generation in MWh and air temperature in degrees Celsius, \\\\({Cap}\\\\) refers to installed capacity in MW, N refers to the number of days in records.\\n Supplementary information\\nSupplementary information\\nDescription of Additional Supplementary Files\\nSupplementary Data 1\\nSupplementary Data 2\\nSupplementary Data 3\\nSupplementary Data 4\\nPeer Review File\\nRights and permissions\\nOpen Access\\nThis article is licensed under a Creative Commons Attribution 4.0 International License, which permits use, sharing, adaptation, distribution and reproduction in any medium or format, as long as you give appropriate credit to the original author(s) and the source, provide a link to the Creative Commons license, and indicate if changes were made. Advertisement\\nA framework to assess multi-hazard physical climate risk for power generation projects from publicly-accessible sources\\nCommunications Earth & Environment\\nvolumeÂ\\xa04, ArticleÂ\\xa0number:Â\\xa0117 (2023)\\nCite this article\\n4160 Accesses\\n14 Altmetric\\nMetrics details\\nSubjects\\nAbstract\\nDemand for information about physical climate risk is growing, particularly for the power generation sector, given its size and pronounced exposure to climate hazards. The plant counts are in TableÂ\\xa03.\\nValidation at the portfolio and plant level\\nPlant-level actual generation data are typically considered strictly confidential, particularly in countries where EBRD invests, and the authors were not able to obtain that information for any of the thermal plants or most of the hydro plants in EBRDâ€™s portfolio.'}, {'url': 'https://homeenergysavings.delmarva.com/md/residential/energy-assessments', 'content': \"Energy Assessments Quick Home Energy Check-Up Program Schedule your Quick Home Energy Check-up and we'll help you find opportunities to save all around your home - at no additional cost. Home Performance with ENERGY STAR Get valuable rebates by making recommended energy-efficient upgrades in your home. Income Eligible Energy Efficiency Program\"}, {'url': 'https://www.delmarva.com/News/Pages/NewsReleases/DelmarvaPowerTakingMajorActiontoAdvanceCleanEnergy,CombatClimateChangeandBuildResilienceinMaryland.aspx', 'content': 'SALISBURY, MD. (Oct. 14, 2021) - Delmarva Power today announced a major climate change commitment, launching a multi-faceted, action-oriented effort to help the state of Maryland achieve its clean energy and climate goals.'}]\u001b[0m\u001b[32;1m\u001b[1;3m\n",
      "Invoking: `tavily_search_results_json` with `{'query': 'Delmarva Power adaptation actions for climate resilience'}`\n",
      "\n",
      "\n",
      "\u001b[0m\u001b[33;1m\u001b[1;3m[{'url': 'https://www.iea.org/reports/power-systems-in-transition/climate-resilience', 'content': \"Fossil Fuels\\nRenewables\\nElectricity\\nLow-Emission Fuels\\nTransport\\nIndustry\\nBuildings\\nEnergy Efficiency and Demand\\nCarbon Capture, Utilisation and Storage\\nDecarbonisation Enablers\\nGlobal Energy Transitions Stocktake\\nCritical Minerals\\nRussia's War on Ukraine\\nClimate Change\\nGlobal Energy Crisis\\nInvestment\\nSaving Energy\\nEnergy Security\\nNet Zero Emissions\\nEnergy Efficiency\\nData explorers\\nUnderstand and manipulate data with easy to use explorers and trackers\\nData sets\\nFree and paid data sets from across the energy system available for download\\nPolicies database\\nPast, existing or planned government policies and measures\\nChart Library\\nAccess every chart published across all IEA reports and analysis\\nWorld Energy Outlook 2023\\nFlagship report — October 2023\\nOil Market Report - December 2023\\nFuel report — December 2023\\nEnergy Efficiency 2023\\nFuel report — November 2023\\nNet Zero Roadmap: Overview of main potential impacts on the electricity system due to long-term climate trends and extreme weather events\\nClimate impact\\nGeneration\\nTransmission & distribution networks\\nDemand\\nRising global temperatures\\nChanging precipitation patterns\\nSea-level rise\\nExtreme weather events\\nThe increasing adverse impacts of a changing climate on electricity systems highlight an urgent need for action by policy makers, utilities and relevant stakeholders around the world to enhance their systems’ resilience to climate change. Sign In\\nCreate a free IEA account to download our reports or subcribe to a paid service.\\nIEA (2020), Power Systems in Transition, IEA, Paris https://www.iea.org/reports/power-systems-in-transition, License: CC BY 4.0\\nClimate resilience\\nClimate change is resulting in rising global temperatures, erratic patterns of precipitation, sea level rise and more frequent or intense extreme weather events. Energy sector and electricity systems' resilience to climate change in IEA countries\\nCountries that have not yet incorporated climate resilience as a core element of their national strategies and plans to adapt to climate change, need to act immediately. In the United States the share of extreme weather events attributable to large-scale outages (affecting at least 50\\xa0000\\xa0customers) over the past two\\xa0decades has been on average 90%, with at least 75% across the period and all (if not almost all) of the events in certain years.\\n\"}, {'url': 'https://www.energy.gov/sites/default/files/2021-09/DOEClimateAdaptationandResiliencePlanSept21.pdf', 'content': '©Yàº§n¦NkÖðC®ý\\x01\\n+[E\"—]\\xa0\\x12‹è�\\x11ÝZ\\x16�©A\\xadèÖ\\t\\xadDEáŠK9rœ\\n�@ýê¸#å¬ã´Z�Þ\\xad\\x06œY·¼Vè\\x19Î\\x07$ä\\x01ðÀ«tšíæ4Ûé¡_)±Òy#a´º²¨\\x18\\x1fL0\\n\\x14¾UTè¢BQ\\x12É\\n‹A\\n:V¡\\x16EôRi‹?UY\\x13!~\\nãØEQ\\x1bOµd‡³z¬\\x11<\\x1at’.þ}\\nÇÒô¼2¿V¬\\x17÷\\x17°i¿…’¨Iìµ\\'a\\x1b\\nÇéúGßÈ\\x19ªö•ç\\x17W—£PuQ~$Y\\x17€\\x1b-ßÓšì’„êÝÉ\\x15ÞÒ(ý�ÓRã]†\\x7fF\\x18!weÏ%Ô\\x12\\x0eÑÔõëV¯º…o$W°6Ÿ\\x01ûÌ�\\n\\x08¤\\x03b,G\\x05ØtöŒð*/@·½·×®c–\\nG\\x02¼w\\x172ðI\\x18ÀNå\\x03ÀwU¿¶©\\x16£¡ÙÅfpÓ¡\\x07s\\x0fCh\\'hï\\nqÒ\\xad]MÕKzD¤’pRb»K\\n{É\\\\ùÌû\"-+}/”n\\n\\x0eÿ}E»Nnna�|²]¼l1Œ3\"í�œžx\"‡-\"Z¼âB\\x0eèãÀ\\naTçŸ©Š\\n(µ(•#\\x05KA,w6ëŸHÇ6w�w\\x14\\\\š„úyJï‡š\\x064w×ìµIßI‹\\thÞFhŸ\\x18b\\x18ñÏSí©ûÎÕê\\x1aõõ´º‹$7j\\x08Ç“òo¹;ú`’8\\xa0â¹‚ÏSÝäšàïV“a829ÉV=:ži\\xadan¯5\\tï\\nªy\\x19$y\\n\\'*¬ÜáXõçŽ*ê›UÞŠº’DÆ¯\\x1fáef—bæ${YÄ‚ÝPo\\x01ý\\x12\\x07yÛ×\\n\\x15_í.—Ú+ÍVK‡¶òò\\x18á\\nÈ\\x15H\\x1b\\x02ÆX)À$\\x0f¯R>bÖ\\nk¨ãdZ‚Å\\nÅ½6;ÆÒÈ=˜ô¼\\x05Kßþ\\x15Z:C\\x1f’F[wh.&YL“Jþ‹¬Ž�U\\x02°U?\\n«ªÃ¸švò¼ªE\\xa0jú\\x15½ÍŽ©¶’M®ð�\\xad �a}ç“Á\\n\\x08>4\\nS\\x1bØá±´�Ã»Hòw˜À\\nüf®7Z�ÖífÕ!ŽÞÌiêÑ\\x111Ì·\\n&vÅ´Œô\\\\t8&«\\nœÑä¸½Ûxžo\\x13Êc˜·¢Ñ€9_\\nŒŠêjÆÖ\\'T°Œ\\x03ô»Mfù\\x10YÞKkj\\npòcn\\x0f%Psî¨KU¸Óõ\\tQ\\x18H13¤Ž¹.Ê\\x0f_iÏ}hÚ%Œv–WKor-ÒÙ~Ð*\\n3ÈpŽ¥¹\\n»\\x01¼3T«¶k�F+\\nk!‘Nä;”ž�žñšœ•VÛÕ\\x15ÊmÔ‰îÈé«©\\x1b95Y\\x14Ch\\x18C\\x1añ�#é3\\nü–|f«7Éq¦_É\\nä+`H›NìFÃÑR|qÖ\\xad\\x1adðé†V}²)�\\xa0iqÀ`ZW#\\nù UCXWi|ëk\\x05“\\t¸ô%qõ�^\\níá�[Y–rÃ¦Ã\\x07á[gp[�¢\\x16\\x03>›ç Ÿvj[Oò¶×�M\\nžFP\\x01éŒí#â\\nDù3\\n\\xadº9(ˆ«“Ý—\\x19ÇÉGè\\x17J—PÌ‡~ÙÀEÏPz7ËS\\x11D”nÕp3ud¶\\x177‘\\nŒHÊ¼çÐÉ#êša-\\x1fQ½µ�=\\x03,‰\\x1bžâzfž¾’[Ë«‹‰€Œ‡*ØéÎ6üÔÖ�\\x05Ö¡y\\n¥¹ÌŒ|ª\\x01âœŠ½;vŽœU¶ò„¤i-ãëVó\\x07Y$´•Iœ¼`\\x11Ÿ\\x02vUFÕ¦•Ä \\x14EhÈaÜBç\\x1fR®¶ws$×\\x13¶Õ–y÷\\x02>•Æ@Sì+‘�\\x1aö©¢„Žä\\x08U<�ò\\xadŒd¨•ƒcÜ\\xadKºì¸Ó\\x0fM3ONd\\n‡�NHâ‘ÎÇÜ\\x08\\nÄägå5ËWQfL¡r\\x1fvÏ\\x02§\\x04\\x0f’¤ôk\\n{-B\\x1b82a;å�ÉõUý-§ÜA¨iËúqÄ¹�{0`yÃœÕèSRz\\xa0u»ŸO\\x06¿—Ê°É\\x04´‹¹|\\x05\\\\eRºl\\x13Áéà\\x18‚ŽŠ¤\\x17SòŠ¥Ë\\nM\\x04’/\\x12\\x12S÷¯\\x15l‰fûµ’î\\x0eJ&Hêp\\nŠ¾¤©¡\\x15È¸¨AŽ)ôè�Ñòr(”Ê\\x0f¬O•ÜT{ÅLëRÉww¥‹V\\n·0Ç ”\\x0e\\x10)Ý·à\\x07JŽ\\x16èoìîeÃÇq™\\nŸW%P\\x1f«RÚšE¦j6\\x11ì&(’V~x<•\\x18øRYÖ´k3d)¹K®ÒÃhŽ¡Z3\\x04§\\xa0.Á™¾<ŠvxcŽ?.Q|�ô\\t\\x13ƒÝ\"‚£ê®h\\n-,ßT¸I�G*ƒ%±ÏY@È$ûG\\x14;j2Ë\\x1bC$‡\\x10–òjxÁ_J˜«$ê³\\x17E(\\nÊ*Sœõ\\x07è`$E˜*LªÑž=lƒ‘PÚÔÆXb·sö�\\x08€wíã4m\\xadôQZ\\xadÄ¯È�1=Üp~z‚º•¯õ&dÊÆ®Ì\\x0f³\\xadZŒžâZ!×· �IE½£ˆˆF$\\x02zŠí\\x15ûy;»p¡£žpCã¡SÎ+ÓÞˆ¥��\\x0e±ÜaIûoLŸ€¨ýUæ”³‚\\n–%\\x17»&–ÉdÝ9D˜z«N–Ð4Q*Y¬!½\\x16Îïa<ÔÖ‹\"\\x19|Ó,ä._\\n\\x07®>J�´2.âüŒóáR:_Ð5a:7¢¡N:eI£åTÐÀÐâ´[n\\n5š\\nw9\\x0f\\x18aÞzUsU¸Xá0pY%`QØ…\\x08ÄóíÅAvÎøGÛ\\nˆ´Ø\\x12=ÄîXÛ1\"°ÜrG\\x19\\x03Â¯CO(Ôaœ\\xadIª\\x15à¶÷7\\x12³\\\\®åˆ}\\x0fo$.ÃŸ›¥Y¬uÃ\\x15¬V¶\\nïq\\nÞ]™†P\\x10¸\\x05G��ºª:móB²[K(\\x11\\\\Lë\\x14`zl¸\\x03+ì\\'¾¥l®f†ê4¶\\nœa]cÎpWŽOy=õ9V�Ë1Ù4Õï9£_k\\x11j\\nŽi/x¹‚R&…@�%�¢ÙïcŸ©U\\nÏÚ‹íA\\x12w+\\x1aFì‘}30\\x04ŒûñŽi:ž®ò}ãî\\x05T’‡\\x03\\x01±ÓŽ¤\\x0eú÷e¼´zÊê6a\\x11î–C\\x0eü°-\\x10ðñ=\\x05\\nŠ,äÛÓ/UIÔ�ÄÖ·ƒRÔnï\\x18˜§“e¢ƒÀXÎ\\x08\\'Þy©-E&±²ó+‡Iã“dÐ6Því!ð~õ<\\x11ßŠ�íq²‚ÕâMÙ>RâMÜa¤ÁÀúõY¶Ô<®�\\n�Ø_.\\x02¾÷ê£q%G¼b¢�¼“9ÜÙ@º¹#Î-ÕÎ\\x19¼88ï«\\'áY¶×HÖí\\x10\\x18b�¡›=_##ûA¡-{6ÿ…¼“ß)kb\\x19ÕÇ 9\\nê\\x08ûôÕÛTšÚÛ°Ze´H¥î.r¬\\x06\\x19p…¶óÐb�mZ¢•�ÁJ“±SÕIšêVÏåü†ŸåmÚS½ÇT\\x01‡\\\\w7…%e½M?ÍnbT�HMÈz“Á$\\nriÝn\\x1b›v[èUÊÆà²çÑ\\x07ÄøøT$wWš•È»¸S¶6\\n)`}z=˜p\\t;I\\x13\\n\\x7f{uªy\\x1bwÞ�³C\\x12†\\n„f\\x1b‡=\\x01ÅZ-î®4M.þÔÛÅs=ô)\\x10i\\x08ô<“ï�$\\x0eHéU‹KAªµÌ²Úz(7™w€QsŽîO&¦àµ{{8à24˜\\n\\x17äóÈ¨TSUÏ1\\x15VéR¦A;;>¥Ú�_îÞ¹´³‰b”^L$m\\xad#¨Ú£\\x7fP£;°*1¤¸:•åÕšºÅ$ìZ%&m¤\\n3—=Õ3¢ön95‘u\\x14~q#¾ë„–FHÙ\\x1b‚§o$dô©~ÖhÝ\\xa0ìæ«udb¶HåU}�ecXÎ\\x10íÈèHï¡V–O(é•\\ng\\nKuäÓÒ)ú…Ö£tsºO3HÏ”h~ÞüÄsÎ\\x0f\\x14½,Cu\\x0f�²XÕíÙw:õ`{óãÇ}\\x05¨Úêz-ÀH%\\x11\\xadßÑ\\x11\\x01$\\x16\\x07\\ný=†¥;:ÖÒ[7“`.�Ìã\\x18\\'áóQ2)5*#T\\x0f,ÚP\\x15¬[®™ae\\x02zY}Ì¤õÜsÏ¶¢ï%òÚG“Ú@}B2\\x0e8P# ŒûI©\\x0eÖÎÐÞC\\x13}¦ÑBÙ<`2‘�òsQ\\x02G¹xm£È�z» ëè\\x122>Z#¦rs«’”¸¨:îéž\\x14GÚ$Þ0ÙÀ\\nœc\\x14Í¤òÃ6\\x01n`¥O\\n‹qî¡u9-$‰¤ò›\\x13Êù\\x15Œ�L®ÝÞSÃ¯\\x14Â˜¤œÁ\\n»#Û�ÞÓÏ>úèV\\x12%LÉ;«_\\tˆt8\\n\\x14d\\nd\\x0eÿ};ÙÏ(5‹iL…L{G\\x07\\n‹\\n¤Ÿvj&è¬�1CÂw{º|+–÷7\\x11Ê€zÏë\\x10qÇuK§nÙZE)wËÆKM…ÌqêšŒRáVYd‰KtÜ„àû\\t=õ=¬\\nÅÃ-ÄRÇ×\\n3\\x12¶HðÈ5U–â\\n™^òR\\x0eôUe\\naÀ·¿Š’Õ/ã¸Ò¬£B\\x1fÈÆÛÏV\\nz“ð\\x02–Êd›ª˜éÌ=\\x19D•CdyªZÎ\\x1bvèŒy^íÙ8÷óPº“Ãi(\\x11n_C\\n\\xadÆX\\x0eïe\\n§ÞB�I\\x04ûž6�ÊFýâEõHö\\n†¡¯¯ZúðÍprJ“Œwž¤š6N†ŸN\\x05UR€nä!ád8G#pöš»vzâCn¶Š\\x01\\x0eŒ»{½lü¼\\x1a¨H©%²ä\\nÊÛ³à;�Oè22\\x08æ‡;ãupð(Ÿ>Ô¾Ú~\\xad\\x0f)‘yJ�TÜ™z+TÒ‘ÿÓ/[ó”¸x¢@…_ËE\\x12øîïÇ\\x19\\x18ç\\x15\\x0fªë/y~ò‡0ÈAH÷œdÆ¼p{³’}õ9%ìãG’æoE£–E\\\\X7”#q=àŽ*±c\\nZ¥é»º\\x1büš\\x11\\x1a7 ïõÏ†1�Odb/\\x17Ê77\\x16kmYõ¶�õ\\x17ßyˆ\\xa0òƒ�)\\nÒ»¹úa�Ïxªÿi\\x18Å®is6\\ni\\x1bÆì«€ª\\tú¾–(«‹…œ\\x07P\\x12xÐœGÀP§k}CÅ/^Ñ^îî+•v+k/•™\\x07\\x19ÊƒÇyç¥EÔW+\\x07q7ÕL2zÚ9-´]N[{…‰M«,më\\nå+œppÄ�mR4h[QßjÄ\\x02äÃ†ïU\\nœð\\x07\"\\xadZT¥;;\\xad›¸dò~AfV`Ûw!(\\x07‚Nê§éjör$Ò3\"º†f”\\x10¡[%‰ÏŽjÔ-»WO+[Š�E…Î«\\x15›h¶àG\\nÌgs“· \\x14\\x19>ÜñDjWºuµ�¶™g\\x14p½²\\x16»¸~³K)Îæ>p¢ôF‘~‰e7“Šr\"- \\x01^7`7\\x10zc¸Ð}\\xad’;mY´kç‰í´‡{x6(\\x13N\\x15¸y\\x08ú‡Â¹mêîéä´Õ$e…¬R_¹‰öˆ²’Ý¸å›Œ\\x05ð^x\\x02ž‚ýd‘ììƒ PÅ˜�JL\\nr{†z\\n\\x06ÏP-1óÐ¢\\x04c\\x1a¢ð¨Xep;Ï‰¢`I#Õ%Š\\x14(6e�v;ù¢:a^RÔ„Mq8·kTÚÛŽàÇ\\x19éè�g^ië-R[h¬¤†R“[»c\\x03¦Hæ›²°¾Õçk=.\\x06¹¸v%\\x161Ÿ�²š¿ìæ±Ù\\x18÷j±™\"»\\x05…Ìgr+/\\x05\\tè\\x08#\\x154ªU*–ÊÔÝ§R,zÆ¡\\ný³ÝLìÒÊ¨\\x10“ÆáÃ\\x1a¯[ÞJ.]\\\\–X¤Pò}¸g\\x18ù(¥‚\\x11eaq#”Št%\\t †%ˆb<:b�nlÒâa\\x11S¼\\x12ËÞ\\x08ª*R¸»w&[mm%ó\\né,Ê•ŠxdË÷§ ®=ÌNj§÷P®ÓL·ìÌJX³=ÌÒ¢¶séy8ò;»ê×Ù‹«¯»~ì*‚¦-îÇ’¬\\x1b\\x08}ÜÖwÛ«¨®ûS`›Œ‘ÛÄ¨ªG¬Ã,F=¤àPòIè�žo/[Nžž�u;éî_Í#H@8\\')\\x1a‘‚þÖ\\n\\x05\\x07\\nµ¼Q\\x08£\\x1b°\\x01V?Mž1Š2ïL–Ñ^Vp÷aD“mõS-�&=Š(2—SÏˆý\\nD\\x0e\\xa0\\x0esMQTÞ\\x01¨„…éóOi,ÈXªr‡ÀƒÜjz\\x19¤�È\\t\\t;™A^¥U�9÷\\n®YD×\\x17\\x0f\\x14™b�–ÇÓ\\x13Óà:ÕÊÆÂy-¦yˆEUR�Þû\\x08%}æ£+Ušt›:…j®œNë~o¤\\\\Z^ÛÚù ±ÆÒ\"s•b~ˆO³Š\\nûX{Éïµ-P¼Ò^öY,\\xad#n\\x189bO³?=EG2:¬�rìì\\x01>\\x15l“¸\\xadIŽÛ¾âðÈ0]A_hSÍMè·lŒ\"\\x18\\x1bØm>Ãè‘Po\\x17“g˜rUq�ÐdäŠ™Ò¥I\\x120Ê7\\x01‘ì\\x03�jùN\\x15+N%Ò\\n]½—½³�s$rÀdÚ2\\x1a\"Ä\\x16Ï°š\\n\\\\šDìÇ“‘ÆVå=\\x13ë0\\x08ÀãØ+�“Öç[]jÆeò�`r±�YÇ\\xad�|\\x07Z¯öŽúV–Î\\t\\x1f$D\\x19½�†yöóÍ+“¢rñ¤ä=uî\\x17†+ð4�|†1�Ï£÷¯}KÀˆn¤,1µFÏwÙ¨û\\x05\\x0fy$¬¸\\\\\\nG‡û4lÒ\\x11r±GÈeÉ sìÅ8Ö\"¯\\x1b´‡/^Y�\\x10\\x1fE²Ì\\x08IFÖUê¼\\x0fD‘ÝŠ\\x0fDÔ\\xadí¦x{EÙèõ„w-+ººÜg9>˜ëÏ�i�4\\x07�ï´t\\x19È\\x14<®®ûÒWR:c\\x1fb˜UM1U7éàÁU2šw,ÄF½Øßº{Ú=2ÛSìÜRéW°¸i\\xad¥GbÛ¸Æ\\x0f\\x04�\\n«é]‰Õ`\\x12þ\\x16\\x10É:¾å\\nŒ\\x17)¸‘é\\nFjÿmyu\\n‡ÊÊ®�\\x02íÁÇ·ÛE~\\x16Ì¯µa\\n\\x12[§Â¨¦…\\x18\\xad^%›Uj™\\\\Óeí\\x06…mæú\\x0e‘\\x05ªã\\x04—Ë‘áš?îäí\\x04¶�§êº\\n½Å»ú&=Ã\\x04\\n¼\\x1a–‹[±˜à\\x15Wé†ãç¢–â\\x16î\\x07Ûï®u\\'�\\x07+³™æ©\\xa0iWÉ\\x1aÇ§Üé¦6\\n¡\\x18K\\x1aóž\\x07P=Õ\\x07sÙ\\x1b\\xad=¦»!nRg;]\\x01Ü\\xa0ŒTŒÖºÆ\"}P+ÛbëÅB¯TD\\x19†›zú}´HË1uŒÇ DÀu=Aû5K’Vºíšê\\n\\x0f”\\x05dxãb\\x01Ú\\xa0(\\x18ñð\\xadîæ8‚3áxRz\\x0eáX—fà´ºíF«-ÄÂ/\\xa0¬q®7\\x12]‰;sêã\\nh”*Zª¤Ÿë!·)IÛ«\\ngTieóTµI\\x06Ö20\\\\``š…š×TÒ#I\\x1a(vyCo¼¹,ÌßL\\x17®«ä·o¦²%öª&´]¤¶ÀÌ¤ñ–ãÒ\\x02ˆÓ´Í/U’mfúU›Ê†ŠØ².|˜ã~ÑÀ\\'æ«QvkŠÔfz]Î§o©yÊ[Á*ÄHònN\\x1b=äŠ¶¾¯{&‘u.- ˜\\x18Ö;8÷³ÈK\\n\\x04-Æ|jÛ\\n¯gZ\\x15/\\x18.=\\x17\\x11Æ3¸phKM7²úŽ©#™\\x16(í‡“‹zà´§×nxÂú£Ûšµv+½ÒÈN¥ƒP@G\\x07kæµ†þ)íâYTâ=›Š`Œ†9äñD^vwµÓ@\\x13ÊDVvRò(\\x19\\x03!·\\x0e}\\x13ÅX¦Ð|Âé\\x16Âhš\\n£�“€²\\x01À\\x18\\'¯ÏAj–]¥°À³RUÎÁŒ?^¼{ªŠ”ÝÐºyfÜ^P5{]J;–Y$òäƒ½qÑ3�sí¨™n×ÍÃ™v�à2\\x01ÈÁê=¼U×´wbdHæÓÛÏÂà¤ ¨xú\\x12ËÝŽãT9íãC‡Cå\\x1bœ\\n€g#\\x19¦rQ\\x10\\x06©™d¤\\x08\\xad\\x06£\"£y¾èæˆ¿\\x07\\n©$\\x0e3Žê\\x0eÒQo«Å2\\x10\\x02±\\nßIqNé÷33\\\\ÙÇé+ÛIµOBëµ³ïÀ4\\n‚N/�Ü±�…OPzã\\x02ˆ©Å\\x15os\\x08Õ\\x13eÒ´˜QÇO³Q×™ŠU¹C–•r1Ôwb�Ô\\x0f–�¢Ý—F?\\x03ÝQ/”‘P�p¸Èñ¨Ê+ËdÜ¢NÄ;Y´ù!ˆõ‰ï\\nô*2¼>Hð|®wxä×mî\\nZ¼ ú9Á\\x14L°ªÛÆUq°‚G²¹)]8Œ\\x1fO\\nƒÉy&\\x121\\x18È\\x18ï\\x02Ÿ±“\\x13\\x07\\x04\\nþˆðæº�Y~\\x15SÝ³\\x1f(²*D¹ÆCrÇ\\x14Å¹2Èª;™@\\x147|—X\\x12—r\\x18ÔZHC\\xa0\\x18\\\\õ\\x19Ï4\"Aäæ\\x10�•±?\\x0e*}{+ªßNÓI\\x12ÄŒ‹µ™‡Nòj\\x11’k6ØÜÇž\\nû\\x0e2~J®N¥7\\nU7\\x08ÞÐ©Sé\\x07Èaí¢tèî¤ûDíhÎ\\tÊ®,‘1@‘Ü*\\x10\\x1b �}ž\\x14íüK#\"ò\\x02�™ú¹¦%•†Â½\\x19±þÅ?vÎ¬±òQÀÃx\\x11Ö¥£¦ô\"æÔ,i\\x13\\x11¹£\\x07Þ;ª<Ù\\x12‹\\x12Ž3œûªFêXÃ#\\x01‚T\\x13óS6Ä—Üyd\\x0f\\x1a„¡\\x13-\"SF±Te~¤�¬sS\\noBiþˆ�›¦8\\n?ÊGöÚ«D\\'9ÏÿÕ³ÜévÒÇµ7Bã%dˆ•*O=:b€Dí\\x05«…‚ån”\\x0e\\x16A†\\n$‘ÅK\\x17Ü2\\xadµGV?Z¸\\x14\\x04ôÆÈºàúÌ}¿b´\\xadEÂig\"åí\\x04° –ñY\\x06Bïa•ÝàÎ)Øõe‘ñ\\n\\x13É$äàóEÏe\\x15â�*�BàªûºgìT\\n÷ge7>^ÙÄnH+\\'QŸh\\n ˆã_@uêOSï¦Úðg\\xadiªX›¨x“Ó¥s\\x19æ™kµè9&½çH£\\x150È”7uj’FDc\\x0fÔ\\x13Þj½©YA![[Ø’4PdŠxÔnÏL\\x13ßî«\\x13Ü¡ïøP’Ï\\x19È>�ð\"¯Kh\\xadPñ+p_jZ|¾lèe\\nxÇ]£ç©K\\nÑÙÜ9…ŽÇè\\tà\\x13ñ¯L\\xa0Èe\\x0fÉúŸb¢/¬b’MÆ0Ç¼ƒµ�·4EM5cqFÚÀ¸Ç2ºgvE-e�8$xU\\x11.5\\n2RÎrø\\x191·\\x07\\nÏh£m{K¸l¸ô\\nc9ñéQ\\xa0¼Ì�\\x11‰S·ßŽ´ýÄÞBRc\\x1bK©éöîúa\\x10ÜÆ<™È\\n†\\x15Îã¯�ˆö>œ\\x16\\x169\\n‘Ÿm7\\x04rzR;u;qîëK‰Àqm·\\x03aÃxâ‘\\n6ýƒžñÏ‰©G9‘Û‹…˜°\\x03;€\\nö)Z}Á†R\\nd�T\\x0f\\x01ÝI\\x11\\x05»Ú¾¢._>\\'º˜iˆV*9\\n’G¶¡�Š‚WM”Ï|Ò“êãŽî\\n.[ý×\\x12N=CÀ÷P:|¾bD›K\\t\\x17>ïÀÓà#¨�¶€\\\\c\\x15VrP&R© �}Y\\x08jjùñ\\x02múVÃ|ië\\xa0|à)\\x19e;�\\n\\x14Üã;Ôô“œÔ¼\\x0eÎ\"ê›(é\\nó†9Á¤´ç£\\x1f–‡‹Õ¤ËÓä®I\\x11,åÄÄ{9¦šmÌ¨F|Ni7}\\x0fº„ü¼\\nºW\\x10Ýá—‘Æ\\x19N\\x07\\nî\\nzÐWv~Z\"ÞÿJz7ËE]z¿~šm}tû�Õ4²µg#\"ü,-”¢£0ë´Ž”\\\\\\x17·\\nŒÓ)M¤\\nžü÷Q?Lß\\n\\x0fRü‹ÏëçØ«;Ê«ƒc»V]êr\\tã\\nÒü©wÔN…ù\\x03o¾êCé¾Z†\\xa0µ-´U;w/•–Ú\\n¬ž’¯ŽöÇÖ§ìn¬\\xa0C.ª�ç\\x18Û#Ê¤‚:„\\np(NÓþJ+/t\\x7fÒ•9®~@Ûï“óÔ4Y¸H\\x02ÿUŽêâ\\n)&-\\x14Ž\\x19å\\nC,xåzwôÍXHŠKq\\x148\\t´\\x04\\x03\\xa0ÇL|•GÒ?!\\x12}ðß1£\\xa0ü�A÷ÍB9\\x16¸nQÐ1#‘‚\\tï\\nhAq\\nÅì“3®È\\x07’@HÆãëŸ˜U*^’{Ï×¡O¨>ú51\\nâí{-œl“G*©C‡PÃ•n´ÃÝZÁ\\x19“Î\\x14•%°\\x1b$ã\\xa0ª�·O¿ÇÏO¯¬ÞáóÕ‘K*I§Ô\\xad<“Eq0e™\\x0eð9Á<œT\\\\Z¼åJJù�FÐÌx$tÏ‰ÇJj\\x7fÌ7ßmóP3úÏ÷Ð©e’‚Æ%½¿´XÕ£´„s×sœwû(}\"q\\x0e±5¢\\x01ŒŒŽw\\x15Á&Ÿ°ü‚�wÖ\\xa04ïÉC\\x07ß\\x0fó\\x1aâ¯\\x16µE†W�r¤Ó\\n4œœŸÀSç¥0ý\\x07Æ¯J\\x02ØÙžL\\n“Iò²ûkÍÒ½áV C;ó’y¤�Å†zWeõ«ÇÖøW&s9Óàs^#>/Filter/FlateDecode/Height 392/Length 925/Name/X/Subtype/Image/Type/XObject/Width 488>>stream\\nH‰ìÑA\\n€0À@‹H@\\nÉ\\x12tðC\\x06Ò˜‹íÑ;\\x05Mz¼\\x0f\\x01ã§àÚ\\nÀ\\x12>7øÜàsƒÏ\\n>7øÜàsƒÏ\\n>7øÜàsƒÏ\\n>7øÜàsƒÏ\\n>7øÜàsƒÏ\\n>7øÜàsƒÏ\\n>7øÜàsƒÏ\\n>7øÜàsƒÏ\\n>7øÜàsƒÏ\\n>7øÜàsƒÏ\\n>7øÜàsƒÏ\\n>7øÜàsƒÏ\\n>7øÜàsƒÏ\\n>7øÜàsƒÏ\\n>7øÜàsƒÏ\\n>7øÜàsƒÏ\\n>7øÜàsƒÏ\\n>7øÜàsƒÏ\\n>7øÜàsƒÏ\\n>7øÜàsƒÏ\\n>7øÜàsƒÏ\\n>7øÜàsƒÏ\\n>7øÜàsƒÏ\\n>7øÜàsƒÏ\\n>7øÜàsƒÏ\\n>7øÜàsƒÏ\\n>7øÜàsƒÏ\\n>7øÜàsƒÏ\\n>7øÜàsƒÏ\\n>7øÜàsƒÏ\\n>7øÜàsƒÏ\\n>7øÜàsƒÏ\\n>7øÜàsƒÏ\\n>7øÜàsƒÏ\\n>7øÜàsƒÏ\\n>7øÜàsƒÏ\\n>7øÜàsƒÏ\\n>7øÜàsƒÏ\\n>7øÜàsƒÏ\\n>7øÜàsƒÏ\\n>7øÜàsƒÏ\\n>7øÜàsƒÏ\\n>7øÜàsƒÏ\\n>7øÜàsƒÏ\\n>7øÜàsƒÏ\\n>7øÜàsƒÏ\\n>7øÜàsƒÏ\\n>7øÜàsƒÏ\\n>7øÜàsƒÏ\\n>7øÜàsƒÏ\\n>7øÜàsƒÏ\\n>7øÜàsƒÏ\\n>7øÜàsƒÏ\\n>7øÜàsƒÏ\\n>7øÜàsƒÏ\\n>7øÜàsƒÏ\\n>7øÜàsƒÏ\\n>7øÜàsƒÏ\\n>7øÜàsƒÏ\\n>7øÜàsƒÏ\\n>7øÜàsƒÏ\\n>7øÜàsƒÏ\\n>7øÜàsƒÏ\\n>7øÜàsƒÏ\\n>7øÜàsƒÏ\\n>7øÜàsƒÏ\\n>7øÜàsƒÏ\\n>7øÜàsƒÏ\\n>7øÜàsƒÏ\\n>7øÜàsƒÏ\\n>7øÜàsƒÏ\\n>7øÜàsƒÏ\\n>7øÜàsƒÏ\\n>7øÜàsƒÏ\\n>7øÜàsƒÏ\\n>7øÜàsƒÏ\\n>7øÜàsƒÏ\\n>7øÜàsƒÏ\\n>7øÜàsƒÏ\\n>7øÜàsƒÏ\\n>7øÜàsƒÏ\\n>7øÜàsƒÏ\\n>7øÜàsƒÏ\\n>7øÜàsƒÏ\\n>7øÜàsƒÏ\\n>7øÜàsƒÏ\\n>7øÜàsƒÏ\\n>7øÜàsƒÏ\\n>7øÜàsƒÏ\\n>7øÜàsƒÏ\\n>7øÜàsƒÏ\\n>7øÜàsƒÏ\\n>7øÜàsƒÏ\\n>7øÜàsƒÏ\\n>7øÜàsƒÏ\\n>7øÜàsƒÏ\\n>7øÜàsÃ½;€%Î�‚)ÀYJ�\\nendstream\\nendobj\\n526 0 ÍÕ\\xadáÀ�\\xadÕ^>º[G\\x08ã#©\\xad–QO~\\t\\x18m…î:›Èî\\x0fZV\\nŸâðáæC3ß$Z�\\x16´�<º}ÕTZìb^\\n$w Ð\\x05ù®Ç$€±æ\\nMº<ÁµÓ8ã0”LÄ‰»mÄ‡\\x1a•ƒ\\x12g·»e8n\\x01ßb<ÏŠk\\x1f·9¸Lk5\\x19\\x08he;�>*˜M>[ÁsÃ\\x0fO\\x12\\x13“T@Iè¹Ã¥s\\x04¤äñª�çœ¦í<öÇ‰»¼îØØÜò\\x1a\\\\6\\'Ì$gö¯ŠáÄ&žG7K¬S¯ÔOŸ‚�/i[\\nêc[V\\x1b°;*öä\\n<]\\x0eª\\x0eØúÓa‡F¨œ¦]ŠË‚ý\\x10\"ŽIŽ^;2Cô†6[!»ÙuùõW¼_\\n¹˜Ï\\x11âã5Ïˆ´†\\x03Ìî\\nÛ;P÷¦û+ô7fNLP5Ív³¹w*\\x1b—\\x1f \\x16›Û˜x_fq áx�5ï\\x1b¾r>¨Kw>¡º\\\\µbbg\\tÝ\\n‰¶ò¦QØ~Ïâáf³å0\\t]@\\x13-˜˜ãÏn¾¾ˆ¯è‡Ù¡Ùœx² É†`÷–¹‘Q\\n4\\\\(\\x0f±óHk„€Ñ5Ð&¤Å�û\\x16‚\\x14»¼&c|\\x12rg¼;Š>l—\\x19ƒÈÖ�ˆq\\x1b\\x1fPðQ0°%Épt—¬ÊÖ€A¢\\t²IðZc864[±�\\x07òÓ�álvå¾\\n’G7cÐ†‡ áØ´4¿\\n„ÐØ\\x11^5²Ôû\\x11Á?\\x021lé/”‡XÜiû\\nÐ\\x0fìØâY10\\x11¤�ÅÑ|å«Ë,\\\\2\\x07Jí£Œ\\x0e^\\x03`\\x02\\nÏ\\x1bS9K¯C\\nÞí§\\x11ùw\\x11|wèÇLhõnãï]í+\\n\\x0f\\x03áÑ\\x17T2¶i\\x0ežzÉ û@S¤í/\\nšwJþ\\x18^I4u€O�®ñ®Úöx`–dâHÆ´\\nê=V5\\n@\\nžib1ËRw´Ô_MóÛ8d¹\\x139åãÑx\\x16y–òMqŒ~ã!îf\\xa0ã»Z,íÊ–‹Á;EÁe/~v%µ¤hlf…ß¥«\\xadRÐ3û%4�G“ÁáÇîen¦�ÍR\\x10y|ûßÔ»#_(ß1Ù9ù8Ê\\x19çbøvD¼9Ì!óMlîšÖ9\\xa0Yôõ\\x12(ù\\'ûSØÌ·C1•ÌaÅ-tÍ\\x0e\\x0esZþ[^þÅi“\\x17\\x10Ã×\\n“É\\x19Û\\x05²½ˆ/‡3‰G—;{×‘+\\nÇjßPð6¹£R2ÊráF‰ŽŒ)Dx\\x0fcXátê.$ÞýB$Êú\\niÄdÔþì\\n\\x07�\\x03ÕEÊìÜ¸nažv†¸�#@«\\n¤G\\x16SæŒ\\x07e\\x12ÎT>oª¼\\x15uy¯\\x08ÓÜNM\\x07…á¿…@\"�Ö\\x07Rw£º\\x18ãÐM7\\x11×+\\nØXA¤n\\n@üí[sä=È/‹ç¿åOÐâiÔ\\x189ù.>eÏ<µ&Cf`Ž\\x1f\\x08�¡ä:õ\\x02\\x1bª€\\x03mÔÇå09ÆBéFùïº��‡—\\x11%‘ë°\\n·ÜjÞ©C‡ƒåFÎþOA‡ì]åÌ®úŒ·Ì´îXËÆXZíZZM´4\\n��>e\\x0fI•,y[\\x10\\x1aà(^ÊÀpàÖ—Û\\x08$\\nÔ\\x08\\nµ\\x7fÁ»1�›Žö—´—\\nˆ\\n•ûy&å0Ó‹m™�|Îc‰|†¨�`Ù*V\\x06\\x14™$ÌZý->ˆ\"ƒ‡‚·Íì†.\\nÍ\\x0f‘Ï\\xadô�†ÛÒkˆq\\x19\\x18e–�N\\x07˜\\x17U^\\nj‘œe\\x1bš1˜:Þ%›Â^Ö†ú$\\x07\\n–€9…sÄ8¨ã|8˜A\\'mA¼ïÀ¡aÆ·$\\x17�\\x06Àrõ+ŽÈ½ÐÃ!s4´¼¹§ÉsëéÆ1µ[ìLvs\\x16c�$|R\\x02Ç\\x02ÓÊ‡P|B>lÄQ¥I™Å¾K\\x18t`�EÚ\\xa0—·’\\nŒllQ#\\x7f:\\\\ùéêkÍÄ\\x1b\\n¶`]ÆåŸ\"\\x1f²p\\x04\\x1aMpìÙžý\\x0fnŸGofÊ£�qù¸Ï¡$d4\\x03Oåiü¬È8{‹u8¸\\n«SäòÇ�˜Þ3’W\\x1aÎ–-…†òØó¾Jò\\nlß’G”ø$\\x11»mdj\\x06ºíÑgÜW‹\\n×\\x02Ó¥\\xa0zì…\\'…vß+\\x06/’G�öÅ&Îcœ\\\\Á[íjØsÕKÃò^É%ôZ×PÝÚ�z x(Ç1ç•ÐíÃRŸ<\\x06¸\\x02Öž@‘²‘ÅûEø?ÃF\\x03àŠ8Ã@\\x0ffï\\x04s ø•�äñÜœ£Ý‡\\x12]§H¾døú•ßg¤ÌÄ•�šF–\\x10íBî�@Ÿ’ÏK\\x0e;Ú3Ž�ìÎÃà�Nï\\nNýz¡|žÅçX\\n-Ò:Þä-\\n·Q²loÉWñn(q\\x03[\\nzŽæú\\x01æ¶�4kDÔoê—,ƒ³™˜\\n‘:ØÃ¬Ð6U§\\x07Èáùn?/\\x12Vû4QòD|/�·Š5À¶œÞžJLPH\\n\\\\Ø\"qåR6ÚG^[«F¶YeÏÅ\\x17d\\x17•�\\x1bŒŒˆµŒ\\x06Æ¯œGß¥\\x12N,\\x18òÆ‚y\\n;ù„]™Ø†É\\n”ZÍNÔHÞ¿\\x1a/�Uc°\\xad-ÚWoÔQ\\nµ\\\\uôb\\n1P£|9\\\\]àc¶6�(¶è›æR²xG\\x11Åh\\x13â>€\\x02Ùé\\x0fÊDœ3²Lá²w‚W\\x1aüR+ÇáÒ\\x067Ò,k‡2H\\x15ä:¨êsv15\\x11pl4ç&M¦hXZ\"{5Yô�\\nåÌJuCÝ�tv\\'ÇàVË•4sÄ\"\\nkô€\\x04Žh¿2<\\x14\\x1fÀÌf;WtË=hZÙsn1Ð4éT�\\xa0ág„Fr^á«I\\x03kÜøýô¼\\\\Ùe\\x14ê\\x16I\\x07mÀÞÕÇi\\xa0y,lqêi\\x04\\nè!¼n\\x11Ä5\\nk€;�í«\\xa0òM†{x\\\\„î\\x13\\x0e(#k\\x03]{rö©Ü;Š³1å¤Qé}|P”¸ùÌG\\x11.»ûô¤àde@Çw�ÒFÚŽÇØ§–8åŽî-\\x13cYY\\x7f5E’2ÓEBá\\nU™\\x15\\x1b�¦\\n×sÙa5Ü´\\x14²\\x03G0“3ìÓ}ê)`&\\xadn-\\'´\\x02|ÒÚtt\\nµ\\nÄ\\x01æ\\xa0ÉÄb�å…ôAªõ§Ç\\x19Ë€®\\x1a×\\ncÔž\\n*¶<—3‘°Ÿùa;\\x10’``¹d1ýŠáÉ¡tW];^\\x05:ŠO¤ê\\x04ÚÁ0HÌ7²àË/6]U{t6ºXÞ¡p±¼©mÌñ’þÏªIËtNØÚçrÞt¸a\\'’k�¹£¿‚\\x0eyä\\x12™—«™¯%\\x01¬�ƒ©µ¹\\xadïn…yðºFÐqiñZ\\xa0\\x16†[ê¼%µ^ZZ(ŸjèºÙ\\n\\x1b”ý�ºçxâ= =ê\\ndp\\tM\\x1aŽû¡0\\x16›dr•Ýo>\\n0’¶\\x05,É{\\x12…\\n»ß×Î\\nJùCy\\x13\\x1a\\x19ãºåGÔ¬ÅÊ[ÏHTœ{�ËÂÙû\\'\\x7fv$¶ÉF½\\x15pÐ×rQ3ð1òý\\x19X\\n\\x13éÎ8Îþ\\x013!Þ\\x15Å²ÜÉ�\\x1b] c,ý‘o@}JN\\x14óñ¨&cÝ¤º€$\\x11^jó�ãGÙÉ;ü&�Ç²ì8ui\\x07¢¹ã\\n\\x1a\\n)‹òþ\\n*1fH‡Î‰ãâÂ«ž¦\\x175\\n±3Žà3ãd¡¸Žpk£\\x14d\\x1f\\x7f©U\\x1a\\'à¡á‘¸ÕzO6Mø+ž3Â;ÂÃÞ–íéVÚHòê«Î¶2Éïèš Ý7Âºªiç\\x13\\n^‚u½\\n’Í5H4±§ç4ò¾©ÉË±¾·¢¨y;Í{\\x04³9²KÝ\\x10\\x05�&À\\x07©\\x01Gù Ì-h—O¥Ìny§¾{\\x7f\\x08n�nÉtmÕ4mq\\nFû\\nIÖ¶)£Ô\\x1aê\\'vƒ¿ç\\'†\\x18Ã¶ï!æ^H\\x03óy$³ˆÃÎH-x6Ú§´úÆÅm¬g€9\\x14±¸\\x06€C�Ù§sí)\\x0eÈ\\x01Å¥¡¤\\x0e¼�õL\\x18\\nÂ^$£óMn|‚V&s~c¾pØ—\\x0eh×F7´\\x16É\\x1f-6BÒ7&‡_\\x04ôx’5†Ë\\nŠ\\xa0h×‚ŠüÖ™\\n\\x14�\\x03X½öòæ’òøv\\x0e.¿šîM\\x03Ì\\xad13Òd‰¥n\\n\\x03´é\\nAô�¦ÙŸ\\x0eH¶‘B¯£�ñKÅyžœàÚm‚,8yZšÖâåŠk\\x18ÊÙÞE\\tÊ1âÜMc\\x063Ò\\x0f±GjÜþ©%ã%ì\\x0epô›°\\xadÉ\\n<ð;\\nÆ0îð\\x1b �€Jy~å¯q;Ul\\x0eÜ–é‹®\\n”ƒ¬±Î\\n7\\x16êwºÝtkŸêÒ\\x04á„÷’5ã\\xa0ëÍq¹ŒÉoyd,\\x02ÛNMƒ\\x04�¥ÑîyoG}Ö¸‰ÞÒw\\nS\\x19\\x06;ók÷k�ONÈ$uDÖSw\\nó>\\t—â|žš\\n\\x7fbO/4†¸0Ñn—\\n\\x14Þ·ÖÒÎýðÔ“‘Ã¢“Oy\\x17¥@Ž[Ž¼”3ßS›\\x0e‡0:‹^4‘Ô7Ì%³ âŸE®p\"ˆ¿Íº–Ùãn�z\\\\O#È�#ãh^XÆýí(2ðGæ8¼ã´8þ%À\\x0f_\\xadAÆáyø®k\\x0f¢\\x03ƒ‰ð£v¬ÆK\\n]¥®a\\x1bQ5v¤À÷:Ã_W@Þõàš53ˆ©àÇ¾˜fámï¥:˜ë\\x02÷\\x04ýÅ+„vË\\nH\\nr†—4z\\x0e ´? MŠo+Ü©¶Ux\\nãl•\\x1f©OO\\x19Ãkƒ·N›æ’¡Èqsì·‰7º“n¿\\nÌÉ†ŽÁ}ïíT\\x07—§\\x1a ¯‚YHvoì\\n\\x7fsSŠÎ\\x1fy¶úÖæ–ÜK\\'v\\n~gTk‘OGúží]>Zö7-ÝÒ÷äAúòÐ©co¾X\\x16$§³Ùçñ‰¬Ãéxòõ“£Í\\nåí\\x07+#?~meëÚW\\x0e¼³rÿéjGfý¶|ù¹þ8\\ngð…^Ÿ\\x0fúú£Ã´›¢Ø\\x13\\nƒûé|ð\\x1f-\\x0eæ÷)Êºáa\\x08¿ž…mÛâaß¨Cü†\\x0eGdaH\\')J¾¿0\\\\â£¡!¡Ã}�¢\\x1aÅùðÞY\\x18M\\x7fž\\x0fE\\\\<üVŠ\\n¬{\\x18Áe\\x14Õ¼d\\x01|ö\\x18�¡#|äÑ\\x11¹KQ±u‹CüÔ|´´-\\x0eÉ¡ÿo´í^\\nÔã³H�z4´ÿu\\x16™Â\\n|¸0²¿¥¨Nó\\x7fÇ’•�†ü\\nEØ»Ô?\\x1f¥›‹CYüßaÙÐâÑý\\x0fŠêýçÃXž¢¨>Ï\\x02¸û\\x18�ñ\\x18ÿa¿^ƒ¢:Ï8€?ÏyÏû.\\x10‘].¢\\x068g\\x17Ö\\n‚\\x1a“&Æ\\x1aEEE\\x11DÄ+\\n¨\\xa0`\\x10Q©&\\x06AÑx\\x17A�ñ\\x12\\x15/u3±\\néŒQkbIf’8µI5ÑšÆK\\x12\\x17/\\x04E\\nA�.ìöÝ…ÔKM?¤\\x1fÚÎ<ËüÎýì\\nþçÌû?K\\x08y²\\x01¹±Ý¥3\\x03£\\nRñÀ ù›dpä/°ògØ›ÅÅ´Øò˜û�\\x1aò\\x16ÀÐaÒi€ø±ÿ™„ˆ\\'XÞlxÜ/—T)}ý¿!yj³”Óÿ]£\\'Œ‘ïëãäµ¤–\\x01LŒ\\x05H“ïWiòžfÈ÷™\\nù\\\\M\\x06B\\x08!„\\x10B\\x08!„\\x10B\\x08!„\\x10B\\x08!„\\x10B\\x08!„\\x10B\\x08!„\\x10B\\x08!„\\x10B\\x08!„\\x10B\\x08!„\\x10B\\x08!„\\x10B\\x08!„\\x10B\\x08ùy\\xa0ºg\\x10\\x08Ì½¤„�P|Ü\\x1b\\x10Zö<ø\\xa0\\x14³…,Ÿ-b\\x1bØ|¬C\\x05ýÐˆí1\\n;a\\x12ŽÇ‰˜ƒ¹8\\x13\\x7fƒsq\\x01®ÀU¸\\x1aËp\\n¾‹\\x1fà‡ø\\nÃOY\\tËc‹Ù\\x1bòú½¡\\x15\\x04C\\x18ÄA\\x12Ì@\\x15\\x19r4\\xa0@\\nB\\n54c8¦c\\x1afàd|\\x15‹±\\x08\\x17b\\t.ÂCx\\x10\\x0fã\\x11¶–ífï°ß±rö\\x1a[‡›X\\x05ÛÎvb½bPûƒ\\x1f¤¨ÃÔAê`5ŽíW“Õ\\x045E\\n©¬R\\x13ñ$~®Ž@_\\\\Ê\\x12Y¼:D\\n.Öª\\x03Ô$–ÍrØ8y—8xÁp\\x18�ËY\\x01›ËÒX:\\x1bÏRÕ\\x18u\\x14þ\\x05ŠÔNl/ËdYØ\\x15\\x07³2VÈ&³)j/0€\\x06\\x02Ì\\x10\\nÏ@\\x0fx\\x0eºC\\x02$Êÿp\\x18L‡—!\\x07§â]EQ|\\x15\\x7f%B\\tV\"\\x15M‰ÂFPÛÉG\\x04£äÍ4Èì\\x01|¡HÉVö³yò>®d«ÙNu)ïÆGót¾Œ¯åïñc¼–7ˆ\\x10á2\\x14{\\nð:êåjÝ×ø±ñ˜ñ3£+äHHUhUèq-H\\nÕ\\x06j\\tÚ\\x18mœ–ªMÔ\\x16h\\x07´�´SÚ9í¦Ö\\xa09u£nÑ#ô\\x0ezwý9½—ÞG�ÕÓõYz©¾A\\x7fW¯Ò/˜¹9À\\nlÖÍ\\x16s\\x07sWs\\x0fs¢9Ý¼Ä¼Ùü¶E±\\x08‹ŸÅß\\x12dioÑ,�-],q–I–¬p%Ü\\x18nŽ˜\\x13Ñ`\\x05«bme5Z\\x03\\xadm\\xad;\\xadû¬ŸZOX¯t,ŽÊ�Ê�*Ž¶FwŒŽî\\x1a¼ç«=®½Ûöî°µ·™mËl¥¶ßÛþ`síKß—åP\\nÁŽç\\n½\\n}\\ný\\n±Ž\\x0f\\n®Æ)�\\nM}›ê›\\x1aššœáÎ\\x02ç\"g£Óåryž~_Ð¡BÉQ*Ù|¶D¦UÊv«Ëù3|\\nŸÄWðrþ>?Éo\\t\\x10a†$¯\\n¯ƒ^§eZ\\x15ž´N†”…\\n…Ð\\x0fB�Z[M×â´¤–´Òµ…ÚAí\\x13íŒvA«×îè\\xa0û{ÒŠÔ{è=õÞ2\\xad4=_/ÐËô\\nýpKZm\\nJ+Á<Ò¼Ø\\\\öÏ´L2\\xadv–°–´2,™ž´ôˆŒˆÚ\\x08×#i½c=îIknTFT^TA4´¤urÏ¹½12\\xad`›n³ØÖØÊl•¶»ûºïËt€#À\\x11êè)ÓŠq\\np\\nrœjLk¬oêíIë¾Swæ;ç:\\x17{ÒB×mw`üËæÁÃy¸y\\nX\\x1bX\\x13x\\x15Àg½{ÍgãÃ\\x03Œ+×û¼÷9ï3Þ§�±Îþ×–=¼ïÚëò¯äIÃÒý”êg\\x01ê¼ÝËÕ—êF¸çß•¹§×wØ+«{\\x02ØKìÅÕ]ªC.�úéœëh�·\\x0fµÇÊïÝæùönöð‹\\x0e€‹Õµckãk{×îvo\\xad™X“R3¢&±&¾&\\xa0æ)€«5W¿po·\\x7f\\npC¹�u�ßtÎMÍM�¾dúâ)\\n;$;8»Mvà´\\x13™;2·\\x02hiî£ƒæ\\x04Í\\x0ešåYº\\x17X\\t\\x10œ\\n<=8ËoWÀ\\nîm\\xad�5�«r,»$Óšmƒ\\n©\\n�†^Þ-×ê\\x13\\'%ûdËé\\x16Ÿ/ZmhUïÛÞ·Óã)øæù–øUú\\n1ªÆÖÍ[ŒmŒÉÆ#Æ3Æ[Æû¦0“ÅÔÃ”ìÞnÊ“^1\\x15z–\\nMErZi:Û|ŽÉþà\\x1bMgMçM\\n¦;?\\xadû{ø·´„ÉùÐ‘wü}\\n½šæ½&§¿QžÓá_ï™\\x7fäcëaR„ÿè–µ±\\x01îq\\n\\x02v=8\"`{À\\x01ÏÂÿwÿ0\\x16ïi�=l?›ÉÊ\\x15\\x03ÛŽ\\'Y¶:D^}…â+G“AìGv\\x0fëÕd¶Ž\\x15*‘ì.~ÎrÔ(5RíÁ\\x12eO\\x089n{yZÌOöX¨l2Mv@÷–\\x0exZöÚ0O\\x0f\\n‡$µ/¤@Ž§\\nf@!ŒÅM²íTÙwB6ž�l£ Ùwº§ñÒdç¹\\x1b/Tv^‘l½…²ñJÔ\\x18\\\\*[ï�»÷ðÏ¸Rv‘\\x0fzÁSè\\n\\xad±\\x15\\x04\\xa0\\t\\x02Ñ\\x1fÚ` \\x04a´Ã§¡=†€\\x05#\\n\\xad\\x10�\\nÀŠ\\nAG\\ntÂ\\x11Ð\\x19“!\\x12GB\\x17L�hL…®8\\x01žÅIð+œ\\x02Ïc&ôÄ,x\\x01§Â‹8\\n~�/ÃK8\\x03ó\\xa0/æC?œ\\n18\\n\\x06`\\x01ôÇ90\\x08çÁ\\x10œ\\x0fƒñ\\x15|\\n†b!ŒÀÅ�ŒK`$¾înQHÅ50\\x11×Â\\x04,…t,‡\\n\\\\\\x07“q\\x03LÂõÜÈM�…[a\\x1anƒ\\\\ü#äá{0\\x13ß‡|<\\n³ðO0\\x1b«`\\n~\\x04\\nð8\\x14ÁBü\\nJð\\x04,Â¿âf±‚Ÿâ§ÅJþ7±ŠŸá_ŠÕüïü+~V¬\\x11¥ü\\n?Ï/ð¯ÅZþ\\nÿV”ñ‹ÜÎ«Å:±^là—øeñ\\x06¿¢–«UüªØÈkÄ›ü;^+6ñkâ[±™_\\x17[x�ºY=Æoð›²A¶òïÅ[¼žÿ ¶‰íâ¢là\\nÂ.ÊEµ¸$.‹+ü6¿#*ø]þ£ØÉïñûb\\x17wˆÝ¼QìáMâ·Ü)öò\\x7f°\\\\ŸÏU\\nWÆ¹g}�Þ]Î®öÝ]!éÒ{ï\\x08\\x10Å\\x18\\x13ƒéŽ)\\x02\\x04\\x12¨WT‘\\x10Bˆ\"z\\x07ÓÁ\\x0eÆ˜Þ{ï\\n„Du‰q’/I&ŽK\\n\\'3™Ì8ú�¿âù=¿â¾º\\x0eíÇ\\n@Àƒx\\x08\\x19\\nÆ·ð\\x08\\x06ñ(\"\\nÃ0<Ž\\nž@Ž\\'Qà)¬�§ñ\\n\\x12J<‹\\nÏa8jôñ|=\\x19¨_O\\x07T½\\t�¥hð\\x02Z¼ˆ\\x0e/a\\x04^Æ\\x06x\\x05#ñ*Fá5ŒÆë\\x18Â\\x1bØ\\x10oÖyá\\x166ÆÛõ’\\x03›ê¥\\x05vb\\x13¼ƒMñ.6Ã{Ø\\nïc\\n|€-ñ!¶ÂGØ\\x1a\\x1fc\\x1b|‚m±\\x1aÛáSl�5X‹Ïðy\\n_àKì€\\nñ\\x15vÂÎø\\x1a¿À.ø%vÅnØ\\n{àWØ\\x13¿Æ^ø\\nÆà\\x1bì�ßzm¼¶^;¯½×Áëèuò:{]¼®^7¯»×Ãëéõòb¼Þ^\\x1f¯¯\\x17ëõóú{\\x03¼�ÞÛ|\\x18\\x7fŸ\\x0fç#øH>Š�æcøXÙ_\\x0eà\\x1fòq|<ŸÀ\\'ò8>‰OæSx<Ÿ\\x1aøwà¿|\\x1aHžÀ\\x13ùt>ƒ\\'ñdžÂSy\\x1aOç\\x19<“gñìÿk«S�¼šò\\nžËgò<žÏ\\nx!/âÅ|\\x16/á¥â-\\x11\\x14(Â„\\'¸\\x10¢¾ !…\\x12áB\\n_\\x18a…\\x13\\x11¢�ˆ\\x14Q\":ðcà—À\\x7f \\x08Zõ„\\x08h\\x07õU3\\x08A‹À¯*FõQ±ª¿\\x1a¨\\x06©Áj\\x08\\x04‚CƒÃÔ{j¨\\x1a&\\x0fªáj„\\x1a©F©ÑjŒ\\x1a«z¨\\x0fÔoU\\x13è\\x08�Õ‡jœ\\x1a¯&¨‰*NMR“Õ\\x14\\x15¯¦ªiÁ¤`J0-˜¡\\x12Õt5C%©d•\\x1a,\\n\\x16\\x07KÔ}õ\\x06v©ïTºÊTY*[å¨™*_\\x15ª¢àbU¬JÔl5G•«¹ªBÍSóÕBµHU ¦Çn\\\\Ž+ñLï»ýr¿ÒŸé-·UnUZ3½æÖÊµJm¦Û®]¶+öL—Y‰Ö†AáÜ¿ôs±¿ëïû\\x07þ±oÌÕwÎ�K\\'7rbg×Ùw\\x0eœc‡)ÃÖð}à\\x1f8?\\n*á‰Z‚Ò\\n³åJ0ªj&RmD`u÷ÇæÄÜ3iÁ\\\\6ëf`\\x0eL#¦»tŸR›Öh‹öéˆ\\x1aH£Nò+MP°ÎVšS~ÈS~Á¯¸‘²\\nvÅ¾²ŸÌXfu\\x16°\\x01\\x1b³\\tÛcSvÈÌ)›æsc>á{œ\\x16ø2¯ó€\\x0f¸aç5‚½\\t@�‘”Å\\xa0�g¡Í\\x17C›æBÛ\\\\\\x08mu|‘\\'½µaÛ!/�\\x1fkÈå«ä.à\\x02M`\\x030ÈGÈÏÀ7à\\x17\\xa0“W�¯�7À©ÒÐ*\\xadv\\xadíP�Aä©7©E\\x1b§õ\\x07�G\\x1fÀÏ_ÎycsÎÝ\\'söÛ\\n|Òj.¶—�ªkä\\nò\\x13ð\\x05ø\\x0eü\\x06\\nÚ\\xa0�lp9�ÁH\\x10áiØ\\x16A#QBx‰æáBS¾“\\x08Ï#\\n*\\\\áOèêiÿG1Ñ„$B\\x10x\\x17\\x08�2\\xadP·IÅ\\x7f\\nj\\x14ï�\\x03¾lJo\\nendstream\\nendobj\\n593 0 obj\\n[96 0 R]\\nendobj\\n594 0 obj\\n<>stream\\nH‰\\\\�ÁjÃ0\\n†ï~\\nÛCqêËv\\x08�Ñ1È¡ÝX¶\\x07pl%3,²QœCÞ~Š\\x17:˜À\\x06ùÿ?ñ[úÒ>·\\x142è7Ž®Ã\\nC Ï8Ç…\\nB�c u6àƒË{Wn7Ù¤´ÀÝ:gœZ\\x1a¢ªkÐï\"Î™W8<ùØãQéWöÈ�F8|^º#ènIé\\x1b\\'¤\\n\\x154\\nx\\ndÐÕ¦›�\\x10tÁN\\xad\\x17=äõ$ÌŸãcM\\x08¦ôçß0.zœ“uÈ–FTu%Õ@ý\"Õ($ÿOß©~p_–7÷Ã£¸MeLqïï\\x1b\\'ßƒ{(·0Kž²ƒ\\x12d‹\\x10\\x08ïkJ1�PÛQ?\\x02\\n¥\\x16o¡\\nendstream\\nendobj\\n595 0 obj\\n<>stream\\nH‰j`@\\x01\\n\\x01\\x06\\x08�\\x01\\x01\\nendstream\\nendobj\\n596 0 obj\\n<>stream\\nH‰äV{PT×\\x19ÿ¾sîÝ]Þà\\nXˆÞÍ\\x15,ò\\x08¨ñ\\x01\\x1bX\\\\\\x16â\\x03D\\x16”Õhö²,\\nÊc\\n\\x04%1©Õ±1ë#4µbµUcÕ”ÚÆ»FSœ¦JÌs¦Ú:É„éDM\\x13c\\ncktRGku÷öÛ…IÕ?ü£ý§3½ßœ{\\x7fßw¾s¾ç9»€\\x10\\x05k�Cî\\x02ûcS\\n¿º¶@4“t‘««Sšüî�\\nÄo£!4x=-Ëò‡8@ä\\x0eâ÷xš»\\x1bVI;Ž’î[4Ž4º•ú¡Ùú\\x02€ø™ÄOo$AÜ^þ}â½ÄOllé\\\\½ªrN!ñ´\\x1f»ÛÜæR’ÌId\\ni\\n×µ(«½,Y7\\x03`t\\x0féK\\xadJ‹ûÇå‘\\x17H÷\\x06\\n›·Ýí]Ôw\\xa0ˆæUÞ\\x01\\n<‚G$\\x06ôP`\\x19¯Ó»\\x18’§.\\x0e‘:ÑÅ93Fè\\x05\\x17B²!cfRfEü\\nsyÀ\\\\\\x11\\x7fÓ\\\\\\n0C‘9`\\x0e�¼Ü©\\t¦„4S‚É#À]‰\\x0fÜµˆp\\x07$a€Ü\"O>fçøë”%ÓqàxÔ\\x12\\x1b¡\\x07cŒ.9:æš)´mfÅ¥øËPT~5/\\x17ÇèäGÓ\\x1fŸ6}ê”qìÜ`ïŽÁÁ\\n½ƒ¬xø;\\x08¡gÊÿ\\x199þÇ(ôDÂ\\náÊ†ž§F0‡8â†±@xå\\x08Ö\\x11~–fAˆ ®\\x1f^\\x1aÁ\\x08ã±x\\x043ˆÅ§G0\\'yË\\x08\\x16\\x08o\\x1aÁ:Â}ÕÝ^wƒârK}Ru£[*okmë$‘dmk÷¶µ+�Mm\\xad’·Ù•#•(�ÊÃ”Š››¥ª&Ocg‡Tåîp·w¹ëK‹kŠË\\n™öî–º¶æòê‡³P\\nÝà\\x0574€\\x02.úJÐG£\\x1a\\x1aÃ¸\\nÚ\\xa0•Fçˆ–\\x04VâÚ\\t‡Þ\\nÉ›Â\\x1a\\x12Iši}\\x0e¡’°\\\\ù�w*¦�šé[E\\x12\\x0f\\xadî„Ž0ç¦¯›t»è]\\x0f¥¤WC£ŒŠ™\\tvÚµ\\x05êh‡f²T\\nÖöÀ3Ä)´âáºÿÍl¨k„3Ø\\x03\"\\x18Ä�âTbÓ†¿|/4°QÑ\\\\\\x14‘¡^ÇD=<ðT—[%°\\\\—®\\x07ÅÍÁRœjˆÂSk¿�\\x15—Až8\\x1f&ÐHåÛ \\x05@ûbd\\\\\\n:´«âJ�ƒ+´ó“âHùèÈ\\x18~\\x14Hƒå�\\x01sá\\x14\\\\‡\\x138\\x19*a@;Kå©e« ›ä/Ão`>£RÕSÏ\\x1aq\\nHÚOa3¤ÃzØ\\n³\\x04£v\\næÃ�!\\x0eÆÁDÈÇ6êÚ±”ÐÝx\\næÀ<Ú£€\\x12ò\\x12¥¶\\n\\x16’ü\\x16Î¤\\x19¤\\x13µŒ¬oƒ]p\\x02þ\\x7f†dÚ1\\x07\\x06Q�·´ßRÁíäÃsp\\n>\\x13g‹›`4ü\\x10^£&y\\x1bþ‚9¸\\x1f¯ð¯µcÚií¯´*\\x03ò`:,¥T×Á+ð*é½\\x06¿g2ÿ¹fÔžÓ~¡}\\x08©äý!Šúmx�lÝD\\t\\x17¡‹\\näÝÁ\\x7fj\\xadÚ!ÊC4ùLÞ\\x13\\x15S4\\x15ÔH\\x07Hs\\x10î`\\x04Ñ:&±\"æ\\n&h‰ô»1�Z,TÞ\\x1a*ï\\n°\\x11¶P\\x14;a\\x0f\\n†!,ÂF<ƒ_³\\x18¶–�\\x14+õ\\x15úŠˆ“�O´2í&Ùˆ\\x06\\x13y»˜î‰Õ´ò\\x15ø\\x11l§•¯’\\xadw‰®C§c\\x01\\x16â\\n¬Â—ñ\\x07xÿÁ2Ù9v‡Çò8žÅ\\nÜÉ×ð‹ü¶A\\n,\\x08ö\\x06Ïj•ÚjÊ%RÎ#©’VŠ³šn$/µÿ*XC¿Ò\\x1ba+Q\\x0feï\\x10‘Jùœ…O)¾\\np\\x11nÁmJN(¾±hÂlÌ£ü>�eDK¨N]¸\\x06×âVÜIyöã1¢\\x01\\nÀÛì\\x10]Ÿ[ÙÊ@ŸæÀX°ã~v�:æy0C†`„A6K8Ži,ƒ�Ô¿ŽýP¨×ñY<ß\\x10GÜ~þ%¹i7Äá\\x15PøE:?_ÐÙªb\\x07éN¸Œçõ\\nÈ»?L:ÏC!î\\x0f&@Ÿè`NLeûq~`}àO|—¶\\x07“ÙE€@B\\xa0˜Y©ãj´_²\\x13p\\nzƒ·…Ïá\\x04;\\x075tk¸Â\\'ç\\x1b:{«è¦Y\\x04wY\\n�\\';Ý#^‹¥º¨ð\\tsAþ¬™3\\nŸ6uJ^îc9ÙY™“3¾3)=m¢ü¨Iš0þ‘Ô\\x14crRâ¸±cF�Jˆ�‹�‰ŽŠŒ0èu¢Àé_`–M.uJjºS\\x15Òå\\'ŸÌ\\x0eñ²B\\x02å\\n�S•HTz¿Ž*9ÃjÒýš\\x16Òlx@Ó2¬iùV\\x13ã%3˜³³$›,©gJd©\\x1f—,¬%¼¥DvHêÕ0.\\x0fc!=ÌÄ\\x10c2Ñ\\nÉ–ÔX\"©è”ljiW£Ïæ,¡ýüQ‘VÙêŽÌÎ\\x02\\x7fd\\x14Á(Bj¢ìõcb!†\\x01K´åû\\x19\\x18bÈ+Õ(—ØÔd¹$ä‚ÊÓlJ½Z¹°ÖV’b29²³T´ºä:\\x15äÙj\\\\fX\\x05¬a3ªÎªêÃf¤¦P8°Iòg\\nø6÷ÇC�33º^®WžªU¹â\\x08ÙHÈ$»%jâ³—’þÍÒæ£¬µ/Þ;›Â}¶¤&)Äú|/JêÞ…µ÷ÎšBo‡ƒö\\xa0µ,\\xadÔé+%Ó›)‹óì\\x12Yc\\x1b\\nµ*n “R(’PTÃñ¹e[Hâ\\\\!©\\x11òl¹Ñ·ÂIµ1úT¨ê6\\n1\\x1a-ÇµÏÁh“|Õµ²I-J‘\\nJIª\\x7f\\nøªºßH¶HÉ÷Ïdgùã\\x13†\\x13ë��\\x1b\\x01Ñ1÷\\x02÷¿\\x18¯ÞØ¦ª(~îëë{�mJéF™4K;ßþ°=¶ÂPö7£íÖmìáÜhÁv€tÝ†Œ¨#AHÈ„L\\t:G˜%$|0&\\x1a%J†1¯\\x1b˜–\\xa0î›Ÿü4£‰\\n\\x04\\x11?(\\x12\\x03˜\\x10¥þîë\\x1f˜\\x12ãÝ~÷Üs~÷Ü{Þ½ç½Þ›çÌ–Ù�·ô\\xadù•e<\"u32Âp\\x0f»\\x11IXÅ35ñj´‰¦‡›Ð\\n%ÂàeŒ`GÆŒe\\n'}, {'url': 'https://www.whitehouse.gov/wp-content/uploads/2023/09/National-Climate-Resilience-Framework-FINAL.pdf', 'content': \"Under the President's direction, every Federal department and agency is focused on strengthening the Nation's climate resilience, including by tightening flood risk standards, strengthening...\"}, {'url': 'https://www.climatehubs.usda.gov/hubs/northeast/topic/ground-for-change', 'content': 'Home Welcome to the USDA Northeast Climate Hub Farmers around the Chesapeake and Delaware Bays are leaders in environmental stewardship and practices that protect and promote healthy soils. These practices also safeguard working lands against extremes posed by climate change.'}]\u001b[0m\u001b[32;1m\u001b[1;3m\n",
      "Invoking: `tavily_search_results_json` with `{'query': 'Delmarva Power resilience and adaptation measures review'}`\n",
      "\n",
      "\n",
      "\u001b[0m\u001b[33;1m\u001b[1;3m[{'url': 'https://www.sciencedirect.com/science/article/pii/S1364032123007207', 'content': 'A systematic review on power system resilience from the perspective of generation, network, and load: Impact analysis and quantification in power system resilience ... and adaptation measures. IEEE Trans Power Syst, 32 (5) (2017), pp. 3747-3757, 10.1109/TPWRS.2016.2641463. View in Scopus Google Scholar [6] A.O. Nedosekin. Analysis of power ...'}, {'url': 'https://documents.dnrec.delaware.gov/energy/information/otherinfo/Documents/EEAC/2018-4/DPL EMV Plan.pdf', 'content': \"1. INTRODUCTION AND OVERVIEW Navigant is pleased to offer this proposal to the Delmarva Power & Light Company (Delmarva Power) to evaluate Delmarva Power's proposed portfolio of Delaware Energy Efficiency Programs for the 2019-2021 period.\"}, {'url': 'https://rubblemagazine.com/delmarva-power/', 'content': \"No journey is without challenges. Explore the hurdles Delmarva Powe'r has faced and the innovative solutions implemented to overcome them. This section highlights the resilience and adaptability that define Delmarva Power. Future Outlook: Innovations and Trends. The energy landscape is ever-evolving, and Delmarva Powe'r is at the forefront ...\"}, {'url': 'https://www.delmarva.com/News/Pages/NewsReleases/DelmarvaPowerTakingMajorActiontoAdvanceCleanEnergy,CombatClimateChangeandBuildResilienceinMaryland.aspx', 'content': '(Oct. 14, 2021) - Delmarva Power today announced a major climate change commitment, launching a multi-faceted, action-oriented effort to help the state of Maryland achieve its clean energy and climate goals.'}]\u001b[0m\u001b[32;1m\u001b[1;3m### Level 1: Initial Climate Vulnerability Assessments\n",
      "\n",
      "- **Evidence**: Delmarva Power has demonstrated awareness and initial steps towards understanding climate vulnerabilities. The company has launched a multi-faceted, action-oriented effort to combat climate change and build resilience in Maryland. This initiative indicates that initial assessments and considerations regarding climate vulnerability and resilience are being integrated into their strategic planning.\n",
      "- **Source**: [Delmarva Power News Release, October 14, 2021](https://www.delmarva.com/News/Pages/NewsReleases/DelmarvaPowerTakingMajorActiontoAdvanceCleanEnergy,CombatClimateChangeandBuildResilienceinMaryland.aspx)\n",
      "\n",
      "### Level 2: Plans for Resilience and Adaptation Measures\n",
      "\n",
      "- **Evidence**: Delmarva Power has not only acknowledged the challenges posed by climate change but has also started implementing innovative solutions to overcome them. This proactive approach towards resilience and adaptability showcases their commitment to enhancing their infrastructure and services in the face of climate-related challenges.\n",
      "- **Source**: [Rubble Magazine](https://rubblemagazine.com/delmarva-power/)\n",
      "\n",
      "### Level 3: Implementation and Review of Adaptation Actions\n",
      "\n",
      "- **Evidence 1**: Delmarva Power, in partnership with Delaware Nature Society (DelNature), has initiated the Sustainable Communities Grant Program, providing nearly $75,000 in funds to support open space and resiliency projects in Delaware and Maryland. This initiative reflects initial hardening and adaptation actions being implemented, with more in the planning stage.\n",
      "- **Source 1**: [Delaware Business Times](https://delawarebusinesstimes.com/news-briefs/delmarva-open-space-grants/), [Delaware Nature Society](https://www.delawarenaturesociety.org/seven-local-projects-receive-nearly-75000-in-funding-for-open-space-and-resiliency-through-delmarva-power-sustainable-communities-program/)\n",
      "\n",
      "- **Evidence 2**: Delmarva Power's parent company, Exelon Corp., along with the Exelon Foundation, has made available up to $20 million in funding to support startups and the development of technologies that mitigate climate change. This investment in innovation and technology development is a direct action towards enhancing climate resilience.\n",
      "- **Source 2**: [Delmarva Power News Release, October 3, 2019](https://www.delmarva.com/News/Pages/NewsReleases/Upto$20MillionAvailableforWilmingtonAreaInnovatorsasPartofClimateChangeInvestmentInitiativeLaunchedbythe.aspx)\n",
      "\n",
      "These pieces of evidence collectively indicate that Delmarva Power is actively engaged in assessing climate vulnerabilities, planning for resilience and adaptation measures, and implementing initial actions to enhance climate resilience. Their efforts span from financial investments in community projects to technological innovations aimed at mitigating climate change impacts, reflecting a comprehensive approach to building climate resilience.\u001b[0m\n",
      "\n",
      "\u001b[1m> Finished chain.\u001b[0m\n",
      "\n",
      "\n",
      "\u001b[1m> Entering new AgentExecutor chain...\u001b[0m\n",
      "\u001b[32;1m\u001b[1;3m\n",
      "Invoking: `tavily_search_results_json` with `{'query': 'Delmarva Power Customer Engagement and Coordination climate resilience'}`\n",
      "\n",
      "\n",
      "\u001b[0m\u001b[33;1m\u001b[1;3m[{'url': 'https://www.delmarva.com/News/Pages/NewsReleases/DelmarvaPowerTakingMajorActiontoAdvanceCleanEnergy,CombatClimateChangeandBuildResilienceinMaryland.aspx', 'content': '(Oct. 14, 2021) - Delmarva Power today announced a major climate change commitment, launching a multi-faceted, action-oriented effort to help the state of Maryland achieve its clean energy and climate goals.'}, {'url': 'https://www.delmarva.com/News/Pages/NewsReleases/-Delmarva-Power-Customers-Experience-Record-Level-Service-in-2022-Thanks-to-Major-Efforts-to-Enhance-Electric-Grid-Reliabil.aspx', 'content': \"NEWARK, Del. (Feb. 7, 2022) — Delmarva Power's efforts to reinforce the local energy grid, add new technology and smart devices and target projects to increase resiliency has resulted in customers experiencing the lowest frequency of electric outages in 2022.\"}, {'url': 'https://depsc.delaware.gov/wp-content/uploads/sites/54/2020/07/DPL-DE-State-of-the-Company-2020-v11_JS.pdf', 'content': 'Our commitment is to efficiently deliver safe, affordable, reliable, and clean energy as well as innovative services that benefit our customers, communities and the environment We prioritize workforce development initiatives that represent and support the communities we serve, especially those that are underinvested We will be the platform throu...'}, {'url': 'https://www.delmarva.com/News/Pages/NewsReleases/DelmarvaPowerReleases2020ResponsibilityandImpactReportOutliningtheCompany’sEffortstoHelpDriveEquity,AddressClimateChange.aspx', 'content': 'Skip Ribbon Commands Skip to main content ...'}]\u001b[0m\u001b[32;1m\u001b[1;3m\n",
      "Invoking: `brave_search` with `Delmarva Power initiatives for economically challenged communities climate resilience`\n",
      "\n",
      "\n",
      "\u001b[0m\u001b[36;1m\u001b[1;3m[{\"title\": \"Delmarva Power Taking Major Action to Advance Clean Energy, Combat ...\", \"link\": \"https://www.delmarva.com/News/Pages/DelmarvaPowerTakingMajorActiontoAdvanceCleanEnergy,CombatClimateChangeandBuildResilienceinMaryland.aspx\", \"snippet\": \"Notice is hereby given that hearings for the purpose of soliciting comments from the public regarding Case No. 9681 <strong>Delmarva</strong> <strong>Power</strong>&#x27;s Application for a Multi-Year Rate Plan will be held on Tuesday, September 13, 2022 at 6:00 p.m. and Thursday, September 22, 2022 at 6:00 p.m. via virtual meeting.\"}, {\"title\": \"Climate Action MD | Delmarva Power - An Exelon Company\", \"link\": \"https://www.delmarva.com/SafetyCommunity/Environment/Pages/ClimateActionMD.aspx\", \"snippet\": \"As a company with significant assets and critical energy infrastructure in Maryland, and as a major employer, <strong>Delmarva</strong> <strong>Power</strong> has a responsibility to address our own greenhouse gas footprint while working to provide customers with safe, reliable, affordable and sustainable energy through innovative ...\"}, {\"title\": \"Energy Efficient Communities - Delmarva Power\", \"link\": \"https://homeenergysavings.delmarva.com/business/EECommunities\", \"snippet\": \"Looking for ways to make your municipality or government building more energy efficient? Look no further! The Energy Efficient <strong>Communities</strong> Program (also referred to as the <strong>Communities</strong> Program) offers funding, technical expertise, outreach, and educational opportunities to local municipal ...\"}, {\"title\": \"Sustainable Planning - DNREC Alpha\", \"link\": \"https://dnrec.alpha.delaware.gov/climate-coastal-energy/sustainable-communities/sustainable-planning/\", \"snippet\": \"A <strong>community</strong> sustainability plan is a road-map for making a <strong>community</strong> socially fair, <strong>economically</strong> strong, and environmentally healthy.\"}]\u001b[0m\u001b[32;1m\u001b[1;3m### Level 1: Has begun conducting in-person or virtual “town hall” style community briefings to better understand their concerns and priorities.\n",
      "\n",
      "- **Evidence**: Delmarva Power has been actively engaging with the public through virtual meetings to solicit comments regarding specific cases, such as Case No. 9681, Delmarva Power's Application for a Multi-Year Rate Plan. These meetings are designed to gather input from the community on plans that could impact climate resilience and energy infrastructure. [Source](https://www.delmarva.com/News/Pages/DelmarvaPowerTakingMajorActiontoAdvanceCleanEnergy,CombatClimateChangeandBuildResilienceinMaryland.aspx)\n",
      "\n",
      "### Level 2: Recurring meetings are conducted with commercial and industrial customers. Economically challenged communities are prioritized in the allocation of resilience measures.\n",
      "\n",
      "- **Evidence**: While specific details on recurring meetings with commercial and industrial customers were not found, Delmarva Power's commitment to supporting underinvested communities suggests a prioritization that could align with resilience measures. Their efforts to deliver safe, affordable, reliable, and clean energy, along with innovative services, indicate an approach that considers the needs of economically challenged communities. [Source](https://depsc.delaware.gov/wp-content/uploads/sites/54/2020/07/DPL-DE-State-of-the-Company-2020-v11_JS.pdf)\n",
      "\n",
      "### Level 3: Regular interface sessions are held with government bodies, including where applicable: state, local, tribal and territorial. Feedback from all customer engagements above and below is incorporated in planning and prioritization processes. Economically challenged communities are actively engaged in resilience and adaptation planning processes.\n",
      "\n",
      "- **Evidence**: There is no direct evidence found that Delmarva Power holds regular interface sessions with government bodies specifically for climate resilience or that they actively engage economically challenged communities in resilience and adaptation planning processes. The available information does not provide specifics on how feedback from customer engagements is incorporated into planning and prioritization processes with a direct link to climate resilience.\n",
      "\n",
      "**Conclusion**: Based on the available evidence, Delmarva Power is actively engaging with the community and shows signs of prioritizing economically challenged communities, which could suggest efforts towards Level 2 of Capability 5 in the Climate Resilience Maturity Model. However, there is insufficient evidence to conclusively place them at Level 3, as there is a lack of specific information on regular interface sessions with government bodies and the active engagement of economically challenged communities in resilience planning.\u001b[0m\n",
      "\n",
      "\u001b[1m> Finished chain.\u001b[0m\n"
     ]
    }
   ],
   "source": [
    "# Iterate over all capabilities, and skip over the full crmm item.\n",
    "org_name = 'Delmarva Power'\n",
    "\n",
    "# Custom notes \n",
    "notes = \"Running ACRRU with significantly condensed CRMM document. I summarized the non-capability part via ChatGPT 3.5. Also more explicitly describing the desired output structure.\"\n",
    "for target_cap, info in cap_dict.items():\n",
    "    # Skip the full CRMM input.\n",
    "    if target_cap == 'full':\n",
    "        continue\n",
    "\n",
    "    # Define input dict for ACRRU\n",
    "    test_input_dict = {\n",
    "        # Lets test with a much shorter version of CRMM\n",
    "    'crmm_info': crmm_condensed, #crmm_head,\n",
    "    'org_name': org_name,\n",
    "    'cap_info': info}\n",
    "    \n",
    "    # Actually runs the RAG! Returns a dict of inputs (prompt + template) and output\n",
    "    agent_output = agent_executor.invoke(test_input_dict)\n",
    "\n",
    "    # Compile data to log\n",
    "    log_data = collect_log_data(agent, agent_output, test_input_dict, target_cap, notes)\n",
    "\n",
    "    # Log data in google sheet\n",
    "    append_to_sheet(data=log_data)"
   ]
  },
  {
   "cell_type": "markdown",
   "id": "b60c97cf-a08f-44bc-99dd-112df525f8b3",
   "metadata": {},
   "source": [
    "## Logging Data to Google Sheets"
   ]
  },
  {
   "cell_type": "code",
   "execution_count": 201,
   "id": "43ff9343-6831-41b1-9639-c6784140157b",
   "metadata": {},
   "outputs": [],
   "source": []
  },
  {
   "cell_type": "code",
   "execution_count": 199,
   "id": "f5c49236-bed3-4714-8393-65b630803040",
   "metadata": {
    "scrolled": true
   },
   "outputs": [],
   "source": [
    "log_data = collect_log_data(agent, agent_output, test_input_dict)\n",
    "append_to_sheet(data=log_data)"
   ]
  },
  {
   "cell_type": "code",
   "execution_count": null,
   "id": "26adcbde-0a5c-4489-9534-7477d485abc3",
   "metadata": {},
   "outputs": [],
   "source": []
  }
 ],
 "metadata": {
  "kernelspec": {
   "display_name": "Python 3 (ipykernel)",
   "language": "python",
   "name": "python3"
  },
  "language_info": {
   "codemirror_mode": {
    "name": "ipython",
    "version": 3
   },
   "file_extension": ".py",
   "mimetype": "text/x-python",
   "name": "python",
   "nbconvert_exporter": "python",
   "pygments_lexer": "ipython3",
   "version": "3.12.1"
  }
 },
 "nbformat": 4,
 "nbformat_minor": 5
}
