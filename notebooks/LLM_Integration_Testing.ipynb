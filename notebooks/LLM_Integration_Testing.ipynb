{
 "cells": [
  {
   "cell_type": "code",
   "execution_count": 1,
   "id": "8950396f-2238-4d97-aafc-425332ee7b8d",
   "metadata": {},
   "outputs": [],
   "source": [
    "from selenium import webdriver\n",
    "from selenium.webdriver.chrome.service import Service\n",
    "from selenium.webdriver.chrome.options import Options\n",
    "from selenium.webdriver.support.ui import Select\n",
    "from selenium.webdriver.common.by import By\n",
    "from selenium.webdriver.support.ui import WebDriverWait\n",
    "from selenium.webdriver.support import expected_conditions as EC\n",
    "from selenium.webdriver.common.action_chains import ActionChains\n",
    "from selenium.webdriver.common.keys import Keys\n",
    "\n",
    "from openai import OpenAI\n",
    "import numpy as np\n",
    "import os\n",
    "import json\n",
    "\n",
    "from bs4 import BeautifulSoup, NavigableString, CData, Tag\n",
    "from io import BytesIO\n",
    "import PyPDF2\n"
   ]
  },
  {
   "cell_type": "code",
   "execution_count": 1,
   "id": "018de5f9-e7c8-44a9-a4cd-ffcb8e4afb76",
   "metadata": {},
   "outputs": [
    {
     "data": {
      "text/plain": [
       "'C:\\\\Users\\\\14102\\\\anaconda3\\\\envs\\\\crmm_ai\\\\Lib\\\\site-packages\\\\certifi\\\\cacert.pem'"
      ]
     },
     "execution_count": 1,
     "metadata": {},
     "output_type": "execute_result"
    }
   ],
   "source": [
    "import certifi\n",
    "certifi.where()"
   ]
  },
  {
   "cell_type": "code",
   "execution_count": 2,
   "id": "367468ae-e005-4122-8cef-8004929566d6",
   "metadata": {},
   "outputs": [],
   "source": [
    "# GPT Utils\n",
    "def show_json(obj):\n",
    "    display(json.loads(obj.model_dump_json()))\n",
    "\n",
    "\n",
    "# Pretty printing helper\n",
    "def pretty_print(messages):\n",
    "    print(\"# Messages\")\n",
    "    for m in messages:\n",
    "        print(f\"{m.role}: {m.content[0].text.value}\")\n",
    "    print()\n",
    "\n",
    "\n",
    "# HTML Parsing Funcs\n",
    "def url_inline_text(soup):\n",
    "    # Remove script and style elements\n",
    "    for script_or_style in soup(['script', 'style']):\n",
    "        script_or_style.decompose()\n",
    "    \n",
    "    # # Remove comment elements\n",
    "    # for comment in soup.find_all(text=lambda text: isinstance(text, Comment)):\n",
    "    #     comment.extract()\n",
    "    \n",
    "    # Replace links with text and URL\n",
    "    for a in soup.find_all('a', href=True):\n",
    "        if a['href'].startswith('javascript') or len(a['href']) < 2:\n",
    "            a.decompose()\n",
    "        else:\n",
    "            a.replace_with(f\"{a.get_text()} ({a['href']})\")\n",
    "\n",
    "    return soup\n",
    "    \n",
    "\n",
    "def get_shadow_root_text(driver, wait) -> list:\n",
    "    # Augment HTML with text in shadow DOM\n",
    "    shdw_dom_text = []\n",
    "    all_elements = wait.until(EC.presence_of_all_elements_located((By.XPATH, '//*')))\n",
    "    for el in all_elements:\n",
    "        try:\n",
    "            if driver.execute_script('return arguments[0].shadowRoot', el):\n",
    "                \n",
    "                shdw_el = driver.execute_script(f\"return document.querySelector('{el.tag_name}').shadowRoot.querySelector('div')\")\n",
    "                frame_soup = url_inline_text(BeautifulSoup(shdw_el.get_attribute('innerHTML'), 'html.parser'))\n",
    "                shdw_dom_text.append(frame_soup.get_text(separator=' | '))\n",
    "                \n",
    "        except Exception as e:\n",
    "            pass\n",
    "\n",
    "    return shdw_dom_text\n",
    "\n",
    "\n",
    "def get_full_dom_text(driver, wait) -> str:\n",
    "    # Get HTML from main DOM\n",
    "    soup = BeautifulSoup(driver.page_source, 'html.parser')\n",
    "    soup = url_inline_text(soup)\n",
    "    # Get text, excluding any residual JavaScript or CSS\n",
    "    main_html_text = soup.get_text(separator=' | ', strip=True)\n",
    "    \n",
    "    # Get any text from shadow root\n",
    "    shadow_html_text_list = get_shadow_root_text(driver, wait)\n",
    "    \n",
    "    full_html = '|'.join([main_html_text] + shadow_html_text_list)\n",
    "\n",
    "    return full_html"
   ]
  },
  {
   "cell_type": "code",
   "execution_count": 4,
   "id": "56d29c5a-4114-4111-b291-3e7dda869f0f",
   "metadata": {},
   "outputs": [],
   "source": [
    "client = OpenAI()\n",
    "\n",
    "\n",
    "# ast_file = client.files.retrieve('file-CClmpePzI1WIfdeDgw9bBvn6')\n",
    "# Create Assistant\n",
    "# assistant = client.beta.assistants.create(\n",
    "#     name=\"Climate Resiliency Analyst\",\n",
    "#     description=\"You are an analyst responsible for judging how prepared infrastructure providers are for climate change in the context of the Climate Resilience Maturity Model\",\n",
    "#     instructions=\"Using information from the file 'Climate Resilience Maturity Model.txt', Evaluate text and URLs from given HTML on providers' websites and judge them in regards to the six capabilities defined in the Climate Risk Maturity Model. For each capability, provide a summary or reference to any relevant information, or return, 'no information' if no information is relevant\",\n",
    "#     model=\"gpt-4-turbo-preview\",\n",
    "#     tools=[{\"type\": \"retrieval\"}],\n",
    "#     file_ids=[ast_file.id]\n",
    "# )\n",
    "\n",
    "assistant = client.beta.assistants.retrieve('asst_sOexDTYU2w6P21lwcwbyRVI7')"
   ]
  },
  {
   "cell_type": "code",
   "execution_count": null,
   "id": "2c6d564e-2af5-4995-9c20-d683a4e7b1ad",
   "metadata": {},
   "outputs": [],
   "source": []
  },
  {
   "cell_type": "code",
   "execution_count": 3,
   "id": "f0a6c5bb-7775-4fd4-af80-7209167b1a7f",
   "metadata": {},
   "outputs": [],
   "source": [
    "# Create web driver object\n",
    "options = webdriver.ChromeOptions()\n",
    "driver = webdriver.Chrome('C:\\\\Users\\\\14102\\\\Brown\\\\Internships\\\\INL\\\\CRMM_Scraping\\\\chromedriver-win64\\\\chromedriver-win64\\\\chromedriver.exe', options=options)\n",
    "# Method to navigate to provided URL\n",
    "actions = ActionChains(driver)\n",
    "wait = WebDriverWait(driver, 20)\n"
   ]
  },
  {
   "cell_type": "code",
   "execution_count": 4,
   "id": "5c349229-a1be-4dec-a69c-6846170d58ed",
   "metadata": {},
   "outputs": [],
   "source": [
    "driver.get('https://www.bge.com/safety-community/environment/our-commitment')"
   ]
  },
  {
   "cell_type": "code",
   "execution_count": 5,
   "id": "41eac4d2-d8d6-417e-8de5-663eea2cec5a",
   "metadata": {},
   "outputs": [],
   "source": [
    "full_text = get_full_dom_text(driver=driver, wait=wait)"
   ]
  },
  {
   "cell_type": "code",
   "execution_count": 6,
   "id": "7f3e504e-4851-4f60-b9ae-0385acbf4c61",
   "metadata": {
    "scrolled": true
   },
   "outputs": [
    {
     "data": {
      "text/plain": [
       "'Our Commitment | BGE - An Exelon Company | Due to technical issues, currently we are only able to provide eligible bill assistance recommendations through the Assistance Finder if you go through the process as a guest. Our teams are working on resolving this and we apologize for any inconvenience. Please use this link | Assistance Finder (bge.com) (https://secure.bge.com/assistance/finder/account-type) | to evaluate assistance options you may be eligible for. | Our Commitment | Our Commitment | Our commitment to the environment extends beyond operating in compliance with applicable laws, regulations and requirements. We strive to not only act responsibly but also to serve in a leadership capacity in addressing the environmental challenges that impact our company and our stakeholders. | I can help you with: | Chat with Eli | Want a copy of this chat transcript? Enter your email address. | Submit | The chat transcript will be sent to | OK | Do you want to end the conversation? This will clear your chat history. | Back to Chat | End Chat|Skip to Content (#mainContent) |  (https://www.bge.com) | Sign In (https://secure.bge.com/accounts/login) | Register (https://www.bge.com//Pages/UserRegistrationLanding.aspx) | Menu | OutageOutage (https://www.bge.com/outages/experiencing-an-outage) | Smell Natural Gas?Smell Natural Gas? (https://www.bge.com/safety-community/safety/natural-gas-safety) | Pay BillPay Bill (https://www.bge.com/my-account/my-dashboard/pay-my-bill) | MovingMoving (https://secure.bge.com/CustomerServices/service/landing) | Contact UsContact Us (https://www.bge.com/MyAccount/CustomerSupport/Pages/ContactUs.aspx) | Language | EN | EnglishEN (https://www.bge.com) | EspañolES (https://es.bge.com:443/) | Sign In (https://secure.bge.com/accounts/login) | Register (https://www.bge.com//Pages/UserRegistrationLanding.aspx) | My Account | My Dashboard (https://secure.bge.com/MyAccount/MyBillUsage/pages/secure/MyBillUsage.aspx) | Back | Pay My Bill (https://www.bge.com/my-account/my-dashboard/pay-my-bill) | My Bill Details (https://secure.bge.com/MyAccount/MyBillUsage/pages/secure/MyBillDetails.aspx) | Billing Options (https://www.bge.com/my-account/my-dashboard/billing-options) | Account History (https://secure.bge.com/MyAccount/MyBillUsage/Pages/Secure/AccountHistory.aspx) | Understanding My Bill (https://www.bge.com/my-account/my-dashboard/understanding-my-bill) | My Usage (https://www.bge.com/my-account/my-dashboard/my-usage) | Rates ＆ Tariffs (https://www.bge.com/my-account/my-dashboard/rates-tariffs) | My Service (https://www.bge.com/my-account/my-service) | Back | Start Stop Move (https://secure.bge.com/CustomerServices/service/landing) | My Appointments (https://secure.bge.com/MyAccount/MyAppointments/Pages/Secure/MyAppointments.aspx) | Construction ＆ Remodeling (https://www.bge.com/my-account/my-service/construction-remodeling) | Customer Choice (https://www.bge.com/my-account/my-service/customer-choice) | Outdoor Lighting (https://www.bge.com/my-account/my-service/outdoor-lighting) | Manage Properties (https://www.bge.com/my-account/my-service/manage-properties) | My Profile (https://www.bge.com/my-account/my-profile) | Back | My Wallet (https://secure.bge.com/MyAccount/MyBillUsage/Pages/secure/MyWallet.aspx) | My Account Profile (https://secure.bge.com/MyAccount/MyProfile/pages/Secure/MyAccountProfile.aspx) | My Notification Preferences (https://secure.bge.com/MyAccount/MyProfile/pages/secure/NotificationPreferences.aspx) | My Home Profile (https://secure.bge.com/MyAccount/MyProfile/Pages/secure/MyHomeProfile.aspx) | Customer Support (https://www.bge.com/my-account/customer-support) | Back | FAQs (https://www.bge.com/my-account/customer-support/faqs) | Contact Us (https://www.bge.com/my-account/customer-support/contact-us) | Assistance Programs (https://www.bge.com/my-account/customer-support/assistance-programs) | Equipment Responsibility (https://www.bge.com/my-account/customer-support/equipment-responsibility) | Outages | Experiencing an Outage (https://www.bge.com/outages/experiencing-an-outage) | Back | View Outage Tracker (https://secure.bge.com/powerOutages/tracker/dashboard) | Check Outage Status (https://secure.bge.com/MyAccount/MyBillUsage/Pages/Check-My-Outage-Status.aspx) | Report an Outage (https://www.bge.com/outages/experiencing-an-outage/report-an-outage) | View Outage Map (https://www.bge.com/outages/experiencing-an-outage/outage-map) | Report a Streetlight Outage (https://secure.bge.com/MyAccount/MyService/Pages/LightingOutage.aspx) | Preparing for an Outage (https://www.bge.com/outages/preparing-for-an-outage) | Back | Outage Readiness and Safety (https://www.bge.com/outages/preparing-for-an-outage/outage-readiness-and-safety) | Manage Outage Notifications (https://secure.bge.com/Outages/PreparingForAnOutage/Pages/EnrollOutage.aspx) | Our Restoration Process (https://www.bge.com/outages/preparing-for-an-outage/our-restoration-process) | Planned Outages (https://secure.bge.com/Outages/PreparingForAnOutage/Pages/PlannedOutages.aspx) | Outage and Storm FAQs (https://www.bge.com/outages/preparing-for-an-outage/outage-and-storm-faqs) | Ways to Save | For Your Home (https://www.bge.com/ways-to-save/for-your-home) | Back | Year-Round Savings Tips (https://www.bge.com/ways-to-save/for-your-home/year-round-savings-tips) | Energy Assessments (https://www.bge.com/ways-to-save/for-your-home/energy-assessments) | Rebates ＆ Discounts (https://www.bge.com/ways-to-save/for-your-home/rebates-discounts) | Recycling (https://bgesmartenergy.com:443/residential/help-me-save/appliance-recycling) | My Account Online Tools (https://www.bge.com/ways-to-save/for-your-home/my-account-online-tools) | Energy Savings Days (https://www.bge.com/ways-to-save/for-your-home/energy-savings-days) | PeakRewards (http://bgesavings.com/) | Connected Rewards (https://bgesavings.com/connectedrewards/about/#gsc.tab=0) | Gas Conversion (https://www.bge.com/ways-to-save/for-your-home/gas-conversion) | For Your Business (https://www.bge.com/ways-to-save/for-your-business) | Back | Incentives (https://www.bge.com/ways-to-save/for-your-business/incentives) | Building Optimization (https://www.bge.com/ways-to-save/for-your-business/building-optimization) | Benchmark Your Building (https://bgesmartenergy.com:443/business/business-programs/abt) | BGE Business Energy Manager (https://www.bge.com/ways-to-save/for-your-business/bge-business-energy-manager) | Success Stories (https://www.bge.com/ways-to-save/for-your-business/customer-success-stories) | Tools ＆ Resources (https://www.bge.com/ways-to-save/tools-resources) | Back | Assistance Finder (https://secure.bge.com/assistance/finder/account-type) | BGESmartEnergy.com (http://bgesmartenergy.com/) | BGESavings.com (http://bgesavings.com/) | Marketplace (https://www.bgemarketplace.com:443/) | Gas Savings Calculators (https://www.bge.com/ways-to-save/tools-resources/gas-savings-calculators) | Smart Energy (https://www.bge.com/news/advertising-campaign/smart-energy) | Smart Grid ＆ Smart Meter (https://www.bge.com/smart-energy/smart-grid-smart-meter) | Back | Smart Grid (https://www.bge.com/smart-energy/smart-grid-smart-meter/smart-grid) | Smart Meters (https://www.bge.com/smart-energy/smart-grid-smart-meter/smart-meters) | Resource Center (https://www.bge.com/smart-energy/smart-grid-smart-meter/resource-center) | Smart Meter FAQ\\'s (https://www.bge.com/smart-energy/smart-grid-smart-meter/smart-meter-faqs) | Innovation ＆ Technology (https://www.bge.com/smart-energy/innovation-technology) | Back | Electric Vehicles (https://www.bge.com/smart-energy/innovation-technology/electric-vehicles) | Multi-Year Plan (https://www.bge.com/smart-energy/innovation-technology/multi-year-plan) | Reliability Improvements (https://www.bge.com/smart-energy/innovation-technology/reliability-improvements) | Drones at Work (https://www.bge.com/smart-energy/innovation-technology/drones-at-work) | VR Training (https://www.bge.com/smart-energy/innovation-technology/vr-training) | Construction Updates (https://www.bge.com/smart-energy/innovation-technology/construction-updates) | My Green Power Connection (https://www.bge.com/smart-energy/my-green-power-connection) | Back | Solar for Home ＆ Business (https://www.bge.com/smart-energy/my-green-power-connection/solar-home-business) | Developers ＆ Contractors (https://www.bge.com/smart-energy/my-green-power-connection/developers-contractors) | Other Renewables (https://www.bge.com/smart-energy/my-green-power-connection/other-renewables) | FAQs (https://www.bge.com/smart-energy/my-green-power-connection/faqs) | Contact Us (https://www.bge.com/smart-energy/my-green-power-connection/contact-us) | Safety ＆ Community | Community (https://www.bge.com/safety-community/community) | Back | Employee Volunteering (https://www.bge.com/safety-community/community/employee-volunteering) | Charitable Contributions (https://www.bge.com/safety-community/community/charitable-contributions) | Community Initiatives (https://www.bge.com/safety-community/community/community-initiatives) | Community Events Calendar (https://www.bge.com/safety-community/community/community-events-calendar) | Request a Speaker (https://www.bge.com/safety-community/community/request-a-speaker) | Education (https://www.bge.com/safety-community/education) | Back | Energy Basics (https://www.bge.com/safety-community/education/energy-basics) | For Teachers ＆ Students (https://www.bge.com/safety-community/education/for-teachers-students) | For College Students (https://www.bge.com/safety-community/education/college-students) | Career Training (https://www.bge.com/safety-community/education/career-training) | Safety (https://www.bge.com/safety-community/safety) | Back | Call Before You Dig (https://www.bge.com/safety-community/safety/call-before-you-dig) | Electric Safety (https://www.bge.com/safety-community/safety/electric-safety) | Natural Gas Safety (https://www.bge.com/safety-community/safety/natural-gas-safety) | Construction Safety (https://www.bge.com/safety-community/safety/construction-safety) | Trees ＆ Power Lines (https://www.bge.com/safety-community/safety/trees-power-lines) | Overloaded Gas Meter FAQ (https://www.bge.com/safety-community/safety/overloaded-gas-meter-FAQ) | Gas Leak Repairs (https://www.bge.com/safety-community/safety/gas-leak-repairs) | Customer Owned Substation Inspection Program (https://www.bge.com/safety-community/safety/customer-owned-substation-inspection-program) | Environment (https://www.bge.com/safety-community/environment) | Back | Our Commitment (https://www.bge.com/safety-community/environment/our-commitment) | Our Initiatives (https://www.bge.com/safety-community/environment/our-initiatives) | Our Path to Clean (https://www.bge.com/safety-community/environment/our-path-to-clean) | Marketplace (https://www.bgemarketplace.com:443/)| Policy  | Review the policy that guides our environmental concerns. | This effort and its goals are guided by the Exelon Environment Policy, which contains a core set of principles that inform our decision-making. | \\u200bAdditional Resources | \\u200b | Environmental Policy (https://azure-na-assets.contentstack.com/v3/assets/blt71bfe6e8a1c2d265/bltc320e2642a070852/Exelon_Environment_Policy_Poster-8.5x11v2.pdf) | (pdf)\\n |  Climate Leadership  | Examine our efforts to reduce our carbon footprint. | Climate change represents one of the greatest challenges of our time, and demands that we actively pursue every opportunity to reduce greenhouse gas emissions. As a member of the voluntary EPA SF6 Emission Reduction Partnership for Electric Power Systems Program, we’re proactively working to prevent SF6 leaks on our equipment. | We have created an industry-leading green supply chain network. | We’re building one of the country’s largest alternative-fuel and energy-efficient hybrid vehicle fleet. | We’ve developed industry-leading energy efficiency programs. | We’re recycling office materials as well as industrial materials—which reduces what is sent to landfills in addition to reducing our carbon footprint. |  Resource Conservation  | See how we are managing materials and properties more efficiently | We’re recycling tons of materials in the office and in the field—reducing our carbon footprint, cutting the amount of waste going into landfills. | Project HERE | (Helping the Environment by Recycling at Exelon) increased recycling more than 5% over the previous year. The more than 1.9 million pounds of recycled material includes paper, cardboard, plastic and glass containers, and aluminum cans. | Industrial Recycling | incorporates recycling of copper, aluminum, steel, transformers and oil. More than 15 million pounds of metals and more than half a million gallons of oil were recycled yearly. These two programs offset thousands of tons of carbon emissions. We continue to build on their combined success while also actively searching for ways to green our supply chain. | In 2008, our parent company, Exelon, led the formation of the Electric Utility Industry Sustainable Supply Chain Alliance, along with 14 other electric utilities. The Alliance works to improve environmental performance in electric utility industry supply chains. This includes the development of voluntary consensus standards for evaluating the environmental attributes of key materials and services provided to the electric utility industry; the environmental performance of suppliers to the electric utility industry; and the environmental performance of an electric utility industry company’s supply chain operations. | Exelon was also the first U.S. based utility to join the Carbon Disclosure Project’s Supply Chain Leadership Collaboration. As part of our commitment, Exelon is asking top suppliers to voluntarily disclose their greenhouse gas emissions and energy consumption. |  Environmental Management System  | Our EMS assigns roles and responsibilities at each level of our organization. | To execute this policy, we have established an environmental management program or system (EMS) that assigns roles and responsibilities at each level of our organization. The EMS is an integral part of the Exelon Management Model, the framework for the way we do business. | Our EMS received ISO 14001 Certification in November 2008. ISO 14001 Certification is the globally recognized “gold” standard for promoting effective, systematic management of environmental risks and liabilities. ISO 14001 contributes to our goal of implementing an EMS and strengthens our position as an industry environmental leader. | Our EMS is a continual cycle of planning, implementing, reviewing and improving the processes and actions that we undertake to meet our business and environmental goals. Built on the \"Plan, Do, Check, Act\" model, our EMS enables BGE to take the following actions: | systematically manage our environmental risks and liabilities | improve environmental performance by clarifying environmental accountabilities, roles, and responsibilities and develop consistent environmental programs across the business | integrate environmental concerns and performance improvements into business decision-making and planning | improve business performance as environmental costs are better managed, planned for, and reduced over time | increase credibility and strengthen relationships with external stakeholders. | Through ongoing support of our EMS program and execution of our environmental policy, our stakeholders can expect to see continued improvement in Exelon’s environmental performance. | \\u200bAdditional Resources | \\u200b | ISO Certification (https://azure-na-assets.contentstack.com/v3/assets/blt71bfe6e8a1c2d265/blta29997dd6cfe3a82/BGE_ISO_Certificate.pdf) | (pdf) |  Accountability  | BGE has been monitoring environmental performance and taking actions to ensure conservation since before 1970. | BGE has been monitoring environmental performance and taking actions to ensure conservation since before 1970. As part of our commitment, BGE continues to work to preserve and improve the quality of the environment. |  Helping Customers Conserve  | BGE encourages our customers to conserve energy and make energy efficient choices. Visit | www.bgesmartenergy.com (http://www.bgesmartenergy.com/) | for more information. |  Safeguarding Our Natural Resources  | A core element of our company\\'s commitment to the environment is protecting the wildlife, forests, plants and waterways in our communities. | BGE has adopted a comprehensive avian protection plan to reduce bird mortalities from electrocution. This plan includes establishing new distribution line construction standards, removing or relocating nests, providing employee training on avian management and establishing bird perch deterrents. |  Beautifying and Preserving Our Communities  | BGE was awarded with a Greenscape Award while supporting \"green\" initiatives in the city of Annapolis. The beautification and commitment to helping our local communities always encompasses safeguarding natural resources. |  Electricity Facts (Supply Mix)  | The following environmental information is for BGE customers with Standard Offer Service, which is provided to those customers who have remained with BGE and who have not chosen a competitive electricity supplier. | Power plants can generate electricity from a number of different fuel sources, resulting in different emissions. BGE reports fuel sources and emissions data to customers twice annually, allowing customers to compare data among the companies providing electricity service in Maryland. | This disclosure is required by the Maryland Public Service Commission. | Electricity supplied from January 1, 2022 through December 31, 2022 | PJM Regional Data adjusted for BGE Renewable Energy Credit purchases* | The following distribution of energy resources was used to produce electricity in the PJM Region. | \\u200bSupply Mix\\n\\n | \\u200b | Natural Gas\\n\\n | 40.08 % | \\u200bNuclear\\n\\n | \\u200b32.69%\\n\\n | Coal\\n\\n | 20.16 % | Oil\\n\\n | 0.22  % | Fuel Cell | 0.03 % | Renewable Energy\\n\\n | \\n | * |  | Wind | 3.79  % | * Solar | 1.11 % | * Hydroelectric | 0.99  % | *Solid Waste | 0.48 % | *Captured Methane Gas | 0.21 %\\u200b | * Biomass | 0.19 % | \\u200b* | Waste Heat | \\n | \\u200b0.05 %\\n\\n | Total |  | 100 % | \\u200b*Renewable Energy Resources Subtotal | \\u200b6.82  % |  Air Emissions  | The amount of air emissions associated with the generation of electricity for the PJM region, which includes BGE, is shown below. | Emission Type | Lbs. per MWh | Percentage of PJM Regional Average | Nitrogen Oxides (NOx) | 0.33\\n | 100.0 % | Sulfur Dioxide (SO2) | 0.44\\n | 100.0 % | Carbon Dioxide (CO2) | 811\\n | 100.0 % |  | CO2is a \"greenhouse gas\" which may contribute to global climate change. SO2and NOXreleased into the atmosphere react to form acid rain. Nitrogen Oxides also react to form ground level ozone, an unhealthful component of \"smog\".|About Us (https://www.bge.com/about-us) | News (https://www.bge.com/news) | Doing Business with Us (https://www.bge.com/doing-business-with-us) | Careers (https://www.bge.com/AboutUs/Pages/Careers.aspx) |  (http://www.facebook.com/myBGE) |  (http://twitter.com/mybge) |  (http://www.youtube.com/BALTIMOREGASELECTRIC) |  (http://www.linkedin.com/company/5115) |  (https://www.instagram.com/mybge/) |  (https://nextdoor.com/agency-detail/md/baltimore/baltimore-gas-and-electric-company-1)'"
      ]
     },
     "execution_count": 6,
     "metadata": {},
     "output_type": "execute_result"
    }
   ],
   "source": [
    "full_text = full_text.replace('\\xa0', '')\n",
    "full_text"
   ]
  },
  {
   "cell_type": "markdown",
   "id": "7b0ea743-2629-46aa-8376-8d5ebdca6c6a",
   "metadata": {},
   "source": [
    "## Integration Testing"
   ]
  },
  {
   "cell_type": "code",
   "execution_count": 11,
   "id": "a77e1dcb-df61-45bf-a61f-9cd27675a7e2",
   "metadata": {},
   "outputs": [],
   "source": [
    "# Create the thread for GPT interaction\n",
    "dialogue = client.beta.threads.create()\n",
    "\n",
    "# Initialize thread with user message. Insert inline HTML text/URLs in message as context\n",
    "message = client.beta.threads.messages.create(\n",
    "    thread_id=dialogue.id,\n",
    "    role= \"user\",\n",
    "    content=f\"\"\"Determine if there is any information in the provided HTML text and links that could be used to help inform the Climate Risk Maturity Model capabilities for Baltimore Gas and Electric. \n",
    "    \n",
    "    HTML Text: {full_text}\"\"\"\n",
    ")\n",
    "\n",
    "\n",
    "message_2 = client.beta.threads.messages.create(\n",
    "    thread_id=dialogue.id,\n",
    "    role= \"user\",\n",
    "    content=f\"\"\"identify up to 5 links in the text from my last message which could lead to additional information related to the Climate Risk Maturity Model.\"\"\"\n",
    ")\n"
   ]
  },
  {
   "cell_type": "code",
   "execution_count": 22,
   "id": "a5571164-a4e8-4b02-9ac9-6849737464e4",
   "metadata": {},
   "outputs": [],
   "source": [
    "# Run interaction with GPT (Kicks off request)\n",
    "\n",
    "run = client.beta.threads.runs.create(\n",
    "  thread_id=dialogue.id,\n",
    "  assistant_id=assistant.id)"
   ]
  },
  {
   "cell_type": "code",
   "execution_count": 25,
   "id": "67125185-23d2-4e67-a98e-b7b56931ad0e",
   "metadata": {},
   "outputs": [
    {
     "data": {
      "text/plain": [
       "{'id': 'run_RloIBk7NIMmSJbxbpxbyDVo2',\n",
       " 'assistant_id': 'asst_sOexDTYU2w6P21lwcwbyRVI7',\n",
       " 'cancelled_at': None,\n",
       " 'completed_at': 1706746008,\n",
       " 'created_at': 1706745975,\n",
       " 'expires_at': None,\n",
       " 'failed_at': None,\n",
       " 'file_ids': ['file-CClmpePzI1WIfdeDgw9bBvn6'],\n",
       " 'instructions': \"Using information from the file 'Climate Resilience Maturity Model.txt', Evaluate text and URLs from given HTML on providers' websites and judge them in regards to the six capabilities defined in the Climate Risk Maturity Model. For each capability, provide a summary or reference to any relevant information, or return, 'no information' if no information is relevant\",\n",
       " 'last_error': None,\n",
       " 'metadata': {},\n",
       " 'model': 'gpt-4-turbo-preview',\n",
       " 'object': 'thread.run',\n",
       " 'required_action': None,\n",
       " 'started_at': 1706745976,\n",
       " 'status': 'completed',\n",
       " 'thread_id': 'thread_jW8A2nxzD9d0KqbYoC8tP05H',\n",
       " 'tools': [{'type': 'retrieval'}],\n",
       " 'usage': {'prompt_tokens': 6068,\n",
       "  'completion_tokens': 608,\n",
       "  'total_tokens': 6676}}"
      ]
     },
     "metadata": {},
     "output_type": "display_data"
    }
   ],
   "source": [
    "# Check Response\n",
    "run_status = client.beta.threads.runs.retrieve(\n",
    "  thread_id=dialogue.id,\n",
    "  run_id=run.id\n",
    ")\n",
    "show_json(run_status)"
   ]
  },
  {
   "cell_type": "code",
   "execution_count": 26,
   "id": "bdeddd7d-64f6-4e2c-b88a-17ebd8e17437",
   "metadata": {
    "scrolled": true
   },
   "outputs": [
    {
     "name": "stdout",
     "output_type": "stream",
     "text": [
      "# Messages\n",
      "user: Determine if there is any information in the provided HTML text and links that could be used to help inform the Climate Risk Maturity Model capabilities for Baltimore Gas and Electric. \n",
      "    \n",
      "    HTML Text: Our Commitment | BGE - An Exelon Company | Due to technical issues, currently we are only able to provide eligible bill assistance recommendations through the Assistance Finder if you go through the process as a guest. Our teams are working on resolving this and we apologize for any inconvenience. Please use this link | Assistance Finder (bge.com) (https://secure.bge.com/assistance/finder/account-type) | to evaluate assistance options you may be eligible for. | Customer bills will increase effective with usage starting in January 2024 as authorized by the Maryland Public Service Commission. The average residential electric bill will increase by $1.76 per month and the average residential natural gas bill will increase by $6.43 per month. See | bge.com/myp  (https://www.bge.com/smart-energy/innovation-technology/multi-year-plan) | for details. | Our Commitment | Our Commitment | Our commitment to the environment extends beyond operating in compliance with applicable laws, regulations and requirements. We strive to not only act responsibly but also to serve in a leadership capacity in addressing the environmental challenges that impact our company and our stakeholders. | I can help you with: | Chat with Eli | Want a copy of this chat transcript? Enter your email address. | Submit | The chat transcript will be sent to | OK | Do you want to end the conversation? This will clear your chat history. | Back to Chat | End Chat|Skip to Content (#mainContent) |  (https://www.bge.com) | Sign In (https://secure.bge.com/accounts/login) | Register (https://www.bge.com//Pages/UserRegistrationLanding.aspx) | Menu | OutageOutage (https://www.bge.com/outages/experiencing-an-outage) | Smell Natural Gas?Smell Natural Gas? (https://www.bge.com/safety-community/safety/natural-gas-safety) | Pay BillPay Bill (https://www.bge.com/my-account/my-dashboard/pay-my-bill) | MovingMoving (https://secure.bge.com/CustomerServices/service/landing) | Contact UsContact Us (https://www.bge.com/MyAccount/CustomerSupport/Pages/ContactUs.aspx) | Language | EN | EnglishEN (https://www.bge.com) | EspañolES (https://es.bge.com:443/) | Sign In (https://secure.bge.com/accounts/login) | Register (https://www.bge.com//Pages/UserRegistrationLanding.aspx) | My Account | My Dashboard (https://secure.bge.com/MyAccount/MyBillUsage/pages/secure/MyBillUsage.aspx) | Back | Pay My Bill (https://www.bge.com/my-account/my-dashboard/pay-my-bill) | My Bill Details (https://secure.bge.com/MyAccount/MyBillUsage/pages/secure/MyBillDetails.aspx) | Billing Options (https://www.bge.com/my-account/my-dashboard/billing-options) | Account History (https://secure.bge.com/MyAccount/MyBillUsage/Pages/Secure/AccountHistory.aspx) | Understanding My Bill (https://www.bge.com/my-account/my-dashboard/understanding-my-bill) | My Usage (https://www.bge.com/my-account/my-dashboard/my-usage) | Rates ＆ Tariffs (https://www.bge.com/my-account/my-dashboard/rates-tariffs) | My Service (https://www.bge.com/my-account/my-service) | Back | Start Stop Move (https://secure.bge.com/CustomerServices/service/landing) | My Appointments (https://secure.bge.com/MyAccount/MyAppointments/Pages/Secure/MyAppointments.aspx) | Construction ＆ Remodeling (https://www.bge.com/my-account/my-service/construction-remodeling) | Customer Choice (https://www.bge.com/my-account/my-service/customer-choice) | Outdoor Lighting (https://www.bge.com/my-account/my-service/outdoor-lighting) | Manage Properties (https://www.bge.com/my-account/my-service/manage-properties) | My Profile (https://www.bge.com/my-account/my-profile) | Back | My Wallet (https://secure.bge.com/MyAccount/MyBillUsage/Pages/secure/MyWallet.aspx) | My Account Profile (https://secure.bge.com/MyAccount/MyProfile/pages/Secure/MyAccountProfile.aspx) | My Notification Preferences (https://secure.bge.com/MyAccount/MyProfile/pages/secure/NotificationPreferences.aspx) | My Home Profile (https://secure.bge.com/MyAccount/MyProfile/Pages/secure/MyHomeProfile.aspx) | Customer Support (https://www.bge.com/my-account/customer-support) | Back | FAQs (https://www.bge.com/my-account/customer-support/faqs) | Contact Us (https://www.bge.com/my-account/customer-support/contact-us) | Assistance Programs (https://www.bge.com/my-account/customer-support/assistance-programs) | Equipment Responsibility (https://www.bge.com/my-account/customer-support/equipment-responsibility) | Outages | Experiencing an Outage (https://www.bge.com/outages/experiencing-an-outage) | Back | View Outage Tracker (https://secure.bge.com/powerOutages/tracker/dashboard) | Check Outage Status (https://secure.bge.com/MyAccount/MyBillUsage/Pages/Check-My-Outage-Status.aspx) | Report an Outage (https://www.bge.com/outages/experiencing-an-outage/report-an-outage) | View Outage Map (https://www.bge.com/outages/experiencing-an-outage/outage-map) | Report a Streetlight Outage (https://secure.bge.com/MyAccount/MyService/Pages/LightingOutage.aspx) | Preparing for an Outage (https://www.bge.com/outages/preparing-for-an-outage) | Back | Outage Readiness and Safety (https://www.bge.com/outages/preparing-for-an-outage/outage-readiness-and-safety) | Manage Outage Notifications (https://secure.bge.com/Outages/PreparingForAnOutage/Pages/EnrollOutage.aspx) | Our Restoration Process (https://www.bge.com/outages/preparing-for-an-outage/our-restoration-process) | Planned Outages (https://secure.bge.com/Outages/PreparingForAnOutage/Pages/PlannedOutages.aspx) | Outage and Storm FAQs (https://www.bge.com/outages/preparing-for-an-outage/outage-and-storm-faqs) | Ways to Save | For Your Home (https://www.bge.com/ways-to-save/for-your-home) | Back | Year-Round Savings Tips (https://www.bge.com/ways-to-save/for-your-home/year-round-savings-tips) | Energy Assessments (https://www.bge.com/ways-to-save/for-your-home/energy-assessments) | Rebates ＆ Discounts (https://www.bge.com/ways-to-save/for-your-home/rebates-discounts) | Recycling (https://bgesmartenergy.com:443/residential/help-me-save/appliance-recycling) | My Account Online Tools (https://www.bge.com/ways-to-save/for-your-home/my-account-online-tools) | Energy Savings Days (https://www.bge.com/ways-to-save/for-your-home/energy-savings-days) | PeakRewards (http://bgesavings.com/) | Connected Rewards (https://bgesavings.com/connectedrewards/about/#gsc.tab=0) | Gas Conversion (https://www.bge.com/ways-to-save/for-your-home/gas-conversion) | For Your Business (https://www.bge.com/ways-to-save/for-your-business) | Back | Incentives (https://www.bge.com/ways-to-save/for-your-business/incentives) | Building Optimization (https://www.bge.com/ways-to-save/for-your-business/building-optimization) | Benchmark Your Building (https://bgesmartenergy.com:443/business/business-programs/abt) | BGE Business Energy Manager (https://www.bge.com/ways-to-save/for-your-business/bge-business-energy-manager) | Success Stories (https://www.bge.com/ways-to-save/for-your-business/customer-success-stories) | Tools ＆ Resources (https://www.bge.com/ways-to-save/tools-resources) | Back | Assistance Finder (https://secure.bge.com/assistance/finder/account-type) | BGESmartEnergy.com (http://bgesmartenergy.com/) | BGESavings.com (http://bgesavings.com/) | Marketplace (https://www.bgemarketplace.com:443/) | Gas Savings Calculators (https://www.bge.com/ways-to-save/tools-resources/gas-savings-calculators) | Smart Energy (https://www.bge.com/news/advertising-campaign/smart-energy) | Smart Grid ＆ Smart Meter (https://www.bge.com/smart-energy/smart-grid-smart-meter) | Back | Smart Grid (https://www.bge.com/smart-energy/smart-grid-smart-meter/smart-grid) | Smart Meters (https://www.bge.com/smart-energy/smart-grid-smart-meter/smart-meters) | Resource Center (https://www.bge.com/smart-energy/smart-grid-smart-meter/resource-center) | Smart Meter FAQ's (https://www.bge.com/smart-energy/smart-grid-smart-meter/smart-meter-faqs) | Innovation ＆ Technology (https://www.bge.com/smart-energy/innovation-technology) | Back | Electric Vehicles (https://www.bge.com/smart-energy/innovation-technology/electric-vehicles) | Multi-Year Plan (https://www.bge.com/smart-energy/innovation-technology/multi-year-plan) | Reliability Improvements (https://www.bge.com/smart-energy/innovation-technology/reliability-improvements) | Drones at Work (https://www.bge.com/smart-energy/innovation-technology/drones-at-work) | VR Training (https://www.bge.com/smart-energy/innovation-technology/vr-training) | My Green Power Connection (https://www.bge.com/smart-energy/my-green-power-connection) | Back | Solar for Home ＆ Business (https://www.bge.com/smart-energy/my-green-power-connection/solar-home-business) | Developers ＆ Contractors (https://www.bge.com/smart-energy/my-green-power-connection/developers-contractors) | Other Renewables (https://www.bge.com/smart-energy/my-green-power-connection/other-renewables) | FAQs (https://www.bge.com/smart-energy/my-green-power-connection/faqs) | Contact Us (https://www.bge.com/smart-energy/my-green-power-connection/contact-us) | Safety ＆ Community | Community (https://www.bge.com/safety-community/community) | Back | Employee Volunteering (https://www.bge.com/safety-community/community/employee-volunteering) | Charitable Contributions (https://www.bge.com/safety-community/community/charitable-contributions) | Community Initiatives (https://www.bge.com/safety-community/community/community-initiatives) | Community Events Calendar (https://www.bge.com/safety-community/community/community-events-calendar) | Request a Speaker (https://www.bge.com/safety-community/community/request-a-speaker) | Education (https://www.bge.com/safety-community/education) | Back | Energy Basics (https://www.bge.com/safety-community/education/energy-basics) | For Teachers ＆ Students (https://www.bge.com/safety-community/education/for-teachers-students) | For College Students (https://www.bge.com/safety-community/education/college-students) | Career Training (https://www.bge.com/safety-community/education/career-training) | Safety (https://www.bge.com/safety-community/safety) | Back | Call Before You Dig (https://www.bge.com/safety-community/safety/call-before-you-dig) | Electric Safety (https://www.bge.com/safety-community/safety/electric-safety) | Natural Gas Safety (https://www.bge.com/safety-community/safety/natural-gas-safety) | Construction Safety (https://www.bge.com/safety-community/safety/construction-safety) | Trees ＆ Power Lines (https://www.bge.com/safety-community/safety/trees-power-lines) | Overloaded Gas Meter FAQ (https://www.bge.com/safety-community/safety/overloaded-gas-meter-FAQ) | Gas Leak Repairs (https://www.bge.com/safety-community/safety/gas-leak-repairs) | Customer Owned Substation Inspection Program (https://www.bge.com/safety-community/safety/customer-owned-substation-inspection-program) | Environment (https://www.bge.com/safety-community/environment) | Back | Our Commitment (https://www.bge.com/safety-community/environment/our-commitment) | Our Initiatives (https://www.bge.com/safety-community/environment/our-initiatives) | Our Path to Clean (https://www.bge.com/safety-community/environment/our-path-to-clean) | Marketplace (https://www.bgemarketplace.com:443/)| Policy  | Review the policy that guides our environmental concerns. | This effort and its goals are guided by the Exelon Environment Policy, which contains a core set of principles that inform our decision-making. | ​Additional Resources | ​ | Environmental Policy (https://azure-na-assets.contentstack.com/v3/assets/blt71bfe6e8a1c2d265/bltc320e2642a070852/Exelon_Environment_Policy_Poster-8.5x11v2.pdf) |  (pdf)\n",
      " |  Climate Leadership  | Examine our efforts to reduce our carbon footprint. | Climate change represents one of the greatest challenges of our time, and demands that we actively pursue every opportunity to reduce greenhouse gas emissions. As a member of the voluntary EPA SF6 Emission Reduction Partnership for Electric Power Systems Program, we’re proactively working to prevent SF6 leaks on our equipment. | We have created an industry-leading green supply chain network. | We’re building one of the country’s largest alternative-fuel and energy-efficient hybrid vehicle fleet. | We’ve developed industry-leading energy efficiency programs. | We’re recycling office materials as well as industrial materials—which reduces what is sent to landfills in addition to reducing our carbon footprint. |  Resource Conservation  | See how we are managing materials and properties more efficiently | We’re recycling tons of materials in the office and in the field—reducing our carbon footprint, cutting the amount of waste going into landfills. | Project HERE |  (Helping the Environment by Recycling at Exelon) increased recycling more than 5% over the previous year. The more than 1.9 million pounds of recycled material includes paper, cardboard, plastic and glass containers, and aluminum cans. | Industrial Recycling |  incorporates recycling of copper, aluminum, steel, transformers and oil. More than 15 million pounds of metals and more than half a million gallons of oil were recycled yearly. These two programs offset thousands of tons of carbon emissions. We continue to build on their combined success while also actively searching for ways to green our supply chain. | In 2008, our parent company, Exelon, led the formation of the Electric Utility Industry Sustainable Supply Chain Alliance, along with 14 other electric utilities. The Alliance works to improve environmental performance in electric utility industry supply chains. This includes the development of voluntary consensus standards for evaluating the environmental attributes of key materials and services provided to the electric utility industry; the environmental performance of suppliers to the electric utility industry; and the environmental performance of an electric utility industry company’s supply chain operations. | Exelon was also the first U.S. based utility to join the Carbon Disclosure Project’s Supply Chain Leadership Collaboration. As part of our commitment, Exelon is asking top suppliers to voluntarily disclose their greenhouse gas emissions and energy consumption. |  Environmental Management System  | Our EMS assigns roles and responsibilities at each level of our organization. | To execute this policy, we have established an environmental management program or system (EMS) that assigns roles and responsibilities at each level of our organization. The EMS is an integral part of the Exelon Management Model, the framework for the way we do business. | Our EMS received ISO 14001 Certification in November 2008. ISO 14001 Certification is the globally recognized “gold” standard for promoting effective, systematic management of environmental risks and liabilities. ISO 14001 contributes to our goal of implementing an EMS and strengthens our position as an industry environmental leader. |  Our EMS is a continual cycle of planning, implementing, reviewing and improving the processes and actions that we undertake to meet our business and environmental goals. Built on the \"Plan, Do, Check, Act\" model, our EMS enables BGE to take the following actions: | systematically manage our environmental risks and liabilities | improve environmental performance by clarifying environmental accountabilities, roles, and responsibilities and develop consistent environmental programs across the business | integrate environmental concerns and performance improvements into business decision-making and planning | improve business performance as environmental costs are better managed, planned for, and reduced over time | increase credibility and strengthen relationships with external stakeholders. | Through ongoing support of our EMS program and execution of our environmental policy, our stakeholders can expect to see continued improvement in Exelon’s environmental performance. | ​Additional Resources | ​ | ISO Certification (https://azure-na-assets.contentstack.com/v3/assets/blt71bfe6e8a1c2d265/blta29997dd6cfe3a82/BGE_ISO_Certificate.pdf) |  (pdf) |  Accountability  | BGE has been monitoring environmental performance and taking actions to ensure conservation since before 1970. | BGE has been monitoring environmental performance and taking actions to ensure conservation since before 1970. As part of our commitment, BGE continues to work to preserve and improve the quality of the environment. |  Helping Customers Conserve  | BGE encourages our customers to conserve energy and make energy efficient choices. Visit  | www.bgesmartenergy.com (http://www.bgesmartenergy.com/) |  for more information. |  Safeguarding Our Natural Resources  | A core element of our company's commitment to the environment is protecting the wildlife, forests, plants and waterways in our communities. | BGE has adopted a comprehensive avian protection plan to reduce bird mortalities from electrocution. This plan includes establishing new distribution line construction standards, removing or relocating nests, providing employee training on avian management and establishing bird perch deterrents. |  Beautifying and Preserving Our Communities  | BGE was awarded with a Greenscape Award while supporting \"green\" initiatives in the city of Annapolis. The beautification and commitment to helping our local communities always encompasses safeguarding natural resources. |  Electricity Facts (Supply Mix)  | The following environmental information is for BGE customers with Standard Offer Service, which is provided to those customers who have remained with BGE and who have not chosen a competitive electricity supplier. | Power plants can generate electricity from a number of different fuel sources, resulting in different emissions. BGE reports fuel sources and emissions data to customers twice annually, allowing customers to compare data among the companies providing electricity service in Maryland. | This disclosure is required by the Maryland Public Service Commission. | Electricity supplied from January 1, 2022 through December 31, 2022 | PJM Regional Data adjusted for BGE Renewable Energy Credit purchases* | The following distribution of energy resources was used to produce electricity in the PJM Region. | ​Supply Mix\n",
      "\n",
      " | ​ | Natural Gas\n",
      "\n",
      " | 40.08  % | ​Nuclear\n",
      "\n",
      " | ​32.69  %\n",
      "\n",
      " | Coal\n",
      "\n",
      " | 20.16  % | Oil\n",
      "\n",
      " | 0.22    % | Fuel Cell  | 0.03    % | Renewable Energy\n",
      "\n",
      " | \n",
      " | * |   | Wind | 3.79    % | * Solar | 1.11    % | * Hydroelectric | 0.99    % | *Solid Waste | 0.48    % | *Captured Methane Gas | 0.21    %​ | * Biomass | 0.19    % | ​*  | Waste Heat | \n",
      " | ​0.05    %\n",
      "\n",
      " | Total |    | 100    % | ​*Renewable Energy Resources Subtotal | ​6.82     % |  Air Emissions  | The amount of air emissions associated with the generation of electricity for the PJM region, which includes BGE, is shown below. | Emission Type | Lbs. per MWh | Percentage of PJM Regional Average | Nitrogen Oxides (NOx) | 0.33\n",
      " | 100.0 % | Sulfur Dioxide (SO2) | 0.44\n",
      " | 100.0 % | Carbon Dioxide (CO2) | 811\n",
      " | 100.0 % |   | CO2 is a \"greenhouse gas\" which may contribute to global climate change. SO2 and NOX released into the atmosphere react to form acid rain. Nitrogen Oxides also react to form ground level ozone, an unhealthful component of \"smog\".|About Us (https://www.bge.com/about-us) | News (https://www.bge.com/news) | Doing Business with Us (https://www.bge.com/doing-business-with-us) | Careers (https://www.bge.com/AboutUs/Pages/Careers.aspx) |  (http://www.facebook.com/myBGE) |  (http://twitter.com/mybge) |  (http://www.youtube.com/BALTIMOREGASELECTRIC) |  (http://www.linkedin.com/company/5115) |  (https://www.instagram.com/mybge/) |  (https://nextdoor.com/agency-detail/md/baltimore/baltimore-gas-and-electric-company-1)\n",
      "assistant: Based on the Climate Risk Maturity Model and the provided HTML text from Baltimore Gas and Electric, here's an assessment of how the information might inform the capabilities within the model:\n",
      "\n",
      "### Capability 1: Governance – Executive Level Engagement and Leadership\n",
      "The HTML text outlines Baltimore Gas and Electric's commitment to the environment, which implies an organized effort to address climate-related issues. The multi-year plan, combined with executive actions such as the establishment of environmental policies, suggests a level of governance and executive engagement. However, specific details regarding a risk committee, executive climate resilience leads, or direct CEO and Board briefings on physical climate mission risks could not be identified from the provided text.\n",
      "\n",
      "**Summary**: Partial information, implying some level of executive engagement but lacking specifics on governance structure relative to climate resilience.\n",
      "\n",
      "### Capability 2: Climate-Aware Planning\n",
      "The commitment to environmental stewardship and specific initiatives like recycling and alternative fuel vehicle fleets indicate an awareness of climate-related planning. The mention of contributing to reducing carbon footprint and several initiatives aimed at environmental conservation demonstrates planning that considers climate resilience. However, details on the integration of climate resilience in enterprise planning processes specifically were not provided.\n",
      "\n",
      "**Summary**: Evidence of climate-aware actions, though not detailed in the context of comprehensive planning processes as outlined in the model.\n",
      "\n",
      "### Capability 3: Stakeholder and Community Collaboration\n",
      "Baltimore Gas and Electric's text mentions community engagement and initiatives to protect local wildlife and environment, indicating an effort towards stakeholder and community collaboration. However, details on active collaborations with Infrastructure Sharing and Analysis Centers, insurance and credit ratings firms, trade groups, and chambers of commerce are not mentioned.\n",
      "\n",
      "**Summary**: Evidence of community engagement but lacks specifics on collaboration with wider stakeholder groups listed in the model.\n",
      "\n",
      "### Capability 4: Resilience and Adaptation Actions\n",
      "The initiatives regarding environmental conservation, recycling, and commitment to reducing the carbon footprint suggest proactive steps toward resilience and adaptation. Efforts to build one of the country’s largest alternative-fuel and energy-efficient hybrid vehicle fleets also reflect adaptation actions. However, specific tabletop exercises, vulnerability assessments, or third-party reviews as mentioned in the model are not detailed in the provided text.\n",
      "\n",
      "**Summary**: Activities aligned with resilience and adaptation are mentioned, but not in the specific context of maturity levels identified in the model (e.g., detailed planning stages, vulnerability assessments).\n",
      "\n",
      "### Capability 5: Customer Engagement and Coordination\n",
      "BGE encourages customers to conserve energy and offers resources for energy-efficient choices, indicating customer engagement. The reference to community involvement and assistance programs further supports this capability. However, regular interface sessions with government bodies or detailed engagement strategies with customers are not elaborately detailed in the text.\n",
      "\n",
      "**Summary**: Indications of customer engagement through various programs and resources, lacking details on systematic engagement as per maturity levels defined in the model.\n",
      "\n",
      "### Capability 6: Attention to Equity\n",
      "The text does not provide detailed information directly related to the active engagement of economically challenged communities in resilience and adaptation planning processes or prioritization in the allocation of resilience measures.\n",
      "\n",
      "**Summary**: No information specifically related to the engagement and prioritization of economically challenged communities in resilience planning.\n",
      "\n",
      "In conclusion, while the HTML text from Baltimore Gas and Electric suggests awareness and some actions towards climate resilience, detailed information aligning directly with the specific capabilities and maturity levels in the Climate Risk Maturity Model is limited. Further information or detailed documentation from the company would be necessary to fully assess its maturity level across the six capabilities.\n",
      "user: identify up to 5 links in the text from my last message which could lead to additional information related to the Climate Risk Maturity Model.\n",
      "assistant: Based on the provided HTML text related to Baltimore Gas and Electric and its relevance to the Climate Risk Maturity Model, the following links present potential for containing additional related information:\n",
      "\n",
      "1. **Our Environment Commitment and Initiatives** \n",
      "   - Our Commitment: [https://www.bge.com/safety-community/environment/our-commitment](https://www.bge.com/safety-community/environment/our-commitment)\n",
      "   - Our Initiatives: [https://www.bge.com/safety-community/environment/our-initiatives](https://www.bge.com/safety-community/environment/our-initiatives)\n",
      "\n",
      "These links could provide detailed insights into the company's commitments, policies, and initiatives towards the environment, potentially aligning with various capabilities of the model such as Governance and Climate-Aware Planning.\n",
      "\n",
      "2. **Our Path to Clean**\n",
      "   - [https://www.bge.com/safety-community/environment/our-path-to-clean](https://www.bge.com/safety-community/environment/our-path-to-clean)\n",
      "\n",
      "This link could detail strategies and actions towards cleaner energy sources, illustrating Resilience and Adaptation Actions and efforts toward reducing carbon emissions.\n",
      "\n",
      "3. **Smart Energy Innovation & Technology**\n",
      "   - Multi-Year Plan: [https://www.bge.com/smart-energy/innovation-technology/multi-year-plan](https://www.bge.com/smart-energy/innovation-technology/multi-year-plan)\n",
      "   - Innovation & Technology general link: [https://www.bge.com/smart-energy/innovation-technology](https://www.bge.com/smart-energy/innovation-technology)\n",
      "\n",
      "Sections under this link could contain information about the technological advancements BGE is pursuing to enhance operational efficiency and reliability, which is significant for Climate-Aware Planning and Resilience and Adaptation Actions.\n",
      "\n",
      "4. **Customer Engagement & Conservation Initiatives**\n",
      "   - Energy Savings and Efficiency Programs: [http://www.bgesmartenergy.com/](http://www.bgesmartenergy.com/)\n",
      "\n",
      "This website might offer insights into how BGE engages with customers to promote energy conservation and efficiency, aligning with Customer Engagement and Coordination.\n",
      "\n",
      "5. **Exelon Environmental Policy**\n",
      "   - [https://azure-na-assets.contentstack.com/v3/assets/blt71bfe6e8a1c2d265/bltc320e2642a070852/Exelon_Environment_Policy_Poster-8.5x11v2.pdf](https://azure-na-assets.contentstack.com/v3/assets/blt71bfe6e8a1c2d265/bltc320e2642a070852/Exelon_Environment_Policy_Poster-8.5x11v2.pdf)\n",
      "\n",
      "This document could provide foundational insights into the overarching environmental policy governing BGE's operations, which is crucial for Governance and potentially touches on Attention to Equity.\n",
      "\n",
      "Exploring these links could potentially provide detailed and supportive evidence for Baltimore Gas and Electric's alignment with and efforts towards the Climate Risk Maturity Model capabilities.\n",
      "\n"
     ]
    }
   ],
   "source": [
    "# Display result\n",
    "\n",
    "messages = client.beta.threads.messages.list(\n",
    "  thread_id=dialogue.id\n",
    ", order='asc')\n",
    "pretty_print(messages)"
   ]
  },
  {
   "cell_type": "code",
   "execution_count": 20,
   "id": "c5b91a80-278b-46a9-bb39-33b6d77c8d56",
   "metadata": {},
   "outputs": [],
   "source": [
    "# Follow-up question for the links\n",
    "message_2 = client.beta.threads.messages.create(\n",
    "    thread_id=dialogue.id,\n",
    "    role= \"user\",\n",
    "    content=f\"\"\"identify up to 5 links in the text from my last message which could lead to additional information related to the Climate Risk Maturity Model. Only return the full URL and related capabilities in a bulleted list.\"\"\"\n",
    ")"
   ]
  },
  {
   "cell_type": "code",
   "execution_count": 21,
   "id": "388cfb4f-d4c8-4700-9ebe-60efb394262d",
   "metadata": {},
   "outputs": [
    {
     "data": {
      "text/plain": [
       "{'id': 'thread_jW8A2nxzD9d0KqbYoC8tP05H',\n",
       " 'created_at': 1706745615,\n",
       " 'metadata': {},\n",
       " 'object': 'thread'}"
      ]
     },
     "metadata": {},
     "output_type": "display_data"
    }
   ],
   "source": [
    "# Run again\n",
    "run = client.beta.threads.runs.create(\n",
    "  thread_id=dialogue.id,\n",
    "  assistant_id=assistant.id)"
   ]
  },
  {
   "cell_type": "code",
   "execution_count": null,
   "id": "371079d6-f7ca-4bae-ba97-fc8c2cce9aee",
   "metadata": {},
   "outputs": [],
   "source": [
    "# Display new result\n",
    "\n",
    "messages = client.beta.threads.messages.list(\n",
    "  thread_id=dialogue.id\n",
    ", order='asc')\n",
    "pretty_print(messages)"
   ]
  },
  {
   "cell_type": "code",
   "execution_count": null,
   "id": "94ff8fb2-a34b-427b-9c21-600a0fb5e428",
   "metadata": {},
   "outputs": [],
   "source": []
  }
 ],
 "metadata": {
  "kernelspec": {
   "display_name": "Python 3 (ipykernel)",
   "language": "python",
   "name": "python3"
  },
  "language_info": {
   "codemirror_mode": {
    "name": "ipython",
    "version": 3
   },
   "file_extension": ".py",
   "mimetype": "text/x-python",
   "name": "python",
   "nbconvert_exporter": "python",
   "pygments_lexer": "ipython3",
   "version": "3.12.1"
  }
 },
 "nbformat": 4,
 "nbformat_minor": 5
}
