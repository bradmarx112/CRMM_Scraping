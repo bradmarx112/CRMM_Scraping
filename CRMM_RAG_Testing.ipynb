{
 "cells": [
  {
   "cell_type": "code",
   "execution_count": 1,
   "id": "b8fa454b-3b6f-4d6a-8b22-6a5c82c62d70",
   "metadata": {},
   "outputs": [
    {
     "name": "stderr",
     "output_type": "stream",
     "text": [
      "C:\\Users\\14102\\AppData\\Local\\Temp\\ipykernel_20752\\2472464191.py:1: DeprecationWarning: \n",
      "Pyarrow will become a required dependency of pandas in the next major release of pandas (pandas 3.0),\n",
      "(to allow more performant data types, such as the Arrow string type, and better interoperability with other libraries)\n",
      "but was not found to be installed on your system.\n",
      "If this would cause problems for you,\n",
      "please provide us feedback at https://github.com/pandas-dev/pandas/issues/54466\n",
      "        \n",
      "  import pandas as pd\n"
     ]
    }
   ],
   "source": [
    "import pandas as pd\n",
    "\n",
    "from langchain import hub\n",
    "\n",
    "from langchain_community.tools.tavily_search import TavilySearchResults\n",
    "from langchain.utilities.tavily_search import TavilySearchAPIWrapper\n",
    "\n",
    "from langchain.tools import BraveSearch, BaseTool, StructuredTool, tool\n",
    "\n",
    "from langchain_openai import ChatOpenAI\n",
    "\n",
    "from langchain.agents import AgentExecutor\n",
    "from langchain.agents import create_openai_tools_agent\n",
    "\n",
    "from langchain_core.prompts import ChatPromptTemplate, SystemMessagePromptTemplate, PromptTemplate, chat\n",
    "from langchain.schema import AIMessage, HumanMessage, SystemMessage\n",
    "\n",
    "from langchain.pydantic_v1 import BaseModel, Field\n",
    "\n",
    "from typing import Optional, Type"
   ]
  },
  {
   "cell_type": "code",
   "execution_count": 37,
   "id": "2967a44b-2fe3-44e4-95be-2df7d8f81867",
   "metadata": {},
   "outputs": [],
   "source": [
    "# Define some constants \n",
    "VERBOSE = True\n",
    "OPENAI_MODEL = \"gpt-4-turbo-preview\"\n",
    "MODEL_TEMP = 0.0\n",
    "BRAVE_API_KEY='BSAmw298lpAtPuiP5crDrAtOpGPgf5U'"
   ]
  },
  {
   "cell_type": "markdown",
   "id": "f00716fb-bd26-4b0d-9091-795fbe982c04",
   "metadata": {},
   "source": [
    "## Compile Electricity Providers\n",
    "\n",
    "Data from [EIA 2022 report](https://www.eia.gov/electricity/data/eia861/)"
   ]
  },
  {
   "cell_type": "code",
   "execution_count": 3,
   "id": "7a08475a-efb1-43c4-92f0-d332e5d575cd",
   "metadata": {},
   "outputs": [],
   "source": [
    "# Get list of electricity providers\n",
    "elec_industry_df = pd.read_csv(\"C:\\\\Users\\\\14102\\\\Brown\\\\Internships\\\\INL\\\\Data\\\\Frame_2022.csv\")\n",
    "# Get list of electricity providers\n",
    "service_territory_df = pd.read_csv(\"C:\\\\Users\\\\14102\\\\Brown\\\\Internships\\\\INL\\\\Data\\\\Service_Territory_2022.csv\")\n",
    "\n",
    "service_territory_df = service_territory_df.drop(\n",
    "    [col for col in service_territory_df.columns if col not in ['Utility Number', 'State', 'County']], axis=1).reset_index(drop=True)"
   ]
  },
  {
   "cell_type": "code",
   "execution_count": 4,
   "id": "faa9f90c-beca-4765-b6e5-af07a578c3dc",
   "metadata": {},
   "outputs": [],
   "source": [
    "# Only look at investor owned companies for now!\n",
    "investor_utils = elec_industry_df[elec_industry_df['Ownership'] == 'Investor Owned']\n",
    "# Drop some columns\n",
    "investor_utils = investor_utils.drop(\n",
    "    [col for col in investor_utils.columns if col not in ['Utility Number', 'Utility Name']], axis=1).reset_index(drop=True)"
   ]
  },
  {
   "cell_type": "code",
   "execution_count": 5,
   "id": "1b4ae08a-7f0f-4d50-a7ce-ec614b18df25",
   "metadata": {},
   "outputs": [],
   "source": [
    "# Join investor owned utils with their reported coverage\n",
    "investor_util_coverage = investor_utils.merge(service_territory_df, on='Utility Number', how='inner')"
   ]
  },
  {
   "cell_type": "markdown",
   "id": "43fc4640-e7c6-443a-b054-24288b90d108",
   "metadata": {},
   "source": [
    "## Build Web Searching Tool (Tavily) for Agent\n",
    "\n",
    "[Tavily link](https://tavily.com/)\n",
    "\n",
    "[Usage in LangChain](https://python.langchain.com/docs/integrations/tools/tavily_search)"
   ]
  },
  {
   "cell_type": "code",
   "execution_count": 38,
   "id": "07400512-4c66-4f1c-9df4-b0f91c725d9f",
   "metadata": {},
   "outputs": [],
   "source": [
    "search = TavilySearchAPIWrapper()\n",
    "tavily_tool = TavilySearchResults(api_wrapper=search, max_results = 3)"
   ]
  },
  {
   "cell_type": "code",
   "execution_count": 22,
   "id": "749454ac-89db-4c64-85d2-9fa2eaa5bf7d",
   "metadata": {},
   "outputs": [],
   "source": [
    "# response = tavily_tool.invoke({'query': 'Baltimore Gas and Electric climate resilience executive leadership'})"
   ]
  },
  {
   "cell_type": "code",
   "execution_count": 99,
   "id": "066b153f-a92c-4b82-bc15-97dbcf004dd5",
   "metadata": {},
   "outputs": [],
   "source": [
    "# response#[0]['content']\n"
   ]
  },
  {
   "cell_type": "markdown",
   "id": "eac62f68-9935-4985-a103-2dbf9c3df911",
   "metadata": {},
   "source": [
    "## Build Backup Search Tool\n",
    "\n",
    "[Usage in LangChain](https://python.langchain.com/docs/integrations/tools/brave_search)"
   ]
  },
  {
   "cell_type": "code",
   "execution_count": 39,
   "id": "dc7b3860-a89e-403d-b9db-0dcf88d09878",
   "metadata": {},
   "outputs": [],
   "source": [
    "brave_tool = BraveSearch.from_api_key(api_key=BRAVE_API_KEY, search_kwargs={\"count\": 4}, description='a search engine. useful to use when other tools do not return results.')"
   ]
  },
  {
   "cell_type": "markdown",
   "id": "6a39d6b4-3816-44fa-943e-af84beb07c9b",
   "metadata": {},
   "source": [
    "## Get CRMM Text file "
   ]
  },
  {
   "cell_type": "code",
   "execution_count": 97,
   "id": "92ac98ce-40c0-4ca3-abab-fa37cd96f06c",
   "metadata": {},
   "outputs": [],
   "source": [
    "with open('crmm_docs/CRMM_13.txt', \"r\", encoding='utf-8') as f:\n",
    "    crmm_raw = f.read()\n",
    "\n",
    "with open('crmm_docs/CRMM_header.txt', \"r\", encoding='utf-8') as f:\n",
    "    crmm_head = f.read()\n",
    "\n",
    "cap_dict = {}\n",
    "for num in range(5):\n",
    "    with open(f'crmm_docs/Capability {num+1}.txt', \"r\", encoding='utf-8') as f:\n",
    "        cap = f.read()\n",
    "    cap_dict[f'cap{num+1}'] = cap"
   ]
  },
  {
   "cell_type": "markdown",
   "id": "0d983cfa-ccee-483b-b003-29d22202feb8",
   "metadata": {},
   "source": [
    "## Build Chat Prompt for Agent\n",
    "\n",
    "[LangChain Documentation](https://python.langchain.com/docs/modules/agents/tools/custom_tools)"
   ]
  },
  {
   "cell_type": "code",
   "execution_count": 14,
   "id": "ce1f47fc-695d-4be0-b10c-6172739ba613",
   "metadata": {},
   "outputs": [],
   "source": [
    "# OpenAI agents need placeholders for chat history and agent scratchpad.\n",
    "chat_prompt = ChatPromptTemplate.from_messages(\n",
    "                # System message gives the model the 'backstory' for the task (eg. how do you act? what info do you have on hand? what are you designed to do?), but does not actually respond to this directly\n",
    "                [SystemMessagePromptTemplate(prompt=PromptTemplate(input_variables=['crmm_info'], \n",
    "                    template=\"You are an analyst who uses the Climate Resilience Maturity Model to summarize how infrastructure providers are implementing climate resiliency measures.\" \n",
    "                     \"\\nYou are critical of providers, and only give them credit for progress in a capability if specific and direct evidence is provided related to infrastructure development or resilience planning and organization.\" \n",
    "                     \" The Climate Resilience Maturity Model is explained below:\\n####\\n{crmm_info}\\n####\\n\")),\n",
    "                chat.MessagesPlaceholder(variable_name='chat_history', optional=True),\n",
    "                # Human message represents the question actually being asked by a user or service. The model's output is a response to this message.\n",
    "                chat.HumanMessagePromptTemplate(prompt=PromptTemplate(input_variables=['org_name'], template=\"Summarize how the infrastructure and initiatives of the organization, {org_name} is positioned with respect to the Climate Resilience Maturity Model. \"\n",
    "                     \"For each capability, provide a one sentence summary, list all the evidence that led to the conclusion, and cite sources. All evidence MUST be directly related to the Climate Resilience Maturity Model. Use as many different relevent sources as possible to gauge their overall position. \\n\"\n",
    "                     \"**Research Approach**: \\n 1. Search for any documents related to {org_name} and climate resilience. \\n 2. Search for documents specifically related to capabilities not accounted for in step 1. \\n\"\n",
    "                     \" Do **not** consider the following topics when collecting evidence:\\n -greenhouse gas emissions \\n -energy saving and efficiency \\n -decarbonization \\n -clean energy\")),\n",
    "                chat.MessagesPlaceholder(variable_name='agent_scratchpad')])"
   ]
  },
  {
   "cell_type": "code",
   "execution_count": 88,
   "id": "65f18f69-783c-4c8e-8c25-9caa1f923404",
   "metadata": {},
   "outputs": [],
   "source": [
    "# OpenAI agents need placeholders for chat history and agent scratchpad.\n",
    "chat_prompt_cap = ChatPromptTemplate.from_messages(\n",
    "                # System message gives the model the 'backstory' for the task (eg. how do you act? what info do you have on hand? what are you designed to do?), but does not actually respond to this directly\n",
    "                [SystemMessagePromptTemplate(prompt=PromptTemplate(input_variables=['crmm_info'], \n",
    "                    template=\"You are an analyst who uses the Climate Resilience Maturity Model to summarize how infrastructure providers are implementing climate resiliency measures.\" \n",
    "                     \"\\nYou are critical of providers, and only give them credit for progress in a capability if specific and direct evidence is provided related to infrastructure development or resilience planning and organization.\" \n",
    "                     \" The Climate Resilience Maturity Model is explained below:\\n####\\n{crmm_info}\\n####\\n\")),\n",
    "                chat.MessagesPlaceholder(variable_name='chat_history', optional=True),\n",
    "                # Human message represents the question actually being asked by a user or service. The model's output is a response to this message.\n",
    "                chat.HumanMessagePromptTemplate(prompt=PromptTemplate(input_variables=['org_name', 'cap_info'], template=\"Summarize how the infrastructure and initiatives of the organization, {org_name} are positioned with respect to the following capability in the Climate Resilience Maturity Model: \\n\"\n",
    "                     \"####\\n{cap_info}\\n####\\n\"\n",
    "                     \"Provide a summary in terms of the capability criteria, and list all the evidence that led to the conclusion, and cite sources. All evidence MUST be related to climate resiliency in some way. Use as many different relevent sources as possible to gauge their overall position. \\n\"\n",
    "                     \" Do not consider the following topics when collecting evidence:\\n -greenhouse gas emissions \\n -energy saving and efficiency \\n -decarbonization \\n -clean energy\")),\n",
    "                chat.MessagesPlaceholder(variable_name='agent_scratchpad')])"
   ]
  },
  {
   "cell_type": "markdown",
   "id": "c3f1af9d-0df8-424d-9b30-59c3166ef212",
   "metadata": {},
   "source": [
    "## Create the Agent\n",
    "\n",
    "[LangChain Agent Documentation](https://python.langchain.com/docs/modules/agents/quick_start)\n",
    "\n",
    "[LangChain Tools Documentation](https://python.langchain.com/docs/modules/agents/tools/)"
   ]
  },
  {
   "cell_type": "code",
   "execution_count": 89,
   "id": "580bec80-4157-4864-a065-14f8aad2c9ae",
   "metadata": {},
   "outputs": [],
   "source": [
    "# Define the model (GPT-4)\n",
    "llm = ChatOpenAI(model=OPENAI_MODEL, temperature=MODEL_TEMP)"
   ]
  },
  {
   "cell_type": "code",
   "execution_count": 90,
   "id": "727b5794-f812-4cb2-a0e5-e689b47a0c3f",
   "metadata": {},
   "outputs": [],
   "source": [
    "# Define tools available to agent\n",
    "tools = [brave_tool, tavily_tool]\n",
    "\n",
    "# Use this function to make agents based on OpenAI models\n",
    "agent = create_openai_tools_agent(llm, tools, chat_prompt_cap)"
   ]
  },
  {
   "cell_type": "code",
   "execution_count": 91,
   "id": "74195fbf-cbbe-4df6-970f-bf4b142924f5",
   "metadata": {},
   "outputs": [],
   "source": [
    "# Define agent executor\n",
    "agent_executor = AgentExecutor(agent=agent, tools=tools, verbose=VERBOSE)"
   ]
  },
  {
   "cell_type": "markdown",
   "id": "a38e0d65-3bde-4f14-9188-f7744331865b",
   "metadata": {},
   "source": [
    "## Running the Agent Iteratively"
   ]
  },
  {
   "cell_type": "code",
   "execution_count": null,
   "id": "b651cf6e-49a0-4c6d-aed2-881b6a661c92",
   "metadata": {
    "scrolled": true
   },
   "outputs": [],
   "source": [
    "# Define input list: Currently is investor-owned elec utils from MD\n",
    "md_elec_providers = investor_util_coverage[investor_util_coverage['State'] == 'MD']['Utility Name'].unique()\n",
    "research_output = {}\n",
    "# Iterate over every provider in our array\n",
    "for organization in md_elec_providers:\n",
    "\n",
    "    ## Compile Agent Input\n",
    "    input_dict = {\n",
    "        'crmm_info': crmm_raw,\n",
    "        'org_name': organization}\n",
    "\n",
    "    # Run the agent for given org\n",
    "    agent_output: dict = agent_executor.invoke(input_dict)\n",
    "\n",
    "    # Record result in dict\n",
    "    research_output[organization] = agent_output['output']"
   ]
  },
  {
   "cell_type": "code",
   "execution_count": null,
   "id": "954bfd09-64b5-4614-8ed1-969598a33322",
   "metadata": {},
   "outputs": [],
   "source": [
    "rag_output = pd.DataFrame.from_dict(research_output, orient='index', columns=['Research Results']).reset_index(names=['Utility Name'])\n",
    "rag_output = rag_output.merge(investor_utils, on='Utility Name', how='inner')"
   ]
  },
  {
   "cell_type": "markdown",
   "id": "a5909b32-2759-48eb-950b-fff6fc61bd70",
   "metadata": {},
   "source": [
    "## Observing Outputs"
   ]
  },
  {
   "cell_type": "code",
   "execution_count": null,
   "id": "5360889d-662a-4f2d-b9e9-e6120f6c984c",
   "metadata": {
    "scrolled": true
   },
   "outputs": [],
   "source": [
    "for org, rag_response in research_output.items():\n",
    "    print(f'RAG Response for {org}:\\n')\n",
    "    print(rag_response)\n",
    "    print('\\n\\n\\n')"
   ]
  },
  {
   "cell_type": "markdown",
   "id": "3b99df23-f45a-4ad7-a05e-aff274375179",
   "metadata": {},
   "source": [
    "## Custom Search Tool with Backup (WIP)\n",
    "\n",
    "[LangChain Documentation](https://python.langchain.com/docs/modules/agents/tools/custom_tools)"
   ]
  },
  {
   "cell_type": "code",
   "execution_count": null,
   "id": "7351f30a-f72d-4903-8a54-b335de84f146",
   "metadata": {},
   "outputs": [],
   "source": [
    "class SearchInput(BaseModel):\n",
    "    query: str = Field(description=\"should be a search query\")\n",
    "\n",
    "\n",
    "class CustomSearchTool(BaseTool):\n",
    "    name = \"custom_search\"\n",
    "    description = \"useful for when you need to answer questions using the internet.\"\n",
    "    args_schema: Type[BaseModel] = SearchInput\n",
    "\n",
    "    def __init__(self, tavily, brave): \n",
    "        super(BaseTool, self).__init__()\n",
    "        self.tavily = tavily\n",
    "        self.brave = brave\n",
    "\n",
    "    def _run(\n",
    "        self, query: str) -> str:\n",
    "        \"\"\"Use the tool.\"\"\"\n",
    "        output = self.tavily.run(query)\n",
    "        if not output:\n",
    "            output = self.brave.run(query)\n",
    "        \n",
    "        return output\n",
    "\n",
    "    async def _arun(\n",
    "        self, query: str) -> str:\n",
    "        \"\"\"Use the tool asynchronously.\"\"\"\n",
    "        raise NotImplementedError(\"custom_search does not support async\")\n"
   ]
  },
  {
   "cell_type": "code",
   "execution_count": null,
   "id": "0bd35eb2-a581-4bb4-b1de-1d76c9f22acd",
   "metadata": {
    "scrolled": true
   },
   "outputs": [],
   "source": [
    "custom_search = CustomSearchTool(tavily_tool, brave_tool)"
   ]
  },
  {
   "cell_type": "markdown",
   "id": "19b1a910-5779-485f-b4bd-945195161f87",
   "metadata": {},
   "source": [
    "## Running the Agent (One-Off)"
   ]
  },
  {
   "cell_type": "code",
   "execution_count": 100,
   "id": "7a0b5780-d5c3-4f0c-9c26-04b9535140ef",
   "metadata": {},
   "outputs": [],
   "source": [
    "## Running the Agent\n",
    "test_input_dict = {\n",
    "    'crmm_info': crmm_head,\n",
    "    'org_name': 'Maryland Department of Transportation',\n",
    "    'cap_info': cap_dict['cap1']\n",
    "}\n"
   ]
  },
  {
   "cell_type": "code",
   "execution_count": 101,
   "id": "0e913d32-8979-40e0-96d1-6adc12d990c1",
   "metadata": {},
   "outputs": [
    {
     "name": "stdout",
     "output_type": "stream",
     "text": [
      "\n",
      "\n",
      "\u001b[1m> Entering new AgentExecutor chain...\u001b[0m\n",
      "\u001b[32;1m\u001b[1;3m\n",
      "Invoking: `tavily_search_results_json` with `{'query': 'Maryland Department of Transportation climate resilience lead'}`\n",
      "\n",
      "\n",
      "\u001b[0m\u001b[33;1m\u001b[1;3m[{'url': 'https://www.linkedin.com/in/sandy-hertz-95091715', 'content': 'Director, Office of Climate Change Resilience and Adaptation Maryland Department of Transportation Washington DC-Baltimore Area 845 followers 500+ connections'}, {'url': 'https://www.mdot.maryland.gov/OPCP/MDOT_TRIP_Report_2024_Final.pdf', 'content': 'deploying a variety of climate resilience strategies. Together, the State of Maryland and the Maryland Department of Transportation (MDOT) have sought resilience measures through strategic investments in projects, programs, and at-risk infrastructure. MDOT will continue to work with partners to ensure expanded alignment of resilience measures.'}, {'url': 'https://www.mdot.maryland.gov/OPCP/MDOT_CPRP_2023_Final.pdf', 'content': 'The Maryland Department of Transportation (MDOT) Climate Pollution Reduction Plan (\"the plan\" or \"this plan\", hereafter) presents MDOT\\'s approach to support the requirements of the Climate Solutions Now Act of 2022 (CSNA). The CSNA requires the Maryland Department of the Environment (MDE) to'}]\u001b[0m\u001b[32;1m\u001b[1;3m\n",
      "Invoking: `tavily_search_results_json` with `{'query': 'Maryland Department of Transportation climate resilience initiatives'}`\n",
      "\n",
      "\n",
      "\u001b[0m\u001b[33;1m\u001b[1;3m[{'url': 'https://mde.maryland.gov/programs/Air/ClimateChange/MCCC/Publications/2020 MDOT Agency Report.pdf', 'content': \"MDOT continues to focus on enhancing the State's multimodal transportation infrastructure resilience as part of a comprehensive approach that includes understanding and assessing transportation system vulnerabilities, integrating climate adaptation and resilience into MDOT's business processes, and communicating potential risks and vulnerabiliti...\"}, {'url': 'https://www.transit.dot.gov/regulations-and-programs/environmental-programs/mdot-mta-climate-action-initiatives', 'content': \"The Maryland Department of Transportation Maryland Transit Administration's (MDOT MTA) Climate Action Initiatives Summary Report (2022) includes excerpts from various public-facing reports, documents, etc. regarding MDOT and specific MDOT MTA climate action initiatives including the zero-emission bus program; the greenhouse gas (GHG) reduction p...\"}, {'url': 'https://mde.maryland.gov/programs/air/ClimateChange/MCCC/Publications/2021 MDOT State Agency Report_v4.pdf', 'content': '• The MDOT State Highway Administration (SHA) completed a final draft of the MDOT SHA Climate Resilience Strategy which identifies opportunities and strategies for integrating vulnerability assessment results and climate risk analyses into existing asset management systems and processes. OCCRA Office of Climate Change Resilience and Adaptation'}]\u001b[0m\u001b[32;1m\u001b[1;3m\n",
      "Invoking: `tavily_search_results_json` with `{'query': 'Maryland Department of Transportation climate resilience governance'}`\n",
      "\n",
      "\n",
      "\u001b[0m\u001b[33;1m\u001b[1;3m[{'url': 'https://www.mdot.maryland.gov/OPCP/2022_AR_Environmental_Protection.pdf', 'content': 'MDOT actions encompass climate change mitigation by reducing GHG emissions, increasing climate adaptation and resiliency, and conservation of resources for a sustainable agency operations and service delivery.'}, {'url': 'https://mde.maryland.gov/programs/air/ClimateChange/MCCC/Publications/2021 MDOT State Agency Report_v4.pdf', 'content': \"The Maryland Department of Transportation (MDOT) continues to enhance the state's multimodal transportation infrastructure resilience as part of a comprehensive approach that includes understanding and assessing transportation system vulnerabilities, integrating climate adaptation and resilience into MDOT's business processes, and collaboration ...\"}, {'url': 'https://www.mdot.maryland.gov/tso/pages/Index.aspx?PageId=36', 'content': 'Environment Overview. The Maryland Department of Transportation (MDOT) takes a comprehensive systems approach to environmental stewardship. This approach facilitates programs in air quality, climate resilience, energy, land and water resources, and regulatory compliance. These considerations are integral in our transportation planning, design ...'}]\u001b[0m\u001b[32;1m\u001b[1;3m\n",
      "Invoking: `tavily_search_results_json` with `{'query': 'Maryland Department of Transportation climate resilience risk committee'}`\n",
      "\n",
      "\n",
      "\u001b[0m\u001b[33;1m\u001b[1;3m[{'url': 'https://mde.maryland.gov/programs/air/ClimateChange/MCCC/Publications/2021 MDOT State Agency Report_v4.pdf', 'content': 'OCCRA Office of Climate Change Resilience and Adaptation Established June 2021 Just Under 40,000 registered electric vehicles (EV) in Maryland by the end of October 2021 Oct. 2020 Oct. 2021 42% increase from the previous year ZERO EMISSIONS BUSES 50% 95% BY 2030 BY 2045 Congestion Mitigation'}, {'url': 'https://www.mdot.maryland.gov/OPCP/2022_AR_Environmental_Protection.pdf', 'content': 'MDOT actions encompass climate change mitigation by reducing GHG emissions, increasing climate adaptation and resiliency, and conservation of resources for a sustainable agency operations and service delivery.'}, {'url': 'https://www.mdot.maryland.gov/tso/pages/Index.aspx?PageId=169', 'content': 'The Maryland Department of Transportation (MDOT) is implementing initiatives to reduce greenhouse gas (GHG) emissions throughout the State and planning adaptation and resilience strategies to withstand the impacts of climate change.'}]\u001b[0m\u001b[32;1m\u001b[1;3mThe Maryland Department of Transportation (MDOT) demonstrates a proactive approach towards climate resilience, particularly in governance and executive level engagement and leadership, aligning closely with level 3 criteria of the Climate Resilience Maturity Model (CRMM). The evidence supporting this conclusion includes:\n",
      "\n",
      "1. **Executive Climate Resilience Lead**: MDOT has appointed a Director for the Office of Climate Change Resilience and Adaptation, indicating a dedicated leadership role focused on climate resilience ([LinkedIn Profile of Sandy Hertz](https://www.linkedin.com/in/sandy-hertz-95091715)).\n",
      "\n",
      "2. **Risk Committee and Reporting**: MDOT's actions and strategic investments in climate resilience are documented in various reports, suggesting an organized approach to tracking and reporting on physical climate risks, plans, and actions. This is indicative of a risk committee's involvement in overseeing climate resilience efforts ([MDOT TRIP Report 2024](https://www.mdot.maryland.gov/OPCP/MDOT_TRIP_Report_2024_Final.pdf), [MDOT Climate Pollution Reduction Plan 2023](https://www.mdot.maryland.gov/OPCP/MDOT_CPRP_2023_Final.pdf)).\n",
      "\n",
      "3. **Integration into Business Processes**: MDOT integrates climate adaptation and resilience into its business processes, as evidenced by the MDOT State Highway Administration's (SHA) Climate Resilience Strategy. This strategy outlines opportunities for integrating vulnerability assessment results and climate risk analyses into existing asset management systems and processes ([2021 MDOT State Agency Report](https://mde.maryland.gov/programs/air/ClimateChange/MCCC/Publications/2021%20MDOT%20State%20Agency%20Report_v4.pdf)).\n",
      "\n",
      "4. **Comprehensive Approach to Resilience**: MDOT's comprehensive approach to enhancing the state's multimodal transportation infrastructure resilience includes understanding and assessing transportation system vulnerabilities, integrating climate adaptation and resilience into business processes, and collaborating with stakeholders ([2021 MDOT State Agency Report](https://mde.maryland.gov/programs/air/ClimateChange/MCCC/Publications/2021%20MDOT%20State%20Agency%20Report_v4.pdf), [MDOT Environmental Protection 2022 Report](https://www.mdot.maryland.gov/OPCP/2022_AR_Environmental_Protection.pdf)).\n",
      "\n",
      "5. **Establishment of OCCRA**: The Office of Climate Change Resilience and Adaptation (OCCRA) was established in June 2021, further emphasizing MDOT's commitment to climate resilience and adaptation efforts ([2021 MDOT State Agency Report](https://mde.maryland.gov/programs/air/ClimateChange/MCCC/Publications/2021%20MDOT%20State%20Agency%20Report_v4.pdf)).\n",
      "\n",
      "Based on the evidence, MDOT has established a dedicated leadership role for climate resilience, integrated climate resilience into its business processes, and demonstrated a comprehensive approach to addressing climate risks. These actions align with the level 3 criteria of the CRMM, indicating a mature process management that includes deliberate process optimization and improvement in the area of Governance – Executive Level Engagement and Leadership.\u001b[0m\n",
      "\n",
      "\u001b[1m> Finished chain.\u001b[0m\n"
     ]
    },
    {
     "data": {
      "text/plain": [
       "{'crmm_info': 'Climate Resilience Maturity Model (CRMM) for Essential Services Providers\\n\\n\\nExecutive Summary\\n\\n\\nAll US cities are in some stage of awareness and action related to hardening their infrastructure assets and adapting their critical functions and processes to operate reliably in the more challenging conditions wrought by a changing climate. This model offers a mechanism for entities to baseline their present state and set goals for heightened resilience in the near-midterm future. When aggregated across the six sectors assessed, a city’s resilience posture is made visible to all manner of interested stakeholders. Also please note:\\n\\n\\n* Criteria and annual ratings are publicly accessible, though particularly sensitive data may be reserved for USG use.\\n* This model is fundamentally multi-sector and is designed to take cross-sector interdependencies into full account (e.g., energy, water, communications, transportation, etc.).\\n* Intended to motivate accelerated action, numeric or letter grades for each service provider type are rolled up into a city score.\\n* Several large US energy and water utilities have lauded earlier CRMM versions in formal proceedings, and UN personnel have recently inquired whether this model could be applied at regional or national levels. \\n\\n\\nI. Introduction\\n\\nDepending on geography, disruptive and destructive physical forces stemming from or exacerbated by a changing climate are already landing on infrastructures. While decarbonization is the watchword in climate mitigation, utilities, as stewards of our most critical infrastructures, must be proactive in their preparation for present and coming hazards of a kind and/or intensity they’ve not yet experienced, but which are projected by climate models. No infrastructure organizations function in a vacuum, so electric, natural gas, communications, transportation, and water and wastewater organizations must update their planning processes and reach out to regulators, stakeholders, and the communities they serve if they are to meet these enormous challenges.  \\n\\nAnd very many organizations and individuals have a stake in understanding whether the utilities serving particular cities or regions are updating their plans and processes ahead of the arrival of material physical climate impacts, or else move more slowly either unaware of the risks, or hoping that nothing too catastrophic will happen on their watch.  Some are in motion and serve as early models for best practices, so the intent of this CRMM is to help guide utilities towards higher levels of maturity in this still relatively young field. In addition, it will help generate a source of comparative data for those with a vested interest in better understanding the state of utilities’ climate resilience in specific cities and areas. \\n\\n\\nII. Resilience Defined\\n \\nResilience is: \\n\\nThe ability to prepare for and adapt to changing conditions and withstand and recover rapidly from disruptions. Resilience includes the ability to withstand and recover from deliberate attacks, accidents, or naturally occurring threats or incidents.\\n\\n\\nIII. Valuing Resilience in a Physical Climate Risk Context\\n \\nMany parties express keen interest in better understanding the risks to government, industry and residents from the physical forces wrought by a rapidly changing climate. One of the most significant factors in determining how much damage or disruption occurs is the state of preparedness of proximate utilities and other critical services providers. Some prospective parties include: \\n \\n* Insurance and reinsurance companies \\n* Credit ratings firms \\n* Federal and State regulators \\n* Emergency planners and first responders \\n* Commercial and residential property developers and managers\\n* Companies, families, and individuals considering relocation \\n* Community organizations and non-profits interested in supporting community resilience \\n \\nAnd lastly, the energy, water, and other essential services providers themselves. Noting the interdependent relationships of all, the CRMM assesses the status of each of the following services entities: \\n \\n* Water and wastewater \\n* Electricity \\n* Communications \\n* Natural gas \\n* Transportation, and  \\n* State and local government \\n\\n\\nIV. Maturity Models and Maturity Levels \\n \\nMaturity models are a set of structured levels that describe how well the behaviors, practices and processes of an organization can reliably and sustainably produce required outcomes. In the case of the CRMM, what’s being measured is an organization’s ability to address the challenges to reliable operations in a climate that’s already producing increasingly difficult physical challenges and promises to get worse and worse over time.  \\n \\nMaturity levels help track the evolution of a capability that contributes to an overall organizational goal, where level 1 is associated with bare minimal capabilities and level 3 connotes a capability that’s so well established, it’s essentially become a core competency. Here’s a quick take on what each level signifies: \\n \\n3. Mature - process management includes deliberate process optimization/improvement. \\n2. Improving - the process is defined/confirmed as a standard business process. \\n1. Initial - the starting point for use of a new or undocumented repeat process. \\n0. No discernable process. \\n  \\n\\n\\nV. Capability Categories\\n \\nVia interviews and review of publicly accessible documentation, five categories are examined and scored with 3 points awarded for the highest levels of maturity or in other words, application of widely agreed best practices. \\n',\n",
       " 'org_name': 'Maryland Department of Transportation',\n",
       " 'cap_info': 'Capability 1: Governance – Executive Level Engagement and Leadership\\n\\n\\t3\\n\\t* Risk committee has appointed an executive climate resilience lead and tracks and reports on physical climate risks, plans and actions. Depending on organizational and regulatory structure, the risk committee signs off or otherwise weighs in on integrated resource plans (IRPs) and other policies and plans to ensure climate risks are addressed adequately.  \\n\\t* Physical climate risks, plans and actions are briefed to the CEO and Board of Directors (or equivalents) no less often than quarterly.\\n\\t2\\n\\t* Climate resilience lead gives recurring status briefings on risks and actions to risk committee and others \\n\\t* Entity has identified its primary physical climate risks and has begun generating resilience and/or process adaptation options.\\n\\t1\\n\\t* Entity has identified a resilience lead and has begun identifying and tracking its physical climate risks\\n\\t0\\n\\t* Ad hoc / no discernable process  \\n\\t \\n\\nCapability 1 explanation:\\nOrganizations can rarely act effectively on any critical task if they haven’t allocated resources and built structures to affect those actions. In short, those that do identify and empower employees, including senior decision makers, to internally advocate for climate resilience policies, plans and actions will be better positioned to meet the challenges of extreme weather and other climate change-exacerbated risks than those that don’t. These appointments also serve as important cultural signals that tend to foster company-wide awareness and alignment. ',\n",
       " 'output': \"The Maryland Department of Transportation (MDOT) demonstrates a proactive approach towards climate resilience, particularly in governance and executive level engagement and leadership, aligning closely with level 3 criteria of the Climate Resilience Maturity Model (CRMM). The evidence supporting this conclusion includes:\\n\\n1. **Executive Climate Resilience Lead**: MDOT has appointed a Director for the Office of Climate Change Resilience and Adaptation, indicating a dedicated leadership role focused on climate resilience ([LinkedIn Profile of Sandy Hertz](https://www.linkedin.com/in/sandy-hertz-95091715)).\\n\\n2. **Risk Committee and Reporting**: MDOT's actions and strategic investments in climate resilience are documented in various reports, suggesting an organized approach to tracking and reporting on physical climate risks, plans, and actions. This is indicative of a risk committee's involvement in overseeing climate resilience efforts ([MDOT TRIP Report 2024](https://www.mdot.maryland.gov/OPCP/MDOT_TRIP_Report_2024_Final.pdf), [MDOT Climate Pollution Reduction Plan 2023](https://www.mdot.maryland.gov/OPCP/MDOT_CPRP_2023_Final.pdf)).\\n\\n3. **Integration into Business Processes**: MDOT integrates climate adaptation and resilience into its business processes, as evidenced by the MDOT State Highway Administration's (SHA) Climate Resilience Strategy. This strategy outlines opportunities for integrating vulnerability assessment results and climate risk analyses into existing asset management systems and processes ([2021 MDOT State Agency Report](https://mde.maryland.gov/programs/air/ClimateChange/MCCC/Publications/2021%20MDOT%20State%20Agency%20Report_v4.pdf)).\\n\\n4. **Comprehensive Approach to Resilience**: MDOT's comprehensive approach to enhancing the state's multimodal transportation infrastructure resilience includes understanding and assessing transportation system vulnerabilities, integrating climate adaptation and resilience into business processes, and collaborating with stakeholders ([2021 MDOT State Agency Report](https://mde.maryland.gov/programs/air/ClimateChange/MCCC/Publications/2021%20MDOT%20State%20Agency%20Report_v4.pdf), [MDOT Environmental Protection 2022 Report](https://www.mdot.maryland.gov/OPCP/2022_AR_Environmental_Protection.pdf)).\\n\\n5. **Establishment of OCCRA**: The Office of Climate Change Resilience and Adaptation (OCCRA) was established in June 2021, further emphasizing MDOT's commitment to climate resilience and adaptation efforts ([2021 MDOT State Agency Report](https://mde.maryland.gov/programs/air/ClimateChange/MCCC/Publications/2021%20MDOT%20State%20Agency%20Report_v4.pdf)).\\n\\nBased on the evidence, MDOT has established a dedicated leadership role for climate resilience, integrated climate resilience into its business processes, and demonstrated a comprehensive approach to addressing climate risks. These actions align with the level 3 criteria of the CRMM, indicating a mature process management that includes deliberate process optimization and improvement in the area of Governance – Executive Level Engagement and Leadership.\"}"
      ]
     },
     "execution_count": 101,
     "metadata": {},
     "output_type": "execute_result"
    }
   ],
   "source": [
    "# Actually runs the RAG! Returns a dict of inputs (from prompt defined above) and output\n",
    "agent_executor.invoke(test_input_dict)"
   ]
  },
  {
   "cell_type": "markdown",
   "id": "93567d6e-8073-4396-a2b1-2ab689f81c4e",
   "metadata": {},
   "source": [
    "### Delmarva Power's Climate Risk Maturity Model Summary (Issues with mitigation/resilience differentiation)\r\n",
    "\r\n",
    "#### Capability 1: Governance – Executive Level Engagement and Leadership\r\n",
    "- **Summary:** Delmarva Power has demonstrated a commitment to addressing climate change and resilience through executive leadership involvement and public statements of intent.\r\n",
    "- **Evidence:** The company has made public commitments to address climate change and resilience, including the release of a Responsibility and Impact Report outlining efforts to address climate change. [Source](https://www.delmarva.com/News/Pages/NewsReleases/DelmarvaPowerReleases2020ResponsibilityandImpactReportOutliningtheCompany%E2%80%99sEffortstoHelpDriveEquity,AddressClimateChange.aspx)\r\n",
    "\r\n",
    "#### Capability 2: Climate-Aware Planning\r\n",
    "- **Summary:** Delmarva Power is actively engaged in climate-aware planning, with specific programs aimed at energy efficiency and infrastructure improvements.\r\n",
    "- **Evidence:** The company has proposed programs expected to save over 80,000-megawatt hours of electricity and has planned more than $430 million worth of improvements through 2024. [Source](https://delawarebusinessnow.com/2023/06/delmarva-power-proposes-residential-energy-efficiency-programs/)\r\n",
    "\r\n",
    "#### Capability 3: Stakeholder and Community Collaboration\r\n",
    "- **Summary:** Delmarva Power collaborates with local non-profits and community organizations to support resilience and community needs.\r\n",
    "- **Evidence:** The company partners with over 200 local non-profits in Delaware and Maryland to support community resilience and connectedness. [Source](https://www.pr-inside.com/delmarva-power-delivers-more-than-energy-for-its-community-r4982277.htm)\r\n",
    "\r\n",
    "#### Capability 4: Resilience and Adaptation Actions\r\n",
    "- **Summary:** Delmarva Power has initiated significant actions to advance clean energy, combat climate change, and build resilience in Maryland.\r\n",
    "- **Evidence:** The company announced a major climate change commitment, including a multi-faceted effort to help Maryland achieve its clean energy and climate goals. [Source](https://www.delmarva.com/News/Pages/NewsReleases/DelmarvaPowerTakingMajorActiontoAdvanceCleanEnergy,CombatClimateChangeandBuildResilienceinMaryland.aspx)\r\n",
    "\r\n",
    "#### Capability 5: Customer Engagement and Coordination\r\n",
    "- **Summary:** Delmarva Power engages with customers through energy efficiency programs and efforts to enhance electric grid reliability.\r\n",
    "- **Evidence:** The company has proposed energy efficiency programs for Delaware customers and has reinforced the local energy grid to reduce electric outages. [Source](https://delawarebusinessnow.com/2023/06/delmarva-power-proposes-residential-energy-efficiency-programs/)\r\n",
    "\r\n",
    "#### Capability 6: Attention to Equity\r\n",
    "- **Summary:** Delmarva Power actively engages in supporting economically challenged communities through its planning processes and grant programs.\r\n",
    "- **Evidence:** The Sustainable Communities Grant Program provides $75,000 in grants annually for environmental projects and resilience projects in economically challenged communities. [Source](https://delawarebusinesstimes.com/news-briefs/delmarva-open-space-grants/)\r\n",
    "\r\n",
    "Delmarva Power's efforts across these capabilities indicate a proactive approach to climate resilience and adaptation, with a notable emphasis on community collaboration and equity.ased on available evidence."
   ]
  },
  {
   "cell_type": "markdown",
   "id": "8146678e-b4b0-4058-b107-b056fde92053",
   "metadata": {},
   "source": [
    "#### Capability 1: Governance – Executive Level Engagement and Leadership\n",
    "- **Summary:** Delmarva Power demonstrates initial steps towards climate resilience governance with advocacy for energy assistance but lacks direct evidence of a structured climate resilience governance framework.\n",
    "- **Evidence:**\n",
    "  - Advocacy for Low-Income Home Energy Assistance Program (LIHEAP) funding [Source](https://www.marketscreener.com/quote/stock/EXELON-CORPORATION-13963/news/Delmarva-Power-Advocates-for-Continued-Energy-Assistance-Funding-and-Reminds-Customers-To-Act-Now-To-45933752/).\n",
    "\n",
    "#### Capability 2: Climate-Aware Planning\n",
    "- **Summary:** Delmarva Power is in the initial stages of climate-aware planning, focusing on energy efficiency and customer savings without specific mention of climate resilience planning.\n",
    "- **Evidence:**\n",
    "  - Introduction of energy-saving programs [Source](https://www.delawarepublic.org/delaware-headlines/2023-06-11/delmarva-power-introduces-four-new-energy-saving-programs).\n",
    "\n",
    "#### Capability 3: Stakeholder and Community Collaboration\n",
    "- **Summary:** Delmarva Power engages in stakeholder and community collaboration through partnerships and programs aimed at environmental benefits and energy savings, indicating initial efforts in this capability.\n",
    "- **Evidence:**\n",
    "  - Partnership with the Arbor Day Foundation for tree distribution [Source](https://www.csrwire.com/press_releases/795501-delmarva-power-and-arbor-day-foundation-provide-free-trees-energy-efficient).\n",
    "\n",
    "#### Capability 4: Resilience and Adaptation Actions\n",
    "- **Summary:** Delmarva Power has taken initial resilience and adaptation actions focused on clean energy and climate goals, but specific resilience measures against climate impacts are not detailed.\n",
    "- **Evidence:**\n",
    "  - Major climate change commitment announcement [Source](https://www.delmarva.com/News/Pages/NewsReleases/DelmarvaPowerTakingMajorActiontoAdvanceCleanEnergy,CombatClimateChangeandBuildResilienceinMaryland.aspx).\n",
    "\n",
    "#### Capability 5: Customer Engagement and Coordination\n",
    "- **Summary:** Delmarva Power is actively engaging customers through energy-saving programs and assistance, showing initial steps towards customer engagement and coordination in the context of climate resilience.\n",
    "- **Evidence:**\n",
    "  - Energy assistance and energy-saving programs [Source](https://www.streetinsider.com/Accesswire/Delmarva+Power+Advocates+for+Continued+Energy+Assistance+Funding+and+Reminds+Customers+To+Act+Now+To+Secure+Support/22755948.html).\n",
    "\n",
    "#### Capability 6: Attention to Equity\n",
    "- **Summary:** Delmarva Power demonstrates an initial commitment to equity through grants for open space and resiliency projects, though direct evidence of active engagement in resilience planning with economically challenged communities is limited.\n",
    "- **Evidence:**\n",
    "  - Sustainable Communities Grant Program [Source](https://delawarebusinesstimes.com/news-briefs/delmarva-open-space-grants/).\n",
    "\n",
    "In summary, Delmarva Power is taking initial steps across several capabilities defined in the Climate Resilience Maturity Model, with evidence of engagement in energy efficiency, advocacy for assistance programs, and environmental benefits. However, there is a need for more direct evidence of structured governance, detailed climate-aware planning, and specific resilience and adaptation actions directly addressing climate resilience."
   ]
  },
  {
   "cell_type": "code",
   "execution_count": null,
   "id": "f003b828-8474-433d-a486-17ec2b61a94c",
   "metadata": {},
   "outputs": [],
   "source": []
  }
 ],
 "metadata": {
  "kernelspec": {
   "display_name": "Python 3 (ipykernel)",
   "language": "python",
   "name": "python3"
  },
  "language_info": {
   "codemirror_mode": {
    "name": "ipython",
    "version": 3
   },
   "file_extension": ".py",
   "mimetype": "text/x-python",
   "name": "python",
   "nbconvert_exporter": "python",
   "pygments_lexer": "ipython3",
   "version": "3.12.1"
  }
 },
 "nbformat": 4,
 "nbformat_minor": 5
}
