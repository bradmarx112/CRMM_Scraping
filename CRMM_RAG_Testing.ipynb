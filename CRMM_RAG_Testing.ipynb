{
 "cells": [
  {
   "cell_type": "code",
   "execution_count": 14,
   "id": "b8fa454b-3b6f-4d6a-8b22-6a5c82c62d70",
   "metadata": {},
   "outputs": [],
   "source": [
    "from langchain import hub\n",
    "\n",
    "from langchain_community.tools.tavily_search import TavilySearchResults\n",
    "from langchain.utilities.tavily_search import TavilySearchAPIWrapper\n",
    "\n",
    "from langchain.tools import BraveSearch, BaseTool, StructuredTool, tool\n",
    "\n",
    "from langchain_openai import ChatOpenAI\n",
    "\n",
    "from langchain.agents import AgentExecutor\n",
    "from langchain.agents import create_openai_tools_agent\n",
    "\n",
    "from langchain_core.prompts import ChatPromptTemplate, SystemMessagePromptTemplate, PromptTemplate, chat\n",
    "from langchain.schema import AIMessage, HumanMessage, SystemMessage\n",
    "\n",
    "from langchain.pydantic_v1 import BaseModel, Field\n",
    "\n",
    "from typing import Optional, Type"
   ]
  },
  {
   "cell_type": "markdown",
   "id": "43fc4640-e7c6-443a-b054-24288b90d108",
   "metadata": {},
   "source": [
    "## Build Web Searching Tool (Tavily) for Agent"
   ]
  },
  {
   "cell_type": "code",
   "execution_count": 9,
   "id": "07400512-4c66-4f1c-9df4-b0f91c725d9f",
   "metadata": {},
   "outputs": [],
   "source": [
    "search = TavilySearchAPIWrapper()\n",
    "tavily_tool = TavilySearchResults(api_wrapper=search)"
   ]
  },
  {
   "cell_type": "code",
   "execution_count": null,
   "id": "d613471a-f61a-433d-b13d-e9a8c6613d28",
   "metadata": {},
   "outputs": [],
   "source": [
    "tavily_tool.invoke(\"Baltimore Gas and Electric climate-aware planning\")"
   ]
  },
  {
   "cell_type": "markdown",
   "id": "eac62f68-9935-4985-a103-2dbf9c3df911",
   "metadata": {},
   "source": [
    "## Build Backup Search Tool"
   ]
  },
  {
   "cell_type": "code",
   "execution_count": 17,
   "id": "eda84b54-3a82-4970-b3cd-a679cc8d3308",
   "metadata": {},
   "outputs": [],
   "source": [
    "brave_api='BSAmw298lpAtPuiP5crDrAtOpGPgf5U'"
   ]
  },
  {
   "cell_type": "code",
   "execution_count": 18,
   "id": "dc7b3860-a89e-403d-b9db-0dcf88d09878",
   "metadata": {},
   "outputs": [],
   "source": [
    "brave_tool = BraveSearch.from_api_key(api_key=brave_api, search_kwargs={\"count\": 4}, description='a search engine. useful to use when other tools do not return results.')"
   ]
  },
  {
   "cell_type": "code",
   "execution_count": null,
   "id": "90b65198-3b34-44a5-90f3-921e949a54ea",
   "metadata": {},
   "outputs": [],
   "source": [
    "brave_tool.invoke(\"Baltimore Gas and Electric climate-aware planning\")"
   ]
  },
  {
   "cell_type": "code",
   "execution_count": 20,
   "id": "7351f30a-f72d-4903-8a54-b335de84f146",
   "metadata": {},
   "outputs": [],
   "source": [
    "class SearchInput(BaseModel):\n",
    "    query: str = Field(description=\"should be a search query\")\n",
    "\n",
    "\n",
    "class CustomSearchTool(BaseTool):\n",
    "    name = \"custom_search\"\n",
    "    description = \"useful for when you need to answer questions using the internet.\"\n",
    "    args_schema: Type[BaseModel] = SearchInput\n",
    "\n",
    "    def __init__(self, tavily, brave): \n",
    "        self.tavily = tavily\n",
    "        self.brave = brave\n",
    "\n",
    "    def _run(\n",
    "        self, query: str) -> str:\n",
    "        \"\"\"Use the tool.\"\"\"\n",
    "        output = self.tavily.run(query)\n",
    "        if not output:\n",
    "            output = self.brave.run(query)\n",
    "        \n",
    "        return output\n",
    "\n",
    "    async def _arun(\n",
    "        self, query: str) -> str:\n",
    "        \"\"\"Use the tool asynchronously.\"\"\"\n",
    "        raise NotImplementedError(\"custom_search does not support async\")\n"
   ]
  },
  {
   "cell_type": "code",
   "execution_count": 21,
   "id": "0bd35eb2-a581-4bb4-b1de-1d76c9f22acd",
   "metadata": {},
   "outputs": [
    {
     "ename": "ValueError",
     "evalue": "\"CustomSearchTool\" object has no field \"tavily\"",
     "output_type": "error",
     "traceback": [
      "\u001b[1;31m---------------------------------------------------------------------------\u001b[0m",
      "\u001b[1;31mValueError\u001b[0m                                Traceback (most recent call last)",
      "Cell \u001b[1;32mIn[21], line 1\u001b[0m\n\u001b[1;32m----> 1\u001b[0m custom_search \u001b[38;5;241m=\u001b[39m \u001b[43mCustomSearchTool\u001b[49m\u001b[43m(\u001b[49m\u001b[43mtavily_tool\u001b[49m\u001b[43m,\u001b[49m\u001b[43m \u001b[49m\u001b[43mbrave_tool\u001b[49m\u001b[43m)\u001b[49m\n",
      "Cell \u001b[1;32mIn[20], line 11\u001b[0m, in \u001b[0;36mCustomSearchTool.__init__\u001b[1;34m(self, tavily, brave)\u001b[0m\n\u001b[0;32m     10\u001b[0m \u001b[38;5;28;01mdef\u001b[39;00m \u001b[38;5;21m__init__\u001b[39m(\u001b[38;5;28mself\u001b[39m, tavily, brave): \n\u001b[1;32m---> 11\u001b[0m     \u001b[38;5;28;43mself\u001b[39;49m\u001b[38;5;241;43m.\u001b[39;49m\u001b[43mtavily\u001b[49m \u001b[38;5;241m=\u001b[39m tavily\n\u001b[0;32m     12\u001b[0m     \u001b[38;5;28mself\u001b[39m\u001b[38;5;241m.\u001b[39mbrave \u001b[38;5;241m=\u001b[39m brave\n",
      "File \u001b[1;32m~\\anaconda3\\envs\\crmm_ai\\Lib\\site-packages\\pydantic\\v1\\main.py:357\u001b[0m, in \u001b[0;36mBaseModel.__setattr__\u001b[1;34m(self, name, value)\u001b[0m\n\u001b[0;32m    354\u001b[0m     \u001b[38;5;28;01mreturn\u001b[39;00m object_setattr(\u001b[38;5;28mself\u001b[39m, name, value)\n\u001b[0;32m    356\u001b[0m \u001b[38;5;28;01mif\u001b[39;00m \u001b[38;5;28mself\u001b[39m\u001b[38;5;241m.\u001b[39m__config__\u001b[38;5;241m.\u001b[39mextra \u001b[38;5;129;01mis\u001b[39;00m \u001b[38;5;129;01mnot\u001b[39;00m Extra\u001b[38;5;241m.\u001b[39mallow \u001b[38;5;129;01mand\u001b[39;00m name \u001b[38;5;129;01mnot\u001b[39;00m \u001b[38;5;129;01min\u001b[39;00m \u001b[38;5;28mself\u001b[39m\u001b[38;5;241m.\u001b[39m__fields__:\n\u001b[1;32m--> 357\u001b[0m     \u001b[38;5;28;01mraise\u001b[39;00m \u001b[38;5;167;01mValueError\u001b[39;00m(\u001b[38;5;124mf\u001b[39m\u001b[38;5;124m'\u001b[39m\u001b[38;5;124m\"\u001b[39m\u001b[38;5;132;01m{\u001b[39;00m\u001b[38;5;28mself\u001b[39m\u001b[38;5;241m.\u001b[39m\u001b[38;5;18m__class__\u001b[39m\u001b[38;5;241m.\u001b[39m\u001b[38;5;18m__name__\u001b[39m\u001b[38;5;132;01m}\u001b[39;00m\u001b[38;5;124m\"\u001b[39m\u001b[38;5;124m object has no field \u001b[39m\u001b[38;5;124m\"\u001b[39m\u001b[38;5;132;01m{\u001b[39;00mname\u001b[38;5;132;01m}\u001b[39;00m\u001b[38;5;124m\"\u001b[39m\u001b[38;5;124m'\u001b[39m)\n\u001b[0;32m    358\u001b[0m \u001b[38;5;28;01melif\u001b[39;00m \u001b[38;5;129;01mnot\u001b[39;00m \u001b[38;5;28mself\u001b[39m\u001b[38;5;241m.\u001b[39m__config__\u001b[38;5;241m.\u001b[39mallow_mutation \u001b[38;5;129;01mor\u001b[39;00m \u001b[38;5;28mself\u001b[39m\u001b[38;5;241m.\u001b[39m__config__\u001b[38;5;241m.\u001b[39mfrozen:\n\u001b[0;32m    359\u001b[0m     \u001b[38;5;28;01mraise\u001b[39;00m \u001b[38;5;167;01mTypeError\u001b[39;00m(\u001b[38;5;124mf\u001b[39m\u001b[38;5;124m'\u001b[39m\u001b[38;5;124m\"\u001b[39m\u001b[38;5;132;01m{\u001b[39;00m\u001b[38;5;28mself\u001b[39m\u001b[38;5;241m.\u001b[39m\u001b[38;5;18m__class__\u001b[39m\u001b[38;5;241m.\u001b[39m\u001b[38;5;18m__name__\u001b[39m\u001b[38;5;132;01m}\u001b[39;00m\u001b[38;5;124m\"\u001b[39m\u001b[38;5;124m is immutable and does not support item assignment\u001b[39m\u001b[38;5;124m'\u001b[39m)\n",
      "\u001b[1;31mValueError\u001b[0m: \"CustomSearchTool\" object has no field \"tavily\""
     ]
    }
   ],
   "source": [
    "custom_search = CustomSearchTool(tavily_tool, brave_tool)"
   ]
  },
  {
   "cell_type": "markdown",
   "id": "6a39d6b4-3816-44fa-943e-af84beb07c9b",
   "metadata": {},
   "source": [
    "## Get CRMM Text file "
   ]
  },
  {
   "cell_type": "code",
   "execution_count": 5,
   "id": "92ac98ce-40c0-4ca3-abab-fa37cd96f06c",
   "metadata": {},
   "outputs": [],
   "source": [
    "with open('Climate Resilience Maturity Model.txt', \"r\", encoding='utf-8') as f:\n",
    "    crmm_raw = f.read()\n",
    "# crmm_raw"
   ]
  },
  {
   "cell_type": "markdown",
   "id": "0d983cfa-ccee-483b-b003-29d22202feb8",
   "metadata": {},
   "source": [
    "## Build Chat Prompt for Agent"
   ]
  },
  {
   "cell_type": "code",
   "execution_count": 6,
   "id": "ce1f47fc-695d-4be0-b10c-6172739ba613",
   "metadata": {},
   "outputs": [],
   "source": [
    "chat_prompt = ChatPromptTemplate.from_messages([SystemMessagePromptTemplate(prompt=PromptTemplate(input_variables=['crmm_info'], \n",
    "                    template=\"You are an analyst who uses the Climate Risk Maturity Model to summarize how infrastructure providers\" \n",
    "                     \" are preparing for climate change. You are critical of providers, and only give them credit for progress in a capability if specific and direct evidence is provided.\" \n",
    "                     \" The Climate Risk Maturity Model is explained below:\\n####\\n{crmm_info}\\n####\")),\n",
    "                chat.MessagesPlaceholder(variable_name='chat_history', optional=True),\n",
    "                chat.HumanMessagePromptTemplate(prompt=PromptTemplate(input_variables=['org_name'], template=\"Summarize how the organization, {org_name} is operating with respect to each of the six capabilities \"\n",
    "                     \"defined in the Climate Risk Maturity Model. For each capability, provide a one sentence summary of their progress, and list the specific evidence that led to the conclusion. Research \"\n",
    "                     \"the provider with respect to each capability if necessary.\")),\n",
    "                chat.MessagesPlaceholder(variable_name='agent_scratchpad')])"
   ]
  },
  {
   "cell_type": "markdown",
   "id": "c3f1af9d-0df8-424d-9b30-59c3166ef212",
   "metadata": {},
   "source": [
    "## Create the Agent"
   ]
  },
  {
   "cell_type": "code",
   "execution_count": 8,
   "id": "580bec80-4157-4864-a065-14f8aad2c9ae",
   "metadata": {},
   "outputs": [],
   "source": [
    "# Define the model (GPT-4)\n",
    "llm = ChatOpenAI(model=\"gpt-4-turbo-preview\", temperature=0.25)"
   ]
  },
  {
   "cell_type": "code",
   "execution_count": 9,
   "id": "727b5794-f812-4cb2-a0e5-e689b47a0c3f",
   "metadata": {},
   "outputs": [],
   "source": [
    "# Define agent\n",
    "tools = [brave_tool, tavily_tool]\n",
    "agent = create_openai_tools_agent(llm, tools, chat_prompt)"
   ]
  },
  {
   "cell_type": "code",
   "execution_count": 10,
   "id": "74195fbf-cbbe-4df6-970f-bf4b142924f5",
   "metadata": {},
   "outputs": [],
   "source": [
    "# Define agent executor\n",
    "agent_executor = AgentExecutor(agent=agent, tools=tools, verbose=True)\n"
   ]
  },
  {
   "cell_type": "markdown",
   "id": "19b1a910-5779-485f-b4bd-945195161f87",
   "metadata": {},
   "source": [
    "## Running the Agent"
   ]
  },
  {
   "cell_type": "code",
   "execution_count": 11,
   "id": "7a0b5780-d5c3-4f0c-9c26-04b9535140ef",
   "metadata": {},
   "outputs": [],
   "source": [
    "## Running the Agent\n",
    "test_input_dict = {\n",
    "    'crmm_info': crmm_raw,\n",
    "    'org_name': 'Baltimore Gas and Electric'\n",
    "}\n"
   ]
  },
  {
   "cell_type": "code",
   "execution_count": 12,
   "id": "0e913d32-8979-40e0-96d1-6adc12d990c1",
   "metadata": {},
   "outputs": [
    {
     "name": "stdout",
     "output_type": "stream",
     "text": [
      "\n",
      "\n",
      "\u001b[1m> Entering new AgentExecutor chain...\u001b[0m\n",
      "\u001b[32;1m\u001b[1;3m\n",
      "Invoking: `tavily_search_results_json` with `{'query': 'Baltimore Gas and Electric executive level engagement and leadership in climate resilience'}`\n",
      "\n",
      "\n",
      "\u001b[0m\u001b[33;1m\u001b[1;3m[{'url': 'https://www.ethree.com/e3-releases-integrated-decarbonization-study-for-baltimore-gas-and-electric/', 'content': \"NEWS: Energy and environmental policy E3 Releases Integrated Decarbonization Study for Baltimore Gas and Electric  NEWS: Energy and environmental policy E3 Releases Integrated Decarbonization Study for Baltimore Gas and Electric  the largest utility in Maryland, BGE has a critical role to play and is a key partner in decarbonizing the Maryland  The study finds that there are multiple paths to decarbonization and any future that meets Maryland’s net zero goalsE3 Releases Integrated Decarbonization Study for Baltimore Gas and Electric. October 7, 2022. The State of Maryland has begun its transition to a deeply decarbonized economy, building upon over a decade of climate change mitigation efforts, including work led by the State. To achieve the State's climate goals, which were updated and ...\"}, {'url': 'https://insideclimatenews.org/news/28102022/baltimore-climate-lab-adaptation-resilience/', 'content': 'group of Baltimore residents of what they need and desire for climate mitigation and adaptation strategies through  Science A Big Federal Grant Aims to Make Baltimore a Laboratory for Climate Change Adaptation and Resilience  and environmental factors interact across Baltimore and develop adaptation strategies to make the city climate-change  protect vulnerable residents and communities from extreme weather, flooding, urban heat islands and fossil fuelAn aerial view of Baltimore city skyline on Dec. 1, 2016 in Baltimore, Maryland. Credit: Patrick Smith/Getty Images'}, {'url': 'https://www.exeloncorp.com/leadership-and-governance/executives/carim-v-khouzami', 'content': \"Carim V. Khouzami President and Chief Executive Officer Baltimore Gas and Electric Company (BGE)  He has held other leadership roles within financial, strategic, and operational roles at Exelon and BGE.  Corporation, Bridges Baltimore, and Baltimore’s Promise. He is also on the Exelon Foundation Board.  electric and more than 700,000 gas customers in central Maryland.Download Bio Carim V. Khouzami is the president and chief executive officer of Baltimore Gas and Electric Company (BGE), the nation's first gas utility. Khouzami oversees safety, reliability, customer service, financial performance and BGE's commitment to creating an inclusive culture.\"}, {'url': 'https://www.bgenow.com/2021/11/19/bge-announces-senior-leadership-changes/', 'content': \"business, and Exelon, the regulated utility business that includes BGE. Corporate and operating company leadership  for a number of key initiatives in her current role, including driving the accelerated electrification of BGE’s vehicle  recent role, Rodney oversaw teams that advocated for sound energy policy development benefitting BGE customers,  vehicle initiatives that position Exelon as a leader in addressing climate change.\\xa0 Denise is excited to be returningShare We are pleased to announce several leadership changes as work continues on the separation of BGE's parent company into two independent businesses: Constellation, the generation and competitive energy business, and Exelon, the regulated utility business that includes BGE.\"}]\u001b[0m\u001b[32;1m\u001b[1;3m\n",
      "Invoking: `tavily_search_results_json` with `{'query': 'Baltimore Gas and Electric climate-aware planning'}`\n",
      "\n",
      "\n",
      "\u001b[0m\u001b[33;1m\u001b[1;3m[]\u001b[0m\u001b[32;1m\u001b[1;3m\n",
      "Invoking: `tavily_search_results_json` with `{'query': 'Baltimore Gas and Electric stakeholder and community collaboration on climate resilience'}`\n",
      "\n",
      "\n",
      "\u001b[0m\u001b[33;1m\u001b[1;3m[{'url': 'https://hub.jhu.edu/2023/02/15/baltimore-social-environmental-collaborative/', 'content': \"BSEC aims to develop ways to help Baltimore and other cities adapt to climate hazards and pursue decarbonization goals  Credit: Getty Images Defending Baltimore against climate change  justice issues in the city and the challenges and opportunities facing Baltimore's climate future.  Association, Baltimore Gas and Electric, the NOAA Mid-Atlantic Regional Integrated Research and Assessments program,Feb 15, 2023 — Feb 15, 2023The partnership, called the Baltimore Social-Environmental Collaborative, or BSEC, received a $24.5 million grant from the U.S. Department of\\xa0...\"}, {'url': 'https://www.linkedin.com/posts/stephendbennett_2024-baltimore-forum-on-climate-linked-economics-activity-7153755425014784000-p2zH', 'content': 'https://lnkd.in/eV7kmcBW 2024 Baltimore Forum on Climate Linked Economics To view or add a comment, sign in  https://lnkd.in/ekysED8A 2024 Baltimore Forum on Climate Linked Economics To view or add a comment, sign in  https://lnkd.in/eb8QNpqt 2024 Baltimore Forum on Climate Linked Economics To view or add a comment, sign in  2024 Baltimore Forum on Climate Linked Economics To view or add a comment, sign in Co-Founder at The Demex GroupThis is critical to improving community resilience. ... collaborative approach to developing a clean energy and climate resilience research agenda\\xa0...'}, {'url': 'https://www.tdworld.com/transmission-reliability/article/21276745/bge-plans-for-equitable-resiliency', 'content': 'governments for enhanced grid resilience, with an emphasis on communities disproportionately impacted by climate change  a climate-resilient grid while ensuring everyone reaps the benefits.  utility, municipal and industry stakeholders in the energy and water sectors. He has a MS, Energy Policy and Climate  utilities are now developing\\xa0climate risk and adaptation plans.Dec 8, 2023 — Dec 8, 2023SEPA and BGE pilot a tool to deliver resilient energy that is both cost effective and sustainable.'}, {'url': 'https://www.wypr.org/wypr-news/2024-01-18/baltimore-county-being-asked-to-mandate-new-electric-homes', 'content': 'Maryland’s long-term goal is for net-zero greenhouse gas emissions by 2045.  Baltimore County being asked to mandate new electric homes  Advocates are pushing for Baltimore County to ditch natural gas in new homes and require that they be all electric.  the state to meet its goal of reducing greenhouse gas emissions 60% by 2031.Jan 18, 2024 — Jan 18, 2024Advocates are pushing for Baltimore County to ditch natural gas in new homes and require that they be all electric.'}, {'url': 'https://www.mdcleanenergy.org/policywatch2024/', 'content': 'the Commission on Climate Change.  and applying the Act to all renewable energy portfolio standard compliance years starting on or after January 1, 2024.  02.12.24 Favorable with Amendments Report by Education, Energy, and the Environment HB0323  Synopsis: Requiring the Department of the Environment, on or before October 1, 2025, to develop outdoor lighting02.12.24 Favorable with Amendments Report by Education, Energy, and the Environment ... SB0861: Public Utilities - High-Energy-Use Facilities - Greenhouse Gas\\xa0...'}]\u001b[0m\u001b[32;1m\u001b[1;3m\n",
      "Invoking: `tavily_search_results_json` with `{'query': 'Baltimore Gas and Electric resilience and adaptation actions for climate change'}`\n",
      "\n",
      "\n",
      "\u001b[0m\u001b[33;1m\u001b[1;3m[{'url': 'https://insideclimatenews.org/news/28102022/baltimore-climate-lab-adaptation-resilience/', 'content': 'group of Baltimore residents of what they need and desire for climate mitigation and adaptation strategies through  and environmental factors interact across Baltimore and develop adaptation strategies to make the city climate-change  Science A Big Federal Grant Aims to Make Baltimore a Laboratory for Climate Change Adaptation and Resilience  protect vulnerable residents and communities from extreme weather, flooding, urban heat islands and fossil fuelOct 28, 2022 — Oct 28, 2022The project is expected to enable authorities to adopt equitable energy and climate solutions needed to reimagine cities that can withstand\\xa0...'}, {'url': 'https://www.baltimoresustainability.org/plans/climate-action-plan/', 'content': \"connections between climate, flooding, adaptation, and resiliency in Baltimore and evaluate new and ambitious  Baltimore Office of Sustainability Follow us Search the Site Climate Action Plan  2017 Baltimore GHG Emissions Inventory Report  The 2019 Sustainability Plan updated the greenhouse gas reduction goal in our 2012 Climate Action Plan. Baltimore nowClimate Action Plan · Baltimore's Goal: 30% reduction in carbon emissions by 2025, a 60% reduction by 2030, and full carbon neutrality - or 100% reduction in net\\xa0...\"}, {'url': 'https://www.tdworld.com/transmission-reliability/article/21276745/bge-plans-for-equitable-resiliency', 'content': 'governments for enhanced grid resilience, with an emphasis on communities disproportionately impacted by climate change  utilities are now developing\\xa0climate risk and adaptation plans.  customers disproportionately impacted by climate events enabling utilities take preventive measures.  Building ResilienceDec 8, 2023 — Dec 8, 2023SEPA and BGE pilot a tool to deliver resilient energy that is both cost effective and sustainable.'}]\u001b[0m\u001b[32;1m\u001b[1;3m\n",
      "Invoking: `tavily_search_results_json` with `{'query': 'Baltimore Gas and Electric customer engagement and coordination for climate resilience'}`\n",
      "\n",
      "\n",
      "\u001b[0m\u001b[33;1m\u001b[1;3m[]\u001b[0m\u001b[32;1m\u001b[1;3m\n",
      "Invoking: `tavily_search_results_json` with `{'query': 'Baltimore Gas and Electric attention to equity in climate resilience planning'}`\n",
      "\n",
      "\n",
      "\u001b[0m\u001b[33;1m\u001b[1;3m[{'url': 'https://www.baltimoresun.com/2023/10/30/bge-ceo-planning-for-net-zero-carbon-emissions-in-2045-requires-balance-guest-commentary/', 'content': \"We’ve proposed a plan that puts us on a path to create a better energy future for our communities — BGE’s 2024-2026  Baltimore Sun eNewspaper Sign up for email newsletters BGE CEO: Planning for net zero carbon emissions… Share this:  It’s one of the reasons the state of Maryland’s Climate Solutions Now Act calls for net-zero carbon emissions by 2045.  while taking advantage of the resiliency and cost savings provided by our gas infrastructure.Oct 30, 2023 — Oct 30, 2023We've proposed a plan that puts us on a path to create a better energy future for our communities — BGE's 2024-2026 Multi-Year Rate Plan — which\\xa0...\"}, {'url': 'https://www.tdworld.com/transmission-reliability/article/21276745/bge-plans-for-equitable-resiliency', 'content': 'BGE Plans for Equitable Resiliency  governments for enhanced grid resilience, with an emphasis on communities disproportionately impacted by climate change  utilities are now developing\\xa0climate risk and adaptation plans.  a climate-resilient grid while ensuring everyone reaps the benefits.Dec 8, 2023 — Dec 8, 2023SEPA and BGE pilot a tool to deliver resilient energy that is both cost effective and sustainable.'}, {'url': 'https://www.wbaltv.com/article/2024-maryland-state-plan-government-priorities/46685637', 'content': 'care, clean energy and public service in Maryland.  \"Investing in education is also preparation for Maryland\\'s competitive and fair future,\" the plan states.  The 2024 state plan would further those efforts.  Search location by ZIP code 2024 Maryland State Plan prioritizes safety, affordability, competitiveness, service4 days ago — 4 days agoMaryland Gov. Wes Moore introduced his 2024 State Plan to implement his administration\\'s vision for progress in state government.'}, {'url': 'https://opc.maryland.gov/LinkClick.aspx?fileticket=yiwt8S8FzZE%3D&tabid=55&portalid=0&mid=1487', 'content': 'm�’qéñ‚‚\\x15ËÉq�Z\\x12‚Â1A-\\x14ŸÌ\\x15*Ô§–‹ù\\x05BL\\x1f…:/£6QM\\xa0\\x02‚bT\\x19\\xadª\\\\h,ªT-“u©�ôyªæ^*¬¯Ø<Õg¾\\x18Õ&#\\'Os©\\\\“¥\\x12Ë×�õf_¤ÿ{\\x0eìëÞ\\x01\\xadêÈöN[¦†d\\x1f_QVAwÈ«¤%Ç  ®ÃÔ²GŽ‡í\\x15\\xadÔ‹\\x01^CÜ\\x14Pù \\x0e\\x06\\x7f\\x17˜ñC*P¢\"´LÙ†º\\x15^ø²»\\x1f:«øÔ\\x11Ñ«0\"á<²\\x19¹\\x01üÖÇcQf|!Nô£Wé\\x03„/ÕëÅs\\xa0ÝiÜ4¹‚Kµ¥‚UE\\x06»Û!¥€6¤Ø’\\\\æ\\x04sgK‚  ËLü,)b\\x16(@\\x1bâ>a4¢Íq:ilþôDÄ*Ì)ä´)\\x16%\\x19EŸØ\\x07pý.l�Ås{~zõ¯x6µº\\xa0sóÔQd—žX´ˆQâ}ð\\x0ezl!/Ä§fÄÁ’×Ì\\x109À  Ÿ\\x7f®¼¾oßŸŽM’ùo\\x13~>÷b÷Eâ½¸ö‰÷\\\\L¾Š�_\\x08œLâr€“ù\\x1bX8²½…¤X²¤,:\\x1f\\x12%¯ÏíëlqÛ\\x04oB2áÖ›LyBF‡\\x03äL…í�“tÝ|\\xa0³Ý\\x10\\x12e±Qœ$ò0ÇCEY\\xa0…j\\x04SZ¢©ƒ�©CÉ ê°\\x10Oct 16, 2023 — Oct 16, 2023Climate Change adopted a Building Energy Transition Plan, with specific recommendations for building decarbonization, including for EmPOWER\\xa0...'}]\u001b[0m\u001b[32;1m\u001b[1;3m### Baltimore Gas and Electric's Climate Risk Maturity Model Assessment\n",
      "\n",
      "#### 1. Governance – Executive Level Engagement and Leadership\n",
      "- **Summary:** Baltimore Gas and Electric (BGE) demonstrates a commitment to climate resilience through executive engagement, evidenced by leadership roles and strategic initiatives focused on climate change and energy policy.\n",
      "- **Evidence:**\n",
      "  - Carim V. Khouzami, President and CEO, oversees safety, reliability, customer service, and BGE's commitment to an inclusive culture addressing climate change ([source](https://www.exeloncorp.com/leadership-and-governance/executives/carim-v-khouzami)).\n",
      "  - Leadership changes aimed at addressing climate change through accelerated electrification of BGE’s vehicle fleet and advocating for sound energy policy development ([source](https://www.bgenow.com/2021/11/19/bge-announces-senior-leadership-changes/)).\n",
      "\n",
      "#### 2. Climate-Aware Planning\n",
      "- **Summary:** BGE is actively involved in climate-aware planning, participating in studies and initiatives to decarbonize Maryland's economy and meet net-zero goals.\n",
      "- **Evidence:**\n",
      "  - Participation in an integrated decarbonization study for Maryland, exploring paths to achieve the state’s net-zero goals ([source](https://www.ethree.com/e3-releases-integrated-decarbonization-study-for-baltimore-gas-and-electric/)).\n",
      "\n",
      "#### 3. Stakeholder and Community Collaboration\n",
      "- **Summary:** BGE collaborates with stakeholders and communities on climate resilience, participating in partnerships and initiatives aimed at adapting to climate hazards and pursuing decarbonization goals.\n",
      "- **Evidence:**\n",
      "  - Participation in the Baltimore Social-Environmental Collaborative (BSEC), a partnership aimed at adapting to climate hazards and pursuing decarbonization goals ([source](https://hub.jhu.edu/2023/02/15/baltimore-social-environmental-collaborative/)).\n",
      "\n",
      "#### 4. Resilience and Adaptation Actions\n",
      "- **Summary:** BGE is taking steps towards resilience and adaptation by developing climate risk and adaptation plans, with an emphasis on equitable resiliency.\n",
      "- **Evidence:**\n",
      "  - Development of climate risk and adaptation plans, focusing on equitable resiliency and enhanced grid resilience for communities disproportionately impacted by climate change ([source](https://www.tdworld.com/transmission-reliability/article/21276745/bge-plans-for-equitable-resiliency)).\n",
      "\n",
      "#### 5. Customer Engagement and Coordination\n",
      "- **Summary:** BGE engages with customers and communities to address climate resilience, incorporating feedback into planning and prioritization processes.\n",
      "- **Evidence:**\n",
      "  - BGE's plan for net-zero carbon emissions by 2045 includes engaging communities and balancing resiliency with cost savings ([source](https://www.baltimoresun.com/2023/10/30/bge-ceo-planning-for-net-zero-carbon-emissions-in-2045-requires-balance-guest-commentary/)).\n",
      "\n",
      "#### 6. Attention to Equity\n",
      "- **Summary:** BGE prioritizes equitable resiliency in its climate resilience planning, focusing on communities disproportionately impacted by climate change.\n",
      "- **Evidence:**\n",
      "  - Emphasis on communities disproportionately impacted by climate change in the development of climate risk and adaptation plans ([source](https://www.tdworld.com/transmission-reliability/article/21276745/bge-plans-for-equitable-resiliency)).\n",
      "\n",
      "Baltimore Gas and Electric is actively engaged in addressing climate resilience across multiple capabilities, demonstrating leadership, planning, collaboration, adaptation actions, customer engagement, and a focus on equity.\u001b[0m\n",
      "\n",
      "\u001b[1m> Finished chain.\u001b[0m\n"
     ]
    },
    {
     "data": {
      "text/plain": [
       "{'crmm_info': 'Climate Resilience Maturity Model (CRMM) for Essential Services Providers  \\t   \\n\\nExecutive Summary\\n\\nAll US cities are in some stage of awareness and action related to hardening their infrastructure assets and adapting their critical functions and processes to operate reliably in the more challenging conditions wrought by a changing climate. This model offers a mechanism for entities to baseline their present state and set goals for heightened resilience in the near-midterm future. When aggregated across the six sectors assessed, a city\\'s resilience posture is made visible to all manner of interested stakeholders. Also please note:\\n\\n-\\tCriteria and annual ratings are publicly accessible, though particularly sensitive data may be reserved for USG use.\\n-\\tThis model is fundamentally multi-sector and is designed to take cross-sector interdependencies into full account (e.g., energy, water, communications, transportation, etc.).\\n-\\tIntended to motivate accelerated action, numeric or letter grades for each service provider type are rolled up into a city score.\\n-\\tSeveral large US energy and water utilities have lauded earlier CRMM versions in formal proceedings, and UN personnel have recently inquired whether this model could be applied at regional or national levels. \\n\\n\\nI. Introduction \\n \\nDepending on geography, disruptive and destructive physical forces stemming from or exacerbated by a changing climate are already landing on infrastructures. While decarbonization is the watchword in climate mitigation, utilities, as stewards of our most critical infrastructures, must be proactive in their preparation for present and coming hazards of a kind and/or intensity they\\'ve not yet experienced, but which are projected by climate models. No infrastructure organizations function in a vacuum, so electric, natural gas, communications, transportation, and water and wastewater organizations must update their planning processes and reach out to regulators, stakeholders, and the communities they serve if they are to meet these enormous challenges.  \\n \\nAnd very many organizations and individuals have a stake in understanding whether the utilities serving particular cities or regions are updating their plans and processes ahead of the arrival of material physical climate impacts, or else move more slowly either unaware of the risks, or hoping that nothing too catastrophic will happen on their watch.  Some are in motion and serve as early models for best practices, so the intent of this CRMM is to help guide utilities towards higher levels of maturity in this still relatively young field. In addition, it will help generate a source of comparative data for those with a vested interest in better understanding the state of utilities\\' climate resilience in specific cities and areas. Insurance companies, for example: \\n \\n\"Insurance companies, tired of losing money, are raising rates, restricting coverage or pulling out of some areas altogether — making it more expensive for people to live in their homes. \\'Risk has a price,\\' said Roy Wright, the former official in charge of insurance at the Federal Emergency Management Agency, and now head of the Insurance Institute for Business and Home Safety, a research group. \\'We\\'re just now seeing it.\\'”\\n \\n \\nII. Resilience Defined \\n \\nDefinitions of resilience abound, but this one from Presidential Policy Directive–Critical Infrastructure Security and Resilience (PPD-21) seems particularly apt in specifically recommending proactive planning and action. Resilience is: \\n\"The ability to prepare for and adapt to changing conditions and withstand and recover rapidly from disruptions. Resilience includes the ability to withstand and recover from deliberate attacks, accidents, or naturally occurring threats or incidents.\"  \\n \\n \\nIII. Valuing Resilience in a Physical Climate Risk Context \\n \\nEstimates from the world\\'s largest reinsurance companies vary, but suggest that for every $1 spent proactively on resilience measures, a city saves between $6 and $11 dollars in business interruptions and recovery costs.   When massive storms, floods, fires, freezes and other climate change-exacerbated fast onset and slow onset phenomena arrive, cities whose  providers of essential services have anticipated these events through the incorporation of forward-looking climate model data suffer fewer services disruptions and/or disruptions of lesser magnitudes or durations than those that didn\\'t. Here\\'s a concrete example: \\n \\n\"Two years after a water treatment plant in Greenville, North Carolina flooded in 1999\\'s Hurricane Floyd, the Economic Development Administration gave the city $5 million to protect its facility with a new berm. When Hurricane Matthew struck in 2016, the water treatment plant survived and saved Greenville over $150 million—30 times as much as the cost to protect it.\"  \\nMany parties express keen interest in better understanding the risks to government, industry and residents from the physical forces wrought by a rapidly changing climate. One of the most significant factors in determining how much damage or disruption occurs is the state of preparedness of proximate utilities and other critical services providers. Some prospective parties include: \\n \\n-\\tInsurance and reinsurance companies \\n-\\tCredit ratings firms \\n-\\tFederal and State regulators \\n-\\tEmergency planners and first responders \\n-\\tCommercial and residential property developers and managers\\n-\\tCompanies, families, and individuals considering relocation \\n-\\tCommunity organizations and non-profits interested in supporting community resilience \\n \\nAnd lastly, the energy, water, and other essential services providers themselves. Noting the interdependent relationships of all, the CRMM assesses the status of each of the following services entities: \\n \\n-\\tWater and wastewater \\n-\\tElectricity \\n-\\tCommunications \\n-\\tNatural gas \\n-\\tTransportation, and  \\n-\\tLocal government \\n \\n \\nIV. Maturity Models and Maturity Levels \\n \\nMaturity models are a set of structured levels that describe how well the behaviors, practices and processes of an organization can reliably and sustainably produce required outcomes.  In the case of the CRMM, what\\'s being measured is an organization\\'s ability to address the challenges to reliable operations in a climate that\\'s already producing increasingly difficult physical challenges and promises to get worse and worse over time.  \\n \\nMaturity levels help track the evolution of a capability that contributes to an overall organizational goal, where level 1 is associated with bare minimal capabilities and level 3 connotes a capability that\\'s so well established, it\\'s essentially become a core competency. Here\\'s a quick take on what each level signifies: \\n \\n3. Efficient - process management includes deliberate process optimization/improvement. \\n2. Defined - the process is defined/confirmed as a standard business process \\n1. Initial - the starting point for use of a new or undocumented repeat process. \\n0. No discernable process. \\n  \\n\\nV. Capability Categories\\n \\nVia interviews and review of publicly accessible documentation, six categories are examined and scored with 3 points awarded for the highest levels of maturity or in other words, application of widely agreed best practices. \\n\\n\\u2003\\n\\nCapability 1: Governance – Executive Level Engagement and Leadership\\n3\\n-\\tRisk committee appoints executive climate resilience lead and tracks physical climate mission risks, plans, and actions.  \\n-\\tDepending on organizational and regulatory structure, the risk committee signs off or otherwise weights in on integrated resource plans (IRPs) and other plans to ensure climate risks are addressed adequately.  \\n-\\tPhysical climate risks, plans and actions are briefed to the CEO and Board of Directors (or equivalents) on a recurring basis \\n2\\n-\\tClimate resilience lead has begun giving recurring status briefings to risk committee and others \\n1\\n-\\tEntity has identified a resilience lead and has begun identifying physical climate risks\\n0\\n-\\tAd hoc / no discernable process  \\n\\n\\nThe Resilience Value of Mature Physical Climate Risk Governance \\n \\nOrganizations can rarely act effectively on any critical task if they haven\\'t allocated resources and built structures to affect those actions. In short, those that do identify and empower employees, including senior decision makers, to internally advocate for climate resilience policies, plans and actions will be better positioned to meet the challenges of extreme weather and other climate change-exacerbated risks than those that don\\'t. These appointments also serve as important cultural signals that tend to foster company-wide awareness and alignment.\\n\\n\\n\\n\\nCapability 2: Climate-Aware Planning\\n3\\n-\\tRecurring discussions are held with interdependent entities to monitor their climate resilience plans and policies.  \\n-\\tPlanned asset resilience actions are weighted by considering the impact if current or assets to-be-build were lost.  \\n-\\tClimate resilience considerations inform a wide variety of enterprise planning processes, including long-term infrastructure, financial, maintenance, operational, restoration, business continuity, etc.\\n-\\tSupply chain is analyzed from a climate risk perspective\\n2\\n-\\tClimate resilience lead has begun giving recurring status briefings to risk committee and others \\n1\\n-\\tEntity has identified a resilience lead and has begun identifying physical climate risks\\n0\\n-\\tAd hoc / no discernable process  \\n\\n\\nThe Resilience Value of Mature Physical Climate Risk-Aware Planning \\n \\nMany organizations think of resilience as something that\\'s demonstrated in the response, recovery and rebuilding actions taken after a damaging or disruptive event. In fact, after action reports very often point to a lack of planning and preparation as one of the primary causal factors heightening the degree of damage experienced.  These reports most often recommend improvements in planning and preparations be implemented as soon as possible.  \\n \\n\\n\\u2003\\n\\nCapability 3: Stakeholder and Community Collaboration\\nActive stakeholder and community collaboration on physical climate risks are conducted on a recurring basis with:\\n\\n3\\n-\\tInfrastructure Sharing and Analysis Centers (ISACs)  \\n-\\tInsurance and credit ratings firms\\n-\\tTrade groups\\n-\\tChambers of commerce, etc.\\n2\\n-\\tThe proximate Public Utility Commission (PUC)\\n1\\n-\\tCity and local government bodies\\n0\\n-\\tAd hoc / no discernable process  \\n \\n\\nThe Resilience Value of Mature Stakeholder and Community Collaboration for Physical Climate Risk \\n \\nClimate resilience measures cannot be optimized on an island or in a vacuum. With competing priorities for which functions must be protected first and best, and resources always finite, coordination must be energetically pursued with all manner of stakeholders, beginning with those most local but expanding as quickly as possible to the rest listed here.  \\n\\n\\n \\n \\nCapability 4: Resilience and Adaptation Actions\\n3\\n-\\tInitial hardening and/or adaptation actions are implemented and more are in the planning stage\\n-\\tTabletop exercises are conducted against projected worst-case climate projections with and without prioritized resilience and adaptation measures in place \\n2\\n-\\tVulnerability assessment results inform plans for resilience and adaption measures\\n-\\tCost-benefit / resilience-efficacy analyses of resilience and adaptations are being or have been reviewed by 3rd party Subject Matter Experts (SMEs)  \\n1\\n-\\tInitial climate vulnerability assessments on key assets are underway or have concluded \\n0\\n-\\tAd hoc / no discernable process  \\n\\n\\nThe Resilience Value of Mature Resilience and Adaption Actions for Physical Climate Risk \\n \\nPlanning the right way is one thing. Acting on those plans with time to spare is quite another. So it\\'s best not to sit long on the insights an organization gets from climate models. From cost benefit analysis, to design, permitting, financing and more, hardening and/or relocating the assets that support critical functions is the works of years.  \\n\\n \\n \\n \\nCapability 5: Customer Engagement and Coordination \\n\\n3\\n-\\tRegular interface sessions are held with government bodies, including where applicable, state, local, tribal and territorial F\\n-\\tFeedback from all customer engagements above and below is incorporated in planning and prioritization processes\\n2\\n-\\tRecurring meetings are conducted with commercial and industrial customers, and not just the larger ones.  \\n1\\n-\\tHas begun conducting in person and virtual \"town hall” style community briefings to better understand their concerns and priorities\\n0\\n-\\tAd hoc / no discernable process  \\n \\n\\nThe Resilience Value of Mature Customer Engagement and Coordination for Physical Climate Risk \\n \\nAs climate resilience scholar Mikhail Chester of Arizona State University has said, \"infrastructure is conversation.” Prioritization based on consequences of inaction invariably produces winners and losers. Some interests will benefit from resilience investments, others will suffer especially when cost-benefit analyses produce decisions that include triage of certain assets which will affect local communities and businesses. It is therefore essential that customers and communities have a voice in the process so that resilience investment decisions are made with them, not just about them. \\n\\n \\n\\n\\nCapability 6: Attention to Equity\\n\\n3\\n-\\tEconomically challenged communities are actively engaged in resilience and adaptation planning processes\\n2\\n-\\tEconomically challenged communities are prioritized in the allocation of resilience measures\\n1\\n-\\tEconomically challenged communities are not neglected in the allocation of resilience measures\\n0\\n-\\tAd hoc / no discernable process  \\n \\n\\nThe Resilience Value of Mature Equity Policies in the Context of Physical Climate Risks \\n \\nMarginalized, economically disadvantaged communities, often comprised of persons of color and recent immigrants, have been treated as lesser citizens not worthy of the same quality of life city planners and other decision makers have afforded the more affluent. The CRMM encourages utilities to give extra weighting to the interests of these communities, not to advantage them over others, but simply to bring them closer to a parity which they assuredly deserve. ',\n",
       " 'org_name': 'Baltimore Gas and Electric',\n",
       " 'output': \"### Baltimore Gas and Electric's Climate Risk Maturity Model Assessment\\n\\n#### 1. Governance – Executive Level Engagement and Leadership\\n- **Summary:** Baltimore Gas and Electric (BGE) demonstrates a commitment to climate resilience through executive engagement, evidenced by leadership roles and strategic initiatives focused on climate change and energy policy.\\n- **Evidence:**\\n  - Carim V. Khouzami, President and CEO, oversees safety, reliability, customer service, and BGE's commitment to an inclusive culture addressing climate change ([source](https://www.exeloncorp.com/leadership-and-governance/executives/carim-v-khouzami)).\\n  - Leadership changes aimed at addressing climate change through accelerated electrification of BGE’s vehicle fleet and advocating for sound energy policy development ([source](https://www.bgenow.com/2021/11/19/bge-announces-senior-leadership-changes/)).\\n\\n#### 2. Climate-Aware Planning\\n- **Summary:** BGE is actively involved in climate-aware planning, participating in studies and initiatives to decarbonize Maryland's economy and meet net-zero goals.\\n- **Evidence:**\\n  - Participation in an integrated decarbonization study for Maryland, exploring paths to achieve the state’s net-zero goals ([source](https://www.ethree.com/e3-releases-integrated-decarbonization-study-for-baltimore-gas-and-electric/)).\\n\\n#### 3. Stakeholder and Community Collaboration\\n- **Summary:** BGE collaborates with stakeholders and communities on climate resilience, participating in partnerships and initiatives aimed at adapting to climate hazards and pursuing decarbonization goals.\\n- **Evidence:**\\n  - Participation in the Baltimore Social-Environmental Collaborative (BSEC), a partnership aimed at adapting to climate hazards and pursuing decarbonization goals ([source](https://hub.jhu.edu/2023/02/15/baltimore-social-environmental-collaborative/)).\\n\\n#### 4. Resilience and Adaptation Actions\\n- **Summary:** BGE is taking steps towards resilience and adaptation by developing climate risk and adaptation plans, with an emphasis on equitable resiliency.\\n- **Evidence:**\\n  - Development of climate risk and adaptation plans, focusing on equitable resiliency and enhanced grid resilience for communities disproportionately impacted by climate change ([source](https://www.tdworld.com/transmission-reliability/article/21276745/bge-plans-for-equitable-resiliency)).\\n\\n#### 5. Customer Engagement and Coordination\\n- **Summary:** BGE engages with customers and communities to address climate resilience, incorporating feedback into planning and prioritization processes.\\n- **Evidence:**\\n  - BGE's plan for net-zero carbon emissions by 2045 includes engaging communities and balancing resiliency with cost savings ([source](https://www.baltimoresun.com/2023/10/30/bge-ceo-planning-for-net-zero-carbon-emissions-in-2045-requires-balance-guest-commentary/)).\\n\\n#### 6. Attention to Equity\\n- **Summary:** BGE prioritizes equitable resiliency in its climate resilience planning, focusing on communities disproportionately impacted by climate change.\\n- **Evidence:**\\n  - Emphasis on communities disproportionately impacted by climate change in the development of climate risk and adaptation plans ([source](https://www.tdworld.com/transmission-reliability/article/21276745/bge-plans-for-equitable-resiliency)).\\n\\nBaltimore Gas and Electric is actively engaged in addressing climate resilience across multiple capabilities, demonstrating leadership, planning, collaboration, adaptation actions, customer engagement, and a focus on equity.\"}"
      ]
     },
     "execution_count": 12,
     "metadata": {},
     "output_type": "execute_result"
    }
   ],
   "source": [
    "agent_executor.invoke(test_input_dict)"
   ]
  },
  {
   "cell_type": "markdown",
   "id": "38969b17-49cf-4cb8-b730-1f2668f88cf7",
   "metadata": {},
   "source": [
    "### Baltimore Gas and Electric's Climate Risk Maturity Model Assessment\r\n",
    "\r\n",
    "#### 1. Governance – Executive Level Engagement and Leadership\r\n",
    "- **Summary:** Baltimore Gas and Electric (BGE) demonstrates a commitment to climate resilience through executive engagement, evidenced by leadership roles and strategic initiatives focused on climate change and energy policy.\r\n",
    "- **Evidence:**\r\n",
    "  - Carim V. Khouzami, President and CEO, oversees safety, reliability, customer service, and BGE's commitment to an inclusive culture addressing climate change ([source](https://www.exeloncorp.com/leadership-and-governance/executives/carim-v-khouzami)).\r\n",
    "  - Leadership changes aimed at addressing climate change through accelerated electrification of BGE’s vehicle fleet and advocating for sound energy policy development ([source](https://www.bgenow.com/2021/11/19/bge-announces-senior-leadership-changes/)).\r\n",
    "\r\n",
    "#### 2. Climate-Aware Planning\r\n",
    "- **Summary:** BGE is actively involved in climate-aware planning, participating in studies and initiatives to decarbonize Maryland's economy and meet net-zero goals.\r\n",
    "- **Evidence:**\r\n",
    "  - Participation in an integrated decarbonization study for Maryland, exploring paths to achieve the state’s net-zero goals ([source](https://www.ethree.com/e3-releases-integrated-decarbonization-study-for-baltimore-gas-and-electric/)).\r\n",
    "\r\n",
    "#### 3. Stakeholder and Community Collaboration\r\n",
    "- **Summary:** BGE collaborates with stakeholders and communities on climate resilience, participating in partnerships and initiatives aimed at adapting to climate hazards and pursuing decarbonization goals.\r\n",
    "- **Evidence:**\r\n",
    "  - Participation in the Baltimore Social-Environmental Collaborative (BSEC), a partnership aimed at adapting to climate hazards and pursuing decarbonization goals ([source](https://hub.jhu.edu/2023/02/15/baltimore-social-environmental-collaborative/)).\r\n",
    "\r\n",
    "#### 4. Resilience and Adaptation Actions\r\n",
    "- **Summary:** BGE is taking steps towards resilience and adaptation by developing climate risk and adaptation plans, with an emphasis on equitable resiliency.\r\n",
    "- **Evidence:**\r\n",
    "  - Development of climate risk and adaptation plans, focusing on equitable resiliency and enhanced grid resilience for communities disproportionately impacted by climate change ([source](https://www.tdworld.com/transmission-reliability/article/21276745/bge-plans-for-equitable-resiliency)).\r\n",
    "\r\n",
    "#### 5. Customer Engagement and Coordination\r\n",
    "- **Summary:** BGE engages with customers and communities to address climate resilience, incorporating feedback into planning and prioritization processes.\r\n",
    "- **Evidence:**\r\n",
    "  - BGE's plan for net-zero carbon emissions by 2045 includes engaging communities and balancing resiliency with cost savings ([source](https://www.baltimoresun.com/2023/10/30/bge-ceo-planning-for-net-zero-carbon-emissions-in-2045-requires-balance-guest-commentary/)).\r\n",
    "\r\n",
    "#### 6. Attention to Equity\r\n",
    "- **Summary:** BGE prioritizes equitable resiliency in its climate resilience planning, focusing on communities disproportionately impacted by climate change.\r\n",
    "- **Evidence:**\r\n",
    "  - Emphasis on communities disproportionately impacted by climate change in the development of climate risk and adaptation plans ([source](https://www.tdworld.com/transmission-reliability/article/21276745/bge-plans-for-equitable-resiliency)).\r\n",
    "\r\n",
    "Baltimore Gas and Electric is actively engaged in addressing climate resilience across multiple capabilities, demonstrating leadership, planning, collaboration, adaptation actions, customer .fforts.ach to climate resilience."
   ]
  },
  {
   "cell_type": "code",
   "execution_count": null,
   "id": "cce82245-2860-4de3-bf80-59a330592df0",
   "metadata": {},
   "outputs": [],
   "source": []
  }
 ],
 "metadata": {
  "kernelspec": {
   "display_name": "Python 3 (ipykernel)",
   "language": "python",
   "name": "python3"
  },
  "language_info": {
   "codemirror_mode": {
    "name": "ipython",
    "version": 3
   },
   "file_extension": ".py",
   "mimetype": "text/x-python",
   "name": "python",
   "nbconvert_exporter": "python",
   "pygments_lexer": "ipython3",
   "version": "3.12.1"
  }
 },
 "nbformat": 4,
 "nbformat_minor": 5
}
