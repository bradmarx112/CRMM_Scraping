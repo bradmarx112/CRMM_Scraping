{
 "cells": [
  {
   "cell_type": "code",
   "execution_count": 37,
   "id": "a474cf9e-df82-4485-8257-c383615415f6",
   "metadata": {},
   "outputs": [],
   "source": [
    "from openai import OpenAI\n",
    "import numpy as np\n",
    "import os\n",
    "import json\n",
    "\n",
    "def show_json(obj):\n",
    "    display(json.loads(obj.model_dump_json()))\n",
    "\n",
    "# Pretty printing helper\n",
    "def pretty_print(messages):\n",
    "    print(\"# Messages\")\n",
    "    for m in messages:\n",
    "        print(f\"{m.role}: {m.content[0].text.value}\")\n",
    "    print()"
   ]
  },
  {
   "cell_type": "code",
   "execution_count": 38,
   "id": "6fd7f33b-4673-4bf1-9e81-39daa7a939c7",
   "metadata": {},
   "outputs": [],
   "source": [
    "client = OpenAI()"
   ]
  },
  {
   "cell_type": "code",
   "execution_count": 57,
   "id": "13253e4f-6bc6-45bf-b2e5-34848f9557a2",
   "metadata": {},
   "outputs": [],
   "source": [
    "# Create file of CRMM to give Assistant\n",
    "\n",
    "# file = client.files.create(\n",
    "#     file=open(\"Climate Resilience Maturity Model.txt\", encoding='utf-8'),\n",
    "#     purpose='assistants'\n",
    "# )\n",
    "\n",
    "# with open(\"Climate Resilience Maturity Model.txt\", \"rb\") as file:\n",
    "#     ast_file = client.files.create(\n",
    "#         file=file,\n",
    "#         purpose='assistants'\n",
    "#     )\n",
    "ast_file = client.files.retrieve('file-CClmpePzI1WIfdeDgw9bBvn6')"
   ]
  },
  {
   "cell_type": "code",
   "execution_count": 58,
   "id": "fa16ea3a-a3e7-447e-a46a-3bb1438b61d6",
   "metadata": {},
   "outputs": [],
   "source": [
    "# Create Assistant\n",
    "# assistant = client.beta.assistants.create(\n",
    "#     name=\"Climate Resiliency Analyst\",\n",
    "#     description=\"You are an analyst responsible for judging how prepared infrastructure providers are for climate change in the context of the Climate Resilience Maturity Model. In particular, you evaluate text from HTML on providers' websites and judge them in regards to the six capabilities defined in the Maturity Model.\",\n",
    "#     model=\"gpt-4-turbo-preview\",\n",
    "#     tools=[{\"type\": \"retrieval\"}],\n",
    "#     file_ids=[ast_file.id]\n",
    "# )\n",
    "assistant = client.beta.assistants.retrieve('asst_pPfFe2uSiIkrzKRlL1j0xY4o')"
   ]
  },
  {
   "cell_type": "code",
   "execution_count": 61,
   "id": "b658c71f-0562-4861-ae94-a598d3b69e26",
   "metadata": {},
   "outputs": [],
   "source": [
    "# Create the thread for GPT interaction\n",
    "dialogue = client.beta.threads.create()\n",
    "message = client.beta.threads.messages.create(\n",
    "    thread_id=dialogue.id,\n",
    "    role= \"user\",\n",
    "    content=\"Brainstorm ways to collect data on companies for the Climate Resilience Maturity Model.\"\n",
    ")"
   ]
  },
  {
   "cell_type": "code",
   "execution_count": 25,
   "id": "61f58a2f-cff9-4d2f-9aec-aae216804269",
   "metadata": {},
   "outputs": [
    {
     "data": {
      "text/plain": [
       "SyncCursorPage[Run](data=[Run(id='run_6srpSYmeaBXKAcpaMDJsLSIg', assistant_id='asst_fsGMSJpvynELysae0mm3UTiT', cancelled_at=None, completed_at=1706294831, created_at=1706294755, expires_at=None, failed_at=None, file_ids=['file-6GfSmJ3IJWPQTlUDwTFflhLb'], instructions=None, last_error=None, metadata={}, model='gpt-4-turbo-preview', object='thread.run', required_action=None, started_at=1706294755, status='completed', thread_id='thread_5f1jQWqVUqxzQgJZh3soMyXn', tools=[ToolAssistantToolsRetrieval(type='retrieval')], usage={'prompt_tokens': 40565, 'completion_tokens': 432, 'total_tokens': 40997})], object='list', first_id='run_6srpSYmeaBXKAcpaMDJsLSIg', last_id='run_6srpSYmeaBXKAcpaMDJsLSIg', has_more=False)"
      ]
     },
     "execution_count": 25,
     "metadata": {},
     "output_type": "execute_result"
    }
   ],
   "source": [
    "client.beta.threads.runs.list('thread_5f1jQWqVUqxzQgJZh3soMyXn')"
   ]
  },
  {
   "cell_type": "code",
   "execution_count": 62,
   "id": "8400554f-43d8-41bc-849d-3522206ab2e7",
   "metadata": {},
   "outputs": [],
   "source": [
    "# Run interaction with GPT (Kicks off request)\n",
    "\n",
    "run = client.beta.threads.runs.create(\n",
    "  thread_id=dialogue.id,\n",
    "  assistant_id=assistant.id)"
   ]
  },
  {
   "cell_type": "code",
   "execution_count": 65,
   "id": "60e7c0b5-fe0d-4d6a-aa1e-be68b7af78c5",
   "metadata": {},
   "outputs": [
    {
     "data": {
      "text/plain": [
       "{'id': 'run_ejJQDaDkKSlywawanmHY8VVr',\n",
       " 'assistant_id': 'asst_pPfFe2uSiIkrzKRlL1j0xY4o',\n",
       " 'cancelled_at': None,\n",
       " 'completed_at': 1706313863,\n",
       " 'created_at': 1706313811,\n",
       " 'expires_at': None,\n",
       " 'failed_at': None,\n",
       " 'file_ids': ['file-CClmpePzI1WIfdeDgw9bBvn6'],\n",
       " 'instructions': None,\n",
       " 'last_error': None,\n",
       " 'metadata': {},\n",
       " 'model': 'gpt-4-turbo-preview',\n",
       " 'object': 'thread.run',\n",
       " 'required_action': None,\n",
       " 'started_at': 1706313811,\n",
       " 'status': 'completed',\n",
       " 'thread_id': 'thread_bGPyBOMbWDfJGbNiBrTqdyWA',\n",
       " 'tools': [{'type': 'retrieval'}],\n",
       " 'usage': {'prompt_tokens': 3109,\n",
       "  'completion_tokens': 684,\n",
       "  'total_tokens': 3793}}"
      ]
     },
     "metadata": {},
     "output_type": "display_data"
    }
   ],
   "source": [
    "# Check Response\n",
    "run = client.beta.threads.runs.retrieve(\n",
    "  thread_id=dialogue.id,\n",
    "  run_id=run.id\n",
    ")\n",
    "show_json(run)"
   ]
  },
  {
   "cell_type": "code",
   "execution_count": 66,
   "id": "bdfdd514-202b-4786-9741-a20c9ff8ded5",
   "metadata": {},
   "outputs": [
    {
     "name": "stdout",
     "output_type": "stream",
     "text": [
      "# Messages\n",
      "user: Brainstorm ways to collect data on companies for the Climate Resilience Maturity Model.\n",
      "assistant: To collect data on companies for the Climate Resilience Maturity Model (CRMM), several methods can be considered that leverage both the structure of the CRMM and the broad interests of stakeholders involved. Here are some brainstormed methods:\n",
      "\n",
      "1. **Survey and Self-Assessment Tools**: Develop detailed surveys and self-assessment tools that align with the CRMM's capability categories (e.g., Governance – Executive Level Engagement and Leadership, Climate-Aware Planning, etc.). These tools can prompt companies to self-report on specific practices and processes, adhering to the maturity model's structured levels.\n",
      "\n",
      "2. **Public Document Analysis**: Since some criteria and annual ratings are publicly accessible, a method of data collection could involve analyzing these documents. This could extend to reviewing companies' sustainability reports, climate risk disclosures, and integrated resource plans when available to the public domain.\n",
      "\n",
      "3. **Stakeholder Interviews**: Conduct interviews with a variety of stakeholders who have insights into the company's climate resilience efforts. This could include internal stakeholders like employees and leadership teams, as well as external ones like insurers, regulators, and utility partners. Specific attention could be paid to the processes and engagement in climate resilience activities, including disaster preparedness and response plans.\n",
      "\n",
      "4. **Partnership with Regulatory Bodies and Trade Groups**: Given the model acknowledges the interdependencies across sectors, partnering with regulatory bodies and trade groups could facilitate data collection. These entities often have access to comprehensive industry data and insights into best practices and can thus provide comparative data for the CRMM.\n",
      "\n",
      "5. **Case Study Development**: Identify and develop in-depth case studies on companies that are leaders in climate resilience. These case studies can serve as a benchmark and provide detailed insights into the strategies, processes, and technologies employed to enhance resilience.\n",
      "\n",
      "6. **On-site Assessments and Audits**: For a more detailed and accurate assessment, conduct on-site audits of companies' facilities and operations. This could involve evaluating physical assets' vulnerabilities, disaster response drills, and resilience planning sessions in action.\n",
      "\n",
      "7. **Collaboration with Academic and Research Institutions**: Partner with academic and research institutions for data collection and analysis. These institutions can bring unique methodologies for assessing climate resilience and can often access cutting-edge tools and models for evaluating physical climate risks.\n",
      "\n",
      "8. **Use of Technology and Data Analytics**: Implement digital tools and platforms that allow for the real-time monitoring of climate risks and resilience efforts. This could involve using AI and machine learning to analyze large datasets or deploying IoT sensors to monitor the physical condition of critical infrastructure.\n",
      "\n",
      "9. **Public Engagements and Workshops**: Organize public engagements, workshops, and forums involving companies, community organizations, and individuals. These engagements can be platforms for sharing best practices, challenges, and opportunities related to climate resilience, fostering collaborative problem-solving.\n",
      "\n",
      "10. **Benchmarking Against Global Standards and Models**: Benchmark companies' resilience efforts against international standards and models. For instance, comparing how companies align with the Task Force on Climate-Related Financial Disclosures (TCFD) recommendations or the UN's Sustainable Development Goals could provide additional insights on maturity levels.\n",
      "   \n",
      "By blending these approaches, a more holistic and robust dataset can be compiled on companies for the CRMM, helping to baseline present states and set actionable goals for heightened resilience.\n",
      "\n"
     ]
    }
   ],
   "source": [
    "# Display result\n",
    "\n",
    "messages = client.beta.threads.messages.list(\n",
    "  thread_id=dialogue.id\n",
    ", order='asc')\n",
    "pretty_print(messages)"
   ]
  },
  {
   "cell_type": "code",
   "execution_count": 67,
   "id": "5456a918-d501-4e11-969b-6d32bccd06f9",
   "metadata": {},
   "outputs": [
    {
     "data": {
      "text/plain": [
       "{'data': [{'id': 'msg_YX2vncGKYBQWkL3Cy7C1IwdW',\n",
       "   'assistant_id': None,\n",
       "   'content': [{'text': {'annotations': [],\n",
       "      'value': 'Brainstorm ways to collect data on companies for the Climate Resilience Maturity Model.'},\n",
       "     'type': 'text'}],\n",
       "   'created_at': 1706313808,\n",
       "   'file_ids': [],\n",
       "   'metadata': {},\n",
       "   'object': 'thread.message',\n",
       "   'role': 'user',\n",
       "   'run_id': None,\n",
       "   'thread_id': 'thread_bGPyBOMbWDfJGbNiBrTqdyWA'},\n",
       "  {'id': 'msg_H5WpJxtDF0qAtjLQxONuKEJT',\n",
       "   'assistant_id': 'asst_pPfFe2uSiIkrzKRlL1j0xY4o',\n",
       "   'content': [{'text': {'annotations': [],\n",
       "      'value': \"To collect data on companies for the Climate Resilience Maturity Model (CRMM), several methods can be considered that leverage both the structure of the CRMM and the broad interests of stakeholders involved. Here are some brainstormed methods:\\n\\n1. **Survey and Self-Assessment Tools**: Develop detailed surveys and self-assessment tools that align with the CRMM's capability categories (e.g., Governance – Executive Level Engagement and Leadership, Climate-Aware Planning, etc.). These tools can prompt companies to self-report on specific practices and processes, adhering to the maturity model's structured levels.\\n\\n2. **Public Document Analysis**: Since some criteria and annual ratings are publicly accessible, a method of data collection could involve analyzing these documents. This could extend to reviewing companies' sustainability reports, climate risk disclosures, and integrated resource plans when available to the public domain.\\n\\n3. **Stakeholder Interviews**: Conduct interviews with a variety of stakeholders who have insights into the company's climate resilience efforts. This could include internal stakeholders like employees and leadership teams, as well as external ones like insurers, regulators, and utility partners. Specific attention could be paid to the processes and engagement in climate resilience activities, including disaster preparedness and response plans.\\n\\n4. **Partnership with Regulatory Bodies and Trade Groups**: Given the model acknowledges the interdependencies across sectors, partnering with regulatory bodies and trade groups could facilitate data collection. These entities often have access to comprehensive industry data and insights into best practices and can thus provide comparative data for the CRMM.\\n\\n5. **Case Study Development**: Identify and develop in-depth case studies on companies that are leaders in climate resilience. These case studies can serve as a benchmark and provide detailed insights into the strategies, processes, and technologies employed to enhance resilience.\\n\\n6. **On-site Assessments and Audits**: For a more detailed and accurate assessment, conduct on-site audits of companies' facilities and operations. This could involve evaluating physical assets' vulnerabilities, disaster response drills, and resilience planning sessions in action.\\n\\n7. **Collaboration with Academic and Research Institutions**: Partner with academic and research institutions for data collection and analysis. These institutions can bring unique methodologies for assessing climate resilience and can often access cutting-edge tools and models for evaluating physical climate risks.\\n\\n8. **Use of Technology and Data Analytics**: Implement digital tools and platforms that allow for the real-time monitoring of climate risks and resilience efforts. This could involve using AI and machine learning to analyze large datasets or deploying IoT sensors to monitor the physical condition of critical infrastructure.\\n\\n9. **Public Engagements and Workshops**: Organize public engagements, workshops, and forums involving companies, community organizations, and individuals. These engagements can be platforms for sharing best practices, challenges, and opportunities related to climate resilience, fostering collaborative problem-solving.\\n\\n10. **Benchmarking Against Global Standards and Models**: Benchmark companies' resilience efforts against international standards and models. For instance, comparing how companies align with the Task Force on Climate-Related Financial Disclosures (TCFD) recommendations or the UN's Sustainable Development Goals could provide additional insights on maturity levels.\\n   \\nBy blending these approaches, a more holistic and robust dataset can be compiled on companies for the CRMM, helping to baseline present states and set actionable goals for heightened resilience.\"},\n",
       "     'type': 'text'}],\n",
       "   'created_at': 1706313815,\n",
       "   'file_ids': [],\n",
       "   'metadata': {},\n",
       "   'object': 'thread.message',\n",
       "   'role': 'assistant',\n",
       "   'run_id': 'run_ejJQDaDkKSlywawanmHY8VVr',\n",
       "   'thread_id': 'thread_bGPyBOMbWDfJGbNiBrTqdyWA'}],\n",
       " 'object': 'list',\n",
       " 'first_id': 'msg_YX2vncGKYBQWkL3Cy7C1IwdW',\n",
       " 'last_id': 'msg_H5WpJxtDF0qAtjLQxONuKEJT',\n",
       " 'has_more': False}"
      ]
     },
     "metadata": {},
     "output_type": "display_data"
    }
   ],
   "source": [
    "show_json(messages)"
   ]
  },
  {
   "cell_type": "code",
   "execution_count": 51,
   "id": "bcecbd69-1273-4005-b01b-afcce259053b",
   "metadata": {},
   "outputs": [],
   "source": [
    "\n",
    "message = client.beta.threads.messages.retrieve(\n",
    "  thread_id='thread_5f1jQWqVUqxzQgJZh3soMyXn',\n",
    "  message_id=\"msg_ZtmkZQTXFKevj76gqGbafPPA\"\n",
    ")\n",
    "message_content = message.content[0].text\n",
    "annotations = message_content.annotations\n",
    "citations = []\n"
   ]
  },
  {
   "cell_type": "code",
   "execution_count": 54,
   "id": "362ff57f-5ee7-4f3f-a76d-55634c32b73d",
   "metadata": {},
   "outputs": [],
   "source": [
    "messages = client.beta.threads.messages.list(\n",
    "  thread_id='thread_5f1jQWqVUqxzQgJZh3soMyXn'\n",
    ", order='asc')"
   ]
  },
  {
   "cell_type": "code",
   "execution_count": 68,
   "id": "85fb4c41-d195-438c-8941-bb4289401604",
   "metadata": {},
   "outputs": [
    {
     "data": {
      "text/plain": [
       "SyncCursorPage[Run](data=[Run(id='run_ejJQDaDkKSlywawanmHY8VVr', assistant_id='asst_pPfFe2uSiIkrzKRlL1j0xY4o', cancelled_at=None, completed_at=1706313863, created_at=1706313811, expires_at=None, failed_at=None, file_ids=['file-CClmpePzI1WIfdeDgw9bBvn6'], instructions=None, last_error=None, metadata={}, model='gpt-4-turbo-preview', object='thread.run', required_action=None, started_at=1706313811, status='completed', thread_id='thread_bGPyBOMbWDfJGbNiBrTqdyWA', tools=[ToolAssistantToolsRetrieval(type='retrieval')], usage={'prompt_tokens': 3109, 'completion_tokens': 684, 'total_tokens': 3793})], object='list', first_id='run_ejJQDaDkKSlywawanmHY8VVr', last_id='run_ejJQDaDkKSlywawanmHY8VVr', has_more=False)"
      ]
     },
     "execution_count": 68,
     "metadata": {},
     "output_type": "execute_result"
    }
   ],
   "source": [
    "client.beta.threads.runs.list('thread_bGPyBOMbWDfJGbNiBrTqdyWA')"
   ]
  },
  {
   "cell_type": "code",
   "execution_count": 85,
   "id": "d3b8ce5e-daaa-4eb4-b132-648aba730fdc",
   "metadata": {},
   "outputs": [
    {
     "data": {
      "text/plain": [
       "{'data': [{'id': 'run_6srpSYmeaBXKAcpaMDJsLSIg',\n",
       "   'assistant_id': 'asst_fsGMSJpvynELysae0mm3UTiT',\n",
       "   'cancelled_at': None,\n",
       "   'completed_at': 1706294831,\n",
       "   'created_at': 1706294755,\n",
       "   'expires_at': None,\n",
       "   'failed_at': None,\n",
       "   'file_ids': ['file-6GfSmJ3IJWPQTlUDwTFflhLb'],\n",
       "   'instructions': None,\n",
       "   'last_error': None,\n",
       "   'metadata': {},\n",
       "   'model': 'gpt-4-turbo-preview',\n",
       "   'object': 'thread.run',\n",
       "   'required_action': None,\n",
       "   'started_at': 1706294755,\n",
       "   'status': 'completed',\n",
       "   'thread_id': 'thread_5f1jQWqVUqxzQgJZh3soMyXn',\n",
       "   'tools': [{'type': 'retrieval'}],\n",
       "   'usage': {'prompt_tokens': 40565,\n",
       "    'completion_tokens': 432,\n",
       "    'total_tokens': 40997}}],\n",
       " 'object': 'list',\n",
       " 'first_id': 'run_6srpSYmeaBXKAcpaMDJsLSIg',\n",
       " 'last_id': 'run_6srpSYmeaBXKAcpaMDJsLSIg',\n",
       " 'has_more': False}"
      ]
     },
     "metadata": {},
     "output_type": "display_data"
    }
   ],
   "source": [
    "show_json(client.beta.threads.runs.list('thread_5f1jQWqVUqxzQgJZh3soMyXn'))"
   ]
  },
  {
   "cell_type": "code",
   "execution_count": null,
   "id": "aea95bfd-1dd1-4923-8469-c6a4490102b2",
   "metadata": {},
   "outputs": [],
   "source": [
    "{\"data\":[{\"id\":\"step_KcMju5OenIXQRhY62GKPRG00\",\"object\":\"thread.run.step\",\"created_at\":1706294795,\"run_id\":\"run_6srpSYmeaBXKAcpaMDJsLSIg\",\"assistant_id\":\"asst_fsGMSJpvynELysae0mm3UTiT\",\"thread_id\":\"thread_5f1jQWqVUqxzQgJZh3soMyXn\",\n",
    "              \"type\":\"message_creation\",\"status\":\"completed\",\"cancelled_at\":null,\"completed_at\":1706294831,\"expires_at\":null,\"failed_at\":null,\"last_error\":null,\n",
    "              \"step_details\":{\"type\":\"message_creation\",\"message_creation\":{\"message_id\":\"msg_2lHg6t3DAhaKnzykSqmTg4hK\"}},\"usage\":{\"prompt_tokens\":4182,\"completion_tokens\":333,\"total_tokens\":4515}},\n",
    "         \n",
    "         {\"id\":\"step_EsWtyUQdze7P3Y0JmowEtKKi\",\"object\":\"thread.run.step\",\"created_at\":1706294757,\"run_id\":\"run_6srpSYmeaBXKAcpaMDJsLSIg\",\"assistant_id\":\"asst_fsGMSJpvynELysae0mm3UTiT\",\"thread_id\":\"thread_5f1jQWqVUqxzQgJZh3soMyXn\",\n",
    "              \"type\":\"tool_calls\",\"status\":\"completed\",\"cancelled_at\":null,\"completed_at\":1706294795,\"expires_at\":null,\"failed_at\":null,\"last_error\":null,\n",
    "              \"step_details\":{\"type\":\"tool_calls\",\"tool_calls\":[{\"id\":\"call_6yORpy6bMmXb6CWQTP2tIapS\",\"type\":\"retrieval\",\"retrieval\":{}}]},\"usage\":{\"prompt_tokens\":506,\"completion_tokens\":30,\"total_tokens\":536}}],\"first_id\":\"step_KcMju5OenIXQRhY62GKPRG00\",\"last_id\":\"step_EsWtyUQdze7P3Y0JmowEtKKi\",\"has_more\":false}"
   ]
  }
 ],
 "metadata": {
  "kernelspec": {
   "display_name": "Python 3 (ipykernel)",
   "language": "python",
   "name": "python3"
  },
  "language_info": {
   "codemirror_mode": {
    "name": "ipython",
    "version": 3
   },
   "file_extension": ".py",
   "mimetype": "text/x-python",
   "name": "python",
   "nbconvert_exporter": "python",
   "pygments_lexer": "ipython3",
   "version": "3.12.1"
  }
 },
 "nbformat": 4,
 "nbformat_minor": 5
}
